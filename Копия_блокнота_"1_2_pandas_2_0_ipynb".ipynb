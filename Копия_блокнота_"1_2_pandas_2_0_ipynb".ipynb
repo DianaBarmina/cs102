{
  "nbformat": 4,
  "nbformat_minor": 0,
  "metadata": {
    "colab": {
      "provenance": [],
      "toc_visible": true,
      "include_colab_link": true
    },
    "kernelspec": {
      "name": "python3",
      "display_name": "Python 3"
    },
    "language_info": {
      "name": "python"
    }
  },
  "cells": [
    {
      "cell_type": "markdown",
      "metadata": {
        "id": "view-in-github",
        "colab_type": "text"
      },
      "source": [
        "<a href=\"https://colab.research.google.com/github/DianaBarmina/cs102/blob/master/%D0%9A%D0%BE%D0%BF%D0%B8%D1%8F_%D0%B1%D0%BB%D0%BE%D0%BA%D0%BD%D0%BE%D1%82%D0%B0_%221_2_pandas_2_0_ipynb%22.ipynb\" target=\"_parent\"><img src=\"https://colab.research.google.com/assets/colab-badge.svg\" alt=\"Open In Colab\"/></a>"
      ]
    },
    {
      "cell_type": "markdown",
      "metadata": {
        "id": "gyz1HArN14_g"
      },
      "source": [
        "# Pandas: обзор"
      ]
    },
    {
      "cell_type": "code",
      "metadata": {
        "id": "sedplFwxzgA5"
      },
      "source": [
        "import pandas as pd"
      ],
      "execution_count": null,
      "outputs": []
    },
    {
      "cell_type": "markdown",
      "metadata": {
        "id": "v5agIeGo2E4g"
      },
      "source": [
        "Про локальное подключение к гугл-диску было в предыдущем колабе, просто воспользуемся им. Также бывает удобно, если вы работаете с данными `kaggle`, тянуть их сразу оттуда. Сделать это можно по [инструкции](https://www.kaggle.com/general/74235) от самого `kaggle`. Это нужно, если датасет слишком большой и проще настроить подключение, чем выгружать все и заново загружать к себе на диск."
      ]
    },
    {
      "cell_type": "code",
      "metadata": {
        "id": "YFrwVqXwLfpT",
        "colab": {
          "base_uri": "https://localhost:8080/"
        },
        "outputId": "d2e7c5b4-1cd7-4e3a-eea0-a56adf3dffa1"
      },
      "source": [
        "from google.colab import drive\n",
        "drive.mount('/content/drive')"
      ],
      "execution_count": null,
      "outputs": [
        {
          "output_type": "stream",
          "name": "stdout",
          "text": [
            "Drive already mounted at /content/drive; to attempt to forcibly remount, call drive.mount(\"/content/drive\", force_remount=True).\n"
          ]
        }
      ]
    },
    {
      "cell_type": "markdown",
      "metadata": {
        "id": "6H6KyYpI3JS4"
      },
      "source": [
        "## ОПИСАНИЕ ДАННЫХ\n",
        "\n",
        "Для примера возьмем данные про ковид в Индии и близлежащих регионах за 2020-2021 год."
      ]
    },
    {
      "cell_type": "code",
      "metadata": {
        "id": "1Rs-yiFpzFfX"
      },
      "source": [
        "covid = pd.read_csv(\"/content/drive/MyDrive/ITMO.Work/21 22/Python for Data Analysis/ИКТ/Data/covid_19_india.csv\")\n",
        "states = pd.read_csv(\"/content/drive/MyDrive/ITMO.Work/21 22/Python for Data Analysis/ИКТ/Data/covid_vaccine_statewise.csv\")\n",
        "details = pd.read_csv(\"/content/drive/MyDrive/ITMO.Work/21 22/Python for Data Analysis/ИКТ/Data/StatewiseTestingDetails.csv\")"
      ],
      "execution_count": null,
      "outputs": []
    },
    {
      "cell_type": "code",
      "metadata": {
        "colab": {
          "base_uri": "https://localhost:8080/",
          "height": 112
        },
        "id": "FuxuaOJ5ztV9",
        "outputId": "5edeebe2-f7c7-41b1-b8b8-5c718e2cec72"
      },
      "source": [
        "covid.head(2)"
      ],
      "execution_count": null,
      "outputs": [
        {
          "output_type": "execute_result",
          "data": {
            "text/html": [
              "<div>\n",
              "<style scoped>\n",
              "    .dataframe tbody tr th:only-of-type {\n",
              "        vertical-align: middle;\n",
              "    }\n",
              "\n",
              "    .dataframe tbody tr th {\n",
              "        vertical-align: top;\n",
              "    }\n",
              "\n",
              "    .dataframe thead th {\n",
              "        text-align: right;\n",
              "    }\n",
              "</style>\n",
              "<table border=\"1\" class=\"dataframe\">\n",
              "  <thead>\n",
              "    <tr style=\"text-align: right;\">\n",
              "      <th></th>\n",
              "      <th>Sno</th>\n",
              "      <th>Date</th>\n",
              "      <th>Time</th>\n",
              "      <th>State/UnionTerritory</th>\n",
              "      <th>ConfirmedIndianNational</th>\n",
              "      <th>ConfirmedForeignNational</th>\n",
              "      <th>Cured</th>\n",
              "      <th>Deaths</th>\n",
              "      <th>Confirmed</th>\n",
              "    </tr>\n",
              "  </thead>\n",
              "  <tbody>\n",
              "    <tr>\n",
              "      <th>0</th>\n",
              "      <td>1</td>\n",
              "      <td>2020-01-30</td>\n",
              "      <td>6:00 PM</td>\n",
              "      <td>Kerala</td>\n",
              "      <td>1</td>\n",
              "      <td>0</td>\n",
              "      <td>0</td>\n",
              "      <td>0</td>\n",
              "      <td>1</td>\n",
              "    </tr>\n",
              "    <tr>\n",
              "      <th>1</th>\n",
              "      <td>2</td>\n",
              "      <td>2020-01-31</td>\n",
              "      <td>6:00 PM</td>\n",
              "      <td>Kerala</td>\n",
              "      <td>1</td>\n",
              "      <td>0</td>\n",
              "      <td>0</td>\n",
              "      <td>0</td>\n",
              "      <td>1</td>\n",
              "    </tr>\n",
              "  </tbody>\n",
              "</table>\n",
              "</div>"
            ],
            "text/plain": [
              "   Sno        Date     Time  ... Cured Deaths Confirmed\n",
              "0    1  2020-01-30  6:00 PM  ...     0      0         1\n",
              "1    2  2020-01-31  6:00 PM  ...     0      0         1\n",
              "\n",
              "[2 rows x 9 columns]"
            ]
          },
          "metadata": {},
          "execution_count": 7
        }
      ]
    },
    {
      "cell_type": "code",
      "metadata": {
        "colab": {
          "base_uri": "https://localhost:8080/"
        },
        "id": "lJVfpKNPOWGQ",
        "outputId": "fdbdf338-69f6-458c-eddb-692c581f04fe"
      },
      "source": [
        "covid.shape"
      ],
      "execution_count": null,
      "outputs": [
        {
          "output_type": "execute_result",
          "data": {
            "text/plain": [
              "(18110, 9)"
            ]
          },
          "metadata": {},
          "execution_count": 8
        }
      ]
    },
    {
      "cell_type": "code",
      "metadata": {
        "colab": {
          "base_uri": "https://localhost:8080/",
          "height": 167
        },
        "id": "TFeGDWPP7LOd",
        "outputId": "d57def53-cbaa-4d9b-c77c-2a393c740afa"
      },
      "source": [
        "states.head(2)"
      ],
      "execution_count": null,
      "outputs": [
        {
          "output_type": "execute_result",
          "data": {
            "text/html": [
              "<div>\n",
              "<style scoped>\n",
              "    .dataframe tbody tr th:only-of-type {\n",
              "        vertical-align: middle;\n",
              "    }\n",
              "\n",
              "    .dataframe tbody tr th {\n",
              "        vertical-align: top;\n",
              "    }\n",
              "\n",
              "    .dataframe thead th {\n",
              "        text-align: right;\n",
              "    }\n",
              "</style>\n",
              "<table border=\"1\" class=\"dataframe\">\n",
              "  <thead>\n",
              "    <tr style=\"text-align: right;\">\n",
              "      <th></th>\n",
              "      <th>Updated On</th>\n",
              "      <th>State</th>\n",
              "      <th>Total Doses Administered</th>\n",
              "      <th>Sessions</th>\n",
              "      <th>Sites</th>\n",
              "      <th>First Dose Administered</th>\n",
              "      <th>Second Dose Administered</th>\n",
              "      <th>Male (Doses Administered)</th>\n",
              "      <th>Female (Doses Administered)</th>\n",
              "      <th>Transgender (Doses Administered)</th>\n",
              "      <th>Covaxin (Doses Administered)</th>\n",
              "      <th>CoviShield (Doses Administered)</th>\n",
              "      <th>Sputnik V (Doses Administered)</th>\n",
              "      <th>AEFI</th>\n",
              "      <th>18-44 Years (Doses Administered)</th>\n",
              "      <th>45-60 Years (Doses Administered)</th>\n",
              "      <th>60+ Years (Doses Administered)</th>\n",
              "      <th>18-44 Years(Individuals Vaccinated)</th>\n",
              "      <th>45-60 Years(Individuals Vaccinated)</th>\n",
              "      <th>60+ Years(Individuals Vaccinated)</th>\n",
              "      <th>Male(Individuals Vaccinated)</th>\n",
              "      <th>Female(Individuals Vaccinated)</th>\n",
              "      <th>Transgender(Individuals Vaccinated)</th>\n",
              "      <th>Total Individuals Vaccinated</th>\n",
              "    </tr>\n",
              "  </thead>\n",
              "  <tbody>\n",
              "    <tr>\n",
              "      <th>0</th>\n",
              "      <td>16/01/2021</td>\n",
              "      <td>India</td>\n",
              "      <td>48276.0</td>\n",
              "      <td>3455.0</td>\n",
              "      <td>2957.0</td>\n",
              "      <td>48276.0</td>\n",
              "      <td>0.0</td>\n",
              "      <td>NaN</td>\n",
              "      <td>NaN</td>\n",
              "      <td>NaN</td>\n",
              "      <td>579.0</td>\n",
              "      <td>47697.0</td>\n",
              "      <td>NaN</td>\n",
              "      <td>NaN</td>\n",
              "      <td>NaN</td>\n",
              "      <td>NaN</td>\n",
              "      <td>NaN</td>\n",
              "      <td>NaN</td>\n",
              "      <td>NaN</td>\n",
              "      <td>NaN</td>\n",
              "      <td>23757.0</td>\n",
              "      <td>24517.0</td>\n",
              "      <td>2.0</td>\n",
              "      <td>48276.0</td>\n",
              "    </tr>\n",
              "    <tr>\n",
              "      <th>1</th>\n",
              "      <td>17/01/2021</td>\n",
              "      <td>India</td>\n",
              "      <td>58604.0</td>\n",
              "      <td>8532.0</td>\n",
              "      <td>4954.0</td>\n",
              "      <td>58604.0</td>\n",
              "      <td>0.0</td>\n",
              "      <td>NaN</td>\n",
              "      <td>NaN</td>\n",
              "      <td>NaN</td>\n",
              "      <td>635.0</td>\n",
              "      <td>57969.0</td>\n",
              "      <td>NaN</td>\n",
              "      <td>NaN</td>\n",
              "      <td>NaN</td>\n",
              "      <td>NaN</td>\n",
              "      <td>NaN</td>\n",
              "      <td>NaN</td>\n",
              "      <td>NaN</td>\n",
              "      <td>NaN</td>\n",
              "      <td>27348.0</td>\n",
              "      <td>31252.0</td>\n",
              "      <td>4.0</td>\n",
              "      <td>58604.0</td>\n",
              "    </tr>\n",
              "  </tbody>\n",
              "</table>\n",
              "</div>"
            ],
            "text/plain": [
              "   Updated On  ... Total Individuals Vaccinated\n",
              "0  16/01/2021  ...                      48276.0\n",
              "1  17/01/2021  ...                      58604.0\n",
              "\n",
              "[2 rows x 24 columns]"
            ]
          },
          "metadata": {},
          "execution_count": 9
        }
      ]
    },
    {
      "cell_type": "code",
      "metadata": {
        "colab": {
          "base_uri": "https://localhost:8080/"
        },
        "id": "HSGQLdzZOY9y",
        "outputId": "b2e2fb0d-f768-488c-f9b6-d7d3c93ac022"
      },
      "source": [
        "states.shape"
      ],
      "execution_count": null,
      "outputs": [
        {
          "output_type": "execute_result",
          "data": {
            "text/plain": [
              "(7845, 24)"
            ]
          },
          "metadata": {},
          "execution_count": 10
        }
      ]
    },
    {
      "cell_type": "code",
      "metadata": {
        "colab": {
          "base_uri": "https://localhost:8080/",
          "height": 112
        },
        "id": "iebxe-qr7Pls",
        "outputId": "4def4aa8-8ce7-4046-c46d-4ca68aa7e0f7"
      },
      "source": [
        "details.head(2)"
      ],
      "execution_count": null,
      "outputs": [
        {
          "output_type": "execute_result",
          "data": {
            "text/html": [
              "<div>\n",
              "<style scoped>\n",
              "    .dataframe tbody tr th:only-of-type {\n",
              "        vertical-align: middle;\n",
              "    }\n",
              "\n",
              "    .dataframe tbody tr th {\n",
              "        vertical-align: top;\n",
              "    }\n",
              "\n",
              "    .dataframe thead th {\n",
              "        text-align: right;\n",
              "    }\n",
              "</style>\n",
              "<table border=\"1\" class=\"dataframe\">\n",
              "  <thead>\n",
              "    <tr style=\"text-align: right;\">\n",
              "      <th></th>\n",
              "      <th>Date</th>\n",
              "      <th>State</th>\n",
              "      <th>TotalSamples</th>\n",
              "      <th>Negative</th>\n",
              "      <th>Positive</th>\n",
              "    </tr>\n",
              "  </thead>\n",
              "  <tbody>\n",
              "    <tr>\n",
              "      <th>0</th>\n",
              "      <td>2020-04-17</td>\n",
              "      <td>Andaman and Nicobar Islands</td>\n",
              "      <td>1403.0</td>\n",
              "      <td>1210</td>\n",
              "      <td>12.0</td>\n",
              "    </tr>\n",
              "    <tr>\n",
              "      <th>1</th>\n",
              "      <td>2020-04-24</td>\n",
              "      <td>Andaman and Nicobar Islands</td>\n",
              "      <td>2679.0</td>\n",
              "      <td>NaN</td>\n",
              "      <td>27.0</td>\n",
              "    </tr>\n",
              "  </tbody>\n",
              "</table>\n",
              "</div>"
            ],
            "text/plain": [
              "         Date                        State  TotalSamples Negative  Positive\n",
              "0  2020-04-17  Andaman and Nicobar Islands        1403.0     1210      12.0\n",
              "1  2020-04-24  Andaman and Nicobar Islands        2679.0      NaN      27.0"
            ]
          },
          "metadata": {},
          "execution_count": 11
        }
      ]
    },
    {
      "cell_type": "code",
      "metadata": {
        "colab": {
          "base_uri": "https://localhost:8080/"
        },
        "id": "4ZQyhca0Ob7u",
        "outputId": "3252486a-0e7f-4b50-a7f3-d185b1722e3a"
      },
      "source": [
        "details.shape"
      ],
      "execution_count": null,
      "outputs": [
        {
          "output_type": "execute_result",
          "data": {
            "text/plain": [
              "(16336, 5)"
            ]
          },
          "metadata": {},
          "execution_count": 12
        }
      ]
    },
    {
      "cell_type": "markdown",
      "metadata": {
        "id": "1Gn6BTfpOxu1"
      },
      "source": [
        "Размерность данных дополнительно можно посмотреть свойством `ndim`."
      ]
    },
    {
      "cell_type": "code",
      "metadata": {
        "colab": {
          "base_uri": "https://localhost:8080/"
        },
        "id": "zKkloXL8O3qr",
        "outputId": "2364c9b7-08b9-42d7-dab3-50c248178e86"
      },
      "source": [
        "covid.ndim"
      ],
      "execution_count": null,
      "outputs": [
        {
          "output_type": "execute_result",
          "data": {
            "text/plain": [
              "2"
            ]
          },
          "metadata": {},
          "execution_count": 13
        }
      ]
    },
    {
      "cell_type": "markdown",
      "metadata": {
        "id": "zptWI6IzPeHi"
      },
      "source": [
        "Для таблички из одного столбца (или Series) ответ будет `1`."
      ]
    },
    {
      "cell_type": "markdown",
      "metadata": {
        "id": "jksRGDuSTKab"
      },
      "source": [
        "Свойство `axes` выводит сводную информацию по индексам и названиям столбцов."
      ]
    },
    {
      "cell_type": "code",
      "metadata": {
        "colab": {
          "base_uri": "https://localhost:8080/"
        },
        "id": "oY4avbX6TEO0",
        "outputId": "5d31343c-7f15-4e5d-fb8c-9f61deb9943e"
      },
      "source": [
        "covid.axes"
      ],
      "execution_count": null,
      "outputs": [
        {
          "output_type": "execute_result",
          "data": {
            "text/plain": [
              "[RangeIndex(start=0, stop=18110, step=1),\n",
              " Index(['Sno', 'Date', 'Time', 'State/UnionTerritory',\n",
              "        'ConfirmedIndianNational', 'ConfirmedForeignNational', 'Cured',\n",
              "        'Deaths', 'Confirmed'],\n",
              "       dtype='object')]"
            ]
          },
          "metadata": {},
          "execution_count": 14
        }
      ]
    },
    {
      "cell_type": "markdown",
      "metadata": {
        "id": "9eGK6I3hTcQL"
      },
      "source": [
        "Также через пандас можно посмотреть, сколько памяти занимает таблица. Информация выводится в байтах."
      ]
    },
    {
      "cell_type": "code",
      "metadata": {
        "colab": {
          "base_uri": "https://localhost:8080/"
        },
        "id": "QOGESFKKTixq",
        "outputId": "3eabaf89-2b9e-4364-91a2-df8b6a38347f"
      },
      "source": [
        "covid.memory_usage(index=True, deep=True)"
      ],
      "execution_count": null,
      "outputs": [
        {
          "output_type": "execute_result",
          "data": {
            "text/plain": [
              "Index                           128\n",
              "Sno                          144880\n",
              "Date                        1213370\n",
              "Time                        1159067\n",
              "State/UnionTerritory        1223272\n",
              "ConfirmedIndianNational     1050528\n",
              "ConfirmedForeignNational    1050413\n",
              "Cured                        144880\n",
              "Deaths                       144880\n",
              "Confirmed                    144880\n",
              "dtype: int64"
            ]
          },
          "metadata": {},
          "execution_count": 15
        }
      ]
    },
    {
      "cell_type": "markdown",
      "metadata": {
        "id": "CZcBUFIJdgnC"
      },
      "source": [
        "`keys()` выводит информацию о столбцах, как свойство `columns`."
      ]
    },
    {
      "cell_type": "code",
      "metadata": {
        "colab": {
          "base_uri": "https://localhost:8080/"
        },
        "id": "zZP7XZbOdgnE",
        "outputId": "d54c26ef-4e5a-40c9-f774-7635a072d0f3"
      },
      "source": [
        "covid.keys() == covid.columns"
      ],
      "execution_count": null,
      "outputs": [
        {
          "output_type": "execute_result",
          "data": {
            "text/plain": [
              "array([ True,  True,  True,  True,  True,  True,  True,  True,  True])"
            ]
          },
          "metadata": {},
          "execution_count": 16
        }
      ]
    },
    {
      "cell_type": "markdown",
      "metadata": {
        "id": "vmNXrVXC9v6G"
      },
      "source": [
        "## Описательная статистика"
      ]
    },
    {
      "cell_type": "markdown",
      "metadata": {
        "id": "a7lID1v_9doM"
      },
      "source": [
        "Первым делом обычно выводится описательная статистика по данным. Продемнострируем все, чем располагает `pandas`, на датафрейме `covid`."
      ]
    },
    {
      "cell_type": "code",
      "metadata": {
        "colab": {
          "base_uri": "https://localhost:8080/"
        },
        "id": "AKlagLqM_hiM",
        "outputId": "918b3385-068c-4cdc-e8f4-e41a4192a180"
      },
      "source": [
        "#можно выводить, например, сколько памяти занимает датафрейм, помимо базового - типов данных\n",
        "covid.info(memory_usage=True)"
      ],
      "execution_count": null,
      "outputs": [
        {
          "output_type": "stream",
          "name": "stdout",
          "text": [
            "<class 'pandas.core.frame.DataFrame'>\n",
            "RangeIndex: 18110 entries, 0 to 18109\n",
            "Data columns (total 9 columns):\n",
            " #   Column                    Non-Null Count  Dtype \n",
            "---  ------                    --------------  ----- \n",
            " 0   Sno                       18110 non-null  int64 \n",
            " 1   Date                      18110 non-null  object\n",
            " 2   Time                      18110 non-null  object\n",
            " 3   State/UnionTerritory      18110 non-null  object\n",
            " 4   ConfirmedIndianNational   18110 non-null  object\n",
            " 5   ConfirmedForeignNational  18110 non-null  object\n",
            " 6   Cured                     18110 non-null  int64 \n",
            " 7   Deaths                    18110 non-null  int64 \n",
            " 8   Confirmed                 18110 non-null  int64 \n",
            "dtypes: int64(4), object(5)\n",
            "memory usage: 1.2+ MB\n"
          ]
        }
      ]
    },
    {
      "cell_type": "code",
      "metadata": {
        "colab": {
          "base_uri": "https://localhost:8080/",
          "height": 300
        },
        "id": "DI2oPkvl_mAM",
        "outputId": "7c1d67b6-6540-4fa8-db80-de743bcb5759"
      },
      "source": [
        "covid.describe()"
      ],
      "execution_count": null,
      "outputs": [
        {
          "output_type": "execute_result",
          "data": {
            "text/html": [
              "<div>\n",
              "<style scoped>\n",
              "    .dataframe tbody tr th:only-of-type {\n",
              "        vertical-align: middle;\n",
              "    }\n",
              "\n",
              "    .dataframe tbody tr th {\n",
              "        vertical-align: top;\n",
              "    }\n",
              "\n",
              "    .dataframe thead th {\n",
              "        text-align: right;\n",
              "    }\n",
              "</style>\n",
              "<table border=\"1\" class=\"dataframe\">\n",
              "  <thead>\n",
              "    <tr style=\"text-align: right;\">\n",
              "      <th></th>\n",
              "      <th>Sno</th>\n",
              "      <th>Cured</th>\n",
              "      <th>Deaths</th>\n",
              "      <th>Confirmed</th>\n",
              "    </tr>\n",
              "  </thead>\n",
              "  <tbody>\n",
              "    <tr>\n",
              "      <th>count</th>\n",
              "      <td>18110.000000</td>\n",
              "      <td>1.811000e+04</td>\n",
              "      <td>18110.000000</td>\n",
              "      <td>1.811000e+04</td>\n",
              "    </tr>\n",
              "    <tr>\n",
              "      <th>mean</th>\n",
              "      <td>9055.500000</td>\n",
              "      <td>2.786375e+05</td>\n",
              "      <td>4052.402264</td>\n",
              "      <td>3.010314e+05</td>\n",
              "    </tr>\n",
              "    <tr>\n",
              "      <th>std</th>\n",
              "      <td>5228.051023</td>\n",
              "      <td>6.148909e+05</td>\n",
              "      <td>10919.076411</td>\n",
              "      <td>6.561489e+05</td>\n",
              "    </tr>\n",
              "    <tr>\n",
              "      <th>min</th>\n",
              "      <td>1.000000</td>\n",
              "      <td>0.000000e+00</td>\n",
              "      <td>0.000000</td>\n",
              "      <td>0.000000e+00</td>\n",
              "    </tr>\n",
              "    <tr>\n",
              "      <th>25%</th>\n",
              "      <td>4528.250000</td>\n",
              "      <td>3.360250e+03</td>\n",
              "      <td>32.000000</td>\n",
              "      <td>4.376750e+03</td>\n",
              "    </tr>\n",
              "    <tr>\n",
              "      <th>50%</th>\n",
              "      <td>9055.500000</td>\n",
              "      <td>3.336400e+04</td>\n",
              "      <td>588.000000</td>\n",
              "      <td>3.977350e+04</td>\n",
              "    </tr>\n",
              "    <tr>\n",
              "      <th>75%</th>\n",
              "      <td>13582.750000</td>\n",
              "      <td>2.788698e+05</td>\n",
              "      <td>3643.750000</td>\n",
              "      <td>3.001498e+05</td>\n",
              "    </tr>\n",
              "    <tr>\n",
              "      <th>max</th>\n",
              "      <td>18110.000000</td>\n",
              "      <td>6.159676e+06</td>\n",
              "      <td>134201.000000</td>\n",
              "      <td>6.363442e+06</td>\n",
              "    </tr>\n",
              "  </tbody>\n",
              "</table>\n",
              "</div>"
            ],
            "text/plain": [
              "                Sno         Cured         Deaths     Confirmed\n",
              "count  18110.000000  1.811000e+04   18110.000000  1.811000e+04\n",
              "mean    9055.500000  2.786375e+05    4052.402264  3.010314e+05\n",
              "std     5228.051023  6.148909e+05   10919.076411  6.561489e+05\n",
              "min        1.000000  0.000000e+00       0.000000  0.000000e+00\n",
              "25%     4528.250000  3.360250e+03      32.000000  4.376750e+03\n",
              "50%     9055.500000  3.336400e+04     588.000000  3.977350e+04\n",
              "75%    13582.750000  2.788698e+05    3643.750000  3.001498e+05\n",
              "max    18110.000000  6.159676e+06  134201.000000  6.363442e+06"
            ]
          },
          "metadata": {},
          "execution_count": 18
        }
      ]
    },
    {
      "cell_type": "markdown",
      "metadata": {
        "id": "0N58wnuJ9uKW"
      },
      "source": [
        "По умолчанию `describe()` дает статистику по числовым данным. Можно попросить взять все."
      ]
    },
    {
      "cell_type": "code",
      "metadata": {
        "colab": {
          "base_uri": "https://localhost:8080/",
          "height": 394
        },
        "id": "tUeXBkE6BAFT",
        "outputId": "001555d3-93f6-4d8e-ec01-4cf1af24b5bb"
      },
      "source": [
        "covid.describe(include=\"all\")"
      ],
      "execution_count": null,
      "outputs": [
        {
          "output_type": "execute_result",
          "data": {
            "text/html": [
              "<div>\n",
              "<style scoped>\n",
              "    .dataframe tbody tr th:only-of-type {\n",
              "        vertical-align: middle;\n",
              "    }\n",
              "\n",
              "    .dataframe tbody tr th {\n",
              "        vertical-align: top;\n",
              "    }\n",
              "\n",
              "    .dataframe thead th {\n",
              "        text-align: right;\n",
              "    }\n",
              "</style>\n",
              "<table border=\"1\" class=\"dataframe\">\n",
              "  <thead>\n",
              "    <tr style=\"text-align: right;\">\n",
              "      <th></th>\n",
              "      <th>Sno</th>\n",
              "      <th>Date</th>\n",
              "      <th>Time</th>\n",
              "      <th>State/UnionTerritory</th>\n",
              "      <th>ConfirmedIndianNational</th>\n",
              "      <th>ConfirmedForeignNational</th>\n",
              "      <th>Cured</th>\n",
              "      <th>Deaths</th>\n",
              "      <th>Confirmed</th>\n",
              "    </tr>\n",
              "  </thead>\n",
              "  <tbody>\n",
              "    <tr>\n",
              "      <th>count</th>\n",
              "      <td>18110.000000</td>\n",
              "      <td>18110</td>\n",
              "      <td>18110</td>\n",
              "      <td>18110</td>\n",
              "      <td>18110</td>\n",
              "      <td>18110</td>\n",
              "      <td>1.811000e+04</td>\n",
              "      <td>18110.000000</td>\n",
              "      <td>1.811000e+04</td>\n",
              "    </tr>\n",
              "    <tr>\n",
              "      <th>unique</th>\n",
              "      <td>NaN</td>\n",
              "      <td>560</td>\n",
              "      <td>7</td>\n",
              "      <td>46</td>\n",
              "      <td>62</td>\n",
              "      <td>12</td>\n",
              "      <td>NaN</td>\n",
              "      <td>NaN</td>\n",
              "      <td>NaN</td>\n",
              "    </tr>\n",
              "    <tr>\n",
              "      <th>top</th>\n",
              "      <td>NaN</td>\n",
              "      <td>2020-06-11</td>\n",
              "      <td>8:00 AM</td>\n",
              "      <td>Kerala</td>\n",
              "      <td>-</td>\n",
              "      <td>-</td>\n",
              "      <td>NaN</td>\n",
              "      <td>NaN</td>\n",
              "      <td>NaN</td>\n",
              "    </tr>\n",
              "    <tr>\n",
              "      <th>freq</th>\n",
              "      <td>NaN</td>\n",
              "      <td>37</td>\n",
              "      <td>16472</td>\n",
              "      <td>560</td>\n",
              "      <td>17664</td>\n",
              "      <td>17664</td>\n",
              "      <td>NaN</td>\n",
              "      <td>NaN</td>\n",
              "      <td>NaN</td>\n",
              "    </tr>\n",
              "    <tr>\n",
              "      <th>mean</th>\n",
              "      <td>9055.500000</td>\n",
              "      <td>NaN</td>\n",
              "      <td>NaN</td>\n",
              "      <td>NaN</td>\n",
              "      <td>NaN</td>\n",
              "      <td>NaN</td>\n",
              "      <td>2.786375e+05</td>\n",
              "      <td>4052.402264</td>\n",
              "      <td>3.010314e+05</td>\n",
              "    </tr>\n",
              "    <tr>\n",
              "      <th>std</th>\n",
              "      <td>5228.051023</td>\n",
              "      <td>NaN</td>\n",
              "      <td>NaN</td>\n",
              "      <td>NaN</td>\n",
              "      <td>NaN</td>\n",
              "      <td>NaN</td>\n",
              "      <td>6.148909e+05</td>\n",
              "      <td>10919.076411</td>\n",
              "      <td>6.561489e+05</td>\n",
              "    </tr>\n",
              "    <tr>\n",
              "      <th>min</th>\n",
              "      <td>1.000000</td>\n",
              "      <td>NaN</td>\n",
              "      <td>NaN</td>\n",
              "      <td>NaN</td>\n",
              "      <td>NaN</td>\n",
              "      <td>NaN</td>\n",
              "      <td>0.000000e+00</td>\n",
              "      <td>0.000000</td>\n",
              "      <td>0.000000e+00</td>\n",
              "    </tr>\n",
              "    <tr>\n",
              "      <th>25%</th>\n",
              "      <td>4528.250000</td>\n",
              "      <td>NaN</td>\n",
              "      <td>NaN</td>\n",
              "      <td>NaN</td>\n",
              "      <td>NaN</td>\n",
              "      <td>NaN</td>\n",
              "      <td>3.360250e+03</td>\n",
              "      <td>32.000000</td>\n",
              "      <td>4.376750e+03</td>\n",
              "    </tr>\n",
              "    <tr>\n",
              "      <th>50%</th>\n",
              "      <td>9055.500000</td>\n",
              "      <td>NaN</td>\n",
              "      <td>NaN</td>\n",
              "      <td>NaN</td>\n",
              "      <td>NaN</td>\n",
              "      <td>NaN</td>\n",
              "      <td>3.336400e+04</td>\n",
              "      <td>588.000000</td>\n",
              "      <td>3.977350e+04</td>\n",
              "    </tr>\n",
              "    <tr>\n",
              "      <th>75%</th>\n",
              "      <td>13582.750000</td>\n",
              "      <td>NaN</td>\n",
              "      <td>NaN</td>\n",
              "      <td>NaN</td>\n",
              "      <td>NaN</td>\n",
              "      <td>NaN</td>\n",
              "      <td>2.788698e+05</td>\n",
              "      <td>3643.750000</td>\n",
              "      <td>3.001498e+05</td>\n",
              "    </tr>\n",
              "    <tr>\n",
              "      <th>max</th>\n",
              "      <td>18110.000000</td>\n",
              "      <td>NaN</td>\n",
              "      <td>NaN</td>\n",
              "      <td>NaN</td>\n",
              "      <td>NaN</td>\n",
              "      <td>NaN</td>\n",
              "      <td>6.159676e+06</td>\n",
              "      <td>134201.000000</td>\n",
              "      <td>6.363442e+06</td>\n",
              "    </tr>\n",
              "  </tbody>\n",
              "</table>\n",
              "</div>"
            ],
            "text/plain": [
              "                 Sno        Date  ...         Deaths     Confirmed\n",
              "count   18110.000000       18110  ...   18110.000000  1.811000e+04\n",
              "unique           NaN         560  ...            NaN           NaN\n",
              "top              NaN  2020-06-11  ...            NaN           NaN\n",
              "freq             NaN          37  ...            NaN           NaN\n",
              "mean     9055.500000         NaN  ...    4052.402264  3.010314e+05\n",
              "std      5228.051023         NaN  ...   10919.076411  6.561489e+05\n",
              "min         1.000000         NaN  ...       0.000000  0.000000e+00\n",
              "25%      4528.250000         NaN  ...      32.000000  4.376750e+03\n",
              "50%      9055.500000         NaN  ...     588.000000  3.977350e+04\n",
              "75%     13582.750000         NaN  ...    3643.750000  3.001498e+05\n",
              "max     18110.000000         NaN  ...  134201.000000  6.363442e+06\n",
              "\n",
              "[11 rows x 9 columns]"
            ]
          },
          "metadata": {},
          "execution_count": 19
        }
      ]
    },
    {
      "cell_type": "markdown",
      "metadata": {
        "id": "fQMrHhMyBgxO"
      },
      "source": [
        "Или взять только не числа."
      ]
    },
    {
      "cell_type": "code",
      "metadata": {
        "colab": {
          "base_uri": "https://localhost:8080/",
          "height": 175
        },
        "id": "uXlo0txpBkLr",
        "outputId": "a536eaec-ec09-4465-eca6-4560ad84d10e"
      },
      "source": [
        "covid.describe(include=[object])"
      ],
      "execution_count": null,
      "outputs": [
        {
          "output_type": "execute_result",
          "data": {
            "text/html": [
              "<div>\n",
              "<style scoped>\n",
              "    .dataframe tbody tr th:only-of-type {\n",
              "        vertical-align: middle;\n",
              "    }\n",
              "\n",
              "    .dataframe tbody tr th {\n",
              "        vertical-align: top;\n",
              "    }\n",
              "\n",
              "    .dataframe thead th {\n",
              "        text-align: right;\n",
              "    }\n",
              "</style>\n",
              "<table border=\"1\" class=\"dataframe\">\n",
              "  <thead>\n",
              "    <tr style=\"text-align: right;\">\n",
              "      <th></th>\n",
              "      <th>Date</th>\n",
              "      <th>Time</th>\n",
              "      <th>State/UnionTerritory</th>\n",
              "      <th>ConfirmedIndianNational</th>\n",
              "      <th>ConfirmedForeignNational</th>\n",
              "    </tr>\n",
              "  </thead>\n",
              "  <tbody>\n",
              "    <tr>\n",
              "      <th>count</th>\n",
              "      <td>18110</td>\n",
              "      <td>18110</td>\n",
              "      <td>18110</td>\n",
              "      <td>18110</td>\n",
              "      <td>18110</td>\n",
              "    </tr>\n",
              "    <tr>\n",
              "      <th>unique</th>\n",
              "      <td>560</td>\n",
              "      <td>7</td>\n",
              "      <td>46</td>\n",
              "      <td>62</td>\n",
              "      <td>12</td>\n",
              "    </tr>\n",
              "    <tr>\n",
              "      <th>top</th>\n",
              "      <td>2020-06-11</td>\n",
              "      <td>8:00 AM</td>\n",
              "      <td>Kerala</td>\n",
              "      <td>-</td>\n",
              "      <td>-</td>\n",
              "    </tr>\n",
              "    <tr>\n",
              "      <th>freq</th>\n",
              "      <td>37</td>\n",
              "      <td>16472</td>\n",
              "      <td>560</td>\n",
              "      <td>17664</td>\n",
              "      <td>17664</td>\n",
              "    </tr>\n",
              "  </tbody>\n",
              "</table>\n",
              "</div>"
            ],
            "text/plain": [
              "              Date     Time  ... ConfirmedIndianNational ConfirmedForeignNational\n",
              "count        18110    18110  ...                   18110                    18110\n",
              "unique         560        7  ...                      62                       12\n",
              "top     2020-06-11  8:00 AM  ...                       -                        -\n",
              "freq            37    16472  ...                   17664                    17664\n",
              "\n",
              "[4 rows x 5 columns]"
            ]
          },
          "metadata": {},
          "execution_count": 20
        }
      ]
    },
    {
      "cell_type": "markdown",
      "metadata": {
        "id": "EuBi0khvBxLO"
      },
      "source": [
        "Или аналогичным образом попросить что-то не брать."
      ]
    },
    {
      "cell_type": "code",
      "metadata": {
        "colab": {
          "base_uri": "https://localhost:8080/",
          "height": 175
        },
        "id": "mVYvQP5iB0SN",
        "outputId": "f93a80f8-85ee-4b70-e410-1b43e3c29ed5"
      },
      "source": [
        "covid.describe(exclude=[int])"
      ],
      "execution_count": null,
      "outputs": [
        {
          "output_type": "execute_result",
          "data": {
            "text/html": [
              "<div>\n",
              "<style scoped>\n",
              "    .dataframe tbody tr th:only-of-type {\n",
              "        vertical-align: middle;\n",
              "    }\n",
              "\n",
              "    .dataframe tbody tr th {\n",
              "        vertical-align: top;\n",
              "    }\n",
              "\n",
              "    .dataframe thead th {\n",
              "        text-align: right;\n",
              "    }\n",
              "</style>\n",
              "<table border=\"1\" class=\"dataframe\">\n",
              "  <thead>\n",
              "    <tr style=\"text-align: right;\">\n",
              "      <th></th>\n",
              "      <th>Date</th>\n",
              "      <th>Time</th>\n",
              "      <th>State/UnionTerritory</th>\n",
              "      <th>ConfirmedIndianNational</th>\n",
              "      <th>ConfirmedForeignNational</th>\n",
              "    </tr>\n",
              "  </thead>\n",
              "  <tbody>\n",
              "    <tr>\n",
              "      <th>count</th>\n",
              "      <td>18110</td>\n",
              "      <td>18110</td>\n",
              "      <td>18110</td>\n",
              "      <td>18110</td>\n",
              "      <td>18110</td>\n",
              "    </tr>\n",
              "    <tr>\n",
              "      <th>unique</th>\n",
              "      <td>560</td>\n",
              "      <td>7</td>\n",
              "      <td>46</td>\n",
              "      <td>62</td>\n",
              "      <td>12</td>\n",
              "    </tr>\n",
              "    <tr>\n",
              "      <th>top</th>\n",
              "      <td>2020-06-11</td>\n",
              "      <td>8:00 AM</td>\n",
              "      <td>Kerala</td>\n",
              "      <td>-</td>\n",
              "      <td>-</td>\n",
              "    </tr>\n",
              "    <tr>\n",
              "      <th>freq</th>\n",
              "      <td>37</td>\n",
              "      <td>16472</td>\n",
              "      <td>560</td>\n",
              "      <td>17664</td>\n",
              "      <td>17664</td>\n",
              "    </tr>\n",
              "  </tbody>\n",
              "</table>\n",
              "</div>"
            ],
            "text/plain": [
              "              Date     Time  ... ConfirmedIndianNational ConfirmedForeignNational\n",
              "count        18110    18110  ...                   18110                    18110\n",
              "unique         560        7  ...                      62                       12\n",
              "top     2020-06-11  8:00 AM  ...                       -                        -\n",
              "freq            37    16472  ...                   17664                    17664\n",
              "\n",
              "[4 rows x 5 columns]"
            ]
          },
          "metadata": {},
          "execution_count": 21
        }
      ]
    },
    {
      "cell_type": "markdown",
      "metadata": {
        "id": "-Y0pYLuzCAdk"
      },
      "source": [
        "Получились одинаковые выводы, потому что у нас всего два типа данных в табличках."
      ]
    },
    {
      "cell_type": "markdown",
      "metadata": {
        "id": "JBZkuOiXDT9k"
      },
      "source": [
        "Можно просить выводить другие процентили."
      ]
    },
    {
      "cell_type": "code",
      "metadata": {
        "colab": {
          "base_uri": "https://localhost:8080/",
          "height": 363
        },
        "id": "SSYqVgKSCGPK",
        "outputId": "dace5b92-95dd-4a52-feaf-ff9f8cd59a10"
      },
      "source": [
        "covid.describe(percentiles=[.1, .3, .6, .9])"
      ],
      "execution_count": null,
      "outputs": [
        {
          "output_type": "execute_result",
          "data": {
            "text/html": [
              "<div>\n",
              "<style scoped>\n",
              "    .dataframe tbody tr th:only-of-type {\n",
              "        vertical-align: middle;\n",
              "    }\n",
              "\n",
              "    .dataframe tbody tr th {\n",
              "        vertical-align: top;\n",
              "    }\n",
              "\n",
              "    .dataframe thead th {\n",
              "        text-align: right;\n",
              "    }\n",
              "</style>\n",
              "<table border=\"1\" class=\"dataframe\">\n",
              "  <thead>\n",
              "    <tr style=\"text-align: right;\">\n",
              "      <th></th>\n",
              "      <th>Sno</th>\n",
              "      <th>Cured</th>\n",
              "      <th>Deaths</th>\n",
              "      <th>Confirmed</th>\n",
              "    </tr>\n",
              "  </thead>\n",
              "  <tbody>\n",
              "    <tr>\n",
              "      <th>count</th>\n",
              "      <td>18110.000000</td>\n",
              "      <td>1.811000e+04</td>\n",
              "      <td>18110.000000</td>\n",
              "      <td>1.811000e+04</td>\n",
              "    </tr>\n",
              "    <tr>\n",
              "      <th>mean</th>\n",
              "      <td>9055.500000</td>\n",
              "      <td>2.786375e+05</td>\n",
              "      <td>4052.402264</td>\n",
              "      <td>3.010314e+05</td>\n",
              "    </tr>\n",
              "    <tr>\n",
              "      <th>std</th>\n",
              "      <td>5228.051023</td>\n",
              "      <td>6.148909e+05</td>\n",
              "      <td>10919.076411</td>\n",
              "      <td>6.561489e+05</td>\n",
              "    </tr>\n",
              "    <tr>\n",
              "      <th>min</th>\n",
              "      <td>1.000000</td>\n",
              "      <td>0.000000e+00</td>\n",
              "      <td>0.000000</td>\n",
              "      <td>0.000000e+00</td>\n",
              "    </tr>\n",
              "    <tr>\n",
              "      <th>10%</th>\n",
              "      <td>1811.900000</td>\n",
              "      <td>3.700000e+01</td>\n",
              "      <td>1.000000</td>\n",
              "      <td>1.589000e+02</td>\n",
              "    </tr>\n",
              "    <tr>\n",
              "      <th>30%</th>\n",
              "      <td>5433.700000</td>\n",
              "      <td>5.143700e+03</td>\n",
              "      <td>62.000000</td>\n",
              "      <td>7.005000e+03</td>\n",
              "    </tr>\n",
              "    <tr>\n",
              "      <th>50%</th>\n",
              "      <td>9055.500000</td>\n",
              "      <td>3.336400e+04</td>\n",
              "      <td>588.000000</td>\n",
              "      <td>3.977350e+04</td>\n",
              "    </tr>\n",
              "    <tr>\n",
              "      <th>60%</th>\n",
              "      <td>10866.400000</td>\n",
              "      <td>9.485000e+04</td>\n",
              "      <td>1178.400000</td>\n",
              "      <td>1.107724e+05</td>\n",
              "    </tr>\n",
              "    <tr>\n",
              "      <th>90%</th>\n",
              "      <td>16299.100000</td>\n",
              "      <td>8.147622e+05</td>\n",
              "      <td>10414.000000</td>\n",
              "      <td>8.539939e+05</td>\n",
              "    </tr>\n",
              "    <tr>\n",
              "      <th>max</th>\n",
              "      <td>18110.000000</td>\n",
              "      <td>6.159676e+06</td>\n",
              "      <td>134201.000000</td>\n",
              "      <td>6.363442e+06</td>\n",
              "    </tr>\n",
              "  </tbody>\n",
              "</table>\n",
              "</div>"
            ],
            "text/plain": [
              "                Sno         Cured         Deaths     Confirmed\n",
              "count  18110.000000  1.811000e+04   18110.000000  1.811000e+04\n",
              "mean    9055.500000  2.786375e+05    4052.402264  3.010314e+05\n",
              "std     5228.051023  6.148909e+05   10919.076411  6.561489e+05\n",
              "min        1.000000  0.000000e+00       0.000000  0.000000e+00\n",
              "10%     1811.900000  3.700000e+01       1.000000  1.589000e+02\n",
              "30%     5433.700000  5.143700e+03      62.000000  7.005000e+03\n",
              "50%     9055.500000  3.336400e+04     588.000000  3.977350e+04\n",
              "60%    10866.400000  9.485000e+04    1178.400000  1.107724e+05\n",
              "90%    16299.100000  8.147622e+05   10414.000000  8.539939e+05\n",
              "max    18110.000000  6.159676e+06  134201.000000  6.363442e+06"
            ]
          },
          "metadata": {},
          "execution_count": 22
        }
      ]
    },
    {
      "cell_type": "markdown",
      "metadata": {
        "id": "QVu_O6YeDoMd"
      },
      "source": [
        "##Отсутствующие значения"
      ]
    },
    {
      "cell_type": "markdown",
      "metadata": {
        "id": "FI3c-fMADrtj"
      },
      "source": [
        "Напомним, что проверить отсутствующие значения можно методами `isnull`, `isna`, `notnull`, `notna`. В плане отсутствующих значений интереснее посмотреть табличку `states`."
      ]
    },
    {
      "cell_type": "code",
      "metadata": {
        "colab": {
          "base_uri": "https://localhost:8080/"
        },
        "id": "Wr3ZoQz9GRQH",
        "outputId": "fe279093-b47c-455a-f5fe-f6ec12c4f1fe"
      },
      "source": [
        "states.isnull().sum()"
      ],
      "execution_count": null,
      "outputs": [
        {
          "output_type": "execute_result",
          "data": {
            "text/plain": [
              "Updated On                                0\n",
              "State                                     0\n",
              "Total Doses Administered                224\n",
              "Sessions                                224\n",
              " Sites                                  224\n",
              "First Dose Administered                 224\n",
              "Second Dose Administered                224\n",
              "Male (Doses Administered)               384\n",
              "Female (Doses Administered)             384\n",
              "Transgender (Doses Administered)        384\n",
              " Covaxin (Doses Administered)           224\n",
              "CoviShield (Doses Administered)         224\n",
              "Sputnik V (Doses Administered)         4850\n",
              "AEFI                                   2407\n",
              "18-44 Years (Doses Administered)       6143\n",
              "45-60 Years (Doses Administered)       6143\n",
              "60+ Years (Doses Administered)         6143\n",
              "18-44 Years(Individuals Vaccinated)    4112\n",
              "45-60 Years(Individuals Vaccinated)    4111\n",
              "60+ Years(Individuals Vaccinated)      4111\n",
              "Male(Individuals Vaccinated)           7685\n",
              "Female(Individuals Vaccinated)         7685\n",
              "Transgender(Individuals Vaccinated)    7685\n",
              "Total Individuals Vaccinated           1926\n",
              "dtype: int64"
            ]
          },
          "metadata": {},
          "execution_count": 23
        }
      ]
    },
    {
      "cell_type": "markdown",
      "metadata": {
        "id": "_eNdllutGmY_"
      },
      "source": [
        "Отсутствующих значений много. Даже кажется, что в них может быть какая-то логика. На числа смотреть интересно, но наглядное всегда легче воспринимать. Для визуализации отсутствующих значений и корреляций между ними есть специальный небольшой модуль [`missingno`](https://github.com/ResidentMario/missingno)."
      ]
    },
    {
      "cell_type": "markdown",
      "metadata": {
        "id": "OZil-s361dlr"
      },
      "source": [
        "### Отступление 1: missingno"
      ]
    },
    {
      "cell_type": "code",
      "metadata": {
        "id": "wk37yaYO1i2O"
      },
      "source": [
        "import missingno as msno"
      ],
      "execution_count": null,
      "outputs": []
    },
    {
      "cell_type": "markdown",
      "metadata": {
        "id": "Q8_p_XUvICUI"
      },
      "source": [
        "`bar`"
      ]
    },
    {
      "cell_type": "code",
      "metadata": {
        "colab": {
          "base_uri": "https://localhost:8080/",
          "height": 803
        },
        "id": "GdMv51VSzvNI",
        "outputId": "275a88a2-6be3-4358-ffff-d3a7758efea4"
      },
      "source": [
        "msno.bar(states, color=\"mediumslateblue\");"
      ],
      "execution_count": null,
      "outputs": [
        {
          "output_type": "display_data",
          "data": {
            "image/png": "[encoded data removed]",
            "text/plain": [
              "<Figure size 1800x720 with 3 Axes>"
            ]
          },
          "metadata": {
            "needs_background": "light"
          }
        }
      ]
    },
    {
      "cell_type": "markdown",
      "metadata": {
        "id": "DoaxW05CIE8q"
      },
      "source": [
        "`matrix`"
      ]
    },
    {
      "cell_type": "code",
      "metadata": {
        "colab": {
          "base_uri": "https://localhost:8080/",
          "height": 781
        },
        "id": "gJRNo0LJ0Cgb",
        "outputId": "76a95896-84be-441d-f921-2029b4a6c3ed"
      },
      "source": [
        "msno.matrix(states, color=(.5, .7, .5));"
      ],
      "execution_count": null,
      "outputs": [
        {
          "output_type": "display_data",
          "data": {
            "image/png": "[encoded data removed]",
            "text/plain": [
              "<Figure size 1800x720 with 2 Axes>"
            ]
          },
          "metadata": {
            "needs_background": "light"
          }
        }
      ]
    },
    {
      "cell_type": "markdown",
      "metadata": {
        "id": "wR8RbZcRIeT5"
      },
      "source": [
        "`heatmap`"
      ]
    },
    {
      "cell_type": "code",
      "metadata": {
        "colab": {
          "base_uri": "https://localhost:8080/",
          "height": 912
        },
        "id": "k60bNi-CHtNj",
        "outputId": "91c495fe-7604-4bac-aaf8-71e0d06dca40"
      },
      "source": [
        "msno.heatmap(states);"
      ],
      "execution_count": null,
      "outputs": [
        {
          "output_type": "display_data",
          "data": {
            "image/png": "[encoded data removed]",
            "text/plain": [
              "<Figure size 1440x864 with 2 Axes>"
            ]
          },
          "metadata": {
            "needs_background": "light"
          }
        }
      ]
    },
    {
      "cell_type": "markdown",
      "metadata": {
        "id": "j4U6jyv1JqvR"
      },
      "source": [
        "Столбцы, в которых сравнительно немного отсутствующих данных (30-35%), всегда хорошо заполнить. Ситуации могут быть следующие:\n",
        "\n",
        "- один столбец порядковых данных разбит на несколько бинарных. Это хорошо проверить и в зависимости от ситуации сделать соответствующие преобразования: слить все в один столбец или дозаполнить нулями каждый из имеющихся.\n",
        "- заполнить пропуски на основе имеющихся данных: средним, максимальным или медианой.\n",
        "- ввести новую категорию для категориальных данных.\n",
        "- предсказать значения в столбце на основе других данных (регрессией или случайным лесом, например).\n",
        "\n",
        "Если отсутствующих данных больше, чем имеющихся, такой столбец иногда вообще не стоит использовать, т.к. он только ухудшит модель."
      ]
    },
    {
      "cell_type": "markdown",
      "metadata": {
        "id": "oy9bDl31MPt8"
      },
      "source": [
        "## Манипуляции с данными"
      ]
    },
    {
      "cell_type": "markdown",
      "metadata": {
        "id": "60fkSwDndPdW"
      },
      "source": [
        "#### Работа с типами данных"
      ]
    },
    {
      "cell_type": "markdown",
      "metadata": {
        "id": "BpUBq2ySNLZE"
      },
      "source": [
        "Помимо названий, можно отбирать столбцы по типам данных, методом `select_dtypes()`."
      ]
    },
    {
      "cell_type": "code",
      "metadata": {
        "colab": {
          "base_uri": "https://localhost:8080/",
          "height": 206
        },
        "id": "j8--UMbpNT_J",
        "outputId": "8d4a7d10-d1c4-4816-afb9-5f3005668793"
      },
      "source": [
        "covid.select_dtypes(include=\"int64\").head()"
      ],
      "execution_count": null,
      "outputs": [
        {
          "output_type": "execute_result",
          "data": {
            "text/html": [
              "<div>\n",
              "<style scoped>\n",
              "    .dataframe tbody tr th:only-of-type {\n",
              "        vertical-align: middle;\n",
              "    }\n",
              "\n",
              "    .dataframe tbody tr th {\n",
              "        vertical-align: top;\n",
              "    }\n",
              "\n",
              "    .dataframe thead th {\n",
              "        text-align: right;\n",
              "    }\n",
              "</style>\n",
              "<table border=\"1\" class=\"dataframe\">\n",
              "  <thead>\n",
              "    <tr style=\"text-align: right;\">\n",
              "      <th></th>\n",
              "      <th>Sno</th>\n",
              "      <th>Cured</th>\n",
              "      <th>Deaths</th>\n",
              "      <th>Confirmed</th>\n",
              "    </tr>\n",
              "  </thead>\n",
              "  <tbody>\n",
              "    <tr>\n",
              "      <th>0</th>\n",
              "      <td>1</td>\n",
              "      <td>0</td>\n",
              "      <td>0</td>\n",
              "      <td>1</td>\n",
              "    </tr>\n",
              "    <tr>\n",
              "      <th>1</th>\n",
              "      <td>2</td>\n",
              "      <td>0</td>\n",
              "      <td>0</td>\n",
              "      <td>1</td>\n",
              "    </tr>\n",
              "    <tr>\n",
              "      <th>2</th>\n",
              "      <td>3</td>\n",
              "      <td>0</td>\n",
              "      <td>0</td>\n",
              "      <td>2</td>\n",
              "    </tr>\n",
              "    <tr>\n",
              "      <th>3</th>\n",
              "      <td>4</td>\n",
              "      <td>0</td>\n",
              "      <td>0</td>\n",
              "      <td>3</td>\n",
              "    </tr>\n",
              "    <tr>\n",
              "      <th>4</th>\n",
              "      <td>5</td>\n",
              "      <td>0</td>\n",
              "      <td>0</td>\n",
              "      <td>3</td>\n",
              "    </tr>\n",
              "  </tbody>\n",
              "</table>\n",
              "</div>"
            ],
            "text/plain": [
              "   Sno  Cured  Deaths  Confirmed\n",
              "0    1      0       0          1\n",
              "1    2      0       0          1\n",
              "2    3      0       0          2\n",
              "3    4      0       0          3\n",
              "4    5      0       0          3"
            ]
          },
          "metadata": {},
          "execution_count": 28
        }
      ]
    },
    {
      "cell_type": "code",
      "metadata": {
        "colab": {
          "base_uri": "https://localhost:8080/",
          "height": 206
        },
        "id": "8A6ddVbwNZKD",
        "outputId": "8aa9daf4-19dc-4394-d7f8-f1727f365fe1"
      },
      "source": [
        "covid.select_dtypes(exclude=[int]).head()"
      ],
      "execution_count": null,
      "outputs": [
        {
          "output_type": "execute_result",
          "data": {
            "text/html": [
              "<div>\n",
              "<style scoped>\n",
              "    .dataframe tbody tr th:only-of-type {\n",
              "        vertical-align: middle;\n",
              "    }\n",
              "\n",
              "    .dataframe tbody tr th {\n",
              "        vertical-align: top;\n",
              "    }\n",
              "\n",
              "    .dataframe thead th {\n",
              "        text-align: right;\n",
              "    }\n",
              "</style>\n",
              "<table border=\"1\" class=\"dataframe\">\n",
              "  <thead>\n",
              "    <tr style=\"text-align: right;\">\n",
              "      <th></th>\n",
              "      <th>Date</th>\n",
              "      <th>Time</th>\n",
              "      <th>State/UnionTerritory</th>\n",
              "      <th>ConfirmedIndianNational</th>\n",
              "      <th>ConfirmedForeignNational</th>\n",
              "    </tr>\n",
              "  </thead>\n",
              "  <tbody>\n",
              "    <tr>\n",
              "      <th>0</th>\n",
              "      <td>2020-01-30</td>\n",
              "      <td>6:00 PM</td>\n",
              "      <td>Kerala</td>\n",
              "      <td>1</td>\n",
              "      <td>0</td>\n",
              "    </tr>\n",
              "    <tr>\n",
              "      <th>1</th>\n",
              "      <td>2020-01-31</td>\n",
              "      <td>6:00 PM</td>\n",
              "      <td>Kerala</td>\n",
              "      <td>1</td>\n",
              "      <td>0</td>\n",
              "    </tr>\n",
              "    <tr>\n",
              "      <th>2</th>\n",
              "      <td>2020-02-01</td>\n",
              "      <td>6:00 PM</td>\n",
              "      <td>Kerala</td>\n",
              "      <td>2</td>\n",
              "      <td>0</td>\n",
              "    </tr>\n",
              "    <tr>\n",
              "      <th>3</th>\n",
              "      <td>2020-02-02</td>\n",
              "      <td>6:00 PM</td>\n",
              "      <td>Kerala</td>\n",
              "      <td>3</td>\n",
              "      <td>0</td>\n",
              "    </tr>\n",
              "    <tr>\n",
              "      <th>4</th>\n",
              "      <td>2020-02-03</td>\n",
              "      <td>6:00 PM</td>\n",
              "      <td>Kerala</td>\n",
              "      <td>3</td>\n",
              "      <td>0</td>\n",
              "    </tr>\n",
              "  </tbody>\n",
              "</table>\n",
              "</div>"
            ],
            "text/plain": [
              "         Date     Time  ... ConfirmedIndianNational ConfirmedForeignNational\n",
              "0  2020-01-30  6:00 PM  ...                       1                        0\n",
              "1  2020-01-31  6:00 PM  ...                       1                        0\n",
              "2  2020-02-01  6:00 PM  ...                       2                        0\n",
              "3  2020-02-02  6:00 PM  ...                       3                        0\n",
              "4  2020-02-03  6:00 PM  ...                       3                        0\n",
              "\n",
              "[5 rows x 5 columns]"
            ]
          },
          "metadata": {},
          "execution_count": 29
        }
      ]
    },
    {
      "cell_type": "code",
      "metadata": {
        "colab": {
          "base_uri": "https://localhost:8080/"
        },
        "id": "Ki_VCKu1NjWx",
        "outputId": "de3d9aeb-fb91-4485-f563-ecd2340c7c8f"
      },
      "source": [
        "covid.ConfirmedIndianNational.unique()"
      ],
      "execution_count": null,
      "outputs": [
        {
          "output_type": "execute_result",
          "data": {
            "text/plain": [
              "array(['1', '2', '3', '0', '6', '7', '8', '9', '4', '15', '5', '17', '10',\n",
              "       '11', '19', '14', '22', '32', '12', '23', '24', '36', '25', '39',\n",
              "       '44', '18', '16', '26', '49', '33', '60', '13', '28', '45', '64',\n",
              "       '21', '29', '71', '30', '37', '87', '86', '41', '101', '125', '34',\n",
              "       '35', '42', '55', '110', '20', '121', '40', '129', '127', '38',\n",
              "       '168', '177', '52', '46', '54', '-'], dtype=object)"
            ]
          },
          "metadata": {},
          "execution_count": 30
        }
      ]
    },
    {
      "cell_type": "markdown",
      "metadata": {
        "id": "bJap4spUOGi0"
      },
      "source": [
        "Эти данные не мешало бы хорошо обработать, прежде чем приступать к извлечению полезной информации."
      ]
    },
    {
      "cell_type": "markdown",
      "metadata": {
        "id": "aVfWabLnOlbw"
      },
      "source": [
        "Можно проверить, пустой ли датафрейм."
      ]
    },
    {
      "cell_type": "code",
      "metadata": {
        "id": "khVSaM9zN7M1",
        "colab": {
          "base_uri": "https://localhost:8080/"
        },
        "outputId": "533212a0-9d47-4675-bf86-e0cb0e68a7dc"
      },
      "source": [
        "covid.empty"
      ],
      "execution_count": null,
      "outputs": [
        {
          "output_type": "execute_result",
          "data": {
            "text/plain": [
              "False"
            ]
          },
          "metadata": {},
          "execution_count": 31
        }
      ]
    },
    {
      "cell_type": "markdown",
      "metadata": {
        "id": "RkM72NouVM5a"
      },
      "source": [
        "Можно несколькими способами проводить преобразование типов."
      ]
    },
    {
      "cell_type": "code",
      "metadata": {
        "colab": {
          "base_uri": "https://localhost:8080/"
        },
        "id": "075iDA0SUOeW",
        "outputId": "ffc39d9b-2b25-4d24-eafb-ebdb934c98a6"
      },
      "source": [
        "#astype(dtype, copy=True, errors=\"raise\")\n",
        "covid.ConfirmedIndianNational.astype(\"category\")"
      ],
      "execution_count": null,
      "outputs": [
        {
          "output_type": "execute_result",
          "data": {
            "text/plain": [
              "0        1\n",
              "1        1\n",
              "2        2\n",
              "3        3\n",
              "4        3\n",
              "        ..\n",
              "18105    -\n",
              "18106    -\n",
              "18107    -\n",
              "18108    -\n",
              "18109    -\n",
              "Name: ConfirmedIndianNational, Length: 18110, dtype: category\n",
              "Categories (62, object): ['-', '0', '1', '10', ..., '8', '86', '87', '9']"
            ]
          },
          "metadata": {},
          "execution_count": 32
        }
      ]
    },
    {
      "cell_type": "code",
      "metadata": {
        "colab": {
          "base_uri": "https://localhost:8080/",
          "height": 424
        },
        "id": "UpHvqXTLVtR3",
        "outputId": "5131ed2c-c904-4448-ee3e-ea4822016db6"
      },
      "source": [
        "#convert_dtypes()\n",
        "covid.convert_dtypes()"
      ],
      "execution_count": null,
      "outputs": [
        {
          "output_type": "execute_result",
          "data": {
            "text/html": [
              "<div>\n",
              "<style scoped>\n",
              "    .dataframe tbody tr th:only-of-type {\n",
              "        vertical-align: middle;\n",
              "    }\n",
              "\n",
              "    .dataframe tbody tr th {\n",
              "        vertical-align: top;\n",
              "    }\n",
              "\n",
              "    .dataframe thead th {\n",
              "        text-align: right;\n",
              "    }\n",
              "</style>\n",
              "<table border=\"1\" class=\"dataframe\">\n",
              "  <thead>\n",
              "    <tr style=\"text-align: right;\">\n",
              "      <th></th>\n",
              "      <th>Sno</th>\n",
              "      <th>Date</th>\n",
              "      <th>Time</th>\n",
              "      <th>State/UnionTerritory</th>\n",
              "      <th>ConfirmedIndianNational</th>\n",
              "      <th>ConfirmedForeignNational</th>\n",
              "      <th>Cured</th>\n",
              "      <th>Deaths</th>\n",
              "      <th>Confirmed</th>\n",
              "    </tr>\n",
              "  </thead>\n",
              "  <tbody>\n",
              "    <tr>\n",
              "      <th>0</th>\n",
              "      <td>1</td>\n",
              "      <td>2020-01-30</td>\n",
              "      <td>6:00 PM</td>\n",
              "      <td>Kerala</td>\n",
              "      <td>1</td>\n",
              "      <td>0</td>\n",
              "      <td>0</td>\n",
              "      <td>0</td>\n",
              "      <td>1</td>\n",
              "    </tr>\n",
              "    <tr>\n",
              "      <th>1</th>\n",
              "      <td>2</td>\n",
              "      <td>2020-01-31</td>\n",
              "      <td>6:00 PM</td>\n",
              "      <td>Kerala</td>\n",
              "      <td>1</td>\n",
              "      <td>0</td>\n",
              "      <td>0</td>\n",
              "      <td>0</td>\n",
              "      <td>1</td>\n",
              "    </tr>\n",
              "    <tr>\n",
              "      <th>2</th>\n",
              "      <td>3</td>\n",
              "      <td>2020-02-01</td>\n",
              "      <td>6:00 PM</td>\n",
              "      <td>Kerala</td>\n",
              "      <td>2</td>\n",
              "      <td>0</td>\n",
              "      <td>0</td>\n",
              "      <td>0</td>\n",
              "      <td>2</td>\n",
              "    </tr>\n",
              "    <tr>\n",
              "      <th>3</th>\n",
              "      <td>4</td>\n",
              "      <td>2020-02-02</td>\n",
              "      <td>6:00 PM</td>\n",
              "      <td>Kerala</td>\n",
              "      <td>3</td>\n",
              "      <td>0</td>\n",
              "      <td>0</td>\n",
              "      <td>0</td>\n",
              "      <td>3</td>\n",
              "    </tr>\n",
              "    <tr>\n",
              "      <th>4</th>\n",
              "      <td>5</td>\n",
              "      <td>2020-02-03</td>\n",
              "      <td>6:00 PM</td>\n",
              "      <td>Kerala</td>\n",
              "      <td>3</td>\n",
              "      <td>0</td>\n",
              "      <td>0</td>\n",
              "      <td>0</td>\n",
              "      <td>3</td>\n",
              "    </tr>\n",
              "    <tr>\n",
              "      <th>...</th>\n",
              "      <td>...</td>\n",
              "      <td>...</td>\n",
              "      <td>...</td>\n",
              "      <td>...</td>\n",
              "      <td>...</td>\n",
              "      <td>...</td>\n",
              "      <td>...</td>\n",
              "      <td>...</td>\n",
              "      <td>...</td>\n",
              "    </tr>\n",
              "    <tr>\n",
              "      <th>18105</th>\n",
              "      <td>18106</td>\n",
              "      <td>2021-08-11</td>\n",
              "      <td>8:00 AM</td>\n",
              "      <td>Telangana</td>\n",
              "      <td>-</td>\n",
              "      <td>-</td>\n",
              "      <td>638410</td>\n",
              "      <td>3831</td>\n",
              "      <td>650353</td>\n",
              "    </tr>\n",
              "    <tr>\n",
              "      <th>18106</th>\n",
              "      <td>18107</td>\n",
              "      <td>2021-08-11</td>\n",
              "      <td>8:00 AM</td>\n",
              "      <td>Tripura</td>\n",
              "      <td>-</td>\n",
              "      <td>-</td>\n",
              "      <td>77811</td>\n",
              "      <td>773</td>\n",
              "      <td>80660</td>\n",
              "    </tr>\n",
              "    <tr>\n",
              "      <th>18107</th>\n",
              "      <td>18108</td>\n",
              "      <td>2021-08-11</td>\n",
              "      <td>8:00 AM</td>\n",
              "      <td>Uttarakhand</td>\n",
              "      <td>-</td>\n",
              "      <td>-</td>\n",
              "      <td>334650</td>\n",
              "      <td>7368</td>\n",
              "      <td>342462</td>\n",
              "    </tr>\n",
              "    <tr>\n",
              "      <th>18108</th>\n",
              "      <td>18109</td>\n",
              "      <td>2021-08-11</td>\n",
              "      <td>8:00 AM</td>\n",
              "      <td>Uttar Pradesh</td>\n",
              "      <td>-</td>\n",
              "      <td>-</td>\n",
              "      <td>1685492</td>\n",
              "      <td>22775</td>\n",
              "      <td>1708812</td>\n",
              "    </tr>\n",
              "    <tr>\n",
              "      <th>18109</th>\n",
              "      <td>18110</td>\n",
              "      <td>2021-08-11</td>\n",
              "      <td>8:00 AM</td>\n",
              "      <td>West Bengal</td>\n",
              "      <td>-</td>\n",
              "      <td>-</td>\n",
              "      <td>1506532</td>\n",
              "      <td>18252</td>\n",
              "      <td>1534999</td>\n",
              "    </tr>\n",
              "  </tbody>\n",
              "</table>\n",
              "<p>18110 rows × 9 columns</p>\n",
              "</div>"
            ],
            "text/plain": [
              "         Sno        Date     Time  ...    Cured Deaths Confirmed\n",
              "0          1  2020-01-30  6:00 PM  ...        0      0         1\n",
              "1          2  2020-01-31  6:00 PM  ...        0      0         1\n",
              "2          3  2020-02-01  6:00 PM  ...        0      0         2\n",
              "3          4  2020-02-02  6:00 PM  ...        0      0         3\n",
              "4          5  2020-02-03  6:00 PM  ...        0      0         3\n",
              "...      ...         ...      ...  ...      ...    ...       ...\n",
              "18105  18106  2021-08-11  8:00 AM  ...   638410   3831    650353\n",
              "18106  18107  2021-08-11  8:00 AM  ...    77811    773     80660\n",
              "18107  18108  2021-08-11  8:00 AM  ...   334650   7368    342462\n",
              "18108  18109  2021-08-11  8:00 AM  ...  1685492  22775   1708812\n",
              "18109  18110  2021-08-11  8:00 AM  ...  1506532  18252   1534999\n",
              "\n",
              "[18110 rows x 9 columns]"
            ]
          },
          "metadata": {},
          "execution_count": 33
        }
      ]
    },
    {
      "cell_type": "markdown",
      "metadata": {
        "id": "QEHR0H8XO-4d"
      },
      "source": [
        "- `squeeze()` сжимает размерность объекта"
      ]
    },
    {
      "cell_type": "code",
      "metadata": {
        "colab": {
          "base_uri": "https://localhost:8080/",
          "height": 206
        },
        "id": "2L0y69qePDbk",
        "outputId": "770f7b56-8298-45db-b4e2-3c13a7810028"
      },
      "source": [
        "covid[[\"Date\"]][:5]"
      ],
      "execution_count": null,
      "outputs": [
        {
          "output_type": "execute_result",
          "data": {
            "text/html": [
              "<div>\n",
              "<style scoped>\n",
              "    .dataframe tbody tr th:only-of-type {\n",
              "        vertical-align: middle;\n",
              "    }\n",
              "\n",
              "    .dataframe tbody tr th {\n",
              "        vertical-align: top;\n",
              "    }\n",
              "\n",
              "    .dataframe thead th {\n",
              "        text-align: right;\n",
              "    }\n",
              "</style>\n",
              "<table border=\"1\" class=\"dataframe\">\n",
              "  <thead>\n",
              "    <tr style=\"text-align: right;\">\n",
              "      <th></th>\n",
              "      <th>Date</th>\n",
              "    </tr>\n",
              "  </thead>\n",
              "  <tbody>\n",
              "    <tr>\n",
              "      <th>0</th>\n",
              "      <td>2020-01-30</td>\n",
              "    </tr>\n",
              "    <tr>\n",
              "      <th>1</th>\n",
              "      <td>2020-01-31</td>\n",
              "    </tr>\n",
              "    <tr>\n",
              "      <th>2</th>\n",
              "      <td>2020-02-01</td>\n",
              "    </tr>\n",
              "    <tr>\n",
              "      <th>3</th>\n",
              "      <td>2020-02-02</td>\n",
              "    </tr>\n",
              "    <tr>\n",
              "      <th>4</th>\n",
              "      <td>2020-02-03</td>\n",
              "    </tr>\n",
              "  </tbody>\n",
              "</table>\n",
              "</div>"
            ],
            "text/plain": [
              "         Date\n",
              "0  2020-01-30\n",
              "1  2020-01-31\n",
              "2  2020-02-01\n",
              "3  2020-02-02\n",
              "4  2020-02-03"
            ]
          },
          "metadata": {},
          "execution_count": 34
        }
      ]
    },
    {
      "cell_type": "code",
      "metadata": {
        "id": "jCzpug7Wys3N"
      },
      "source": [
        "covid[\"Date\"][:5]"
      ],
      "execution_count": null,
      "outputs": []
    },
    {
      "cell_type": "code",
      "metadata": {
        "colab": {
          "base_uri": "https://localhost:8080/"
        },
        "id": "Es5xOCwjPLcx",
        "outputId": "272341b3-034c-49f2-f196-403f19917b77"
      },
      "source": [
        "covid[[\"Date\"]][:5].squeeze()"
      ],
      "execution_count": null,
      "outputs": [
        {
          "output_type": "execute_result",
          "data": {
            "text/plain": [
              "0    2020-01-30\n",
              "1    2020-01-31\n",
              "2    2020-02-01\n",
              "3    2020-02-02\n",
              "4    2020-02-03\n",
              "Name: Date, dtype: object"
            ]
          },
          "metadata": {},
          "execution_count": 35
        }
      ]
    },
    {
      "cell_type": "markdown",
      "metadata": {
        "id": "pAwnMgIedVR9"
      },
      "source": [
        "#### Обход датафрейма циклом"
      ]
    },
    {
      "cell_type": "markdown",
      "metadata": {
        "id": "XIilsZa_Xxso"
      },
      "source": [
        "`items()`, `iteritems()`, `iterrows()`, `itertuples()` упрощают обход датафрейма циклом."
      ]
    },
    {
      "cell_type": "code",
      "metadata": {
        "colab": {
          "base_uri": "https://localhost:8080/",
          "height": 363
        },
        "id": "5TUmuW_WWf3Z",
        "outputId": "82022898-3d1c-436b-b1bb-9e23fe4efa97"
      },
      "source": [
        "df = covid.iloc[:10, 1:3]\n",
        "df"
      ],
      "execution_count": null,
      "outputs": [
        {
          "output_type": "execute_result",
          "data": {
            "text/html": [
              "<div>\n",
              "<style scoped>\n",
              "    .dataframe tbody tr th:only-of-type {\n",
              "        vertical-align: middle;\n",
              "    }\n",
              "\n",
              "    .dataframe tbody tr th {\n",
              "        vertical-align: top;\n",
              "    }\n",
              "\n",
              "    .dataframe thead th {\n",
              "        text-align: right;\n",
              "    }\n",
              "</style>\n",
              "<table border=\"1\" class=\"dataframe\">\n",
              "  <thead>\n",
              "    <tr style=\"text-align: right;\">\n",
              "      <th></th>\n",
              "      <th>Date</th>\n",
              "      <th>Time</th>\n",
              "    </tr>\n",
              "  </thead>\n",
              "  <tbody>\n",
              "    <tr>\n",
              "      <th>0</th>\n",
              "      <td>2020-01-30</td>\n",
              "      <td>6:00 PM</td>\n",
              "    </tr>\n",
              "    <tr>\n",
              "      <th>1</th>\n",
              "      <td>2020-01-31</td>\n",
              "      <td>6:00 PM</td>\n",
              "    </tr>\n",
              "    <tr>\n",
              "      <th>2</th>\n",
              "      <td>2020-02-01</td>\n",
              "      <td>6:00 PM</td>\n",
              "    </tr>\n",
              "    <tr>\n",
              "      <th>3</th>\n",
              "      <td>2020-02-02</td>\n",
              "      <td>6:00 PM</td>\n",
              "    </tr>\n",
              "    <tr>\n",
              "      <th>4</th>\n",
              "      <td>2020-02-03</td>\n",
              "      <td>6:00 PM</td>\n",
              "    </tr>\n",
              "    <tr>\n",
              "      <th>5</th>\n",
              "      <td>2020-02-04</td>\n",
              "      <td>6:00 PM</td>\n",
              "    </tr>\n",
              "    <tr>\n",
              "      <th>6</th>\n",
              "      <td>2020-02-05</td>\n",
              "      <td>6:00 PM</td>\n",
              "    </tr>\n",
              "    <tr>\n",
              "      <th>7</th>\n",
              "      <td>2020-02-06</td>\n",
              "      <td>6:00 PM</td>\n",
              "    </tr>\n",
              "    <tr>\n",
              "      <th>8</th>\n",
              "      <td>2020-02-07</td>\n",
              "      <td>6:00 PM</td>\n",
              "    </tr>\n",
              "    <tr>\n",
              "      <th>9</th>\n",
              "      <td>2020-02-08</td>\n",
              "      <td>6:00 PM</td>\n",
              "    </tr>\n",
              "  </tbody>\n",
              "</table>\n",
              "</div>"
            ],
            "text/plain": [
              "         Date     Time\n",
              "0  2020-01-30  6:00 PM\n",
              "1  2020-01-31  6:00 PM\n",
              "2  2020-02-01  6:00 PM\n",
              "3  2020-02-02  6:00 PM\n",
              "4  2020-02-03  6:00 PM\n",
              "5  2020-02-04  6:00 PM\n",
              "6  2020-02-05  6:00 PM\n",
              "7  2020-02-06  6:00 PM\n",
              "8  2020-02-07  6:00 PM\n",
              "9  2020-02-08  6:00 PM"
            ]
          },
          "metadata": {},
          "execution_count": 36
        }
      ]
    },
    {
      "cell_type": "code",
      "metadata": {
        "colab": {
          "base_uri": "https://localhost:8080/"
        },
        "id": "1ETMLJNbWnoy",
        "outputId": "4c3991c0-0853-4877-e89d-7ab4b0c9629b"
      },
      "source": [
        "#items()\n",
        "for date, time in df.items():\n",
        "  print(date)\n",
        "  print(time)"
      ],
      "execution_count": null,
      "outputs": [
        {
          "output_type": "stream",
          "name": "stdout",
          "text": [
            "Date\n",
            "0    2020-01-30\n",
            "1    2020-01-31\n",
            "2    2020-02-01\n",
            "3    2020-02-02\n",
            "4    2020-02-03\n",
            "5    2020-02-04\n",
            "6    2020-02-05\n",
            "7    2020-02-06\n",
            "8    2020-02-07\n",
            "9    2020-02-08\n",
            "Name: Date, dtype: object\n",
            "Time\n",
            "0    6:00 PM\n",
            "1    6:00 PM\n",
            "2    6:00 PM\n",
            "3    6:00 PM\n",
            "4    6:00 PM\n",
            "5    6:00 PM\n",
            "6    6:00 PM\n",
            "7    6:00 PM\n",
            "8    6:00 PM\n",
            "9    6:00 PM\n",
            "Name: Time, dtype: object\n"
          ]
        }
      ]
    },
    {
      "cell_type": "code",
      "metadata": {
        "colab": {
          "base_uri": "https://localhost:8080/"
        },
        "id": "whJh54kcYSrR",
        "outputId": "26224ca6-6d92-45d6-eaad-f38acddb341d"
      },
      "source": [
        "#iteritems()\n",
        "for date, time in df.iteritems():\n",
        "  print(date)\n",
        "  print(time)"
      ],
      "execution_count": null,
      "outputs": [
        {
          "output_type": "stream",
          "name": "stdout",
          "text": [
            "Date\n",
            "0    2020-01-30\n",
            "1    2020-01-31\n",
            "2    2020-02-01\n",
            "3    2020-02-02\n",
            "4    2020-02-03\n",
            "5    2020-02-04\n",
            "6    2020-02-05\n",
            "7    2020-02-06\n",
            "8    2020-02-07\n",
            "9    2020-02-08\n",
            "Name: Date, dtype: object\n",
            "Time\n",
            "0    6:00 PM\n",
            "1    6:00 PM\n",
            "2    6:00 PM\n",
            "3    6:00 PM\n",
            "4    6:00 PM\n",
            "5    6:00 PM\n",
            "6    6:00 PM\n",
            "7    6:00 PM\n",
            "8    6:00 PM\n",
            "9    6:00 PM\n",
            "Name: Time, dtype: object\n"
          ]
        }
      ]
    },
    {
      "cell_type": "code",
      "metadata": {
        "colab": {
          "base_uri": "https://localhost:8080/"
        },
        "id": "fp5hqm3zZe3C",
        "outputId": "65f7e79b-4b1e-4788-83a0-9e0de9dfc505"
      },
      "source": [
        "#iterrows()\n",
        "for date, time in df.iterrows():\n",
        "  print(date)\n",
        "  print(time)"
      ],
      "execution_count": null,
      "outputs": [
        {
          "output_type": "stream",
          "name": "stdout",
          "text": [
            "0\n",
            "Date    2020-01-30\n",
            "Time       6:00 PM\n",
            "Name: 0, dtype: object\n",
            "1\n",
            "Date    2020-01-31\n",
            "Time       6:00 PM\n",
            "Name: 1, dtype: object\n",
            "2\n",
            "Date    2020-02-01\n",
            "Time       6:00 PM\n",
            "Name: 2, dtype: object\n",
            "3\n",
            "Date    2020-02-02\n",
            "Time       6:00 PM\n",
            "Name: 3, dtype: object\n",
            "4\n",
            "Date    2020-02-03\n",
            "Time       6:00 PM\n",
            "Name: 4, dtype: object\n",
            "5\n",
            "Date    2020-02-04\n",
            "Time       6:00 PM\n",
            "Name: 5, dtype: object\n",
            "6\n",
            "Date    2020-02-05\n",
            "Time       6:00 PM\n",
            "Name: 6, dtype: object\n",
            "7\n",
            "Date    2020-02-06\n",
            "Time       6:00 PM\n",
            "Name: 7, dtype: object\n",
            "8\n",
            "Date    2020-02-07\n",
            "Time       6:00 PM\n",
            "Name: 8, dtype: object\n",
            "9\n",
            "Date    2020-02-08\n",
            "Time       6:00 PM\n",
            "Name: 9, dtype: object\n"
          ]
        }
      ]
    },
    {
      "cell_type": "code",
      "metadata": {
        "colab": {
          "base_uri": "https://localhost:8080/"
        },
        "id": "ra38JQlTaE2L",
        "outputId": "2fc0fe0f-365e-49c9-d659-cc24b811a297"
      },
      "source": [
        "#itertuples()\n",
        "for row in df.itertuples():\n",
        "  print(row)"
      ],
      "execution_count": null,
      "outputs": [
        {
          "output_type": "stream",
          "name": "stdout",
          "text": [
            "Pandas(Index=0, Date='2020-01-30', Time='6:00 PM')\n",
            "Pandas(Index=1, Date='2020-01-31', Time='6:00 PM')\n",
            "Pandas(Index=2, Date='2020-02-01', Time='6:00 PM')\n",
            "Pandas(Index=3, Date='2020-02-02', Time='6:00 PM')\n",
            "Pandas(Index=4, Date='2020-02-03', Time='6:00 PM')\n",
            "Pandas(Index=5, Date='2020-02-04', Time='6:00 PM')\n",
            "Pandas(Index=6, Date='2020-02-05', Time='6:00 PM')\n",
            "Pandas(Index=7, Date='2020-02-06', Time='6:00 PM')\n",
            "Pandas(Index=8, Date='2020-02-07', Time='6:00 PM')\n",
            "Pandas(Index=9, Date='2020-02-08', Time='6:00 PM')\n"
          ]
        }
      ]
    },
    {
      "cell_type": "code",
      "metadata": {
        "colab": {
          "base_uri": "https://localhost:8080/"
        },
        "id": "dZVx80TdaK-L",
        "outputId": "7b7fe036-166b-4a82-b803-fe82d0d7b16a"
      },
      "source": [
        "for row in df.itertuples():\n",
        "  print(row.Date, row.Time)"
      ],
      "execution_count": null,
      "outputs": [
        {
          "output_type": "stream",
          "name": "stdout",
          "text": [
            "2020-01-30 6:00 PM\n",
            "2020-01-31 6:00 PM\n",
            "2020-02-01 6:00 PM\n",
            "2020-02-02 6:00 PM\n",
            "2020-02-03 6:00 PM\n",
            "2020-02-04 6:00 PM\n",
            "2020-02-05 6:00 PM\n",
            "2020-02-06 6:00 PM\n",
            "2020-02-07 6:00 PM\n",
            "2020-02-08 6:00 PM\n"
          ]
        }
      ]
    },
    {
      "cell_type": "code",
      "metadata": {
        "id": "q4UKMh8pzyOG"
      },
      "source": [
        "for i in df.index.values: #i - значение индексов\n",
        "for i in range(len(df)): #i - просто какое-то число"
      ],
      "execution_count": null,
      "outputs": []
    },
    {
      "cell_type": "markdown",
      "metadata": {
        "id": "nwLRrxFxdjxa"
      },
      "source": [
        "#### Еще одно удаление столбца"
      ]
    },
    {
      "cell_type": "markdown",
      "metadata": {
        "id": "wum8uK4-bpAZ"
      },
      "source": [
        "`pop()` удаляет столбец из датафрейма и возвращает его (как и всегда делает `pop`)."
      ]
    },
    {
      "cell_type": "code",
      "metadata": {
        "colab": {
          "base_uri": "https://localhost:8080/",
          "height": 560
        },
        "id": "ousSeVyhY40G",
        "outputId": "6b8b9954-75f1-4610-9857-06e4567cd388"
      },
      "source": [
        "dropped = df.pop(\"Time\")\n",
        "print(dropped)\n",
        "df"
      ],
      "execution_count": null,
      "outputs": [
        {
          "output_type": "stream",
          "name": "stdout",
          "text": [
            "0    6:00 PM\n",
            "1    6:00 PM\n",
            "2    6:00 PM\n",
            "3    6:00 PM\n",
            "4    6:00 PM\n",
            "5    6:00 PM\n",
            "6    6:00 PM\n",
            "7    6:00 PM\n",
            "8    6:00 PM\n",
            "9    6:00 PM\n",
            "Name: Time, dtype: object\n"
          ]
        },
        {
          "output_type": "execute_result",
          "data": {
            "text/html": [
              "<div>\n",
              "<style scoped>\n",
              "    .dataframe tbody tr th:only-of-type {\n",
              "        vertical-align: middle;\n",
              "    }\n",
              "\n",
              "    .dataframe tbody tr th {\n",
              "        vertical-align: top;\n",
              "    }\n",
              "\n",
              "    .dataframe thead th {\n",
              "        text-align: right;\n",
              "    }\n",
              "</style>\n",
              "<table border=\"1\" class=\"dataframe\">\n",
              "  <thead>\n",
              "    <tr style=\"text-align: right;\">\n",
              "      <th></th>\n",
              "      <th>Date</th>\n",
              "    </tr>\n",
              "  </thead>\n",
              "  <tbody>\n",
              "    <tr>\n",
              "      <th>0</th>\n",
              "      <td>2020-01-30</td>\n",
              "    </tr>\n",
              "    <tr>\n",
              "      <th>1</th>\n",
              "      <td>2020-01-31</td>\n",
              "    </tr>\n",
              "    <tr>\n",
              "      <th>2</th>\n",
              "      <td>2020-02-01</td>\n",
              "    </tr>\n",
              "    <tr>\n",
              "      <th>3</th>\n",
              "      <td>2020-02-02</td>\n",
              "    </tr>\n",
              "    <tr>\n",
              "      <th>4</th>\n",
              "      <td>2020-02-03</td>\n",
              "    </tr>\n",
              "    <tr>\n",
              "      <th>5</th>\n",
              "      <td>2020-02-04</td>\n",
              "    </tr>\n",
              "    <tr>\n",
              "      <th>6</th>\n",
              "      <td>2020-02-05</td>\n",
              "    </tr>\n",
              "    <tr>\n",
              "      <th>7</th>\n",
              "      <td>2020-02-06</td>\n",
              "    </tr>\n",
              "    <tr>\n",
              "      <th>8</th>\n",
              "      <td>2020-02-07</td>\n",
              "    </tr>\n",
              "    <tr>\n",
              "      <th>9</th>\n",
              "      <td>2020-02-08</td>\n",
              "    </tr>\n",
              "  </tbody>\n",
              "</table>\n",
              "</div>"
            ],
            "text/plain": [
              "         Date\n",
              "0  2020-01-30\n",
              "1  2020-01-31\n",
              "2  2020-02-01\n",
              "3  2020-02-02\n",
              "4  2020-02-03\n",
              "5  2020-02-04\n",
              "6  2020-02-05\n",
              "7  2020-02-06\n",
              "8  2020-02-07\n",
              "9  2020-02-08"
            ]
          },
          "metadata": {},
          "execution_count": 42
        }
      ]
    },
    {
      "cell_type": "markdown",
      "metadata": {
        "id": "6mgoYQxtdqBp"
      },
      "source": [
        "#### Мультииндексы"
      ]
    },
    {
      "cell_type": "markdown",
      "metadata": {
        "id": "zd8CnR3EdtPs"
      },
      "source": [
        "Для начала из таблицы `states` создадим датафрейм с мультииндексами, сгруппировав информацию по регионам и датам."
      ]
    },
    {
      "cell_type": "code",
      "metadata": {
        "colab": {
          "base_uri": "https://localhost:8080/",
          "height": 310
        },
        "id": "TpA1piO7ZTmO",
        "outputId": "9538f169-0123-4f9b-a323-3f91939abc58"
      },
      "source": [
        "states_grouped = pd.DataFrame(states.set_index([\"State\", \"Updated On\"]))\n",
        "states_grouped.head()"
      ],
      "execution_count": null,
      "outputs": [
        {
          "output_type": "execute_result",
          "data": {
            "text/html": [
              "<div>\n",
              "<style scoped>\n",
              "    .dataframe tbody tr th:only-of-type {\n",
              "        vertical-align: middle;\n",
              "    }\n",
              "\n",
              "    .dataframe tbody tr th {\n",
              "        vertical-align: top;\n",
              "    }\n",
              "\n",
              "    .dataframe thead th {\n",
              "        text-align: right;\n",
              "    }\n",
              "</style>\n",
              "<table border=\"1\" class=\"dataframe\">\n",
              "  <thead>\n",
              "    <tr style=\"text-align: right;\">\n",
              "      <th></th>\n",
              "      <th></th>\n",
              "      <th>Total Doses Administered</th>\n",
              "      <th>Sessions</th>\n",
              "      <th>Sites</th>\n",
              "      <th>First Dose Administered</th>\n",
              "      <th>Second Dose Administered</th>\n",
              "      <th>Male (Doses Administered)</th>\n",
              "      <th>Female (Doses Administered)</th>\n",
              "      <th>Transgender (Doses Administered)</th>\n",
              "      <th>Covaxin (Doses Administered)</th>\n",
              "      <th>CoviShield (Doses Administered)</th>\n",
              "      <th>Sputnik V (Doses Administered)</th>\n",
              "      <th>AEFI</th>\n",
              "      <th>18-44 Years (Doses Administered)</th>\n",
              "      <th>45-60 Years (Doses Administered)</th>\n",
              "      <th>60+ Years (Doses Administered)</th>\n",
              "      <th>18-44 Years(Individuals Vaccinated)</th>\n",
              "      <th>45-60 Years(Individuals Vaccinated)</th>\n",
              "      <th>60+ Years(Individuals Vaccinated)</th>\n",
              "      <th>Male(Individuals Vaccinated)</th>\n",
              "      <th>Female(Individuals Vaccinated)</th>\n",
              "      <th>Transgender(Individuals Vaccinated)</th>\n",
              "      <th>Total Individuals Vaccinated</th>\n",
              "    </tr>\n",
              "    <tr>\n",
              "      <th>State</th>\n",
              "      <th>Updated On</th>\n",
              "      <th></th>\n",
              "      <th></th>\n",
              "      <th></th>\n",
              "      <th></th>\n",
              "      <th></th>\n",
              "      <th></th>\n",
              "      <th></th>\n",
              "      <th></th>\n",
              "      <th></th>\n",
              "      <th></th>\n",
              "      <th></th>\n",
              "      <th></th>\n",
              "      <th></th>\n",
              "      <th></th>\n",
              "      <th></th>\n",
              "      <th></th>\n",
              "      <th></th>\n",
              "      <th></th>\n",
              "      <th></th>\n",
              "      <th></th>\n",
              "      <th></th>\n",
              "      <th></th>\n",
              "    </tr>\n",
              "  </thead>\n",
              "  <tbody>\n",
              "    <tr>\n",
              "      <th rowspan=\"5\" valign=\"top\">India</th>\n",
              "      <th>16/01/2021</th>\n",
              "      <td>48276.0</td>\n",
              "      <td>3455.0</td>\n",
              "      <td>2957.0</td>\n",
              "      <td>48276.0</td>\n",
              "      <td>0.0</td>\n",
              "      <td>NaN</td>\n",
              "      <td>NaN</td>\n",
              "      <td>NaN</td>\n",
              "      <td>579.0</td>\n",
              "      <td>47697.0</td>\n",
              "      <td>NaN</td>\n",
              "      <td>NaN</td>\n",
              "      <td>NaN</td>\n",
              "      <td>NaN</td>\n",
              "      <td>NaN</td>\n",
              "      <td>NaN</td>\n",
              "      <td>NaN</td>\n",
              "      <td>NaN</td>\n",
              "      <td>23757.0</td>\n",
              "      <td>24517.0</td>\n",
              "      <td>2.0</td>\n",
              "      <td>48276.0</td>\n",
              "    </tr>\n",
              "    <tr>\n",
              "      <th>17/01/2021</th>\n",
              "      <td>58604.0</td>\n",
              "      <td>8532.0</td>\n",
              "      <td>4954.0</td>\n",
              "      <td>58604.0</td>\n",
              "      <td>0.0</td>\n",
              "      <td>NaN</td>\n",
              "      <td>NaN</td>\n",
              "      <td>NaN</td>\n",
              "      <td>635.0</td>\n",
              "      <td>57969.0</td>\n",
              "      <td>NaN</td>\n",
              "      <td>NaN</td>\n",
              "      <td>NaN</td>\n",
              "      <td>NaN</td>\n",
              "      <td>NaN</td>\n",
              "      <td>NaN</td>\n",
              "      <td>NaN</td>\n",
              "      <td>NaN</td>\n",
              "      <td>27348.0</td>\n",
              "      <td>31252.0</td>\n",
              "      <td>4.0</td>\n",
              "      <td>58604.0</td>\n",
              "    </tr>\n",
              "    <tr>\n",
              "      <th>18/01/2021</th>\n",
              "      <td>99449.0</td>\n",
              "      <td>13611.0</td>\n",
              "      <td>6583.0</td>\n",
              "      <td>99449.0</td>\n",
              "      <td>0.0</td>\n",
              "      <td>NaN</td>\n",
              "      <td>NaN</td>\n",
              "      <td>NaN</td>\n",
              "      <td>1299.0</td>\n",
              "      <td>98150.0</td>\n",
              "      <td>NaN</td>\n",
              "      <td>NaN</td>\n",
              "      <td>NaN</td>\n",
              "      <td>NaN</td>\n",
              "      <td>NaN</td>\n",
              "      <td>NaN</td>\n",
              "      <td>NaN</td>\n",
              "      <td>NaN</td>\n",
              "      <td>41361.0</td>\n",
              "      <td>58083.0</td>\n",
              "      <td>5.0</td>\n",
              "      <td>99449.0</td>\n",
              "    </tr>\n",
              "    <tr>\n",
              "      <th>19/01/2021</th>\n",
              "      <td>195525.0</td>\n",
              "      <td>17855.0</td>\n",
              "      <td>7951.0</td>\n",
              "      <td>195525.0</td>\n",
              "      <td>0.0</td>\n",
              "      <td>NaN</td>\n",
              "      <td>NaN</td>\n",
              "      <td>NaN</td>\n",
              "      <td>3017.0</td>\n",
              "      <td>192508.0</td>\n",
              "      <td>NaN</td>\n",
              "      <td>NaN</td>\n",
              "      <td>NaN</td>\n",
              "      <td>NaN</td>\n",
              "      <td>NaN</td>\n",
              "      <td>NaN</td>\n",
              "      <td>NaN</td>\n",
              "      <td>NaN</td>\n",
              "      <td>81901.0</td>\n",
              "      <td>113613.0</td>\n",
              "      <td>11.0</td>\n",
              "      <td>195525.0</td>\n",
              "    </tr>\n",
              "    <tr>\n",
              "      <th>20/01/2021</th>\n",
              "      <td>251280.0</td>\n",
              "      <td>25472.0</td>\n",
              "      <td>10504.0</td>\n",
              "      <td>251280.0</td>\n",
              "      <td>0.0</td>\n",
              "      <td>NaN</td>\n",
              "      <td>NaN</td>\n",
              "      <td>NaN</td>\n",
              "      <td>3946.0</td>\n",
              "      <td>247334.0</td>\n",
              "      <td>NaN</td>\n",
              "      <td>NaN</td>\n",
              "      <td>NaN</td>\n",
              "      <td>NaN</td>\n",
              "      <td>NaN</td>\n",
              "      <td>NaN</td>\n",
              "      <td>NaN</td>\n",
              "      <td>NaN</td>\n",
              "      <td>98111.0</td>\n",
              "      <td>153145.0</td>\n",
              "      <td>24.0</td>\n",
              "      <td>251280.0</td>\n",
              "    </tr>\n",
              "  </tbody>\n",
              "</table>\n",
              "</div>"
            ],
            "text/plain": [
              "                  Total Doses Administered  ...  Total Individuals Vaccinated\n",
              "State Updated On                            ...                              \n",
              "India 16/01/2021                   48276.0  ...                       48276.0\n",
              "      17/01/2021                   58604.0  ...                       58604.0\n",
              "      18/01/2021                   99449.0  ...                       99449.0\n",
              "      19/01/2021                  195525.0  ...                      195525.0\n",
              "      20/01/2021                  251280.0  ...                      251280.0\n",
              "\n",
              "[5 rows x 22 columns]"
            ]
          },
          "metadata": {},
          "execution_count": 43
        }
      ]
    },
    {
      "cell_type": "markdown",
      "metadata": {
        "id": "zAdptjaZeKIS"
      },
      "source": [
        "Методом `xs()` можно брать данные по одному или нескольким внешним индексам."
      ]
    },
    {
      "cell_type": "code",
      "metadata": {
        "colab": {
          "base_uri": "https://localhost:8080/",
          "height": 527
        },
        "id": "VIDTNi9WefMF",
        "outputId": "33948bf2-1023-443c-9788-48c877f65848"
      },
      "source": [
        "states_grouped.xs(key=\"Goa\")"
      ],
      "execution_count": null,
      "outputs": [
        {
          "output_type": "execute_result",
          "data": {
            "text/html": [
              "<div>\n",
              "<style scoped>\n",
              "    .dataframe tbody tr th:only-of-type {\n",
              "        vertical-align: middle;\n",
              "    }\n",
              "\n",
              "    .dataframe tbody tr th {\n",
              "        vertical-align: top;\n",
              "    }\n",
              "\n",
              "    .dataframe thead th {\n",
              "        text-align: right;\n",
              "    }\n",
              "</style>\n",
              "<table border=\"1\" class=\"dataframe\">\n",
              "  <thead>\n",
              "    <tr style=\"text-align: right;\">\n",
              "      <th></th>\n",
              "      <th>Total Doses Administered</th>\n",
              "      <th>Sessions</th>\n",
              "      <th>Sites</th>\n",
              "      <th>First Dose Administered</th>\n",
              "      <th>Second Dose Administered</th>\n",
              "      <th>Male (Doses Administered)</th>\n",
              "      <th>Female (Doses Administered)</th>\n",
              "      <th>Transgender (Doses Administered)</th>\n",
              "      <th>Covaxin (Doses Administered)</th>\n",
              "      <th>CoviShield (Doses Administered)</th>\n",
              "      <th>Sputnik V (Doses Administered)</th>\n",
              "      <th>AEFI</th>\n",
              "      <th>18-44 Years (Doses Administered)</th>\n",
              "      <th>45-60 Years (Doses Administered)</th>\n",
              "      <th>60+ Years (Doses Administered)</th>\n",
              "      <th>18-44 Years(Individuals Vaccinated)</th>\n",
              "      <th>45-60 Years(Individuals Vaccinated)</th>\n",
              "      <th>60+ Years(Individuals Vaccinated)</th>\n",
              "      <th>Male(Individuals Vaccinated)</th>\n",
              "      <th>Female(Individuals Vaccinated)</th>\n",
              "      <th>Transgender(Individuals Vaccinated)</th>\n",
              "      <th>Total Individuals Vaccinated</th>\n",
              "    </tr>\n",
              "    <tr>\n",
              "      <th>Updated On</th>\n",
              "      <th></th>\n",
              "      <th></th>\n",
              "      <th></th>\n",
              "      <th></th>\n",
              "      <th></th>\n",
              "      <th></th>\n",
              "      <th></th>\n",
              "      <th></th>\n",
              "      <th></th>\n",
              "      <th></th>\n",
              "      <th></th>\n",
              "      <th></th>\n",
              "      <th></th>\n",
              "      <th></th>\n",
              "      <th></th>\n",
              "      <th></th>\n",
              "      <th></th>\n",
              "      <th></th>\n",
              "      <th></th>\n",
              "      <th></th>\n",
              "      <th></th>\n",
              "      <th></th>\n",
              "    </tr>\n",
              "  </thead>\n",
              "  <tbody>\n",
              "    <tr>\n",
              "      <th>16/01/2021</th>\n",
              "      <td>50.0</td>\n",
              "      <td>7.0</td>\n",
              "      <td>7.0</td>\n",
              "      <td>50.0</td>\n",
              "      <td>0.0</td>\n",
              "      <td>16.0</td>\n",
              "      <td>34.0</td>\n",
              "      <td>0.0</td>\n",
              "      <td>0.0</td>\n",
              "      <td>50.0</td>\n",
              "      <td>NaN</td>\n",
              "      <td>NaN</td>\n",
              "      <td>NaN</td>\n",
              "      <td>NaN</td>\n",
              "      <td>NaN</td>\n",
              "      <td>NaN</td>\n",
              "      <td>NaN</td>\n",
              "      <td>NaN</td>\n",
              "      <td>NaN</td>\n",
              "      <td>NaN</td>\n",
              "      <td>NaN</td>\n",
              "      <td>50.0</td>\n",
              "    </tr>\n",
              "    <tr>\n",
              "      <th>17/01/2021</th>\n",
              "      <td>50.0</td>\n",
              "      <td>10.0</td>\n",
              "      <td>7.0</td>\n",
              "      <td>50.0</td>\n",
              "      <td>0.0</td>\n",
              "      <td>16.0</td>\n",
              "      <td>34.0</td>\n",
              "      <td>0.0</td>\n",
              "      <td>0.0</td>\n",
              "      <td>50.0</td>\n",
              "      <td>NaN</td>\n",
              "      <td>NaN</td>\n",
              "      <td>NaN</td>\n",
              "      <td>NaN</td>\n",
              "      <td>NaN</td>\n",
              "      <td>NaN</td>\n",
              "      <td>NaN</td>\n",
              "      <td>NaN</td>\n",
              "      <td>NaN</td>\n",
              "      <td>NaN</td>\n",
              "      <td>NaN</td>\n",
              "      <td>50.0</td>\n",
              "    </tr>\n",
              "    <tr>\n",
              "      <th>18/01/2021</th>\n",
              "      <td>47.0</td>\n",
              "      <td>20.0</td>\n",
              "      <td>8.0</td>\n",
              "      <td>47.0</td>\n",
              "      <td>0.0</td>\n",
              "      <td>20.0</td>\n",
              "      <td>27.0</td>\n",
              "      <td>0.0</td>\n",
              "      <td>0.0</td>\n",
              "      <td>47.0</td>\n",
              "      <td>NaN</td>\n",
              "      <td>NaN</td>\n",
              "      <td>NaN</td>\n",
              "      <td>NaN</td>\n",
              "      <td>NaN</td>\n",
              "      <td>NaN</td>\n",
              "      <td>NaN</td>\n",
              "      <td>NaN</td>\n",
              "      <td>NaN</td>\n",
              "      <td>NaN</td>\n",
              "      <td>NaN</td>\n",
              "      <td>47.0</td>\n",
              "    </tr>\n",
              "    <tr>\n",
              "      <th>19/01/2021</th>\n",
              "      <td>72.0</td>\n",
              "      <td>32.0</td>\n",
              "      <td>15.0</td>\n",
              "      <td>72.0</td>\n",
              "      <td>0.0</td>\n",
              "      <td>26.0</td>\n",
              "      <td>46.0</td>\n",
              "      <td>0.0</td>\n",
              "      <td>0.0</td>\n",
              "      <td>72.0</td>\n",
              "      <td>NaN</td>\n",
              "      <td>NaN</td>\n",
              "      <td>NaN</td>\n",
              "      <td>NaN</td>\n",
              "      <td>NaN</td>\n",
              "      <td>NaN</td>\n",
              "      <td>NaN</td>\n",
              "      <td>NaN</td>\n",
              "      <td>NaN</td>\n",
              "      <td>NaN</td>\n",
              "      <td>NaN</td>\n",
              "      <td>72.0</td>\n",
              "    </tr>\n",
              "    <tr>\n",
              "      <th>20/01/2021</th>\n",
              "      <td>72.0</td>\n",
              "      <td>38.0</td>\n",
              "      <td>20.0</td>\n",
              "      <td>72.0</td>\n",
              "      <td>0.0</td>\n",
              "      <td>26.0</td>\n",
              "      <td>46.0</td>\n",
              "      <td>0.0</td>\n",
              "      <td>0.0</td>\n",
              "      <td>72.0</td>\n",
              "      <td>NaN</td>\n",
              "      <td>NaN</td>\n",
              "      <td>NaN</td>\n",
              "      <td>NaN</td>\n",
              "      <td>NaN</td>\n",
              "      <td>NaN</td>\n",
              "      <td>NaN</td>\n",
              "      <td>NaN</td>\n",
              "      <td>NaN</td>\n",
              "      <td>NaN</td>\n",
              "      <td>NaN</td>\n",
              "      <td>72.0</td>\n",
              "    </tr>\n",
              "    <tr>\n",
              "      <th>...</th>\n",
              "      <td>...</td>\n",
              "      <td>...</td>\n",
              "      <td>...</td>\n",
              "      <td>...</td>\n",
              "      <td>...</td>\n",
              "      <td>...</td>\n",
              "      <td>...</td>\n",
              "      <td>...</td>\n",
              "      <td>...</td>\n",
              "      <td>...</td>\n",
              "      <td>...</td>\n",
              "      <td>...</td>\n",
              "      <td>...</td>\n",
              "      <td>...</td>\n",
              "      <td>...</td>\n",
              "      <td>...</td>\n",
              "      <td>...</td>\n",
              "      <td>...</td>\n",
              "      <td>...</td>\n",
              "      <td>...</td>\n",
              "      <td>...</td>\n",
              "      <td>...</td>\n",
              "    </tr>\n",
              "    <tr>\n",
              "      <th>11/08/2021</th>\n",
              "      <td>NaN</td>\n",
              "      <td>NaN</td>\n",
              "      <td>NaN</td>\n",
              "      <td>NaN</td>\n",
              "      <td>NaN</td>\n",
              "      <td>NaN</td>\n",
              "      <td>NaN</td>\n",
              "      <td>NaN</td>\n",
              "      <td>NaN</td>\n",
              "      <td>NaN</td>\n",
              "      <td>NaN</td>\n",
              "      <td>NaN</td>\n",
              "      <td>NaN</td>\n",
              "      <td>NaN</td>\n",
              "      <td>NaN</td>\n",
              "      <td>NaN</td>\n",
              "      <td>NaN</td>\n",
              "      <td>NaN</td>\n",
              "      <td>NaN</td>\n",
              "      <td>NaN</td>\n",
              "      <td>NaN</td>\n",
              "      <td>NaN</td>\n",
              "    </tr>\n",
              "    <tr>\n",
              "      <th>12/08/2021</th>\n",
              "      <td>NaN</td>\n",
              "      <td>NaN</td>\n",
              "      <td>NaN</td>\n",
              "      <td>NaN</td>\n",
              "      <td>NaN</td>\n",
              "      <td>NaN</td>\n",
              "      <td>NaN</td>\n",
              "      <td>NaN</td>\n",
              "      <td>NaN</td>\n",
              "      <td>NaN</td>\n",
              "      <td>NaN</td>\n",
              "      <td>NaN</td>\n",
              "      <td>NaN</td>\n",
              "      <td>NaN</td>\n",
              "      <td>NaN</td>\n",
              "      <td>NaN</td>\n",
              "      <td>NaN</td>\n",
              "      <td>NaN</td>\n",
              "      <td>NaN</td>\n",
              "      <td>NaN</td>\n",
              "      <td>NaN</td>\n",
              "      <td>NaN</td>\n",
              "    </tr>\n",
              "    <tr>\n",
              "      <th>13/08/2021</th>\n",
              "      <td>NaN</td>\n",
              "      <td>NaN</td>\n",
              "      <td>NaN</td>\n",
              "      <td>NaN</td>\n",
              "      <td>NaN</td>\n",
              "      <td>NaN</td>\n",
              "      <td>NaN</td>\n",
              "      <td>NaN</td>\n",
              "      <td>NaN</td>\n",
              "      <td>NaN</td>\n",
              "      <td>NaN</td>\n",
              "      <td>NaN</td>\n",
              "      <td>NaN</td>\n",
              "      <td>NaN</td>\n",
              "      <td>NaN</td>\n",
              "      <td>NaN</td>\n",
              "      <td>NaN</td>\n",
              "      <td>NaN</td>\n",
              "      <td>NaN</td>\n",
              "      <td>NaN</td>\n",
              "      <td>NaN</td>\n",
              "      <td>NaN</td>\n",
              "    </tr>\n",
              "    <tr>\n",
              "      <th>14/08/2021</th>\n",
              "      <td>NaN</td>\n",
              "      <td>NaN</td>\n",
              "      <td>NaN</td>\n",
              "      <td>NaN</td>\n",
              "      <td>NaN</td>\n",
              "      <td>NaN</td>\n",
              "      <td>NaN</td>\n",
              "      <td>NaN</td>\n",
              "      <td>NaN</td>\n",
              "      <td>NaN</td>\n",
              "      <td>NaN</td>\n",
              "      <td>NaN</td>\n",
              "      <td>NaN</td>\n",
              "      <td>NaN</td>\n",
              "      <td>NaN</td>\n",
              "      <td>NaN</td>\n",
              "      <td>NaN</td>\n",
              "      <td>NaN</td>\n",
              "      <td>NaN</td>\n",
              "      <td>NaN</td>\n",
              "      <td>NaN</td>\n",
              "      <td>NaN</td>\n",
              "    </tr>\n",
              "    <tr>\n",
              "      <th>15/08/2021</th>\n",
              "      <td>NaN</td>\n",
              "      <td>NaN</td>\n",
              "      <td>NaN</td>\n",
              "      <td>NaN</td>\n",
              "      <td>NaN</td>\n",
              "      <td>NaN</td>\n",
              "      <td>NaN</td>\n",
              "      <td>NaN</td>\n",
              "      <td>NaN</td>\n",
              "      <td>NaN</td>\n",
              "      <td>NaN</td>\n",
              "      <td>NaN</td>\n",
              "      <td>NaN</td>\n",
              "      <td>NaN</td>\n",
              "      <td>NaN</td>\n",
              "      <td>NaN</td>\n",
              "      <td>NaN</td>\n",
              "      <td>NaN</td>\n",
              "      <td>NaN</td>\n",
              "      <td>NaN</td>\n",
              "      <td>NaN</td>\n",
              "      <td>NaN</td>\n",
              "    </tr>\n",
              "  </tbody>\n",
              "</table>\n",
              "<p>212 rows × 22 columns</p>\n",
              "</div>"
            ],
            "text/plain": [
              "            Total Doses Administered  ...  Total Individuals Vaccinated\n",
              "Updated On                            ...                              \n",
              "16/01/2021                      50.0  ...                          50.0\n",
              "17/01/2021                      50.0  ...                          50.0\n",
              "18/01/2021                      47.0  ...                          47.0\n",
              "19/01/2021                      72.0  ...                          72.0\n",
              "20/01/2021                      72.0  ...                          72.0\n",
              "...                              ...  ...                           ...\n",
              "11/08/2021                       NaN  ...                           NaN\n",
              "12/08/2021                       NaN  ...                           NaN\n",
              "13/08/2021                       NaN  ...                           NaN\n",
              "14/08/2021                       NaN  ...                           NaN\n",
              "15/08/2021                       NaN  ...                           NaN\n",
              "\n",
              "[212 rows x 22 columns]"
            ]
          },
          "metadata": {},
          "execution_count": 44
        }
      ]
    },
    {
      "cell_type": "code",
      "metadata": {
        "colab": {
          "base_uri": "https://localhost:8080/"
        },
        "id": "nFkS3iZRcoah",
        "outputId": "efbd35e0-e2d5-48bf-b38f-ff3b692233be"
      },
      "source": [
        "states_grouped.xs(key=(\"Goa\", \"18/01/2021\"))"
      ],
      "execution_count": null,
      "outputs": [
        {
          "output_type": "execute_result",
          "data": {
            "text/plain": [
              "Total Doses Administered               47.0\n",
              "Sessions                               20.0\n",
              " Sites                                  8.0\n",
              "First Dose Administered                47.0\n",
              "Second Dose Administered                0.0\n",
              "Male (Doses Administered)              20.0\n",
              "Female (Doses Administered)            27.0\n",
              "Transgender (Doses Administered)        0.0\n",
              " Covaxin (Doses Administered)           0.0\n",
              "CoviShield (Doses Administered)        47.0\n",
              "Sputnik V (Doses Administered)          NaN\n",
              "AEFI                                    NaN\n",
              "18-44 Years (Doses Administered)        NaN\n",
              "45-60 Years (Doses Administered)        NaN\n",
              "60+ Years (Doses Administered)          NaN\n",
              "18-44 Years(Individuals Vaccinated)     NaN\n",
              "45-60 Years(Individuals Vaccinated)     NaN\n",
              "60+ Years(Individuals Vaccinated)       NaN\n",
              "Male(Individuals Vaccinated)            NaN\n",
              "Female(Individuals Vaccinated)          NaN\n",
              "Transgender(Individuals Vaccinated)     NaN\n",
              "Total Individuals Vaccinated           47.0\n",
              "Name: (Goa, 18/01/2021), dtype: float64"
            ]
          },
          "metadata": {},
          "execution_count": 45
        }
      ]
    },
    {
      "cell_type": "markdown",
      "metadata": {
        "id": "836HijgqStRt"
      },
      "source": [
        "- `droplevel()` удаляет уровень вложенности"
      ]
    },
    {
      "cell_type": "code",
      "metadata": {
        "colab": {
          "base_uri": "https://localhost:8080/",
          "height": 597
        },
        "id": "fNunUgPZSjp0",
        "outputId": "0db86c78-9c09-48d0-e0e7-321377af8cb9"
      },
      "source": [
        "states_grouped.droplevel(\"Updated On\")"
      ],
      "execution_count": null,
      "outputs": [
        {
          "output_type": "execute_result",
          "data": {
            "text/html": [
              "<div>\n",
              "<style scoped>\n",
              "    .dataframe tbody tr th:only-of-type {\n",
              "        vertical-align: middle;\n",
              "    }\n",
              "\n",
              "    .dataframe tbody tr th {\n",
              "        vertical-align: top;\n",
              "    }\n",
              "\n",
              "    .dataframe thead th {\n",
              "        text-align: right;\n",
              "    }\n",
              "</style>\n",
              "<table border=\"1\" class=\"dataframe\">\n",
              "  <thead>\n",
              "    <tr style=\"text-align: right;\">\n",
              "      <th></th>\n",
              "      <th>Total Doses Administered</th>\n",
              "      <th>Sessions</th>\n",
              "      <th>Sites</th>\n",
              "      <th>First Dose Administered</th>\n",
              "      <th>Second Dose Administered</th>\n",
              "      <th>Male (Doses Administered)</th>\n",
              "      <th>Female (Doses Administered)</th>\n",
              "      <th>Transgender (Doses Administered)</th>\n",
              "      <th>Covaxin (Doses Administered)</th>\n",
              "      <th>CoviShield (Doses Administered)</th>\n",
              "      <th>Sputnik V (Doses Administered)</th>\n",
              "      <th>AEFI</th>\n",
              "      <th>18-44 Years (Doses Administered)</th>\n",
              "      <th>45-60 Years (Doses Administered)</th>\n",
              "      <th>60+ Years (Doses Administered)</th>\n",
              "      <th>18-44 Years(Individuals Vaccinated)</th>\n",
              "      <th>45-60 Years(Individuals Vaccinated)</th>\n",
              "      <th>60+ Years(Individuals Vaccinated)</th>\n",
              "      <th>Male(Individuals Vaccinated)</th>\n",
              "      <th>Female(Individuals Vaccinated)</th>\n",
              "      <th>Transgender(Individuals Vaccinated)</th>\n",
              "      <th>Total Individuals Vaccinated</th>\n",
              "    </tr>\n",
              "    <tr>\n",
              "      <th>State</th>\n",
              "      <th></th>\n",
              "      <th></th>\n",
              "      <th></th>\n",
              "      <th></th>\n",
              "      <th></th>\n",
              "      <th></th>\n",
              "      <th></th>\n",
              "      <th></th>\n",
              "      <th></th>\n",
              "      <th></th>\n",
              "      <th></th>\n",
              "      <th></th>\n",
              "      <th></th>\n",
              "      <th></th>\n",
              "      <th></th>\n",
              "      <th></th>\n",
              "      <th></th>\n",
              "      <th></th>\n",
              "      <th></th>\n",
              "      <th></th>\n",
              "      <th></th>\n",
              "      <th></th>\n",
              "    </tr>\n",
              "  </thead>\n",
              "  <tbody>\n",
              "    <tr>\n",
              "      <th>India</th>\n",
              "      <td>48276.0</td>\n",
              "      <td>3455.0</td>\n",
              "      <td>2957.0</td>\n",
              "      <td>48276.0</td>\n",
              "      <td>0.0</td>\n",
              "      <td>NaN</td>\n",
              "      <td>NaN</td>\n",
              "      <td>NaN</td>\n",
              "      <td>579.0</td>\n",
              "      <td>47697.0</td>\n",
              "      <td>NaN</td>\n",
              "      <td>NaN</td>\n",
              "      <td>NaN</td>\n",
              "      <td>NaN</td>\n",
              "      <td>NaN</td>\n",
              "      <td>NaN</td>\n",
              "      <td>NaN</td>\n",
              "      <td>NaN</td>\n",
              "      <td>23757.0</td>\n",
              "      <td>24517.0</td>\n",
              "      <td>2.0</td>\n",
              "      <td>48276.0</td>\n",
              "    </tr>\n",
              "    <tr>\n",
              "      <th>India</th>\n",
              "      <td>58604.0</td>\n",
              "      <td>8532.0</td>\n",
              "      <td>4954.0</td>\n",
              "      <td>58604.0</td>\n",
              "      <td>0.0</td>\n",
              "      <td>NaN</td>\n",
              "      <td>NaN</td>\n",
              "      <td>NaN</td>\n",
              "      <td>635.0</td>\n",
              "      <td>57969.0</td>\n",
              "      <td>NaN</td>\n",
              "      <td>NaN</td>\n",
              "      <td>NaN</td>\n",
              "      <td>NaN</td>\n",
              "      <td>NaN</td>\n",
              "      <td>NaN</td>\n",
              "      <td>NaN</td>\n",
              "      <td>NaN</td>\n",
              "      <td>27348.0</td>\n",
              "      <td>31252.0</td>\n",
              "      <td>4.0</td>\n",
              "      <td>58604.0</td>\n",
              "    </tr>\n",
              "    <tr>\n",
              "      <th>India</th>\n",
              "      <td>99449.0</td>\n",
              "      <td>13611.0</td>\n",
              "      <td>6583.0</td>\n",
              "      <td>99449.0</td>\n",
              "      <td>0.0</td>\n",
              "      <td>NaN</td>\n",
              "      <td>NaN</td>\n",
              "      <td>NaN</td>\n",
              "      <td>1299.0</td>\n",
              "      <td>98150.0</td>\n",
              "      <td>NaN</td>\n",
              "      <td>NaN</td>\n",
              "      <td>NaN</td>\n",
              "      <td>NaN</td>\n",
              "      <td>NaN</td>\n",
              "      <td>NaN</td>\n",
              "      <td>NaN</td>\n",
              "      <td>NaN</td>\n",
              "      <td>41361.0</td>\n",
              "      <td>58083.0</td>\n",
              "      <td>5.0</td>\n",
              "      <td>99449.0</td>\n",
              "    </tr>\n",
              "    <tr>\n",
              "      <th>India</th>\n",
              "      <td>195525.0</td>\n",
              "      <td>17855.0</td>\n",
              "      <td>7951.0</td>\n",
              "      <td>195525.0</td>\n",
              "      <td>0.0</td>\n",
              "      <td>NaN</td>\n",
              "      <td>NaN</td>\n",
              "      <td>NaN</td>\n",
              "      <td>3017.0</td>\n",
              "      <td>192508.0</td>\n",
              "      <td>NaN</td>\n",
              "      <td>NaN</td>\n",
              "      <td>NaN</td>\n",
              "      <td>NaN</td>\n",
              "      <td>NaN</td>\n",
              "      <td>NaN</td>\n",
              "      <td>NaN</td>\n",
              "      <td>NaN</td>\n",
              "      <td>81901.0</td>\n",
              "      <td>113613.0</td>\n",
              "      <td>11.0</td>\n",
              "      <td>195525.0</td>\n",
              "    </tr>\n",
              "    <tr>\n",
              "      <th>India</th>\n",
              "      <td>251280.0</td>\n",
              "      <td>25472.0</td>\n",
              "      <td>10504.0</td>\n",
              "      <td>251280.0</td>\n",
              "      <td>0.0</td>\n",
              "      <td>NaN</td>\n",
              "      <td>NaN</td>\n",
              "      <td>NaN</td>\n",
              "      <td>3946.0</td>\n",
              "      <td>247334.0</td>\n",
              "      <td>NaN</td>\n",
              "      <td>NaN</td>\n",
              "      <td>NaN</td>\n",
              "      <td>NaN</td>\n",
              "      <td>NaN</td>\n",
              "      <td>NaN</td>\n",
              "      <td>NaN</td>\n",
              "      <td>NaN</td>\n",
              "      <td>98111.0</td>\n",
              "      <td>153145.0</td>\n",
              "      <td>24.0</td>\n",
              "      <td>251280.0</td>\n",
              "    </tr>\n",
              "    <tr>\n",
              "      <th>...</th>\n",
              "      <td>...</td>\n",
              "      <td>...</td>\n",
              "      <td>...</td>\n",
              "      <td>...</td>\n",
              "      <td>...</td>\n",
              "      <td>...</td>\n",
              "      <td>...</td>\n",
              "      <td>...</td>\n",
              "      <td>...</td>\n",
              "      <td>...</td>\n",
              "      <td>...</td>\n",
              "      <td>...</td>\n",
              "      <td>...</td>\n",
              "      <td>...</td>\n",
              "      <td>...</td>\n",
              "      <td>...</td>\n",
              "      <td>...</td>\n",
              "      <td>...</td>\n",
              "      <td>...</td>\n",
              "      <td>...</td>\n",
              "      <td>...</td>\n",
              "      <td>...</td>\n",
              "    </tr>\n",
              "    <tr>\n",
              "      <th>West Bengal</th>\n",
              "      <td>NaN</td>\n",
              "      <td>NaN</td>\n",
              "      <td>NaN</td>\n",
              "      <td>NaN</td>\n",
              "      <td>NaN</td>\n",
              "      <td>NaN</td>\n",
              "      <td>NaN</td>\n",
              "      <td>NaN</td>\n",
              "      <td>NaN</td>\n",
              "      <td>NaN</td>\n",
              "      <td>NaN</td>\n",
              "      <td>NaN</td>\n",
              "      <td>NaN</td>\n",
              "      <td>NaN</td>\n",
              "      <td>NaN</td>\n",
              "      <td>NaN</td>\n",
              "      <td>NaN</td>\n",
              "      <td>NaN</td>\n",
              "      <td>NaN</td>\n",
              "      <td>NaN</td>\n",
              "      <td>NaN</td>\n",
              "      <td>NaN</td>\n",
              "    </tr>\n",
              "    <tr>\n",
              "      <th>West Bengal</th>\n",
              "      <td>NaN</td>\n",
              "      <td>NaN</td>\n",
              "      <td>NaN</td>\n",
              "      <td>NaN</td>\n",
              "      <td>NaN</td>\n",
              "      <td>NaN</td>\n",
              "      <td>NaN</td>\n",
              "      <td>NaN</td>\n",
              "      <td>NaN</td>\n",
              "      <td>NaN</td>\n",
              "      <td>NaN</td>\n",
              "      <td>NaN</td>\n",
              "      <td>NaN</td>\n",
              "      <td>NaN</td>\n",
              "      <td>NaN</td>\n",
              "      <td>NaN</td>\n",
              "      <td>NaN</td>\n",
              "      <td>NaN</td>\n",
              "      <td>NaN</td>\n",
              "      <td>NaN</td>\n",
              "      <td>NaN</td>\n",
              "      <td>NaN</td>\n",
              "    </tr>\n",
              "    <tr>\n",
              "      <th>West Bengal</th>\n",
              "      <td>NaN</td>\n",
              "      <td>NaN</td>\n",
              "      <td>NaN</td>\n",
              "      <td>NaN</td>\n",
              "      <td>NaN</td>\n",
              "      <td>NaN</td>\n",
              "      <td>NaN</td>\n",
              "      <td>NaN</td>\n",
              "      <td>NaN</td>\n",
              "      <td>NaN</td>\n",
              "      <td>NaN</td>\n",
              "      <td>NaN</td>\n",
              "      <td>NaN</td>\n",
              "      <td>NaN</td>\n",
              "      <td>NaN</td>\n",
              "      <td>NaN</td>\n",
              "      <td>NaN</td>\n",
              "      <td>NaN</td>\n",
              "      <td>NaN</td>\n",
              "      <td>NaN</td>\n",
              "      <td>NaN</td>\n",
              "      <td>NaN</td>\n",
              "    </tr>\n",
              "    <tr>\n",
              "      <th>West Bengal</th>\n",
              "      <td>NaN</td>\n",
              "      <td>NaN</td>\n",
              "      <td>NaN</td>\n",
              "      <td>NaN</td>\n",
              "      <td>NaN</td>\n",
              "      <td>NaN</td>\n",
              "      <td>NaN</td>\n",
              "      <td>NaN</td>\n",
              "      <td>NaN</td>\n",
              "      <td>NaN</td>\n",
              "      <td>NaN</td>\n",
              "      <td>NaN</td>\n",
              "      <td>NaN</td>\n",
              "      <td>NaN</td>\n",
              "      <td>NaN</td>\n",
              "      <td>NaN</td>\n",
              "      <td>NaN</td>\n",
              "      <td>NaN</td>\n",
              "      <td>NaN</td>\n",
              "      <td>NaN</td>\n",
              "      <td>NaN</td>\n",
              "      <td>NaN</td>\n",
              "    </tr>\n",
              "    <tr>\n",
              "      <th>West Bengal</th>\n",
              "      <td>NaN</td>\n",
              "      <td>NaN</td>\n",
              "      <td>NaN</td>\n",
              "      <td>NaN</td>\n",
              "      <td>NaN</td>\n",
              "      <td>NaN</td>\n",
              "      <td>NaN</td>\n",
              "      <td>NaN</td>\n",
              "      <td>NaN</td>\n",
              "      <td>NaN</td>\n",
              "      <td>NaN</td>\n",
              "      <td>NaN</td>\n",
              "      <td>NaN</td>\n",
              "      <td>NaN</td>\n",
              "      <td>NaN</td>\n",
              "      <td>NaN</td>\n",
              "      <td>NaN</td>\n",
              "      <td>NaN</td>\n",
              "      <td>NaN</td>\n",
              "      <td>NaN</td>\n",
              "      <td>NaN</td>\n",
              "      <td>NaN</td>\n",
              "    </tr>\n",
              "  </tbody>\n",
              "</table>\n",
              "<p>7845 rows × 22 columns</p>\n",
              "</div>"
            ],
            "text/plain": [
              "             Total Doses Administered  ...  Total Individuals Vaccinated\n",
              "State                                  ...                              \n",
              "India                         48276.0  ...                       48276.0\n",
              "India                         58604.0  ...                       58604.0\n",
              "India                         99449.0  ...                       99449.0\n",
              "India                        195525.0  ...                      195525.0\n",
              "India                        251280.0  ...                      251280.0\n",
              "...                               ...  ...                           ...\n",
              "West Bengal                       NaN  ...                           NaN\n",
              "West Bengal                       NaN  ...                           NaN\n",
              "West Bengal                       NaN  ...                           NaN\n",
              "West Bengal                       NaN  ...                           NaN\n",
              "West Bengal                       NaN  ...                           NaN\n",
              "\n",
              "[7845 rows x 22 columns]"
            ]
          },
          "metadata": {},
          "execution_count": 113
        }
      ]
    },
    {
      "cell_type": "markdown",
      "metadata": {
        "id": "OMMnKXZdS9ZD"
      },
      "source": [
        "- `swaplevel()` меняет уровни местами"
      ]
    },
    {
      "cell_type": "code",
      "metadata": {
        "colab": {
          "base_uri": "https://localhost:8080/",
          "height": 614
        },
        "id": "D7kCX6xJSxyP",
        "outputId": "eb17e94c-17bb-4845-9b55-1ea803374147"
      },
      "source": [
        "states_grouped.swaplevel()"
      ],
      "execution_count": null,
      "outputs": [
        {
          "output_type": "execute_result",
          "data": {
            "text/html": [
              "<div>\n",
              "<style scoped>\n",
              "    .dataframe tbody tr th:only-of-type {\n",
              "        vertical-align: middle;\n",
              "    }\n",
              "\n",
              "    .dataframe tbody tr th {\n",
              "        vertical-align: top;\n",
              "    }\n",
              "\n",
              "    .dataframe thead th {\n",
              "        text-align: right;\n",
              "    }\n",
              "</style>\n",
              "<table border=\"1\" class=\"dataframe\">\n",
              "  <thead>\n",
              "    <tr style=\"text-align: right;\">\n",
              "      <th></th>\n",
              "      <th></th>\n",
              "      <th>Total Doses Administered</th>\n",
              "      <th>Sessions</th>\n",
              "      <th>Sites</th>\n",
              "      <th>First Dose Administered</th>\n",
              "      <th>Second Dose Administered</th>\n",
              "      <th>Male (Doses Administered)</th>\n",
              "      <th>Female (Doses Administered)</th>\n",
              "      <th>Transgender (Doses Administered)</th>\n",
              "      <th>Covaxin (Doses Administered)</th>\n",
              "      <th>CoviShield (Doses Administered)</th>\n",
              "      <th>Sputnik V (Doses Administered)</th>\n",
              "      <th>AEFI</th>\n",
              "      <th>18-44 Years (Doses Administered)</th>\n",
              "      <th>45-60 Years (Doses Administered)</th>\n",
              "      <th>60+ Years (Doses Administered)</th>\n",
              "      <th>18-44 Years(Individuals Vaccinated)</th>\n",
              "      <th>45-60 Years(Individuals Vaccinated)</th>\n",
              "      <th>60+ Years(Individuals Vaccinated)</th>\n",
              "      <th>Male(Individuals Vaccinated)</th>\n",
              "      <th>Female(Individuals Vaccinated)</th>\n",
              "      <th>Transgender(Individuals Vaccinated)</th>\n",
              "      <th>Total Individuals Vaccinated</th>\n",
              "    </tr>\n",
              "    <tr>\n",
              "      <th>Updated On</th>\n",
              "      <th>State</th>\n",
              "      <th></th>\n",
              "      <th></th>\n",
              "      <th></th>\n",
              "      <th></th>\n",
              "      <th></th>\n",
              "      <th></th>\n",
              "      <th></th>\n",
              "      <th></th>\n",
              "      <th></th>\n",
              "      <th></th>\n",
              "      <th></th>\n",
              "      <th></th>\n",
              "      <th></th>\n",
              "      <th></th>\n",
              "      <th></th>\n",
              "      <th></th>\n",
              "      <th></th>\n",
              "      <th></th>\n",
              "      <th></th>\n",
              "      <th></th>\n",
              "      <th></th>\n",
              "      <th></th>\n",
              "    </tr>\n",
              "  </thead>\n",
              "  <tbody>\n",
              "    <tr>\n",
              "      <th>16/01/2021</th>\n",
              "      <th>India</th>\n",
              "      <td>48276.0</td>\n",
              "      <td>3455.0</td>\n",
              "      <td>2957.0</td>\n",
              "      <td>48276.0</td>\n",
              "      <td>0.0</td>\n",
              "      <td>NaN</td>\n",
              "      <td>NaN</td>\n",
              "      <td>NaN</td>\n",
              "      <td>579.0</td>\n",
              "      <td>47697.0</td>\n",
              "      <td>NaN</td>\n",
              "      <td>NaN</td>\n",
              "      <td>NaN</td>\n",
              "      <td>NaN</td>\n",
              "      <td>NaN</td>\n",
              "      <td>NaN</td>\n",
              "      <td>NaN</td>\n",
              "      <td>NaN</td>\n",
              "      <td>23757.0</td>\n",
              "      <td>24517.0</td>\n",
              "      <td>2.0</td>\n",
              "      <td>48276.0</td>\n",
              "    </tr>\n",
              "    <tr>\n",
              "      <th>17/01/2021</th>\n",
              "      <th>India</th>\n",
              "      <td>58604.0</td>\n",
              "      <td>8532.0</td>\n",
              "      <td>4954.0</td>\n",
              "      <td>58604.0</td>\n",
              "      <td>0.0</td>\n",
              "      <td>NaN</td>\n",
              "      <td>NaN</td>\n",
              "      <td>NaN</td>\n",
              "      <td>635.0</td>\n",
              "      <td>57969.0</td>\n",
              "      <td>NaN</td>\n",
              "      <td>NaN</td>\n",
              "      <td>NaN</td>\n",
              "      <td>NaN</td>\n",
              "      <td>NaN</td>\n",
              "      <td>NaN</td>\n",
              "      <td>NaN</td>\n",
              "      <td>NaN</td>\n",
              "      <td>27348.0</td>\n",
              "      <td>31252.0</td>\n",
              "      <td>4.0</td>\n",
              "      <td>58604.0</td>\n",
              "    </tr>\n",
              "    <tr>\n",
              "      <th>18/01/2021</th>\n",
              "      <th>India</th>\n",
              "      <td>99449.0</td>\n",
              "      <td>13611.0</td>\n",
              "      <td>6583.0</td>\n",
              "      <td>99449.0</td>\n",
              "      <td>0.0</td>\n",
              "      <td>NaN</td>\n",
              "      <td>NaN</td>\n",
              "      <td>NaN</td>\n",
              "      <td>1299.0</td>\n",
              "      <td>98150.0</td>\n",
              "      <td>NaN</td>\n",
              "      <td>NaN</td>\n",
              "      <td>NaN</td>\n",
              "      <td>NaN</td>\n",
              "      <td>NaN</td>\n",
              "      <td>NaN</td>\n",
              "      <td>NaN</td>\n",
              "      <td>NaN</td>\n",
              "      <td>41361.0</td>\n",
              "      <td>58083.0</td>\n",
              "      <td>5.0</td>\n",
              "      <td>99449.0</td>\n",
              "    </tr>\n",
              "    <tr>\n",
              "      <th>19/01/2021</th>\n",
              "      <th>India</th>\n",
              "      <td>195525.0</td>\n",
              "      <td>17855.0</td>\n",
              "      <td>7951.0</td>\n",
              "      <td>195525.0</td>\n",
              "      <td>0.0</td>\n",
              "      <td>NaN</td>\n",
              "      <td>NaN</td>\n",
              "      <td>NaN</td>\n",
              "      <td>3017.0</td>\n",
              "      <td>192508.0</td>\n",
              "      <td>NaN</td>\n",
              "      <td>NaN</td>\n",
              "      <td>NaN</td>\n",
              "      <td>NaN</td>\n",
              "      <td>NaN</td>\n",
              "      <td>NaN</td>\n",
              "      <td>NaN</td>\n",
              "      <td>NaN</td>\n",
              "      <td>81901.0</td>\n",
              "      <td>113613.0</td>\n",
              "      <td>11.0</td>\n",
              "      <td>195525.0</td>\n",
              "    </tr>\n",
              "    <tr>\n",
              "      <th>20/01/2021</th>\n",
              "      <th>India</th>\n",
              "      <td>251280.0</td>\n",
              "      <td>25472.0</td>\n",
              "      <td>10504.0</td>\n",
              "      <td>251280.0</td>\n",
              "      <td>0.0</td>\n",
              "      <td>NaN</td>\n",
              "      <td>NaN</td>\n",
              "      <td>NaN</td>\n",
              "      <td>3946.0</td>\n",
              "      <td>247334.0</td>\n",
              "      <td>NaN</td>\n",
              "      <td>NaN</td>\n",
              "      <td>NaN</td>\n",
              "      <td>NaN</td>\n",
              "      <td>NaN</td>\n",
              "      <td>NaN</td>\n",
              "      <td>NaN</td>\n",
              "      <td>NaN</td>\n",
              "      <td>98111.0</td>\n",
              "      <td>153145.0</td>\n",
              "      <td>24.0</td>\n",
              "      <td>251280.0</td>\n",
              "    </tr>\n",
              "    <tr>\n",
              "      <th>...</th>\n",
              "      <th>...</th>\n",
              "      <td>...</td>\n",
              "      <td>...</td>\n",
              "      <td>...</td>\n",
              "      <td>...</td>\n",
              "      <td>...</td>\n",
              "      <td>...</td>\n",
              "      <td>...</td>\n",
              "      <td>...</td>\n",
              "      <td>...</td>\n",
              "      <td>...</td>\n",
              "      <td>...</td>\n",
              "      <td>...</td>\n",
              "      <td>...</td>\n",
              "      <td>...</td>\n",
              "      <td>...</td>\n",
              "      <td>...</td>\n",
              "      <td>...</td>\n",
              "      <td>...</td>\n",
              "      <td>...</td>\n",
              "      <td>...</td>\n",
              "      <td>...</td>\n",
              "      <td>...</td>\n",
              "    </tr>\n",
              "    <tr>\n",
              "      <th>11/08/2021</th>\n",
              "      <th>West Bengal</th>\n",
              "      <td>NaN</td>\n",
              "      <td>NaN</td>\n",
              "      <td>NaN</td>\n",
              "      <td>NaN</td>\n",
              "      <td>NaN</td>\n",
              "      <td>NaN</td>\n",
              "      <td>NaN</td>\n",
              "      <td>NaN</td>\n",
              "      <td>NaN</td>\n",
              "      <td>NaN</td>\n",
              "      <td>NaN</td>\n",
              "      <td>NaN</td>\n",
              "      <td>NaN</td>\n",
              "      <td>NaN</td>\n",
              "      <td>NaN</td>\n",
              "      <td>NaN</td>\n",
              "      <td>NaN</td>\n",
              "      <td>NaN</td>\n",
              "      <td>NaN</td>\n",
              "      <td>NaN</td>\n",
              "      <td>NaN</td>\n",
              "      <td>NaN</td>\n",
              "    </tr>\n",
              "    <tr>\n",
              "      <th>12/08/2021</th>\n",
              "      <th>West Bengal</th>\n",
              "      <td>NaN</td>\n",
              "      <td>NaN</td>\n",
              "      <td>NaN</td>\n",
              "      <td>NaN</td>\n",
              "      <td>NaN</td>\n",
              "      <td>NaN</td>\n",
              "      <td>NaN</td>\n",
              "      <td>NaN</td>\n",
              "      <td>NaN</td>\n",
              "      <td>NaN</td>\n",
              "      <td>NaN</td>\n",
              "      <td>NaN</td>\n",
              "      <td>NaN</td>\n",
              "      <td>NaN</td>\n",
              "      <td>NaN</td>\n",
              "      <td>NaN</td>\n",
              "      <td>NaN</td>\n",
              "      <td>NaN</td>\n",
              "      <td>NaN</td>\n",
              "      <td>NaN</td>\n",
              "      <td>NaN</td>\n",
              "      <td>NaN</td>\n",
              "    </tr>\n",
              "    <tr>\n",
              "      <th>13/08/2021</th>\n",
              "      <th>West Bengal</th>\n",
              "      <td>NaN</td>\n",
              "      <td>NaN</td>\n",
              "      <td>NaN</td>\n",
              "      <td>NaN</td>\n",
              "      <td>NaN</td>\n",
              "      <td>NaN</td>\n",
              "      <td>NaN</td>\n",
              "      <td>NaN</td>\n",
              "      <td>NaN</td>\n",
              "      <td>NaN</td>\n",
              "      <td>NaN</td>\n",
              "      <td>NaN</td>\n",
              "      <td>NaN</td>\n",
              "      <td>NaN</td>\n",
              "      <td>NaN</td>\n",
              "      <td>NaN</td>\n",
              "      <td>NaN</td>\n",
              "      <td>NaN</td>\n",
              "      <td>NaN</td>\n",
              "      <td>NaN</td>\n",
              "      <td>NaN</td>\n",
              "      <td>NaN</td>\n",
              "    </tr>\n",
              "    <tr>\n",
              "      <th>14/08/2021</th>\n",
              "      <th>West Bengal</th>\n",
              "      <td>NaN</td>\n",
              "      <td>NaN</td>\n",
              "      <td>NaN</td>\n",
              "      <td>NaN</td>\n",
              "      <td>NaN</td>\n",
              "      <td>NaN</td>\n",
              "      <td>NaN</td>\n",
              "      <td>NaN</td>\n",
              "      <td>NaN</td>\n",
              "      <td>NaN</td>\n",
              "      <td>NaN</td>\n",
              "      <td>NaN</td>\n",
              "      <td>NaN</td>\n",
              "      <td>NaN</td>\n",
              "      <td>NaN</td>\n",
              "      <td>NaN</td>\n",
              "      <td>NaN</td>\n",
              "      <td>NaN</td>\n",
              "      <td>NaN</td>\n",
              "      <td>NaN</td>\n",
              "      <td>NaN</td>\n",
              "      <td>NaN</td>\n",
              "    </tr>\n",
              "    <tr>\n",
              "      <th>15/08/2021</th>\n",
              "      <th>West Bengal</th>\n",
              "      <td>NaN</td>\n",
              "      <td>NaN</td>\n",
              "      <td>NaN</td>\n",
              "      <td>NaN</td>\n",
              "      <td>NaN</td>\n",
              "      <td>NaN</td>\n",
              "      <td>NaN</td>\n",
              "      <td>NaN</td>\n",
              "      <td>NaN</td>\n",
              "      <td>NaN</td>\n",
              "      <td>NaN</td>\n",
              "      <td>NaN</td>\n",
              "      <td>NaN</td>\n",
              "      <td>NaN</td>\n",
              "      <td>NaN</td>\n",
              "      <td>NaN</td>\n",
              "      <td>NaN</td>\n",
              "      <td>NaN</td>\n",
              "      <td>NaN</td>\n",
              "      <td>NaN</td>\n",
              "      <td>NaN</td>\n",
              "      <td>NaN</td>\n",
              "    </tr>\n",
              "  </tbody>\n",
              "</table>\n",
              "<p>7845 rows × 22 columns</p>\n",
              "</div>"
            ],
            "text/plain": [
              "                        Total Doses Administered  ...  Total Individuals Vaccinated\n",
              "Updated On State                                  ...                              \n",
              "16/01/2021 India                         48276.0  ...                       48276.0\n",
              "17/01/2021 India                         58604.0  ...                       58604.0\n",
              "18/01/2021 India                         99449.0  ...                       99449.0\n",
              "19/01/2021 India                        195525.0  ...                      195525.0\n",
              "20/01/2021 India                        251280.0  ...                      251280.0\n",
              "...                                          ...  ...                           ...\n",
              "11/08/2021 West Bengal                       NaN  ...                           NaN\n",
              "12/08/2021 West Bengal                       NaN  ...                           NaN\n",
              "13/08/2021 West Bengal                       NaN  ...                           NaN\n",
              "14/08/2021 West Bengal                       NaN  ...                           NaN\n",
              "15/08/2021 West Bengal                       NaN  ...                           NaN\n",
              "\n",
              "[7845 rows x 22 columns]"
            ]
          },
          "metadata": {},
          "execution_count": 115
        }
      ]
    },
    {
      "cell_type": "markdown",
      "metadata": {
        "id": "yZxTLVCUTLxG"
      },
      "source": [
        "- `pivot()` и `pivot_table()` создают сводные таблицы по индексу или столбцу"
      ]
    },
    {
      "cell_type": "code",
      "metadata": {
        "colab": {
          "base_uri": "https://localhost:8080/",
          "height": 394
        },
        "id": "TZ6A_M2VTUE3",
        "outputId": "b13a490d-4dd6-4450-c517-aa876d91cc6f"
      },
      "source": [
        "pd.pivot_table(covid, values=\"Cured\", columns=[\"State/UnionTerritory\"], aggfunc=\"mean\").T[:10]"
      ],
      "execution_count": null,
      "outputs": [
        {
          "output_type": "execute_result",
          "data": {
            "text/html": [
              "<div>\n",
              "<style scoped>\n",
              "    .dataframe tbody tr th:only-of-type {\n",
              "        vertical-align: middle;\n",
              "    }\n",
              "\n",
              "    .dataframe tbody tr th {\n",
              "        vertical-align: top;\n",
              "    }\n",
              "\n",
              "    .dataframe thead th {\n",
              "        text-align: right;\n",
              "    }\n",
              "</style>\n",
              "<table border=\"1\" class=\"dataframe\">\n",
              "  <thead>\n",
              "    <tr style=\"text-align: right;\">\n",
              "      <th></th>\n",
              "      <th>Cured</th>\n",
              "    </tr>\n",
              "    <tr>\n",
              "      <th>State/UnionTerritory</th>\n",
              "      <th></th>\n",
              "    </tr>\n",
              "  </thead>\n",
              "  <tbody>\n",
              "    <tr>\n",
              "      <th>Andaman and Nicobar Islands</th>\n",
              "      <td>3667.234127</td>\n",
              "    </tr>\n",
              "    <tr>\n",
              "      <th>Andhra Pradesh</th>\n",
              "      <td>715109.131274</td>\n",
              "    </tr>\n",
              "    <tr>\n",
              "      <th>Arunachal Pradesh</th>\n",
              "      <td>13282.558468</td>\n",
              "    </tr>\n",
              "    <tr>\n",
              "      <th>Assam</th>\n",
              "      <td>186101.767068</td>\n",
              "    </tr>\n",
              "    <tr>\n",
              "      <th>Bihar</th>\n",
              "      <td>247278.462451</td>\n",
              "    </tr>\n",
              "    <tr>\n",
              "      <th>Bihar****</th>\n",
              "      <td>701234.000000</td>\n",
              "    </tr>\n",
              "    <tr>\n",
              "      <th>Cases being reassigned to states</th>\n",
              "      <td>0.000000</td>\n",
              "    </tr>\n",
              "    <tr>\n",
              "      <th>Chandigarh</th>\n",
              "      <td>19798.502935</td>\n",
              "    </tr>\n",
              "    <tr>\n",
              "      <th>Chhattisgarh</th>\n",
              "      <td>296691.514677</td>\n",
              "    </tr>\n",
              "    <tr>\n",
              "      <th>Dadra and Nagar Haveli</th>\n",
              "      <td>10176.000000</td>\n",
              "    </tr>\n",
              "  </tbody>\n",
              "</table>\n",
              "</div>"
            ],
            "text/plain": [
              "                                          Cured\n",
              "State/UnionTerritory                           \n",
              "Andaman and Nicobar Islands         3667.234127\n",
              "Andhra Pradesh                    715109.131274\n",
              "Arunachal Pradesh                  13282.558468\n",
              "Assam                             186101.767068\n",
              "Bihar                             247278.462451\n",
              "Bihar****                         701234.000000\n",
              "Cases being reassigned to states       0.000000\n",
              "Chandigarh                         19798.502935\n",
              "Chhattisgarh                      296691.514677\n",
              "Dadra and Nagar Haveli             10176.000000"
            ]
          },
          "metadata": {},
          "execution_count": 122
        }
      ]
    },
    {
      "cell_type": "markdown",
      "metadata": {
        "id": "c8_uHt9zUYVO"
      },
      "source": [
        "- `crosstab()` создает сводные таблицы по категориям"
      ]
    },
    {
      "cell_type": "code",
      "metadata": {
        "colab": {
          "base_uri": "https://localhost:8080/",
          "height": 175
        },
        "id": "hKByBXQAUgH9",
        "outputId": "2eb9d9b2-deb1-4dcb-defa-cde289eeb193"
      },
      "source": [
        "a = np.array([\"foo\", \"foo\", \"foo\", \"foo\", \"bar\", \"bar\",\n",
        "              \"bar\", \"bar\", \"foo\", \"foo\", \"foo\"], dtype=object)\n",
        "b = np.array([\"one\", \"one\", \"one\", \"two\", \"one\", \"one\",\n",
        "              \"one\", \"two\", \"two\", \"two\", \"one\"], dtype=object)\n",
        "c = np.array([\"dull\", \"dull\", \"shiny\", \"dull\", \"dull\", \"shiny\",\n",
        "              \"shiny\", \"dull\", \"shiny\", \"shiny\", \"shiny\"],\n",
        "             dtype=object)\n",
        "\n",
        "pd.crosstab(a, [b, c], rownames=['a'], colnames=['b', 'c'])"
      ],
      "execution_count": null,
      "outputs": [
        {
          "output_type": "execute_result",
          "data": {
            "text/html": [
              "<div>\n",
              "<style scoped>\n",
              "    .dataframe tbody tr th:only-of-type {\n",
              "        vertical-align: middle;\n",
              "    }\n",
              "\n",
              "    .dataframe tbody tr th {\n",
              "        vertical-align: top;\n",
              "    }\n",
              "\n",
              "    .dataframe thead tr th {\n",
              "        text-align: left;\n",
              "    }\n",
              "\n",
              "    .dataframe thead tr:last-of-type th {\n",
              "        text-align: right;\n",
              "    }\n",
              "</style>\n",
              "<table border=\"1\" class=\"dataframe\">\n",
              "  <thead>\n",
              "    <tr>\n",
              "      <th>b</th>\n",
              "      <th colspan=\"2\" halign=\"left\">one</th>\n",
              "      <th colspan=\"2\" halign=\"left\">two</th>\n",
              "    </tr>\n",
              "    <tr>\n",
              "      <th>c</th>\n",
              "      <th>dull</th>\n",
              "      <th>shiny</th>\n",
              "      <th>dull</th>\n",
              "      <th>shiny</th>\n",
              "    </tr>\n",
              "    <tr>\n",
              "      <th>a</th>\n",
              "      <th></th>\n",
              "      <th></th>\n",
              "      <th></th>\n",
              "      <th></th>\n",
              "    </tr>\n",
              "  </thead>\n",
              "  <tbody>\n",
              "    <tr>\n",
              "      <th>bar</th>\n",
              "      <td>1</td>\n",
              "      <td>2</td>\n",
              "      <td>1</td>\n",
              "      <td>0</td>\n",
              "    </tr>\n",
              "    <tr>\n",
              "      <th>foo</th>\n",
              "      <td>2</td>\n",
              "      <td>2</td>\n",
              "      <td>1</td>\n",
              "      <td>2</td>\n",
              "    </tr>\n",
              "  </tbody>\n",
              "</table>\n",
              "</div>"
            ],
            "text/plain": [
              "b    one        two      \n",
              "c   dull shiny dull shiny\n",
              "a                        \n",
              "bar    1     2    1     0\n",
              "foo    2     2    1     2"
            ]
          },
          "metadata": {},
          "execution_count": 130
        }
      ]
    },
    {
      "cell_type": "markdown",
      "metadata": {
        "id": "NSBTt-vtfbw2"
      },
      "source": [
        "#### Замена значений"
      ]
    },
    {
      "cell_type": "markdown",
      "metadata": {
        "id": "MlKb9khQ4C2N"
      },
      "source": [
        "- `where()` и `mask()`"
      ]
    },
    {
      "cell_type": "markdown",
      "metadata": {
        "id": "TdS53cupfeTG"
      },
      "source": [
        "Заменить одно значение на другое по условию можно с помощью `where()`. \n",
        ">Будьте внимательны, по умолчанию заменой становится `NaN`."
      ]
    },
    {
      "cell_type": "code",
      "metadata": {
        "colab": {
          "base_uri": "https://localhost:8080/",
          "height": 363
        },
        "id": "AUra8XrnebaV",
        "outputId": "6acfc29e-302f-4fd3-e5ea-232c4b55f826"
      },
      "source": [
        "df = covid.sample(10)[[\"Date\", \"Time\", \"State/UnionTerritory\", \"Cured\", \"Deaths\"]]\n",
        "df"
      ],
      "execution_count": null,
      "outputs": [
        {
          "output_type": "execute_result",
          "data": {
            "text/html": [
              "<div>\n",
              "<style scoped>\n",
              "    .dataframe tbody tr th:only-of-type {\n",
              "        vertical-align: middle;\n",
              "    }\n",
              "\n",
              "    .dataframe tbody tr th {\n",
              "        vertical-align: top;\n",
              "    }\n",
              "\n",
              "    .dataframe thead th {\n",
              "        text-align: right;\n",
              "    }\n",
              "</style>\n",
              "<table border=\"1\" class=\"dataframe\">\n",
              "  <thead>\n",
              "    <tr style=\"text-align: right;\">\n",
              "      <th></th>\n",
              "      <th>Date</th>\n",
              "      <th>Time</th>\n",
              "      <th>State/UnionTerritory</th>\n",
              "      <th>Cured</th>\n",
              "      <th>Deaths</th>\n",
              "    </tr>\n",
              "  </thead>\n",
              "  <tbody>\n",
              "    <tr>\n",
              "      <th>8292</th>\n",
              "      <td>2020-11-11</td>\n",
              "      <td>8:00 AM</td>\n",
              "      <td>Kerala</td>\n",
              "      <td>415158</td>\n",
              "      <td>1742</td>\n",
              "    </tr>\n",
              "    <tr>\n",
              "      <th>10169</th>\n",
              "      <td>2021-01-03</td>\n",
              "      <td>8:00 AM</td>\n",
              "      <td>Karnataka</td>\n",
              "      <td>898176</td>\n",
              "      <td>12099</td>\n",
              "    </tr>\n",
              "    <tr>\n",
              "      <th>11526</th>\n",
              "      <td>2021-02-10</td>\n",
              "      <td>8:00 AM</td>\n",
              "      <td>Bihar</td>\n",
              "      <td>259074</td>\n",
              "      <td>1518</td>\n",
              "    </tr>\n",
              "    <tr>\n",
              "      <th>14629</th>\n",
              "      <td>2021-05-07</td>\n",
              "      <td>8:00 AM</td>\n",
              "      <td>Haryana</td>\n",
              "      <td>452836</td>\n",
              "      <td>5137</td>\n",
              "    </tr>\n",
              "    <tr>\n",
              "      <th>7320</th>\n",
              "      <td>2020-10-14</td>\n",
              "      <td>8:00 AM</td>\n",
              "      <td>Odisha</td>\n",
              "      <td>232988</td>\n",
              "      <td>1057</td>\n",
              "    </tr>\n",
              "    <tr>\n",
              "      <th>4987</th>\n",
              "      <td>2020-08-09</td>\n",
              "      <td>8:00 AM</td>\n",
              "      <td>Andhra Pradesh</td>\n",
              "      <td>129615</td>\n",
              "      <td>1939</td>\n",
              "    </tr>\n",
              "    <tr>\n",
              "      <th>7203</th>\n",
              "      <td>2020-10-11</td>\n",
              "      <td>8:00 AM</td>\n",
              "      <td>Himachal Pradesh</td>\n",
              "      <td>14278</td>\n",
              "      <td>248</td>\n",
              "    </tr>\n",
              "    <tr>\n",
              "      <th>4450</th>\n",
              "      <td>2020-07-24</td>\n",
              "      <td>8:00 AM</td>\n",
              "      <td>Odisha</td>\n",
              "      <td>14393</td>\n",
              "      <td>114</td>\n",
              "    </tr>\n",
              "    <tr>\n",
              "      <th>15669</th>\n",
              "      <td>2021-06-05</td>\n",
              "      <td>8:00 AM</td>\n",
              "      <td>Dadra and Nagar Haveli</td>\n",
              "      <td>10261</td>\n",
              "      <td>4</td>\n",
              "    </tr>\n",
              "    <tr>\n",
              "      <th>1635</th>\n",
              "      <td>2020-05-05</td>\n",
              "      <td>5:00 PM</td>\n",
              "      <td>Uttarakhand</td>\n",
              "      <td>39</td>\n",
              "      <td>1</td>\n",
              "    </tr>\n",
              "  </tbody>\n",
              "</table>\n",
              "</div>"
            ],
            "text/plain": [
              "             Date     Time    State/UnionTerritory   Cured  Deaths\n",
              "8292   2020-11-11  8:00 AM                  Kerala  415158    1742\n",
              "10169  2021-01-03  8:00 AM               Karnataka  898176   12099\n",
              "11526  2021-02-10  8:00 AM                   Bihar  259074    1518\n",
              "14629  2021-05-07  8:00 AM                 Haryana  452836    5137\n",
              "7320   2020-10-14  8:00 AM                  Odisha  232988    1057\n",
              "4987   2020-08-09  8:00 AM          Andhra Pradesh  129615    1939\n",
              "7203   2020-10-11  8:00 AM        Himachal Pradesh   14278     248\n",
              "4450   2020-07-24  8:00 AM                  Odisha   14393     114\n",
              "15669  2021-06-05  8:00 AM  Dadra and Nagar Haveli   10261       4\n",
              "1635   2020-05-05  5:00 PM             Uttarakhand      39       1"
            ]
          },
          "metadata": {},
          "execution_count": 140
        }
      ]
    },
    {
      "cell_type": "code",
      "metadata": {
        "colab": {
          "base_uri": "https://localhost:8080/"
        },
        "id": "1nX_fYN2f6vz",
        "outputId": "eec2ed71-6b1a-41b7-cade-8bc8cc82aef7"
      },
      "source": [
        "df.Date.where(df.Date > \"2021-04-30\")"
      ],
      "execution_count": null,
      "outputs": [
        {
          "output_type": "execute_result",
          "data": {
            "text/plain": [
              "8292            NaN\n",
              "10169           NaN\n",
              "11526           NaN\n",
              "14629    2021-05-07\n",
              "7320            NaN\n",
              "4987            NaN\n",
              "7203            NaN\n",
              "4450            NaN\n",
              "15669    2021-06-05\n",
              "1635            NaN\n",
              "Name: Date, dtype: object"
            ]
          },
          "metadata": {},
          "execution_count": 141
        }
      ]
    },
    {
      "cell_type": "markdown",
      "metadata": {
        "id": "28OEliNAgXzR"
      },
      "source": [
        "Остались только значения, удоалвтворяющие условию."
      ]
    },
    {
      "cell_type": "code",
      "metadata": {
        "colab": {
          "base_uri": "https://localhost:8080/"
        },
        "id": "tZDkqEdEgMoM",
        "outputId": "f64ed1eb-28b6-4d02-aa07-3acb7da8be3f"
      },
      "source": [
        "df.Date.where(df.Date > \"2021-04-30\", \"irrelevant\")"
      ],
      "execution_count": null,
      "outputs": [
        {
          "output_type": "execute_result",
          "data": {
            "text/plain": [
              "8292     irrelevant\n",
              "10169    irrelevant\n",
              "11526    irrelevant\n",
              "14629    2021-05-07\n",
              "7320     irrelevant\n",
              "4987     irrelevant\n",
              "7203     irrelevant\n",
              "4450     irrelevant\n",
              "15669    2021-06-05\n",
              "1635     irrelevant\n",
              "Name: Date, dtype: object"
            ]
          },
          "metadata": {},
          "execution_count": 142
        }
      ]
    },
    {
      "cell_type": "markdown",
      "metadata": {
        "id": "r7fBnz6-gk2Y"
      },
      "source": [
        "В условие может быть записано все, что удовлетворяет правилам составления условий на `Python`."
      ]
    },
    {
      "cell_type": "markdown",
      "metadata": {
        "id": "4cbI1oU8gxKj"
      },
      "source": [
        "Обратный метод для `where` - `mask`. Он делает замену, если условие выполнено."
      ]
    },
    {
      "cell_type": "code",
      "metadata": {
        "colab": {
          "base_uri": "https://localhost:8080/"
        },
        "id": "-o6h88Ytghcu",
        "outputId": "60d3546b-1254-42af-c402-22c68e7dbd12"
      },
      "source": [
        "df.Date.mask(df.Date > \"2021-04-30\", \"irrelevant\")"
      ],
      "execution_count": null,
      "outputs": [
        {
          "output_type": "execute_result",
          "data": {
            "text/plain": [
              "8292     2020-11-11\n",
              "10169    2021-01-03\n",
              "11526    2021-02-10\n",
              "14629    irrelevant\n",
              "7320     2020-10-14\n",
              "4987     2020-08-09\n",
              "7203     2020-10-11\n",
              "4450     2020-07-24\n",
              "15669    irrelevant\n",
              "1635     2020-05-05\n",
              "Name: Date, dtype: object"
            ]
          },
          "metadata": {},
          "execution_count": 143
        }
      ]
    },
    {
      "cell_type": "markdown",
      "metadata": {
        "id": "-knXytWb4JS1"
      },
      "source": [
        "- `clip()` проверяет, попадает ли значение столбца в указанный диапазон, и если нет - заменяет его на пороговое значение"
      ]
    },
    {
      "cell_type": "code",
      "metadata": {
        "colab": {
          "base_uri": "https://localhost:8080/"
        },
        "id": "sRczeVFJ4WG8",
        "outputId": "f83a5fad-8f57-4cec-8fc6-ac12c0728a57"
      },
      "source": [
        "df.Cured.clip(100, 300000)"
      ],
      "execution_count": null,
      "outputs": [
        {
          "output_type": "execute_result",
          "data": {
            "text/plain": [
              "8292     300000\n",
              "10169    300000\n",
              "11526    259074\n",
              "14629    300000\n",
              "7320     232988\n",
              "4987     129615\n",
              "7203      14278\n",
              "4450      14393\n",
              "15669     10261\n",
              "1635        100\n",
              "Name: Cured, dtype: int64"
            ]
          },
          "metadata": {},
          "execution_count": 148
        }
      ]
    },
    {
      "cell_type": "markdown",
      "metadata": {
        "id": "UaN6GvB-AscI"
      },
      "source": [
        "- `add_prefix()` и `add_suffix()` добавляют что-то в начало или конец названия столбца соответственно"
      ]
    },
    {
      "cell_type": "code",
      "metadata": {
        "colab": {
          "base_uri": "https://localhost:8080/",
          "height": 363
        },
        "id": "8aQvWjGnArsx",
        "outputId": "8aeca93e-409c-44b8-eeeb-e3b40983fcaa"
      },
      "source": [
        "df1 = df.add_prefix(\"col_\")\n",
        "df1"
      ],
      "execution_count": null,
      "outputs": [
        {
          "output_type": "execute_result",
          "data": {
            "text/html": [
              "<div>\n",
              "<style scoped>\n",
              "    .dataframe tbody tr th:only-of-type {\n",
              "        vertical-align: middle;\n",
              "    }\n",
              "\n",
              "    .dataframe tbody tr th {\n",
              "        vertical-align: top;\n",
              "    }\n",
              "\n",
              "    .dataframe thead th {\n",
              "        text-align: right;\n",
              "    }\n",
              "</style>\n",
              "<table border=\"1\" class=\"dataframe\">\n",
              "  <thead>\n",
              "    <tr style=\"text-align: right;\">\n",
              "      <th></th>\n",
              "      <th>col_Date</th>\n",
              "      <th>col_Time</th>\n",
              "      <th>col_State/UnionTerritory</th>\n",
              "      <th>col_Cured</th>\n",
              "      <th>col_Deaths</th>\n",
              "    </tr>\n",
              "  </thead>\n",
              "  <tbody>\n",
              "    <tr>\n",
              "      <th>4926</th>\n",
              "      <td>2020-08-07</td>\n",
              "      <td>8:00 AM</td>\n",
              "      <td>Gujarat</td>\n",
              "      <td>50350</td>\n",
              "      <td>2583</td>\n",
              "    </tr>\n",
              "    <tr>\n",
              "      <th>2937</th>\n",
              "      <td>2020-06-12</td>\n",
              "      <td>8:00 AM</td>\n",
              "      <td>Madhya Pradesh</td>\n",
              "      <td>7042</td>\n",
              "      <td>431</td>\n",
              "    </tr>\n",
              "    <tr>\n",
              "      <th>9228</th>\n",
              "      <td>2020-12-08</td>\n",
              "      <td>8:00 AM</td>\n",
              "      <td>Dadra and Nagar Haveli and Daman and Diu</td>\n",
              "      <td>3328</td>\n",
              "      <td>2</td>\n",
              "    </tr>\n",
              "    <tr>\n",
              "      <th>8347</th>\n",
              "      <td>2020-11-13</td>\n",
              "      <td>8:00 AM</td>\n",
              "      <td>Andhra Pradesh</td>\n",
              "      <td>822011</td>\n",
              "      <td>6837</td>\n",
              "    </tr>\n",
              "    <tr>\n",
              "      <th>9628</th>\n",
              "      <td>2020-12-19</td>\n",
              "      <td>8:00 AM</td>\n",
              "      <td>Jharkhand</td>\n",
              "      <td>109891</td>\n",
              "      <td>1008</td>\n",
              "    </tr>\n",
              "    <tr>\n",
              "      <th>7168</th>\n",
              "      <td>2020-10-10</td>\n",
              "      <td>8:00 AM</td>\n",
              "      <td>Himachal Pradesh</td>\n",
              "      <td>13876</td>\n",
              "      <td>245</td>\n",
              "    </tr>\n",
              "    <tr>\n",
              "      <th>3706</th>\n",
              "      <td>2020-07-03</td>\n",
              "      <td>8:00 AM</td>\n",
              "      <td>Tripura</td>\n",
              "      <td>1146</td>\n",
              "      <td>1</td>\n",
              "    </tr>\n",
              "    <tr>\n",
              "      <th>8893</th>\n",
              "      <td>2020-11-28</td>\n",
              "      <td>8:00 AM</td>\n",
              "      <td>Mizoram</td>\n",
              "      <td>3367</td>\n",
              "      <td>5</td>\n",
              "    </tr>\n",
              "    <tr>\n",
              "      <th>16607</th>\n",
              "      <td>2021-07-01</td>\n",
              "      <td>8:00 AM</td>\n",
              "      <td>Goa</td>\n",
              "      <td>161361</td>\n",
              "      <td>3054</td>\n",
              "    </tr>\n",
              "    <tr>\n",
              "      <th>1826</th>\n",
              "      <td>2020-05-11</td>\n",
              "      <td>8:00 AM</td>\n",
              "      <td>Odisha</td>\n",
              "      <td>68</td>\n",
              "      <td>3</td>\n",
              "    </tr>\n",
              "  </tbody>\n",
              "</table>\n",
              "</div>"
            ],
            "text/plain": [
              "         col_Date col_Time  ... col_Cured  col_Deaths\n",
              "4926   2020-08-07  8:00 AM  ...     50350        2583\n",
              "2937   2020-06-12  8:00 AM  ...      7042         431\n",
              "9228   2020-12-08  8:00 AM  ...      3328           2\n",
              "8347   2020-11-13  8:00 AM  ...    822011        6837\n",
              "9628   2020-12-19  8:00 AM  ...    109891        1008\n",
              "7168   2020-10-10  8:00 AM  ...     13876         245\n",
              "3706   2020-07-03  8:00 AM  ...      1146           1\n",
              "8893   2020-11-28  8:00 AM  ...      3367           5\n",
              "16607  2021-07-01  8:00 AM  ...    161361        3054\n",
              "1826   2020-05-11  8:00 AM  ...        68           3\n",
              "\n",
              "[10 rows x 5 columns]"
            ]
          },
          "metadata": {},
          "execution_count": 51
        }
      ]
    },
    {
      "cell_type": "markdown",
      "metadata": {
        "id": "YhQtW0luPxT7"
      },
      "source": [
        "- `explode()` распаковывет списки в ячейках в строки датафрейма"
      ]
    },
    {
      "cell_type": "code",
      "metadata": {
        "colab": {
          "base_uri": "https://localhost:8080/",
          "height": 175
        },
        "id": "L5_lnRAiP4XJ",
        "outputId": "d1bb40d9-0419-434f-8e4f-aa55f674751f"
      },
      "source": [
        "df_t = pd.DataFrame({'A': [[0, 1, 2], 'foo', 3, [3, 4]],\n",
        "                   'B': 1,\n",
        "                   'C': [['a', 'b', 'c'], 0, 9, ['d', 'e']]})\n",
        "df_t"
      ],
      "execution_count": null,
      "outputs": [
        {
          "output_type": "execute_result",
          "data": {
            "text/html": [
              "<div>\n",
              "<style scoped>\n",
              "    .dataframe tbody tr th:only-of-type {\n",
              "        vertical-align: middle;\n",
              "    }\n",
              "\n",
              "    .dataframe tbody tr th {\n",
              "        vertical-align: top;\n",
              "    }\n",
              "\n",
              "    .dataframe thead th {\n",
              "        text-align: right;\n",
              "    }\n",
              "</style>\n",
              "<table border=\"1\" class=\"dataframe\">\n",
              "  <thead>\n",
              "    <tr style=\"text-align: right;\">\n",
              "      <th></th>\n",
              "      <th>A</th>\n",
              "      <th>B</th>\n",
              "      <th>C</th>\n",
              "    </tr>\n",
              "  </thead>\n",
              "  <tbody>\n",
              "    <tr>\n",
              "      <th>0</th>\n",
              "      <td>[0, 1, 2]</td>\n",
              "      <td>1</td>\n",
              "      <td>[a, b, c]</td>\n",
              "    </tr>\n",
              "    <tr>\n",
              "      <th>1</th>\n",
              "      <td>foo</td>\n",
              "      <td>1</td>\n",
              "      <td>0</td>\n",
              "    </tr>\n",
              "    <tr>\n",
              "      <th>2</th>\n",
              "      <td>3</td>\n",
              "      <td>1</td>\n",
              "      <td>9</td>\n",
              "    </tr>\n",
              "    <tr>\n",
              "      <th>3</th>\n",
              "      <td>[3, 4]</td>\n",
              "      <td>1</td>\n",
              "      <td>[d, e]</td>\n",
              "    </tr>\n",
              "  </tbody>\n",
              "</table>\n",
              "</div>"
            ],
            "text/plain": [
              "           A  B          C\n",
              "0  [0, 1, 2]  1  [a, b, c]\n",
              "1        foo  1          0\n",
              "2          3  1          9\n",
              "3     [3, 4]  1     [d, e]"
            ]
          },
          "metadata": {},
          "execution_count": 52
        }
      ]
    },
    {
      "cell_type": "code",
      "metadata": {
        "colab": {
          "base_uri": "https://localhost:8080/",
          "height": 269
        },
        "id": "39KWhlBsP8qQ",
        "outputId": "3fd2ed93-83ee-4416-8c85-0e55810852f1"
      },
      "source": [
        "df_t.explode('A')"
      ],
      "execution_count": null,
      "outputs": [
        {
          "output_type": "execute_result",
          "data": {
            "text/html": [
              "<div>\n",
              "<style scoped>\n",
              "    .dataframe tbody tr th:only-of-type {\n",
              "        vertical-align: middle;\n",
              "    }\n",
              "\n",
              "    .dataframe tbody tr th {\n",
              "        vertical-align: top;\n",
              "    }\n",
              "\n",
              "    .dataframe thead th {\n",
              "        text-align: right;\n",
              "    }\n",
              "</style>\n",
              "<table border=\"1\" class=\"dataframe\">\n",
              "  <thead>\n",
              "    <tr style=\"text-align: right;\">\n",
              "      <th></th>\n",
              "      <th>A</th>\n",
              "      <th>B</th>\n",
              "      <th>C</th>\n",
              "    </tr>\n",
              "  </thead>\n",
              "  <tbody>\n",
              "    <tr>\n",
              "      <th>0</th>\n",
              "      <td>0</td>\n",
              "      <td>1</td>\n",
              "      <td>[a, b, c]</td>\n",
              "    </tr>\n",
              "    <tr>\n",
              "      <th>0</th>\n",
              "      <td>1</td>\n",
              "      <td>1</td>\n",
              "      <td>[a, b, c]</td>\n",
              "    </tr>\n",
              "    <tr>\n",
              "      <th>0</th>\n",
              "      <td>2</td>\n",
              "      <td>1</td>\n",
              "      <td>[a, b, c]</td>\n",
              "    </tr>\n",
              "    <tr>\n",
              "      <th>1</th>\n",
              "      <td>foo</td>\n",
              "      <td>1</td>\n",
              "      <td>0</td>\n",
              "    </tr>\n",
              "    <tr>\n",
              "      <th>2</th>\n",
              "      <td>3</td>\n",
              "      <td>1</td>\n",
              "      <td>9</td>\n",
              "    </tr>\n",
              "    <tr>\n",
              "      <th>3</th>\n",
              "      <td>3</td>\n",
              "      <td>1</td>\n",
              "      <td>[d, e]</td>\n",
              "    </tr>\n",
              "    <tr>\n",
              "      <th>3</th>\n",
              "      <td>4</td>\n",
              "      <td>1</td>\n",
              "      <td>[d, e]</td>\n",
              "    </tr>\n",
              "  </tbody>\n",
              "</table>\n",
              "</div>"
            ],
            "text/plain": [
              "     A  B          C\n",
              "0    0  1  [a, b, c]\n",
              "0    1  1  [a, b, c]\n",
              "0    2  1  [a, b, c]\n",
              "1  foo  1          0\n",
              "2    3  1          9\n",
              "3    3  1     [d, e]\n",
              "3    4  1     [d, e]"
            ]
          },
          "metadata": {},
          "execution_count": 194
        }
      ]
    },
    {
      "cell_type": "code",
      "metadata": {
        "colab": {
          "base_uri": "https://localhost:8080/",
          "height": 374
        },
        "id": "1uCnTE5mQ7nD",
        "outputId": "ebdd97a3-fc2c-4c00-ee54-b3db4a12f9f0"
      },
      "source": [
        "!pip install pandas==1.3.0"
      ],
      "execution_count": null,
      "outputs": [
        {
          "output_type": "stream",
          "name": "stdout",
          "text": [
            "Collecting pandas==1.3.0\n",
            "  Downloading pandas-1.3.0-cp37-cp37m-manylinux_2_5_x86_64.manylinux1_x86_64.whl (10.8 MB)\n",
            "\u001b[K     |████████████████████████████████| 10.8 MB 5.2 MB/s \n",
            "\u001b[?25hRequirement already satisfied: numpy>=1.17.3 in /usr/local/lib/python3.7/dist-packages (from pandas==1.3.0) (1.19.5)\n",
            "Requirement already satisfied: python-dateutil>=2.7.3 in /usr/local/lib/python3.7/dist-packages (from pandas==1.3.0) (2.8.2)\n",
            "Requirement already satisfied: pytz>=2017.3 in /usr/local/lib/python3.7/dist-packages (from pandas==1.3.0) (2018.9)\n",
            "Requirement already satisfied: six>=1.5 in /usr/local/lib/python3.7/dist-packages (from python-dateutil>=2.7.3->pandas==1.3.0) (1.15.0)\n",
            "Installing collected packages: pandas\n",
            "  Attempting uninstall: pandas\n",
            "    Found existing installation: pandas 1.1.5\n",
            "    Uninstalling pandas-1.1.5:\n",
            "      Successfully uninstalled pandas-1.1.5\n",
            "\u001b[31mERROR: pip's dependency resolver does not currently take into account all the packages that are installed. This behaviour is the source of the following dependency conflicts.\n",
            "google-colab 1.0.0 requires pandas~=1.1.0; python_version >= \"3.0\", but you have pandas 1.3.0 which is incompatible.\u001b[0m\n",
            "Successfully installed pandas-1.3.0\n"
          ]
        },
        {
          "output_type": "display_data",
          "data": {
            "application/vnd.colab-display-data+json": {
              "pip_warning": {
                "packages": [
                  "pandas"
                ]
              }
            }
          },
          "metadata": {}
        }
      ]
    },
    {
      "cell_type": "code",
      "metadata": {
        "colab": {
          "base_uri": "https://localhost:8080/",
          "height": 269
        },
        "id": "2V9V4RuLQCy3",
        "outputId": "6ea3f100-0216-4a05-a9ce-39119da8e241"
      },
      "source": [
        "df_t.explode(column=[\"A\", \"C\"])"
      ],
      "execution_count": null,
      "outputs": [
        {
          "output_type": "execute_result",
          "data": {
            "text/html": [
              "<div>\n",
              "<style scoped>\n",
              "    .dataframe tbody tr th:only-of-type {\n",
              "        vertical-align: middle;\n",
              "    }\n",
              "\n",
              "    .dataframe tbody tr th {\n",
              "        vertical-align: top;\n",
              "    }\n",
              "\n",
              "    .dataframe thead th {\n",
              "        text-align: right;\n",
              "    }\n",
              "</style>\n",
              "<table border=\"1\" class=\"dataframe\">\n",
              "  <thead>\n",
              "    <tr style=\"text-align: right;\">\n",
              "      <th></th>\n",
              "      <th>A</th>\n",
              "      <th>B</th>\n",
              "      <th>C</th>\n",
              "    </tr>\n",
              "  </thead>\n",
              "  <tbody>\n",
              "    <tr>\n",
              "      <th>0</th>\n",
              "      <td>0</td>\n",
              "      <td>1</td>\n",
              "      <td>a</td>\n",
              "    </tr>\n",
              "    <tr>\n",
              "      <th>0</th>\n",
              "      <td>1</td>\n",
              "      <td>1</td>\n",
              "      <td>b</td>\n",
              "    </tr>\n",
              "    <tr>\n",
              "      <th>0</th>\n",
              "      <td>2</td>\n",
              "      <td>1</td>\n",
              "      <td>c</td>\n",
              "    </tr>\n",
              "    <tr>\n",
              "      <th>1</th>\n",
              "      <td>foo</td>\n",
              "      <td>1</td>\n",
              "      <td>0</td>\n",
              "    </tr>\n",
              "    <tr>\n",
              "      <th>2</th>\n",
              "      <td>3</td>\n",
              "      <td>1</td>\n",
              "      <td>9</td>\n",
              "    </tr>\n",
              "    <tr>\n",
              "      <th>3</th>\n",
              "      <td>3</td>\n",
              "      <td>1</td>\n",
              "      <td>d</td>\n",
              "    </tr>\n",
              "    <tr>\n",
              "      <th>3</th>\n",
              "      <td>4</td>\n",
              "      <td>1</td>\n",
              "      <td>e</td>\n",
              "    </tr>\n",
              "  </tbody>\n",
              "</table>\n",
              "</div>"
            ],
            "text/plain": [
              "     A  B  C\n",
              "0    0  1  a\n",
              "0    1  1  b\n",
              "0    2  1  c\n",
              "1  foo  1  0\n",
              "2    3  1  9\n",
              "3    3  1  d\n",
              "3    4  1  e"
            ]
          },
          "metadata": {},
          "execution_count": 53
        }
      ]
    },
    {
      "cell_type": "markdown",
      "metadata": {
        "id": "QrjtBXfYXzNN"
      },
      "source": [
        "- `truncate()` вырезает часть таблицы по индексам"
      ]
    },
    {
      "cell_type": "code",
      "metadata": {
        "colab": {
          "base_uri": "https://localhost:8080/",
          "height": 363
        },
        "id": "tCGUCrwtXv-S",
        "outputId": "4ab8161b-a081-4c25-ac29-0eb16e752b92"
      },
      "source": [
        "df.sort_index(inplace=True)\n",
        "df"
      ],
      "execution_count": null,
      "outputs": [
        {
          "output_type": "execute_result",
          "data": {
            "text/html": [
              "<div>\n",
              "<style scoped>\n",
              "    .dataframe tbody tr th:only-of-type {\n",
              "        vertical-align: middle;\n",
              "    }\n",
              "\n",
              "    .dataframe tbody tr th {\n",
              "        vertical-align: top;\n",
              "    }\n",
              "\n",
              "    .dataframe thead th {\n",
              "        text-align: right;\n",
              "    }\n",
              "</style>\n",
              "<table border=\"1\" class=\"dataframe\">\n",
              "  <thead>\n",
              "    <tr style=\"text-align: right;\">\n",
              "      <th></th>\n",
              "      <th>Date</th>\n",
              "      <th>Time</th>\n",
              "      <th>State</th>\n",
              "      <th>Cured</th>\n",
              "      <th>Deaths</th>\n",
              "      <th>Min Cured</th>\n",
              "      <th>Datetime</th>\n",
              "    </tr>\n",
              "  </thead>\n",
              "  <tbody>\n",
              "    <tr>\n",
              "      <th>1826</th>\n",
              "      <td>2020-05-11</td>\n",
              "      <td>8:00 AM</td>\n",
              "      <td>Odisha</td>\n",
              "      <td>68</td>\n",
              "      <td>3</td>\n",
              "      <td>68</td>\n",
              "      <td>2020-05-11 08:00:00</td>\n",
              "    </tr>\n",
              "    <tr>\n",
              "      <th>2937</th>\n",
              "      <td>2020-06-12</td>\n",
              "      <td>8:00 AM</td>\n",
              "      <td>Madhya Pradesh</td>\n",
              "      <td>7042</td>\n",
              "      <td>431</td>\n",
              "      <td>7042</td>\n",
              "      <td>2020-06-12 08:00:00</td>\n",
              "    </tr>\n",
              "    <tr>\n",
              "      <th>3706</th>\n",
              "      <td>2020-07-03</td>\n",
              "      <td>8:00 AM</td>\n",
              "      <td>Tripura</td>\n",
              "      <td>1146</td>\n",
              "      <td>1</td>\n",
              "      <td>1146</td>\n",
              "      <td>2020-07-03 08:00:00</td>\n",
              "    </tr>\n",
              "    <tr>\n",
              "      <th>4926</th>\n",
              "      <td>2020-08-07</td>\n",
              "      <td>8:00 AM</td>\n",
              "      <td>Gujarat</td>\n",
              "      <td>50350</td>\n",
              "      <td>2583</td>\n",
              "      <td>50350</td>\n",
              "      <td>2020-08-07 08:00:00</td>\n",
              "    </tr>\n",
              "    <tr>\n",
              "      <th>7168</th>\n",
              "      <td>2020-10-10</td>\n",
              "      <td>8:00 AM</td>\n",
              "      <td>Himachal Pradesh</td>\n",
              "      <td>13876</td>\n",
              "      <td>245</td>\n",
              "      <td>13876</td>\n",
              "      <td>2020-10-10 08:00:00</td>\n",
              "    </tr>\n",
              "    <tr>\n",
              "      <th>8347</th>\n",
              "      <td>2020-11-13</td>\n",
              "      <td>8:00 AM</td>\n",
              "      <td>Andhra Pradesh</td>\n",
              "      <td>822011</td>\n",
              "      <td>6837</td>\n",
              "      <td>822011</td>\n",
              "      <td>2020-11-13 08:00:00</td>\n",
              "    </tr>\n",
              "    <tr>\n",
              "      <th>8893</th>\n",
              "      <td>2020-11-28</td>\n",
              "      <td>8:00 AM</td>\n",
              "      <td>Mizoram</td>\n",
              "      <td>3367</td>\n",
              "      <td>5</td>\n",
              "      <td>3367</td>\n",
              "      <td>2020-11-28 08:00:00</td>\n",
              "    </tr>\n",
              "    <tr>\n",
              "      <th>9228</th>\n",
              "      <td>2020-12-08</td>\n",
              "      <td>8:00 AM</td>\n",
              "      <td>Dadra and Nagar Haveli and Daman and Diu</td>\n",
              "      <td>3328</td>\n",
              "      <td>2</td>\n",
              "      <td>3328</td>\n",
              "      <td>2020-12-08 08:00:00</td>\n",
              "    </tr>\n",
              "    <tr>\n",
              "      <th>9628</th>\n",
              "      <td>2020-12-19</td>\n",
              "      <td>8:00 AM</td>\n",
              "      <td>Jharkhand</td>\n",
              "      <td>109891</td>\n",
              "      <td>1008</td>\n",
              "      <td>109891</td>\n",
              "      <td>2020-12-19 08:00:00</td>\n",
              "    </tr>\n",
              "    <tr>\n",
              "      <th>16607</th>\n",
              "      <td>2021-07-01</td>\n",
              "      <td>8:00 AM</td>\n",
              "      <td>Goa</td>\n",
              "      <td>161361</td>\n",
              "      <td>3054</td>\n",
              "      <td>161361</td>\n",
              "      <td>2021-07-01 08:00:00</td>\n",
              "    </tr>\n",
              "  </tbody>\n",
              "</table>\n",
              "</div>"
            ],
            "text/plain": [
              "             Date     Time  ... Min Cured            Datetime\n",
              "1826   2020-05-11  8:00 AM  ...        68 2020-05-11 08:00:00\n",
              "2937   2020-06-12  8:00 AM  ...      7042 2020-06-12 08:00:00\n",
              "3706   2020-07-03  8:00 AM  ...      1146 2020-07-03 08:00:00\n",
              "4926   2020-08-07  8:00 AM  ...     50350 2020-08-07 08:00:00\n",
              "7168   2020-10-10  8:00 AM  ...     13876 2020-10-10 08:00:00\n",
              "8347   2020-11-13  8:00 AM  ...    822011 2020-11-13 08:00:00\n",
              "8893   2020-11-28  8:00 AM  ...      3367 2020-11-28 08:00:00\n",
              "9228   2020-12-08  8:00 AM  ...      3328 2020-12-08 08:00:00\n",
              "9628   2020-12-19  8:00 AM  ...    109891 2020-12-19 08:00:00\n",
              "16607  2021-07-01  8:00 AM  ...    161361 2021-07-01 08:00:00\n",
              "\n",
              "[10 rows x 7 columns]"
            ]
          },
          "metadata": {},
          "execution_count": 134
        }
      ]
    },
    {
      "cell_type": "code",
      "metadata": {
        "colab": {
          "base_uri": "https://localhost:8080/",
          "height": 206
        },
        "id": "4dmAEnZGX8-l",
        "outputId": "289167db-54b4-4406-edd8-414390512584"
      },
      "source": [
        "df.truncate(before=4926, after=9228)"
      ],
      "execution_count": null,
      "outputs": [
        {
          "output_type": "execute_result",
          "data": {
            "text/html": [
              "<div>\n",
              "<style scoped>\n",
              "    .dataframe tbody tr th:only-of-type {\n",
              "        vertical-align: middle;\n",
              "    }\n",
              "\n",
              "    .dataframe tbody tr th {\n",
              "        vertical-align: top;\n",
              "    }\n",
              "\n",
              "    .dataframe thead th {\n",
              "        text-align: right;\n",
              "    }\n",
              "</style>\n",
              "<table border=\"1\" class=\"dataframe\">\n",
              "  <thead>\n",
              "    <tr style=\"text-align: right;\">\n",
              "      <th></th>\n",
              "      <th>Date</th>\n",
              "      <th>Time</th>\n",
              "      <th>State</th>\n",
              "      <th>Cured</th>\n",
              "      <th>Deaths</th>\n",
              "      <th>Min Cured</th>\n",
              "      <th>Datetime</th>\n",
              "    </tr>\n",
              "  </thead>\n",
              "  <tbody>\n",
              "    <tr>\n",
              "      <th>4926</th>\n",
              "      <td>2020-08-07</td>\n",
              "      <td>8:00 AM</td>\n",
              "      <td>Gujarat</td>\n",
              "      <td>50350</td>\n",
              "      <td>2583</td>\n",
              "      <td>50350</td>\n",
              "      <td>2020-08-07 08:00:00</td>\n",
              "    </tr>\n",
              "    <tr>\n",
              "      <th>7168</th>\n",
              "      <td>2020-10-10</td>\n",
              "      <td>8:00 AM</td>\n",
              "      <td>Himachal Pradesh</td>\n",
              "      <td>13876</td>\n",
              "      <td>245</td>\n",
              "      <td>13876</td>\n",
              "      <td>2020-10-10 08:00:00</td>\n",
              "    </tr>\n",
              "    <tr>\n",
              "      <th>8347</th>\n",
              "      <td>2020-11-13</td>\n",
              "      <td>8:00 AM</td>\n",
              "      <td>Andhra Pradesh</td>\n",
              "      <td>822011</td>\n",
              "      <td>6837</td>\n",
              "      <td>822011</td>\n",
              "      <td>2020-11-13 08:00:00</td>\n",
              "    </tr>\n",
              "    <tr>\n",
              "      <th>8893</th>\n",
              "      <td>2020-11-28</td>\n",
              "      <td>8:00 AM</td>\n",
              "      <td>Mizoram</td>\n",
              "      <td>3367</td>\n",
              "      <td>5</td>\n",
              "      <td>3367</td>\n",
              "      <td>2020-11-28 08:00:00</td>\n",
              "    </tr>\n",
              "    <tr>\n",
              "      <th>9228</th>\n",
              "      <td>2020-12-08</td>\n",
              "      <td>8:00 AM</td>\n",
              "      <td>Dadra and Nagar Haveli and Daman and Diu</td>\n",
              "      <td>3328</td>\n",
              "      <td>2</td>\n",
              "      <td>3328</td>\n",
              "      <td>2020-12-08 08:00:00</td>\n",
              "    </tr>\n",
              "  </tbody>\n",
              "</table>\n",
              "</div>"
            ],
            "text/plain": [
              "            Date     Time  ... Min Cured            Datetime\n",
              "4926  2020-08-07  8:00 AM  ...     50350 2020-08-07 08:00:00\n",
              "7168  2020-10-10  8:00 AM  ...     13876 2020-10-10 08:00:00\n",
              "8347  2020-11-13  8:00 AM  ...    822011 2020-11-13 08:00:00\n",
              "8893  2020-11-28  8:00 AM  ...      3367 2020-11-28 08:00:00\n",
              "9228  2020-12-08  8:00 AM  ...      3328 2020-12-08 08:00:00\n",
              "\n",
              "[5 rows x 7 columns]"
            ]
          },
          "metadata": {},
          "execution_count": 136
        }
      ]
    },
    {
      "cell_type": "markdown",
      "metadata": {
        "id": "pvMDDzmLjt3o"
      },
      "source": [
        "#### Логические операции"
      ]
    },
    {
      "cell_type": "markdown",
      "metadata": {
        "id": "Pt6d_Elaj1Wp"
      },
      "source": [
        "Для операторов `==, !=, <=, <, >=, >` в `Pandas` есть свой набор эквивалентных методов."
      ]
    },
    {
      "cell_type": "markdown",
      "metadata": {
        "id": "DroOEAXvkDoN"
      },
      "source": [
        "Оператор | Pandas\n",
        "--- | ---\n",
        "`==` | `eq()`\n",
        "`!=` | `ne()`\n",
        "`<=` | `le()`\n",
        "`<` | `lt()`\n",
        "`>=` | `ge()`\n",
        "`>` | `gt()`\n"
      ]
    },
    {
      "cell_type": "markdown",
      "metadata": {
        "id": "3OPkIWPelDVT"
      },
      "source": [
        "Посмотрим на примере."
      ]
    },
    {
      "cell_type": "code",
      "metadata": {
        "colab": {
          "base_uri": "https://localhost:8080/"
        },
        "id": "jKLQvrHdg6yl",
        "outputId": "cfc28884-25fa-488f-907b-b97cce015b76"
      },
      "source": [
        "df.Cured == df.Deaths"
      ],
      "execution_count": null,
      "outputs": [
        {
          "output_type": "execute_result",
          "data": {
            "text/plain": [
              "8292     False\n",
              "10169    False\n",
              "11526    False\n",
              "14629    False\n",
              "7320     False\n",
              "4987     False\n",
              "7203     False\n",
              "4450     False\n",
              "15669    False\n",
              "1635     False\n",
              "dtype: bool"
            ]
          },
          "metadata": {},
          "execution_count": 149
        }
      ]
    },
    {
      "cell_type": "code",
      "metadata": {
        "colab": {
          "base_uri": "https://localhost:8080/"
        },
        "id": "0Ku5iVvxlNxD",
        "outputId": "ebca62fa-e974-4bd8-b692-ca5d2a0fee60"
      },
      "source": [
        "df.Cured.eq(df.Deaths)"
      ],
      "execution_count": null,
      "outputs": [
        {
          "output_type": "execute_result",
          "data": {
            "text/plain": [
              "8292     False\n",
              "10169    False\n",
              "11526    False\n",
              "14629    False\n",
              "7320     False\n",
              "4987     False\n",
              "7203     False\n",
              "4450     False\n",
              "15669    False\n",
              "1635     False\n",
              "dtype: bool"
            ]
          },
          "metadata": {},
          "execution_count": 150
        }
      ]
    },
    {
      "cell_type": "code",
      "metadata": {
        "colab": {
          "base_uri": "https://localhost:8080/"
        },
        "id": "d7Xh4HWxlT7c",
        "outputId": "96e478db-8148-4854-ad35-1e4d06862388"
      },
      "source": [
        "df.Cured > df.Deaths"
      ],
      "execution_count": null,
      "outputs": [
        {
          "output_type": "execute_result",
          "data": {
            "text/plain": [
              "8292     True\n",
              "10169    True\n",
              "11526    True\n",
              "14629    True\n",
              "7320     True\n",
              "4987     True\n",
              "7203     True\n",
              "4450     True\n",
              "15669    True\n",
              "1635     True\n",
              "dtype: bool"
            ]
          },
          "metadata": {},
          "execution_count": 151
        }
      ]
    },
    {
      "cell_type": "code",
      "metadata": {
        "colab": {
          "base_uri": "https://localhost:8080/"
        },
        "id": "OrZ3QzN5lXMJ",
        "outputId": "9fdb678e-7b77-4c68-89bb-c0224f2bfcc5"
      },
      "source": [
        "df.Cured.gt(df.Deaths)"
      ],
      "execution_count": null,
      "outputs": [
        {
          "output_type": "execute_result",
          "data": {
            "text/plain": [
              "8292     True\n",
              "10169    True\n",
              "11526    True\n",
              "14629    True\n",
              "7320     True\n",
              "4987     True\n",
              "7203     True\n",
              "4450     True\n",
              "15669    True\n",
              "1635     True\n",
              "dtype: bool"
            ]
          },
          "metadata": {},
          "execution_count": 152
        }
      ]
    },
    {
      "cell_type": "markdown",
      "metadata": {
        "id": "qsy6dbfyml8l"
      },
      "source": [
        "#### Объединение таблиц"
      ]
    },
    {
      "cell_type": "markdown",
      "metadata": {
        "id": "iPGTTi-5muCI"
      },
      "source": [
        "В пандасе много методов и функций для объединения таблиц."
      ]
    },
    {
      "cell_type": "markdown",
      "metadata": {
        "id": "KGJdaTsJm3Jv"
      },
      "source": [
        "- `combine` объединяет две таблицы по правилу"
      ]
    },
    {
      "cell_type": "code",
      "metadata": {
        "colab": {
          "base_uri": "https://localhost:8080/",
          "height": 112
        },
        "id": "9ngP7HwtlkOt",
        "outputId": "94397950-650d-4854-b210-2e05cf543316"
      },
      "source": [
        "#простой пример из документации\n",
        "df1 = pd.DataFrame({'A': [5, 0], 'B': [2, 4]})\n",
        "df2 = pd.DataFrame({'A': [1, 1], 'B': [3, 3]})\n",
        "take_smaller = lambda s1, s2: s1 if s1.sum() < s2.sum() else s2\n",
        "df1.combine(df2, take_smaller)"
      ],
      "execution_count": null,
      "outputs": [
        {
          "output_type": "execute_result",
          "data": {
            "text/html": [
              "<div>\n",
              "<style scoped>\n",
              "    .dataframe tbody tr th:only-of-type {\n",
              "        vertical-align: middle;\n",
              "    }\n",
              "\n",
              "    .dataframe tbody tr th {\n",
              "        vertical-align: top;\n",
              "    }\n",
              "\n",
              "    .dataframe thead th {\n",
              "        text-align: right;\n",
              "    }\n",
              "</style>\n",
              "<table border=\"1\" class=\"dataframe\">\n",
              "  <thead>\n",
              "    <tr style=\"text-align: right;\">\n",
              "      <th></th>\n",
              "      <th>A</th>\n",
              "      <th>B</th>\n",
              "    </tr>\n",
              "  </thead>\n",
              "  <tbody>\n",
              "    <tr>\n",
              "      <th>0</th>\n",
              "      <td>1</td>\n",
              "      <td>3</td>\n",
              "    </tr>\n",
              "    <tr>\n",
              "      <th>1</th>\n",
              "      <td>1</td>\n",
              "      <td>3</td>\n",
              "    </tr>\n",
              "  </tbody>\n",
              "</table>\n",
              "</div>"
            ],
            "text/plain": [
              "   A  B\n",
              "0  1  3\n",
              "1  1  3"
            ]
          },
          "metadata": {},
          "execution_count": 58
        }
      ]
    },
    {
      "cell_type": "code",
      "metadata": {
        "colab": {
          "base_uri": "https://localhost:8080/",
          "height": 112
        },
        "id": "q437Z6zond3r",
        "outputId": "6725354d-7c8d-444b-97cb-dbe63b1e8115"
      },
      "source": [
        "import numpy as np\n",
        "df1 = pd.DataFrame({'A': [5, 0], 'B': [2, 4]})\n",
        "df2 = pd.DataFrame({'A': [1, 1], 'B': [3, 3]})\n",
        "df1.combine(df2, np.minimum)"
      ],
      "execution_count": null,
      "outputs": [
        {
          "output_type": "execute_result",
          "data": {
            "text/html": [
              "<div>\n",
              "<style scoped>\n",
              "    .dataframe tbody tr th:only-of-type {\n",
              "        vertical-align: middle;\n",
              "    }\n",
              "\n",
              "    .dataframe tbody tr th {\n",
              "        vertical-align: top;\n",
              "    }\n",
              "\n",
              "    .dataframe thead th {\n",
              "        text-align: right;\n",
              "    }\n",
              "</style>\n",
              "<table border=\"1\" class=\"dataframe\">\n",
              "  <thead>\n",
              "    <tr style=\"text-align: right;\">\n",
              "      <th></th>\n",
              "      <th>A</th>\n",
              "      <th>B</th>\n",
              "    </tr>\n",
              "  </thead>\n",
              "  <tbody>\n",
              "    <tr>\n",
              "      <th>0</th>\n",
              "      <td>1</td>\n",
              "      <td>2</td>\n",
              "    </tr>\n",
              "    <tr>\n",
              "      <th>1</th>\n",
              "      <td>0</td>\n",
              "      <td>3</td>\n",
              "    </tr>\n",
              "  </tbody>\n",
              "</table>\n",
              "</div>"
            ],
            "text/plain": [
              "   A  B\n",
              "0  1  2\n",
              "1  0  3"
            ]
          },
          "metadata": {},
          "execution_count": 59
        }
      ]
    },
    {
      "cell_type": "markdown",
      "metadata": {
        "id": "UDheOjRontoS"
      },
      "source": [
        "Удобно использовать, например, когда в двух равных по размерности и значениям таблицах данные по столбцу отсутствуют в разных ячейках. Так можно аккуратно их дозаполнить."
      ]
    },
    {
      "cell_type": "markdown",
      "metadata": {
        "id": "ykoEjZoHoVHB"
      },
      "source": [
        "- `combine_first` делает ровно то, что описано в примере выше. При этом пустые значения не заменяются, если присутствуют в соответствующих ячейках обеих таблиц"
      ]
    },
    {
      "cell_type": "code",
      "metadata": {
        "colab": {
          "base_uri": "https://localhost:8080/",
          "height": 112
        },
        "id": "ts0qyVsnnk9d",
        "outputId": "322391b4-8ac1-4a0c-eecf-1cb52892168e"
      },
      "source": [
        "df1 = pd.DataFrame({'A': [None, 0], 'B': [None, 4]})\n",
        "df2 = pd.DataFrame({'A': [1, 1], 'B': [3, 3]})\n",
        "df1.combine_first(df2)"
      ],
      "execution_count": null,
      "outputs": [
        {
          "output_type": "execute_result",
          "data": {
            "text/html": [
              "<div>\n",
              "<style scoped>\n",
              "    .dataframe tbody tr th:only-of-type {\n",
              "        vertical-align: middle;\n",
              "    }\n",
              "\n",
              "    .dataframe tbody tr th {\n",
              "        vertical-align: top;\n",
              "    }\n",
              "\n",
              "    .dataframe thead th {\n",
              "        text-align: right;\n",
              "    }\n",
              "</style>\n",
              "<table border=\"1\" class=\"dataframe\">\n",
              "  <thead>\n",
              "    <tr style=\"text-align: right;\">\n",
              "      <th></th>\n",
              "      <th>A</th>\n",
              "      <th>B</th>\n",
              "    </tr>\n",
              "  </thead>\n",
              "  <tbody>\n",
              "    <tr>\n",
              "      <th>0</th>\n",
              "      <td>1.0</td>\n",
              "      <td>3.0</td>\n",
              "    </tr>\n",
              "    <tr>\n",
              "      <th>1</th>\n",
              "      <td>0.0</td>\n",
              "      <td>4.0</td>\n",
              "    </tr>\n",
              "  </tbody>\n",
              "</table>\n",
              "</div>"
            ],
            "text/plain": [
              "     A    B\n",
              "0  1.0  3.0\n",
              "1  0.0  4.0"
            ]
          },
          "metadata": {},
          "execution_count": 60
        }
      ]
    },
    {
      "cell_type": "markdown",
      "metadata": {
        "id": "GaowppzwBVqC"
      },
      "source": [
        "- `append()` добавляет одну строку или таблицу в конец другой"
      ]
    },
    {
      "cell_type": "code",
      "metadata": {
        "id": "nd15JNYXBVH5",
        "colab": {
          "base_uri": "https://localhost:8080/",
          "height": 143
        },
        "outputId": "f4bc9c98-1aad-4788-c801-762ff350b960"
      },
      "source": [
        "#для начала разделим\n",
        "df1, df2 = df.iloc[:3, :], df.iloc[3:, :]\n",
        "df1"
      ],
      "execution_count": null,
      "outputs": [
        {
          "output_type": "execute_result",
          "data": {
            "text/html": [
              "<div>\n",
              "<style scoped>\n",
              "    .dataframe tbody tr th:only-of-type {\n",
              "        vertical-align: middle;\n",
              "    }\n",
              "\n",
              "    .dataframe tbody tr th {\n",
              "        vertical-align: top;\n",
              "    }\n",
              "\n",
              "    .dataframe thead th {\n",
              "        text-align: right;\n",
              "    }\n",
              "</style>\n",
              "<table border=\"1\" class=\"dataframe\">\n",
              "  <thead>\n",
              "    <tr style=\"text-align: right;\">\n",
              "      <th></th>\n",
              "      <th>Date</th>\n",
              "      <th>Time</th>\n",
              "      <th>State/UnionTerritory</th>\n",
              "      <th>Cured</th>\n",
              "      <th>Deaths</th>\n",
              "    </tr>\n",
              "  </thead>\n",
              "  <tbody>\n",
              "    <tr>\n",
              "      <th>8292</th>\n",
              "      <td>2020-11-11</td>\n",
              "      <td>8:00 AM</td>\n",
              "      <td>Kerala</td>\n",
              "      <td>415158</td>\n",
              "      <td>1742</td>\n",
              "    </tr>\n",
              "    <tr>\n",
              "      <th>10169</th>\n",
              "      <td>2021-01-03</td>\n",
              "      <td>8:00 AM</td>\n",
              "      <td>Karnataka</td>\n",
              "      <td>898176</td>\n",
              "      <td>12099</td>\n",
              "    </tr>\n",
              "    <tr>\n",
              "      <th>11526</th>\n",
              "      <td>2021-02-10</td>\n",
              "      <td>8:00 AM</td>\n",
              "      <td>Bihar</td>\n",
              "      <td>259074</td>\n",
              "      <td>1518</td>\n",
              "    </tr>\n",
              "  </tbody>\n",
              "</table>\n",
              "</div>"
            ],
            "text/plain": [
              "             Date     Time State/UnionTerritory   Cured  Deaths\n",
              "8292   2020-11-11  8:00 AM               Kerala  415158    1742\n",
              "10169  2021-01-03  8:00 AM            Karnataka  898176   12099\n",
              "11526  2021-02-10  8:00 AM                Bihar  259074    1518"
            ]
          },
          "metadata": {},
          "execution_count": 154
        }
      ]
    },
    {
      "cell_type": "code",
      "metadata": {
        "colab": {
          "base_uri": "https://localhost:8080/",
          "height": 269
        },
        "id": "96YCX_mgCWYf",
        "outputId": "8b4934f5-e929-4dc4-c901-c9d70073f845"
      },
      "source": [
        "df2"
      ],
      "execution_count": null,
      "outputs": [
        {
          "output_type": "execute_result",
          "data": {
            "text/html": [
              "<div>\n",
              "<style scoped>\n",
              "    .dataframe tbody tr th:only-of-type {\n",
              "        vertical-align: middle;\n",
              "    }\n",
              "\n",
              "    .dataframe tbody tr th {\n",
              "        vertical-align: top;\n",
              "    }\n",
              "\n",
              "    .dataframe thead th {\n",
              "        text-align: right;\n",
              "    }\n",
              "</style>\n",
              "<table border=\"1\" class=\"dataframe\">\n",
              "  <thead>\n",
              "    <tr style=\"text-align: right;\">\n",
              "      <th></th>\n",
              "      <th>Date</th>\n",
              "      <th>Time</th>\n",
              "      <th>State/UnionTerritory</th>\n",
              "      <th>Cured</th>\n",
              "      <th>Deaths</th>\n",
              "    </tr>\n",
              "  </thead>\n",
              "  <tbody>\n",
              "    <tr>\n",
              "      <th>14629</th>\n",
              "      <td>2021-05-07</td>\n",
              "      <td>8:00 AM</td>\n",
              "      <td>Haryana</td>\n",
              "      <td>452836</td>\n",
              "      <td>5137</td>\n",
              "    </tr>\n",
              "    <tr>\n",
              "      <th>7320</th>\n",
              "      <td>2020-10-14</td>\n",
              "      <td>8:00 AM</td>\n",
              "      <td>Odisha</td>\n",
              "      <td>232988</td>\n",
              "      <td>1057</td>\n",
              "    </tr>\n",
              "    <tr>\n",
              "      <th>4987</th>\n",
              "      <td>2020-08-09</td>\n",
              "      <td>8:00 AM</td>\n",
              "      <td>Andhra Pradesh</td>\n",
              "      <td>129615</td>\n",
              "      <td>1939</td>\n",
              "    </tr>\n",
              "    <tr>\n",
              "      <th>7203</th>\n",
              "      <td>2020-10-11</td>\n",
              "      <td>8:00 AM</td>\n",
              "      <td>Himachal Pradesh</td>\n",
              "      <td>14278</td>\n",
              "      <td>248</td>\n",
              "    </tr>\n",
              "    <tr>\n",
              "      <th>4450</th>\n",
              "      <td>2020-07-24</td>\n",
              "      <td>8:00 AM</td>\n",
              "      <td>Odisha</td>\n",
              "      <td>14393</td>\n",
              "      <td>114</td>\n",
              "    </tr>\n",
              "    <tr>\n",
              "      <th>15669</th>\n",
              "      <td>2021-06-05</td>\n",
              "      <td>8:00 AM</td>\n",
              "      <td>Dadra and Nagar Haveli</td>\n",
              "      <td>10261</td>\n",
              "      <td>4</td>\n",
              "    </tr>\n",
              "    <tr>\n",
              "      <th>1635</th>\n",
              "      <td>2020-05-05</td>\n",
              "      <td>5:00 PM</td>\n",
              "      <td>Uttarakhand</td>\n",
              "      <td>39</td>\n",
              "      <td>1</td>\n",
              "    </tr>\n",
              "  </tbody>\n",
              "</table>\n",
              "</div>"
            ],
            "text/plain": [
              "             Date     Time    State/UnionTerritory   Cured  Deaths\n",
              "14629  2021-05-07  8:00 AM                 Haryana  452836    5137\n",
              "7320   2020-10-14  8:00 AM                  Odisha  232988    1057\n",
              "4987   2020-08-09  8:00 AM          Andhra Pradesh  129615    1939\n",
              "7203   2020-10-11  8:00 AM        Himachal Pradesh   14278     248\n",
              "4450   2020-07-24  8:00 AM                  Odisha   14393     114\n",
              "15669  2021-06-05  8:00 AM  Dadra and Nagar Haveli   10261       4\n",
              "1635   2020-05-05  5:00 PM             Uttarakhand      39       1"
            ]
          },
          "metadata": {},
          "execution_count": 155
        }
      ]
    },
    {
      "cell_type": "code",
      "metadata": {
        "colab": {
          "base_uri": "https://localhost:8080/",
          "height": 363
        },
        "id": "TZIaKApZCihp",
        "outputId": "8c22a1f5-db86-4c6f-e1d4-b75b06c6a55b"
      },
      "source": [
        "df3 = df2.append(df1, ignore_index=True)\n",
        "df3"
      ],
      "execution_count": null,
      "outputs": [
        {
          "output_type": "execute_result",
          "data": {
            "text/html": [
              "<div>\n",
              "<style scoped>\n",
              "    .dataframe tbody tr th:only-of-type {\n",
              "        vertical-align: middle;\n",
              "    }\n",
              "\n",
              "    .dataframe tbody tr th {\n",
              "        vertical-align: top;\n",
              "    }\n",
              "\n",
              "    .dataframe thead th {\n",
              "        text-align: right;\n",
              "    }\n",
              "</style>\n",
              "<table border=\"1\" class=\"dataframe\">\n",
              "  <thead>\n",
              "    <tr style=\"text-align: right;\">\n",
              "      <th></th>\n",
              "      <th>Date</th>\n",
              "      <th>Time</th>\n",
              "      <th>State/UnionTerritory</th>\n",
              "      <th>Cured</th>\n",
              "      <th>Deaths</th>\n",
              "    </tr>\n",
              "  </thead>\n",
              "  <tbody>\n",
              "    <tr>\n",
              "      <th>0</th>\n",
              "      <td>2021-05-07</td>\n",
              "      <td>8:00 AM</td>\n",
              "      <td>Haryana</td>\n",
              "      <td>452836</td>\n",
              "      <td>5137</td>\n",
              "    </tr>\n",
              "    <tr>\n",
              "      <th>1</th>\n",
              "      <td>2020-10-14</td>\n",
              "      <td>8:00 AM</td>\n",
              "      <td>Odisha</td>\n",
              "      <td>232988</td>\n",
              "      <td>1057</td>\n",
              "    </tr>\n",
              "    <tr>\n",
              "      <th>2</th>\n",
              "      <td>2020-08-09</td>\n",
              "      <td>8:00 AM</td>\n",
              "      <td>Andhra Pradesh</td>\n",
              "      <td>129615</td>\n",
              "      <td>1939</td>\n",
              "    </tr>\n",
              "    <tr>\n",
              "      <th>3</th>\n",
              "      <td>2020-10-11</td>\n",
              "      <td>8:00 AM</td>\n",
              "      <td>Himachal Pradesh</td>\n",
              "      <td>14278</td>\n",
              "      <td>248</td>\n",
              "    </tr>\n",
              "    <tr>\n",
              "      <th>4</th>\n",
              "      <td>2020-07-24</td>\n",
              "      <td>8:00 AM</td>\n",
              "      <td>Odisha</td>\n",
              "      <td>14393</td>\n",
              "      <td>114</td>\n",
              "    </tr>\n",
              "    <tr>\n",
              "      <th>5</th>\n",
              "      <td>2021-06-05</td>\n",
              "      <td>8:00 AM</td>\n",
              "      <td>Dadra and Nagar Haveli</td>\n",
              "      <td>10261</td>\n",
              "      <td>4</td>\n",
              "    </tr>\n",
              "    <tr>\n",
              "      <th>6</th>\n",
              "      <td>2020-05-05</td>\n",
              "      <td>5:00 PM</td>\n",
              "      <td>Uttarakhand</td>\n",
              "      <td>39</td>\n",
              "      <td>1</td>\n",
              "    </tr>\n",
              "    <tr>\n",
              "      <th>7</th>\n",
              "      <td>2020-11-11</td>\n",
              "      <td>8:00 AM</td>\n",
              "      <td>Kerala</td>\n",
              "      <td>415158</td>\n",
              "      <td>1742</td>\n",
              "    </tr>\n",
              "    <tr>\n",
              "      <th>8</th>\n",
              "      <td>2021-01-03</td>\n",
              "      <td>8:00 AM</td>\n",
              "      <td>Karnataka</td>\n",
              "      <td>898176</td>\n",
              "      <td>12099</td>\n",
              "    </tr>\n",
              "    <tr>\n",
              "      <th>9</th>\n",
              "      <td>2021-02-10</td>\n",
              "      <td>8:00 AM</td>\n",
              "      <td>Bihar</td>\n",
              "      <td>259074</td>\n",
              "      <td>1518</td>\n",
              "    </tr>\n",
              "  </tbody>\n",
              "</table>\n",
              "</div>"
            ],
            "text/plain": [
              "         Date     Time    State/UnionTerritory   Cured  Deaths\n",
              "0  2021-05-07  8:00 AM                 Haryana  452836    5137\n",
              "1  2020-10-14  8:00 AM                  Odisha  232988    1057\n",
              "2  2020-08-09  8:00 AM          Andhra Pradesh  129615    1939\n",
              "3  2020-10-11  8:00 AM        Himachal Pradesh   14278     248\n",
              "4  2020-07-24  8:00 AM                  Odisha   14393     114\n",
              "5  2021-06-05  8:00 AM  Dadra and Nagar Haveli   10261       4\n",
              "6  2020-05-05  5:00 PM             Uttarakhand      39       1\n",
              "7  2020-11-11  8:00 AM                  Kerala  415158    1742\n",
              "8  2021-01-03  8:00 AM               Karnataka  898176   12099\n",
              "9  2021-02-10  8:00 AM                   Bihar  259074    1518"
            ]
          },
          "metadata": {},
          "execution_count": 156
        }
      ]
    },
    {
      "cell_type": "markdown",
      "metadata": {
        "id": "2nVz1gvoDMbu"
      },
      "source": [
        "- `compare()` сравнивает две таблицы и выводит разницу"
      ]
    },
    {
      "cell_type": "code",
      "metadata": {
        "colab": {
          "base_uri": "https://localhost:8080/",
          "height": 394
        },
        "id": "yc2LE8j5ElWz",
        "outputId": "628aa7bb-c7dc-4287-b833-ee2731cb9eca"
      },
      "source": [
        "df_copy = df.reset_index(drop=True)\n",
        "df_copy.compare(df3)"
      ],
      "execution_count": null,
      "outputs": [
        {
          "output_type": "execute_result",
          "data": {
            "text/html": [
              "<div>\n",
              "<style scoped>\n",
              "    .dataframe tbody tr th:only-of-type {\n",
              "        vertical-align: middle;\n",
              "    }\n",
              "\n",
              "    .dataframe tbody tr th {\n",
              "        vertical-align: top;\n",
              "    }\n",
              "\n",
              "    .dataframe thead tr th {\n",
              "        text-align: left;\n",
              "    }\n",
              "</style>\n",
              "<table border=\"1\" class=\"dataframe\">\n",
              "  <thead>\n",
              "    <tr>\n",
              "      <th></th>\n",
              "      <th colspan=\"2\" halign=\"left\">Date</th>\n",
              "      <th colspan=\"2\" halign=\"left\">Time</th>\n",
              "      <th colspan=\"2\" halign=\"left\">State/UnionTerritory</th>\n",
              "      <th colspan=\"2\" halign=\"left\">Cured</th>\n",
              "      <th colspan=\"2\" halign=\"left\">Deaths</th>\n",
              "    </tr>\n",
              "    <tr>\n",
              "      <th></th>\n",
              "      <th>self</th>\n",
              "      <th>other</th>\n",
              "      <th>self</th>\n",
              "      <th>other</th>\n",
              "      <th>self</th>\n",
              "      <th>other</th>\n",
              "      <th>self</th>\n",
              "      <th>other</th>\n",
              "      <th>self</th>\n",
              "      <th>other</th>\n",
              "    </tr>\n",
              "  </thead>\n",
              "  <tbody>\n",
              "    <tr>\n",
              "      <th>0</th>\n",
              "      <td>2020-11-11</td>\n",
              "      <td>2021-05-07</td>\n",
              "      <td>NaN</td>\n",
              "      <td>NaN</td>\n",
              "      <td>Kerala</td>\n",
              "      <td>Haryana</td>\n",
              "      <td>415158</td>\n",
              "      <td>452836</td>\n",
              "      <td>1742</td>\n",
              "      <td>5137</td>\n",
              "    </tr>\n",
              "    <tr>\n",
              "      <th>1</th>\n",
              "      <td>2021-01-03</td>\n",
              "      <td>2020-10-14</td>\n",
              "      <td>NaN</td>\n",
              "      <td>NaN</td>\n",
              "      <td>Karnataka</td>\n",
              "      <td>Odisha</td>\n",
              "      <td>898176</td>\n",
              "      <td>232988</td>\n",
              "      <td>12099</td>\n",
              "      <td>1057</td>\n",
              "    </tr>\n",
              "    <tr>\n",
              "      <th>2</th>\n",
              "      <td>2021-02-10</td>\n",
              "      <td>2020-08-09</td>\n",
              "      <td>NaN</td>\n",
              "      <td>NaN</td>\n",
              "      <td>Bihar</td>\n",
              "      <td>Andhra Pradesh</td>\n",
              "      <td>259074</td>\n",
              "      <td>129615</td>\n",
              "      <td>1518</td>\n",
              "      <td>1939</td>\n",
              "    </tr>\n",
              "    <tr>\n",
              "      <th>3</th>\n",
              "      <td>2021-05-07</td>\n",
              "      <td>2020-10-11</td>\n",
              "      <td>NaN</td>\n",
              "      <td>NaN</td>\n",
              "      <td>Haryana</td>\n",
              "      <td>Himachal Pradesh</td>\n",
              "      <td>452836</td>\n",
              "      <td>14278</td>\n",
              "      <td>5137</td>\n",
              "      <td>248</td>\n",
              "    </tr>\n",
              "    <tr>\n",
              "      <th>4</th>\n",
              "      <td>2020-10-14</td>\n",
              "      <td>2020-07-24</td>\n",
              "      <td>NaN</td>\n",
              "      <td>NaN</td>\n",
              "      <td>NaN</td>\n",
              "      <td>NaN</td>\n",
              "      <td>232988</td>\n",
              "      <td>14393</td>\n",
              "      <td>1057</td>\n",
              "      <td>114</td>\n",
              "    </tr>\n",
              "    <tr>\n",
              "      <th>5</th>\n",
              "      <td>2020-08-09</td>\n",
              "      <td>2021-06-05</td>\n",
              "      <td>NaN</td>\n",
              "      <td>NaN</td>\n",
              "      <td>Andhra Pradesh</td>\n",
              "      <td>Dadra and Nagar Haveli</td>\n",
              "      <td>129615</td>\n",
              "      <td>10261</td>\n",
              "      <td>1939</td>\n",
              "      <td>4</td>\n",
              "    </tr>\n",
              "    <tr>\n",
              "      <th>6</th>\n",
              "      <td>2020-10-11</td>\n",
              "      <td>2020-05-05</td>\n",
              "      <td>8:00 AM</td>\n",
              "      <td>5:00 PM</td>\n",
              "      <td>Himachal Pradesh</td>\n",
              "      <td>Uttarakhand</td>\n",
              "      <td>14278</td>\n",
              "      <td>39</td>\n",
              "      <td>248</td>\n",
              "      <td>1</td>\n",
              "    </tr>\n",
              "    <tr>\n",
              "      <th>7</th>\n",
              "      <td>2020-07-24</td>\n",
              "      <td>2020-11-11</td>\n",
              "      <td>NaN</td>\n",
              "      <td>NaN</td>\n",
              "      <td>Odisha</td>\n",
              "      <td>Kerala</td>\n",
              "      <td>14393</td>\n",
              "      <td>415158</td>\n",
              "      <td>114</td>\n",
              "      <td>1742</td>\n",
              "    </tr>\n",
              "    <tr>\n",
              "      <th>8</th>\n",
              "      <td>2021-06-05</td>\n",
              "      <td>2021-01-03</td>\n",
              "      <td>NaN</td>\n",
              "      <td>NaN</td>\n",
              "      <td>Dadra and Nagar Haveli</td>\n",
              "      <td>Karnataka</td>\n",
              "      <td>10261</td>\n",
              "      <td>898176</td>\n",
              "      <td>4</td>\n",
              "      <td>12099</td>\n",
              "    </tr>\n",
              "    <tr>\n",
              "      <th>9</th>\n",
              "      <td>2020-05-05</td>\n",
              "      <td>2021-02-10</td>\n",
              "      <td>5:00 PM</td>\n",
              "      <td>8:00 AM</td>\n",
              "      <td>Uttarakhand</td>\n",
              "      <td>Bihar</td>\n",
              "      <td>39</td>\n",
              "      <td>259074</td>\n",
              "      <td>1</td>\n",
              "      <td>1518</td>\n",
              "    </tr>\n",
              "  </tbody>\n",
              "</table>\n",
              "</div>"
            ],
            "text/plain": [
              "         Date                 Time           ...   Cured         Deaths       \n",
              "         self       other     self    other  ...    self   other   self  other\n",
              "0  2020-11-11  2021-05-07      NaN      NaN  ...  415158  452836   1742   5137\n",
              "1  2021-01-03  2020-10-14      NaN      NaN  ...  898176  232988  12099   1057\n",
              "2  2021-02-10  2020-08-09      NaN      NaN  ...  259074  129615   1518   1939\n",
              "3  2021-05-07  2020-10-11      NaN      NaN  ...  452836   14278   5137    248\n",
              "4  2020-10-14  2020-07-24      NaN      NaN  ...  232988   14393   1057    114\n",
              "5  2020-08-09  2021-06-05      NaN      NaN  ...  129615   10261   1939      4\n",
              "6  2020-10-11  2020-05-05  8:00 AM  5:00 PM  ...   14278      39    248      1\n",
              "7  2020-07-24  2020-11-11      NaN      NaN  ...   14393  415158    114   1742\n",
              "8  2021-06-05  2021-01-03      NaN      NaN  ...   10261  898176      4  12099\n",
              "9  2020-05-05  2021-02-10  5:00 PM  8:00 AM  ...      39  259074      1   1518\n",
              "\n",
              "[10 rows x 10 columns]"
            ]
          },
          "metadata": {},
          "execution_count": 157
        }
      ]
    },
    {
      "cell_type": "markdown",
      "metadata": {
        "id": "4UytT3A1GkuY"
      },
      "source": [
        "`NaN` в табличке означает, что значения в ячейках одинаковые."
      ]
    },
    {
      "cell_type": "markdown",
      "metadata": {
        "id": "epxpdiEIHPGx"
      },
      "source": [
        "- `join()` объединяет две таблицы по одному или нескольким столбцам."
      ]
    },
    {
      "cell_type": "code",
      "metadata": {
        "colab": {
          "base_uri": "https://localhost:8080/",
          "height": 269
        },
        "id": "ohB3-BUwKH8Y",
        "outputId": "97116a8b-e2bf-421c-8e29-127be3f1f850"
      },
      "source": [
        "df_t = pd.DataFrame({'key': ['K0', 'K1', 'K2', 'K3', 'K4', 'K5'],\n",
        "                   'A': ['A0', 'A1', 'A2', 'A3', 'A4', 'A5']})\n",
        "other = pd.DataFrame({'key': ['K0', 'K1', 'K2'],\n",
        "                      'B': ['B0', 'B1', 'B2']})\n",
        "df_t.set_index('key').join(other.set_index('key'))"
      ],
      "execution_count": null,
      "outputs": [
        {
          "output_type": "execute_result",
          "data": {
            "text/html": [
              "<div>\n",
              "<style scoped>\n",
              "    .dataframe tbody tr th:only-of-type {\n",
              "        vertical-align: middle;\n",
              "    }\n",
              "\n",
              "    .dataframe tbody tr th {\n",
              "        vertical-align: top;\n",
              "    }\n",
              "\n",
              "    .dataframe thead th {\n",
              "        text-align: right;\n",
              "    }\n",
              "</style>\n",
              "<table border=\"1\" class=\"dataframe\">\n",
              "  <thead>\n",
              "    <tr style=\"text-align: right;\">\n",
              "      <th></th>\n",
              "      <th>A</th>\n",
              "      <th>B</th>\n",
              "    </tr>\n",
              "    <tr>\n",
              "      <th>key</th>\n",
              "      <th></th>\n",
              "      <th></th>\n",
              "    </tr>\n",
              "  </thead>\n",
              "  <tbody>\n",
              "    <tr>\n",
              "      <th>K0</th>\n",
              "      <td>A0</td>\n",
              "      <td>B0</td>\n",
              "    </tr>\n",
              "    <tr>\n",
              "      <th>K1</th>\n",
              "      <td>A1</td>\n",
              "      <td>B1</td>\n",
              "    </tr>\n",
              "    <tr>\n",
              "      <th>K2</th>\n",
              "      <td>A2</td>\n",
              "      <td>B2</td>\n",
              "    </tr>\n",
              "    <tr>\n",
              "      <th>K3</th>\n",
              "      <td>A3</td>\n",
              "      <td>NaN</td>\n",
              "    </tr>\n",
              "    <tr>\n",
              "      <th>K4</th>\n",
              "      <td>A4</td>\n",
              "      <td>NaN</td>\n",
              "    </tr>\n",
              "    <tr>\n",
              "      <th>K5</th>\n",
              "      <td>A5</td>\n",
              "      <td>NaN</td>\n",
              "    </tr>\n",
              "  </tbody>\n",
              "</table>\n",
              "</div>"
            ],
            "text/plain": [
              "      A    B\n",
              "key         \n",
              "K0   A0   B0\n",
              "K1   A1   B1\n",
              "K2   A2   B2\n",
              "K3   A3  NaN\n",
              "K4   A4  NaN\n",
              "K5   A5  NaN"
            ]
          },
          "metadata": {},
          "execution_count": 65
        }
      ]
    },
    {
      "cell_type": "code",
      "metadata": {
        "colab": {
          "base_uri": "https://localhost:8080/",
          "height": 238
        },
        "id": "WWA9m-VlKT0R",
        "outputId": "b471c332-d710-457a-907d-5d8883165aa0"
      },
      "source": [
        "df_t.join(other.set_index('key'), on='key')"
      ],
      "execution_count": null,
      "outputs": [
        {
          "output_type": "execute_result",
          "data": {
            "text/html": [
              "<div>\n",
              "<style scoped>\n",
              "    .dataframe tbody tr th:only-of-type {\n",
              "        vertical-align: middle;\n",
              "    }\n",
              "\n",
              "    .dataframe tbody tr th {\n",
              "        vertical-align: top;\n",
              "    }\n",
              "\n",
              "    .dataframe thead th {\n",
              "        text-align: right;\n",
              "    }\n",
              "</style>\n",
              "<table border=\"1\" class=\"dataframe\">\n",
              "  <thead>\n",
              "    <tr style=\"text-align: right;\">\n",
              "      <th></th>\n",
              "      <th>key</th>\n",
              "      <th>A</th>\n",
              "      <th>B</th>\n",
              "    </tr>\n",
              "  </thead>\n",
              "  <tbody>\n",
              "    <tr>\n",
              "      <th>0</th>\n",
              "      <td>K0</td>\n",
              "      <td>A0</td>\n",
              "      <td>B0</td>\n",
              "    </tr>\n",
              "    <tr>\n",
              "      <th>1</th>\n",
              "      <td>K1</td>\n",
              "      <td>A1</td>\n",
              "      <td>B1</td>\n",
              "    </tr>\n",
              "    <tr>\n",
              "      <th>2</th>\n",
              "      <td>K2</td>\n",
              "      <td>A2</td>\n",
              "      <td>B2</td>\n",
              "    </tr>\n",
              "    <tr>\n",
              "      <th>3</th>\n",
              "      <td>K3</td>\n",
              "      <td>A3</td>\n",
              "      <td>NaN</td>\n",
              "    </tr>\n",
              "    <tr>\n",
              "      <th>4</th>\n",
              "      <td>K4</td>\n",
              "      <td>A4</td>\n",
              "      <td>NaN</td>\n",
              "    </tr>\n",
              "    <tr>\n",
              "      <th>5</th>\n",
              "      <td>K5</td>\n",
              "      <td>A5</td>\n",
              "      <td>NaN</td>\n",
              "    </tr>\n",
              "  </tbody>\n",
              "</table>\n",
              "</div>"
            ],
            "text/plain": [
              "  key   A    B\n",
              "0  K0  A0   B0\n",
              "1  K1  A1   B1\n",
              "2  K2  A2   B2\n",
              "3  K3  A3  NaN\n",
              "4  K4  A4  NaN\n",
              "5  K5  A5  NaN"
            ]
          },
          "metadata": {},
          "execution_count": 66
        }
      ]
    },
    {
      "cell_type": "markdown",
      "metadata": {
        "id": "7rshFHvNKU18"
      },
      "source": [
        "Объединяемые татблицы должны совпадать по количеству строк, столбцов и значениям хотя бы одного из столбцов."
      ]
    },
    {
      "cell_type": "markdown",
      "metadata": {
        "id": "W-B5lFWEKgCJ"
      },
      "source": [
        "- `merge()` как `join()`, но не требует совпадения размерности."
      ]
    },
    {
      "cell_type": "code",
      "metadata": {
        "colab": {
          "base_uri": "https://localhost:8080/",
          "height": 363
        },
        "id": "cFFrHLI5HXIx",
        "outputId": "77ce623b-211a-473d-bc57-231c1bc67753"
      },
      "source": [
        "df = df.rename(columns={\"State/UnionTerritory\": \"State\"})\n",
        "df"
      ],
      "execution_count": null,
      "outputs": [
        {
          "output_type": "execute_result",
          "data": {
            "text/html": [
              "<div>\n",
              "<style scoped>\n",
              "    .dataframe tbody tr th:only-of-type {\n",
              "        vertical-align: middle;\n",
              "    }\n",
              "\n",
              "    .dataframe tbody tr th {\n",
              "        vertical-align: top;\n",
              "    }\n",
              "\n",
              "    .dataframe thead th {\n",
              "        text-align: right;\n",
              "    }\n",
              "</style>\n",
              "<table border=\"1\" class=\"dataframe\">\n",
              "  <thead>\n",
              "    <tr style=\"text-align: right;\">\n",
              "      <th></th>\n",
              "      <th>Date</th>\n",
              "      <th>Time</th>\n",
              "      <th>State</th>\n",
              "      <th>Cured</th>\n",
              "      <th>Deaths</th>\n",
              "    </tr>\n",
              "  </thead>\n",
              "  <tbody>\n",
              "    <tr>\n",
              "      <th>8292</th>\n",
              "      <td>2020-11-11</td>\n",
              "      <td>8:00 AM</td>\n",
              "      <td>Kerala</td>\n",
              "      <td>415158</td>\n",
              "      <td>1742</td>\n",
              "    </tr>\n",
              "    <tr>\n",
              "      <th>10169</th>\n",
              "      <td>2021-01-03</td>\n",
              "      <td>8:00 AM</td>\n",
              "      <td>Karnataka</td>\n",
              "      <td>898176</td>\n",
              "      <td>12099</td>\n",
              "    </tr>\n",
              "    <tr>\n",
              "      <th>11526</th>\n",
              "      <td>2021-02-10</td>\n",
              "      <td>8:00 AM</td>\n",
              "      <td>Bihar</td>\n",
              "      <td>259074</td>\n",
              "      <td>1518</td>\n",
              "    </tr>\n",
              "    <tr>\n",
              "      <th>14629</th>\n",
              "      <td>2021-05-07</td>\n",
              "      <td>8:00 AM</td>\n",
              "      <td>Haryana</td>\n",
              "      <td>452836</td>\n",
              "      <td>5137</td>\n",
              "    </tr>\n",
              "    <tr>\n",
              "      <th>7320</th>\n",
              "      <td>2020-10-14</td>\n",
              "      <td>8:00 AM</td>\n",
              "      <td>Odisha</td>\n",
              "      <td>232988</td>\n",
              "      <td>1057</td>\n",
              "    </tr>\n",
              "    <tr>\n",
              "      <th>4987</th>\n",
              "      <td>2020-08-09</td>\n",
              "      <td>8:00 AM</td>\n",
              "      <td>Andhra Pradesh</td>\n",
              "      <td>129615</td>\n",
              "      <td>1939</td>\n",
              "    </tr>\n",
              "    <tr>\n",
              "      <th>7203</th>\n",
              "      <td>2020-10-11</td>\n",
              "      <td>8:00 AM</td>\n",
              "      <td>Himachal Pradesh</td>\n",
              "      <td>14278</td>\n",
              "      <td>248</td>\n",
              "    </tr>\n",
              "    <tr>\n",
              "      <th>4450</th>\n",
              "      <td>2020-07-24</td>\n",
              "      <td>8:00 AM</td>\n",
              "      <td>Odisha</td>\n",
              "      <td>14393</td>\n",
              "      <td>114</td>\n",
              "    </tr>\n",
              "    <tr>\n",
              "      <th>15669</th>\n",
              "      <td>2021-06-05</td>\n",
              "      <td>8:00 AM</td>\n",
              "      <td>Dadra and Nagar Haveli</td>\n",
              "      <td>10261</td>\n",
              "      <td>4</td>\n",
              "    </tr>\n",
              "    <tr>\n",
              "      <th>1635</th>\n",
              "      <td>2020-05-05</td>\n",
              "      <td>5:00 PM</td>\n",
              "      <td>Uttarakhand</td>\n",
              "      <td>39</td>\n",
              "      <td>1</td>\n",
              "    </tr>\n",
              "  </tbody>\n",
              "</table>\n",
              "</div>"
            ],
            "text/plain": [
              "             Date     Time                   State   Cured  Deaths\n",
              "8292   2020-11-11  8:00 AM                  Kerala  415158    1742\n",
              "10169  2021-01-03  8:00 AM               Karnataka  898176   12099\n",
              "11526  2021-02-10  8:00 AM                   Bihar  259074    1518\n",
              "14629  2021-05-07  8:00 AM                 Haryana  452836    5137\n",
              "7320   2020-10-14  8:00 AM                  Odisha  232988    1057\n",
              "4987   2020-08-09  8:00 AM          Andhra Pradesh  129615    1939\n",
              "7203   2020-10-11  8:00 AM        Himachal Pradesh   14278     248\n",
              "4450   2020-07-24  8:00 AM                  Odisha   14393     114\n",
              "15669  2021-06-05  8:00 AM  Dadra and Nagar Haveli   10261       4\n",
              "1635   2020-05-05  5:00 PM             Uttarakhand      39       1"
            ]
          },
          "metadata": {},
          "execution_count": 158
        }
      ]
    },
    {
      "cell_type": "code",
      "metadata": {
        "colab": {
          "base_uri": "https://localhost:8080/",
          "height": 332
        },
        "id": "vxxeudD4H4gG",
        "outputId": "b1eb57aa-a912-4214-89ff-38c09721cd3a"
      },
      "source": [
        "df4 = df.merge(details, on=[\"Date\", \"State\"], how=\"inner\") #inner дает пересечение таблиц\n",
        "df4"
      ],
      "execution_count": null,
      "outputs": [
        {
          "output_type": "execute_result",
          "data": {
            "text/html": [
              "<div>\n",
              "<style scoped>\n",
              "    .dataframe tbody tr th:only-of-type {\n",
              "        vertical-align: middle;\n",
              "    }\n",
              "\n",
              "    .dataframe tbody tr th {\n",
              "        vertical-align: top;\n",
              "    }\n",
              "\n",
              "    .dataframe thead th {\n",
              "        text-align: right;\n",
              "    }\n",
              "</style>\n",
              "<table border=\"1\" class=\"dataframe\">\n",
              "  <thead>\n",
              "    <tr style=\"text-align: right;\">\n",
              "      <th></th>\n",
              "      <th>Date</th>\n",
              "      <th>Time</th>\n",
              "      <th>State</th>\n",
              "      <th>Cured</th>\n",
              "      <th>Deaths</th>\n",
              "      <th>TotalSamples</th>\n",
              "      <th>Negative</th>\n",
              "      <th>Positive</th>\n",
              "    </tr>\n",
              "  </thead>\n",
              "  <tbody>\n",
              "    <tr>\n",
              "      <th>0</th>\n",
              "      <td>2020-11-11</td>\n",
              "      <td>8:00 AM</td>\n",
              "      <td>Kerala</td>\n",
              "      <td>415158</td>\n",
              "      <td>1742</td>\n",
              "      <td>5249865.0</td>\n",
              "      <td>NaN</td>\n",
              "      <td>502721.0</td>\n",
              "    </tr>\n",
              "    <tr>\n",
              "      <th>1</th>\n",
              "      <td>2021-01-03</td>\n",
              "      <td>8:00 AM</td>\n",
              "      <td>Karnataka</td>\n",
              "      <td>898176</td>\n",
              "      <td>12099</td>\n",
              "      <td>14432085.0</td>\n",
              "      <td>NaN</td>\n",
              "      <td>NaN</td>\n",
              "    </tr>\n",
              "    <tr>\n",
              "      <th>2</th>\n",
              "      <td>2021-02-10</td>\n",
              "      <td>8:00 AM</td>\n",
              "      <td>Bihar</td>\n",
              "      <td>259074</td>\n",
              "      <td>1518</td>\n",
              "      <td>21741730.0</td>\n",
              "      <td>NaN</td>\n",
              "      <td>NaN</td>\n",
              "    </tr>\n",
              "    <tr>\n",
              "      <th>3</th>\n",
              "      <td>2021-05-07</td>\n",
              "      <td>8:00 AM</td>\n",
              "      <td>Haryana</td>\n",
              "      <td>452836</td>\n",
              "      <td>5137</td>\n",
              "      <td>7758576.0</td>\n",
              "      <td>NaN</td>\n",
              "      <td>NaN</td>\n",
              "    </tr>\n",
              "    <tr>\n",
              "      <th>4</th>\n",
              "      <td>2020-10-14</td>\n",
              "      <td>8:00 AM</td>\n",
              "      <td>Odisha</td>\n",
              "      <td>232988</td>\n",
              "      <td>1057</td>\n",
              "      <td>3878992.0</td>\n",
              "      <td>NaN</td>\n",
              "      <td>NaN</td>\n",
              "    </tr>\n",
              "    <tr>\n",
              "      <th>5</th>\n",
              "      <td>2020-08-09</td>\n",
              "      <td>8:00 AM</td>\n",
              "      <td>Andhra Pradesh</td>\n",
              "      <td>129615</td>\n",
              "      <td>1939</td>\n",
              "      <td>2487305.0</td>\n",
              "      <td>2259445</td>\n",
              "      <td>227860.0</td>\n",
              "    </tr>\n",
              "    <tr>\n",
              "      <th>6</th>\n",
              "      <td>2020-10-11</td>\n",
              "      <td>8:00 AM</td>\n",
              "      <td>Himachal Pradesh</td>\n",
              "      <td>14278</td>\n",
              "      <td>248</td>\n",
              "      <td>324507.0</td>\n",
              "      <td>306967</td>\n",
              "      <td>NaN</td>\n",
              "    </tr>\n",
              "    <tr>\n",
              "      <th>7</th>\n",
              "      <td>2020-07-24</td>\n",
              "      <td>8:00 AM</td>\n",
              "      <td>Odisha</td>\n",
              "      <td>14393</td>\n",
              "      <td>114</td>\n",
              "      <td>433578.0</td>\n",
              "      <td>NaN</td>\n",
              "      <td>22693.0</td>\n",
              "    </tr>\n",
              "    <tr>\n",
              "      <th>8</th>\n",
              "      <td>2020-05-05</td>\n",
              "      <td>5:00 PM</td>\n",
              "      <td>Uttarakhand</td>\n",
              "      <td>39</td>\n",
              "      <td>1</td>\n",
              "      <td>8060.0</td>\n",
              "      <td>7357</td>\n",
              "      <td>61.0</td>\n",
              "    </tr>\n",
              "  </tbody>\n",
              "</table>\n",
              "</div>"
            ],
            "text/plain": [
              "         Date     Time             State  ...  TotalSamples  Negative  Positive\n",
              "0  2020-11-11  8:00 AM            Kerala  ...     5249865.0       NaN  502721.0\n",
              "1  2021-01-03  8:00 AM         Karnataka  ...    14432085.0       NaN       NaN\n",
              "2  2021-02-10  8:00 AM             Bihar  ...    21741730.0       NaN       NaN\n",
              "3  2021-05-07  8:00 AM           Haryana  ...     7758576.0       NaN       NaN\n",
              "4  2020-10-14  8:00 AM            Odisha  ...     3878992.0       NaN       NaN\n",
              "5  2020-08-09  8:00 AM    Andhra Pradesh  ...     2487305.0   2259445  227860.0\n",
              "6  2020-10-11  8:00 AM  Himachal Pradesh  ...      324507.0    306967       NaN\n",
              "7  2020-07-24  8:00 AM            Odisha  ...      433578.0       NaN   22693.0\n",
              "8  2020-05-05  5:00 PM       Uttarakhand  ...        8060.0      7357      61.0\n",
              "\n",
              "[9 rows x 8 columns]"
            ]
          },
          "metadata": {},
          "execution_count": 159
        }
      ]
    },
    {
      "cell_type": "markdown",
      "metadata": {
        "id": "vMz64x-GprJT"
      },
      "source": [
        "#### Применение функций"
      ]
    },
    {
      "cell_type": "markdown",
      "metadata": {
        "id": "yoTRKMGLpy2Z"
      },
      "source": [
        "Помимо `apply`, `map` и `applymap` есть еще ряд методов, допускающих обработку значений по функциям."
      ]
    },
    {
      "cell_type": "markdown",
      "metadata": {
        "id": "cXG0c47Mp8PL"
      },
      "source": [
        "- `agg()` и `aggregate()` принимают на вход одну или несколько функций, которые можно применять к разным столбцам. Функции могут быть встроенные, сторонние, лямбды. Делают ровно одно и то же, документация рекомендует использовать `agg()`"
      ]
    },
    {
      "cell_type": "code",
      "metadata": {
        "colab": {
          "base_uri": "https://localhost:8080/",
          "height": 363
        },
        "id": "qC1g9nEYouvk",
        "outputId": "f0348388-d7af-4659-9477-61797afdf955"
      },
      "source": [
        "df"
      ],
      "execution_count": null,
      "outputs": [
        {
          "output_type": "execute_result",
          "data": {
            "text/html": [
              "<div>\n",
              "<style scoped>\n",
              "    .dataframe tbody tr th:only-of-type {\n",
              "        vertical-align: middle;\n",
              "    }\n",
              "\n",
              "    .dataframe tbody tr th {\n",
              "        vertical-align: top;\n",
              "    }\n",
              "\n",
              "    .dataframe thead th {\n",
              "        text-align: right;\n",
              "    }\n",
              "</style>\n",
              "<table border=\"1\" class=\"dataframe\">\n",
              "  <thead>\n",
              "    <tr style=\"text-align: right;\">\n",
              "      <th></th>\n",
              "      <th>Date</th>\n",
              "      <th>Time</th>\n",
              "      <th>State</th>\n",
              "      <th>Cured</th>\n",
              "      <th>Deaths</th>\n",
              "    </tr>\n",
              "  </thead>\n",
              "  <tbody>\n",
              "    <tr>\n",
              "      <th>8292</th>\n",
              "      <td>2020-11-11</td>\n",
              "      <td>8:00 AM</td>\n",
              "      <td>Kerala</td>\n",
              "      <td>415158</td>\n",
              "      <td>1742</td>\n",
              "    </tr>\n",
              "    <tr>\n",
              "      <th>10169</th>\n",
              "      <td>2021-01-03</td>\n",
              "      <td>8:00 AM</td>\n",
              "      <td>Karnataka</td>\n",
              "      <td>898176</td>\n",
              "      <td>12099</td>\n",
              "    </tr>\n",
              "    <tr>\n",
              "      <th>11526</th>\n",
              "      <td>2021-02-10</td>\n",
              "      <td>8:00 AM</td>\n",
              "      <td>Bihar</td>\n",
              "      <td>259074</td>\n",
              "      <td>1518</td>\n",
              "    </tr>\n",
              "    <tr>\n",
              "      <th>14629</th>\n",
              "      <td>2021-05-07</td>\n",
              "      <td>8:00 AM</td>\n",
              "      <td>Haryana</td>\n",
              "      <td>452836</td>\n",
              "      <td>5137</td>\n",
              "    </tr>\n",
              "    <tr>\n",
              "      <th>7320</th>\n",
              "      <td>2020-10-14</td>\n",
              "      <td>8:00 AM</td>\n",
              "      <td>Odisha</td>\n",
              "      <td>232988</td>\n",
              "      <td>1057</td>\n",
              "    </tr>\n",
              "    <tr>\n",
              "      <th>4987</th>\n",
              "      <td>2020-08-09</td>\n",
              "      <td>8:00 AM</td>\n",
              "      <td>Andhra Pradesh</td>\n",
              "      <td>129615</td>\n",
              "      <td>1939</td>\n",
              "    </tr>\n",
              "    <tr>\n",
              "      <th>7203</th>\n",
              "      <td>2020-10-11</td>\n",
              "      <td>8:00 AM</td>\n",
              "      <td>Himachal Pradesh</td>\n",
              "      <td>14278</td>\n",
              "      <td>248</td>\n",
              "    </tr>\n",
              "    <tr>\n",
              "      <th>4450</th>\n",
              "      <td>2020-07-24</td>\n",
              "      <td>8:00 AM</td>\n",
              "      <td>Odisha</td>\n",
              "      <td>14393</td>\n",
              "      <td>114</td>\n",
              "    </tr>\n",
              "    <tr>\n",
              "      <th>15669</th>\n",
              "      <td>2021-06-05</td>\n",
              "      <td>8:00 AM</td>\n",
              "      <td>Dadra and Nagar Haveli</td>\n",
              "      <td>10261</td>\n",
              "      <td>4</td>\n",
              "    </tr>\n",
              "    <tr>\n",
              "      <th>1635</th>\n",
              "      <td>2020-05-05</td>\n",
              "      <td>5:00 PM</td>\n",
              "      <td>Uttarakhand</td>\n",
              "      <td>39</td>\n",
              "      <td>1</td>\n",
              "    </tr>\n",
              "  </tbody>\n",
              "</table>\n",
              "</div>"
            ],
            "text/plain": [
              "             Date     Time                   State   Cured  Deaths\n",
              "8292   2020-11-11  8:00 AM                  Kerala  415158    1742\n",
              "10169  2021-01-03  8:00 AM               Karnataka  898176   12099\n",
              "11526  2021-02-10  8:00 AM                   Bihar  259074    1518\n",
              "14629  2021-05-07  8:00 AM                 Haryana  452836    5137\n",
              "7320   2020-10-14  8:00 AM                  Odisha  232988    1057\n",
              "4987   2020-08-09  8:00 AM          Andhra Pradesh  129615    1939\n",
              "7203   2020-10-11  8:00 AM        Himachal Pradesh   14278     248\n",
              "4450   2020-07-24  8:00 AM                  Odisha   14393     114\n",
              "15669  2021-06-05  8:00 AM  Dadra and Nagar Haveli   10261       4\n",
              "1635   2020-05-05  5:00 PM             Uttarakhand      39       1"
            ]
          },
          "metadata": {},
          "execution_count": 160
        }
      ]
    },
    {
      "cell_type": "code",
      "metadata": {
        "colab": {
          "base_uri": "https://localhost:8080/",
          "height": 35
        },
        "id": "Tb_Bb_Mh6sit",
        "outputId": "34bab2a2-456f-4169-b722-f47bd8e0193c"
      },
      "source": [
        "df.Date.max()"
      ],
      "execution_count": null,
      "outputs": [
        {
          "output_type": "execute_result",
          "data": {
            "application/vnd.google.colaboratory.intrinsic+json": {
              "type": "string"
            },
            "text/plain": [
              "'2021-06-05'"
            ]
          },
          "metadata": {},
          "execution_count": 161
        }
      ]
    },
    {
      "cell_type": "code",
      "metadata": {
        "colab": {
          "base_uri": "https://localhost:8080/",
          "height": 35
        },
        "id": "BF8E_MFUqekG",
        "outputId": "554d88d5-b192-43cf-a18c-4a52391b5f64"
      },
      "source": [
        "df.Date.agg(max)"
      ],
      "execution_count": null,
      "outputs": [
        {
          "output_type": "execute_result",
          "data": {
            "application/vnd.google.colaboratory.intrinsic+json": {
              "type": "string"
            },
            "text/plain": [
              "'2021-06-05'"
            ]
          },
          "metadata": {},
          "execution_count": 162
        }
      ]
    },
    {
      "cell_type": "code",
      "metadata": {
        "colab": {
          "base_uri": "https://localhost:8080/"
        },
        "id": "ipuWn_ikqoIb",
        "outputId": "3c7569e2-27eb-4de3-f513-cb5e8b752a71"
      },
      "source": [
        "df.Date.agg([max, min])"
      ],
      "execution_count": null,
      "outputs": [
        {
          "output_type": "execute_result",
          "data": {
            "text/plain": [
              "max    2021-06-05\n",
              "min    2020-05-05\n",
              "Name: Date, dtype: object"
            ]
          },
          "metadata": {},
          "execution_count": 163
        }
      ]
    },
    {
      "cell_type": "code",
      "metadata": {
        "colab": {
          "base_uri": "https://localhost:8080/",
          "height": 143
        },
        "id": "Xf7jO5nXqtyg",
        "outputId": "6ffa7f9d-cf08-480d-b2e7-65b5d54f76b7"
      },
      "source": [
        "df.agg({\"Date\": [max, min], \"Cured\": [max, np.median], \"Deaths\": [min, np.median]})"
      ],
      "execution_count": null,
      "outputs": [
        {
          "output_type": "execute_result",
          "data": {
            "text/html": [
              "<div>\n",
              "<style scoped>\n",
              "    .dataframe tbody tr th:only-of-type {\n",
              "        vertical-align: middle;\n",
              "    }\n",
              "\n",
              "    .dataframe tbody tr th {\n",
              "        vertical-align: top;\n",
              "    }\n",
              "\n",
              "    .dataframe thead th {\n",
              "        text-align: right;\n",
              "    }\n",
              "</style>\n",
              "<table border=\"1\" class=\"dataframe\">\n",
              "  <thead>\n",
              "    <tr style=\"text-align: right;\">\n",
              "      <th></th>\n",
              "      <th>Date</th>\n",
              "      <th>Cured</th>\n",
              "      <th>Deaths</th>\n",
              "    </tr>\n",
              "  </thead>\n",
              "  <tbody>\n",
              "    <tr>\n",
              "      <th>max</th>\n",
              "      <td>2021-06-05</td>\n",
              "      <td>898176.0</td>\n",
              "      <td>NaN</td>\n",
              "    </tr>\n",
              "    <tr>\n",
              "      <th>min</th>\n",
              "      <td>2020-05-05</td>\n",
              "      <td>NaN</td>\n",
              "      <td>1.0</td>\n",
              "    </tr>\n",
              "    <tr>\n",
              "      <th>median</th>\n",
              "      <td>NaN</td>\n",
              "      <td>181301.5</td>\n",
              "      <td>1287.5</td>\n",
              "    </tr>\n",
              "  </tbody>\n",
              "</table>\n",
              "</div>"
            ],
            "text/plain": [
              "              Date     Cured  Deaths\n",
              "max     2021-06-05  898176.0     NaN\n",
              "min     2020-05-05       NaN     1.0\n",
              "median         NaN  181301.5  1287.5"
            ]
          },
          "metadata": {},
          "execution_count": 164
        }
      ]
    },
    {
      "cell_type": "markdown",
      "metadata": {
        "id": "i5Mx1o1frypn"
      },
      "source": [
        "- `pipe()` рекомендуется применять, когда нужно записать несколько применяемых подряд функций"
      ]
    },
    {
      "cell_type": "code",
      "metadata": {
        "colab": {
          "base_uri": "https://localhost:8080/"
        },
        "id": "doW4vAwtrF2F",
        "outputId": "35c3450b-2145-4e37-fd40-693b107799dd"
      },
      "source": [
        "df.Cured.pipe(lambda x: x / df.Cured.max()).pipe(np.median)"
      ],
      "execution_count": null,
      "outputs": [
        {
          "output_type": "execute_result",
          "data": {
            "text/plain": [
              "0.012723674014094702"
            ]
          },
          "metadata": {},
          "execution_count": 73
        }
      ]
    },
    {
      "cell_type": "markdown",
      "metadata": {
        "id": "R9371JEks24k"
      },
      "source": [
        "- `transform()` удобно применять, когда нужно что-то сделать со сгруппированными данными. В базовых случаях работает почти как `apply()`, не поддерживает аггрегирование"
      ]
    },
    {
      "cell_type": "code",
      "metadata": {
        "colab": {
          "base_uri": "https://localhost:8080/"
        },
        "id": "qjiugykUtDMl",
        "outputId": "d5045b43-2c40-4fc2-8e17-0c40a5904742"
      },
      "source": [
        "df.Cured.transform(lambda x: x / df.shape[0])"
      ],
      "execution_count": null,
      "outputs": [
        {
          "output_type": "execute_result",
          "data": {
            "text/plain": [
              "4926      5035.0\n",
              "2937       704.2\n",
              "9228       332.8\n",
              "8347     82201.1\n",
              "9628     10989.1\n",
              "7168      1387.6\n",
              "3706       114.6\n",
              "8893       336.7\n",
              "16607    16136.1\n",
              "1826         6.8\n",
              "Name: Cured, dtype: float64"
            ]
          },
          "metadata": {},
          "execution_count": 74
        }
      ]
    },
    {
      "cell_type": "code",
      "metadata": {
        "colab": {
          "base_uri": "https://localhost:8080/",
          "height": 363
        },
        "id": "lycOHza3tHmb",
        "outputId": "9f89a04b-2e32-4596-e91e-d9cb86e01646"
      },
      "source": [
        "df[\"Min Cured\"] = df.groupby(by=\"State\")[\"Cured\"].transform(min)\n",
        "df[\"Max Cured\"] = df.groupby(by=\"State\")[\"Cured\"].transform(max)\n",
        "df[\"First Value Cured\"] = df.groupby(by=\"State\")[\"Cured\"].transform(\"first\")\n",
        "df"
      ],
      "execution_count": null,
      "outputs": [
        {
          "output_type": "execute_result",
          "data": {
            "text/html": [
              "<div>\n",
              "<style scoped>\n",
              "    .dataframe tbody tr th:only-of-type {\n",
              "        vertical-align: middle;\n",
              "    }\n",
              "\n",
              "    .dataframe tbody tr th {\n",
              "        vertical-align: top;\n",
              "    }\n",
              "\n",
              "    .dataframe thead th {\n",
              "        text-align: right;\n",
              "    }\n",
              "</style>\n",
              "<table border=\"1\" class=\"dataframe\">\n",
              "  <thead>\n",
              "    <tr style=\"text-align: right;\">\n",
              "      <th></th>\n",
              "      <th>Date</th>\n",
              "      <th>Time</th>\n",
              "      <th>State</th>\n",
              "      <th>Cured</th>\n",
              "      <th>Deaths</th>\n",
              "      <th>Min Cured</th>\n",
              "      <th>Max Cured</th>\n",
              "      <th>First Value Cured</th>\n",
              "    </tr>\n",
              "  </thead>\n",
              "  <tbody>\n",
              "    <tr>\n",
              "      <th>8292</th>\n",
              "      <td>2020-11-11</td>\n",
              "      <td>8:00 AM</td>\n",
              "      <td>Kerala</td>\n",
              "      <td>415158</td>\n",
              "      <td>1742</td>\n",
              "      <td>415158</td>\n",
              "      <td>415158</td>\n",
              "      <td>415158</td>\n",
              "    </tr>\n",
              "    <tr>\n",
              "      <th>10169</th>\n",
              "      <td>2021-01-03</td>\n",
              "      <td>8:00 AM</td>\n",
              "      <td>Karnataka</td>\n",
              "      <td>898176</td>\n",
              "      <td>12099</td>\n",
              "      <td>898176</td>\n",
              "      <td>898176</td>\n",
              "      <td>898176</td>\n",
              "    </tr>\n",
              "    <tr>\n",
              "      <th>11526</th>\n",
              "      <td>2021-02-10</td>\n",
              "      <td>8:00 AM</td>\n",
              "      <td>Bihar</td>\n",
              "      <td>259074</td>\n",
              "      <td>1518</td>\n",
              "      <td>259074</td>\n",
              "      <td>259074</td>\n",
              "      <td>259074</td>\n",
              "    </tr>\n",
              "    <tr>\n",
              "      <th>14629</th>\n",
              "      <td>2021-05-07</td>\n",
              "      <td>8:00 AM</td>\n",
              "      <td>Haryana</td>\n",
              "      <td>452836</td>\n",
              "      <td>5137</td>\n",
              "      <td>452836</td>\n",
              "      <td>452836</td>\n",
              "      <td>452836</td>\n",
              "    </tr>\n",
              "    <tr>\n",
              "      <th>7320</th>\n",
              "      <td>2020-10-14</td>\n",
              "      <td>8:00 AM</td>\n",
              "      <td>Odisha</td>\n",
              "      <td>232988</td>\n",
              "      <td>1057</td>\n",
              "      <td>14393</td>\n",
              "      <td>232988</td>\n",
              "      <td>232988</td>\n",
              "    </tr>\n",
              "    <tr>\n",
              "      <th>4987</th>\n",
              "      <td>2020-08-09</td>\n",
              "      <td>8:00 AM</td>\n",
              "      <td>Andhra Pradesh</td>\n",
              "      <td>129615</td>\n",
              "      <td>1939</td>\n",
              "      <td>129615</td>\n",
              "      <td>129615</td>\n",
              "      <td>129615</td>\n",
              "    </tr>\n",
              "    <tr>\n",
              "      <th>7203</th>\n",
              "      <td>2020-10-11</td>\n",
              "      <td>8:00 AM</td>\n",
              "      <td>Himachal Pradesh</td>\n",
              "      <td>14278</td>\n",
              "      <td>248</td>\n",
              "      <td>14278</td>\n",
              "      <td>14278</td>\n",
              "      <td>14278</td>\n",
              "    </tr>\n",
              "    <tr>\n",
              "      <th>4450</th>\n",
              "      <td>2020-07-24</td>\n",
              "      <td>8:00 AM</td>\n",
              "      <td>Odisha</td>\n",
              "      <td>14393</td>\n",
              "      <td>114</td>\n",
              "      <td>14393</td>\n",
              "      <td>232988</td>\n",
              "      <td>232988</td>\n",
              "    </tr>\n",
              "    <tr>\n",
              "      <th>15669</th>\n",
              "      <td>2021-06-05</td>\n",
              "      <td>8:00 AM</td>\n",
              "      <td>Dadra and Nagar Haveli</td>\n",
              "      <td>10261</td>\n",
              "      <td>4</td>\n",
              "      <td>10261</td>\n",
              "      <td>10261</td>\n",
              "      <td>10261</td>\n",
              "    </tr>\n",
              "    <tr>\n",
              "      <th>1635</th>\n",
              "      <td>2020-05-05</td>\n",
              "      <td>5:00 PM</td>\n",
              "      <td>Uttarakhand</td>\n",
              "      <td>39</td>\n",
              "      <td>1</td>\n",
              "      <td>39</td>\n",
              "      <td>39</td>\n",
              "      <td>39</td>\n",
              "    </tr>\n",
              "  </tbody>\n",
              "</table>\n",
              "</div>"
            ],
            "text/plain": [
              "             Date     Time  ... Max Cured  First Value Cured\n",
              "8292   2020-11-11  8:00 AM  ...    415158             415158\n",
              "10169  2021-01-03  8:00 AM  ...    898176             898176\n",
              "11526  2021-02-10  8:00 AM  ...    259074             259074\n",
              "14629  2021-05-07  8:00 AM  ...    452836             452836\n",
              "7320   2020-10-14  8:00 AM  ...    232988             232988\n",
              "4987   2020-08-09  8:00 AM  ...    129615             129615\n",
              "7203   2020-10-11  8:00 AM  ...     14278              14278\n",
              "4450   2020-07-24  8:00 AM  ...    232988             232988\n",
              "15669  2021-06-05  8:00 AM  ...     10261              10261\n",
              "1635   2020-05-05  5:00 PM  ...        39                 39\n",
              "\n",
              "[10 rows x 8 columns]"
            ]
          },
          "metadata": {},
          "execution_count": 167
        }
      ]
    },
    {
      "cell_type": "markdown",
      "metadata": {
        "id": "mUaNQXkj7M4s"
      },
      "source": [
        "- `eval()` - создает столбец значений на основе операций с другими столбцами, операции над данными арифметические"
      ]
    },
    {
      "cell_type": "code",
      "metadata": {
        "colab": {
          "base_uri": "https://localhost:8080/",
          "height": 363
        },
        "id": "Ej4E-vzv7WZv",
        "outputId": "80d90e64-a65d-4460-8b66-d93a8e58d5b3"
      },
      "source": [
        "#inplace=True превращает метод в метод \"на месте\"\n",
        "df.eval(\"Dead_to_Cured = Deaths / Cured\", inplace=True)\n",
        "df"
      ],
      "execution_count": null,
      "outputs": [
        {
          "output_type": "execute_result",
          "data": {
            "text/html": [
              "<div>\n",
              "<style scoped>\n",
              "    .dataframe tbody tr th:only-of-type {\n",
              "        vertical-align: middle;\n",
              "    }\n",
              "\n",
              "    .dataframe tbody tr th {\n",
              "        vertical-align: top;\n",
              "    }\n",
              "\n",
              "    .dataframe thead th {\n",
              "        text-align: right;\n",
              "    }\n",
              "</style>\n",
              "<table border=\"1\" class=\"dataframe\">\n",
              "  <thead>\n",
              "    <tr style=\"text-align: right;\">\n",
              "      <th></th>\n",
              "      <th>Date</th>\n",
              "      <th>Time</th>\n",
              "      <th>State</th>\n",
              "      <th>Cured</th>\n",
              "      <th>Deaths</th>\n",
              "      <th>Min Cured</th>\n",
              "      <th>Max Cured</th>\n",
              "      <th>First Value Cured</th>\n",
              "      <th>Dead_to_Cured</th>\n",
              "    </tr>\n",
              "  </thead>\n",
              "  <tbody>\n",
              "    <tr>\n",
              "      <th>4926</th>\n",
              "      <td>2020-08-07</td>\n",
              "      <td>8:00 AM</td>\n",
              "      <td>Gujarat</td>\n",
              "      <td>50350</td>\n",
              "      <td>2583</td>\n",
              "      <td>50350</td>\n",
              "      <td>50350</td>\n",
              "      <td>50350</td>\n",
              "      <td>0.051301</td>\n",
              "    </tr>\n",
              "    <tr>\n",
              "      <th>2937</th>\n",
              "      <td>2020-06-12</td>\n",
              "      <td>8:00 AM</td>\n",
              "      <td>Madhya Pradesh</td>\n",
              "      <td>7042</td>\n",
              "      <td>431</td>\n",
              "      <td>7042</td>\n",
              "      <td>7042</td>\n",
              "      <td>7042</td>\n",
              "      <td>0.061204</td>\n",
              "    </tr>\n",
              "    <tr>\n",
              "      <th>9228</th>\n",
              "      <td>2020-12-08</td>\n",
              "      <td>8:00 AM</td>\n",
              "      <td>Dadra and Nagar Haveli and Daman and Diu</td>\n",
              "      <td>3328</td>\n",
              "      <td>2</td>\n",
              "      <td>3328</td>\n",
              "      <td>3328</td>\n",
              "      <td>3328</td>\n",
              "      <td>0.000601</td>\n",
              "    </tr>\n",
              "    <tr>\n",
              "      <th>8347</th>\n",
              "      <td>2020-11-13</td>\n",
              "      <td>8:00 AM</td>\n",
              "      <td>Andhra Pradesh</td>\n",
              "      <td>822011</td>\n",
              "      <td>6837</td>\n",
              "      <td>822011</td>\n",
              "      <td>822011</td>\n",
              "      <td>822011</td>\n",
              "      <td>0.008317</td>\n",
              "    </tr>\n",
              "    <tr>\n",
              "      <th>9628</th>\n",
              "      <td>2020-12-19</td>\n",
              "      <td>8:00 AM</td>\n",
              "      <td>Jharkhand</td>\n",
              "      <td>109891</td>\n",
              "      <td>1008</td>\n",
              "      <td>109891</td>\n",
              "      <td>109891</td>\n",
              "      <td>109891</td>\n",
              "      <td>0.009173</td>\n",
              "    </tr>\n",
              "    <tr>\n",
              "      <th>7168</th>\n",
              "      <td>2020-10-10</td>\n",
              "      <td>8:00 AM</td>\n",
              "      <td>Himachal Pradesh</td>\n",
              "      <td>13876</td>\n",
              "      <td>245</td>\n",
              "      <td>13876</td>\n",
              "      <td>13876</td>\n",
              "      <td>13876</td>\n",
              "      <td>0.017656</td>\n",
              "    </tr>\n",
              "    <tr>\n",
              "      <th>3706</th>\n",
              "      <td>2020-07-03</td>\n",
              "      <td>8:00 AM</td>\n",
              "      <td>Tripura</td>\n",
              "      <td>1146</td>\n",
              "      <td>1</td>\n",
              "      <td>1146</td>\n",
              "      <td>1146</td>\n",
              "      <td>1146</td>\n",
              "      <td>0.000873</td>\n",
              "    </tr>\n",
              "    <tr>\n",
              "      <th>8893</th>\n",
              "      <td>2020-11-28</td>\n",
              "      <td>8:00 AM</td>\n",
              "      <td>Mizoram</td>\n",
              "      <td>3367</td>\n",
              "      <td>5</td>\n",
              "      <td>3367</td>\n",
              "      <td>3367</td>\n",
              "      <td>3367</td>\n",
              "      <td>0.001485</td>\n",
              "    </tr>\n",
              "    <tr>\n",
              "      <th>16607</th>\n",
              "      <td>2021-07-01</td>\n",
              "      <td>8:00 AM</td>\n",
              "      <td>Goa</td>\n",
              "      <td>161361</td>\n",
              "      <td>3054</td>\n",
              "      <td>161361</td>\n",
              "      <td>161361</td>\n",
              "      <td>161361</td>\n",
              "      <td>0.018927</td>\n",
              "    </tr>\n",
              "    <tr>\n",
              "      <th>1826</th>\n",
              "      <td>2020-05-11</td>\n",
              "      <td>8:00 AM</td>\n",
              "      <td>Odisha</td>\n",
              "      <td>68</td>\n",
              "      <td>3</td>\n",
              "      <td>68</td>\n",
              "      <td>68</td>\n",
              "      <td>68</td>\n",
              "      <td>0.044118</td>\n",
              "    </tr>\n",
              "  </tbody>\n",
              "</table>\n",
              "</div>"
            ],
            "text/plain": [
              "             Date     Time  ... First Value Cured  Dead_to_Cured\n",
              "4926   2020-08-07  8:00 AM  ...             50350       0.051301\n",
              "2937   2020-06-12  8:00 AM  ...              7042       0.061204\n",
              "9228   2020-12-08  8:00 AM  ...              3328       0.000601\n",
              "8347   2020-11-13  8:00 AM  ...            822011       0.008317\n",
              "9628   2020-12-19  8:00 AM  ...            109891       0.009173\n",
              "7168   2020-10-10  8:00 AM  ...             13876       0.017656\n",
              "3706   2020-07-03  8:00 AM  ...              1146       0.000873\n",
              "8893   2020-11-28  8:00 AM  ...              3367       0.001485\n",
              "16607  2021-07-01  8:00 AM  ...            161361       0.018927\n",
              "1826   2020-05-11  8:00 AM  ...                68       0.044118\n",
              "\n",
              "[10 rows x 9 columns]"
            ]
          },
          "metadata": {},
          "execution_count": 78
        }
      ]
    },
    {
      "cell_type": "markdown",
      "metadata": {
        "id": "8VS-vHqBDqWS"
      },
      "source": [
        "- `assign()` добавляет один или несколько новых столбцов, заданных функцией"
      ]
    },
    {
      "cell_type": "code",
      "metadata": {
        "colab": {
          "base_uri": "https://localhost:8080/",
          "height": 363
        },
        "id": "dm-vn2ReDp9v",
        "outputId": "7c920ddd-ecfc-48e0-e31a-8e2f6cc41f43"
      },
      "source": [
        "df3 = df.assign(new1=lambda x: x.Cured > x.Cured.mean(), new2=lambda x: x.Cured < x.Cured.median())\n",
        "df3"
      ],
      "execution_count": null,
      "outputs": [
        {
          "output_type": "execute_result",
          "data": {
            "text/html": [
              "<div>\n",
              "<style scoped>\n",
              "    .dataframe tbody tr th:only-of-type {\n",
              "        vertical-align: middle;\n",
              "    }\n",
              "\n",
              "    .dataframe tbody tr th {\n",
              "        vertical-align: top;\n",
              "    }\n",
              "\n",
              "    .dataframe thead th {\n",
              "        text-align: right;\n",
              "    }\n",
              "</style>\n",
              "<table border=\"1\" class=\"dataframe\">\n",
              "  <thead>\n",
              "    <tr style=\"text-align: right;\">\n",
              "      <th></th>\n",
              "      <th>Date</th>\n",
              "      <th>Time</th>\n",
              "      <th>State</th>\n",
              "      <th>Cured</th>\n",
              "      <th>Deaths</th>\n",
              "      <th>Min Cured</th>\n",
              "      <th>Max Cured</th>\n",
              "      <th>First Value Cured</th>\n",
              "      <th>Dead_to_Cured</th>\n",
              "      <th>new1</th>\n",
              "      <th>new2</th>\n",
              "    </tr>\n",
              "  </thead>\n",
              "  <tbody>\n",
              "    <tr>\n",
              "      <th>4926</th>\n",
              "      <td>2020-08-07</td>\n",
              "      <td>8:00 AM</td>\n",
              "      <td>Gujarat</td>\n",
              "      <td>50350</td>\n",
              "      <td>2583</td>\n",
              "      <td>50350</td>\n",
              "      <td>50350</td>\n",
              "      <td>50350</td>\n",
              "      <td>0.051301</td>\n",
              "      <td>False</td>\n",
              "      <td>False</td>\n",
              "    </tr>\n",
              "    <tr>\n",
              "      <th>2937</th>\n",
              "      <td>2020-06-12</td>\n",
              "      <td>8:00 AM</td>\n",
              "      <td>Madhya Pradesh</td>\n",
              "      <td>7042</td>\n",
              "      <td>431</td>\n",
              "      <td>7042</td>\n",
              "      <td>7042</td>\n",
              "      <td>7042</td>\n",
              "      <td>0.061204</td>\n",
              "      <td>False</td>\n",
              "      <td>True</td>\n",
              "    </tr>\n",
              "    <tr>\n",
              "      <th>9228</th>\n",
              "      <td>2020-12-08</td>\n",
              "      <td>8:00 AM</td>\n",
              "      <td>Dadra and Nagar Haveli and Daman and Diu</td>\n",
              "      <td>3328</td>\n",
              "      <td>2</td>\n",
              "      <td>3328</td>\n",
              "      <td>3328</td>\n",
              "      <td>3328</td>\n",
              "      <td>0.000601</td>\n",
              "      <td>False</td>\n",
              "      <td>True</td>\n",
              "    </tr>\n",
              "    <tr>\n",
              "      <th>8347</th>\n",
              "      <td>2020-11-13</td>\n",
              "      <td>8:00 AM</td>\n",
              "      <td>Andhra Pradesh</td>\n",
              "      <td>822011</td>\n",
              "      <td>6837</td>\n",
              "      <td>822011</td>\n",
              "      <td>822011</td>\n",
              "      <td>822011</td>\n",
              "      <td>0.008317</td>\n",
              "      <td>True</td>\n",
              "      <td>False</td>\n",
              "    </tr>\n",
              "    <tr>\n",
              "      <th>9628</th>\n",
              "      <td>2020-12-19</td>\n",
              "      <td>8:00 AM</td>\n",
              "      <td>Jharkhand</td>\n",
              "      <td>109891</td>\n",
              "      <td>1008</td>\n",
              "      <td>109891</td>\n",
              "      <td>109891</td>\n",
              "      <td>109891</td>\n",
              "      <td>0.009173</td>\n",
              "      <td>False</td>\n",
              "      <td>False</td>\n",
              "    </tr>\n",
              "    <tr>\n",
              "      <th>7168</th>\n",
              "      <td>2020-10-10</td>\n",
              "      <td>8:00 AM</td>\n",
              "      <td>Himachal Pradesh</td>\n",
              "      <td>13876</td>\n",
              "      <td>245</td>\n",
              "      <td>13876</td>\n",
              "      <td>13876</td>\n",
              "      <td>13876</td>\n",
              "      <td>0.017656</td>\n",
              "      <td>False</td>\n",
              "      <td>False</td>\n",
              "    </tr>\n",
              "    <tr>\n",
              "      <th>3706</th>\n",
              "      <td>2020-07-03</td>\n",
              "      <td>8:00 AM</td>\n",
              "      <td>Tripura</td>\n",
              "      <td>1146</td>\n",
              "      <td>1</td>\n",
              "      <td>1146</td>\n",
              "      <td>1146</td>\n",
              "      <td>1146</td>\n",
              "      <td>0.000873</td>\n",
              "      <td>False</td>\n",
              "      <td>True</td>\n",
              "    </tr>\n",
              "    <tr>\n",
              "      <th>8893</th>\n",
              "      <td>2020-11-28</td>\n",
              "      <td>8:00 AM</td>\n",
              "      <td>Mizoram</td>\n",
              "      <td>3367</td>\n",
              "      <td>5</td>\n",
              "      <td>3367</td>\n",
              "      <td>3367</td>\n",
              "      <td>3367</td>\n",
              "      <td>0.001485</td>\n",
              "      <td>False</td>\n",
              "      <td>True</td>\n",
              "    </tr>\n",
              "    <tr>\n",
              "      <th>16607</th>\n",
              "      <td>2021-07-01</td>\n",
              "      <td>8:00 AM</td>\n",
              "      <td>Goa</td>\n",
              "      <td>161361</td>\n",
              "      <td>3054</td>\n",
              "      <td>161361</td>\n",
              "      <td>161361</td>\n",
              "      <td>161361</td>\n",
              "      <td>0.018927</td>\n",
              "      <td>True</td>\n",
              "      <td>False</td>\n",
              "    </tr>\n",
              "    <tr>\n",
              "      <th>1826</th>\n",
              "      <td>2020-05-11</td>\n",
              "      <td>8:00 AM</td>\n",
              "      <td>Odisha</td>\n",
              "      <td>68</td>\n",
              "      <td>3</td>\n",
              "      <td>68</td>\n",
              "      <td>68</td>\n",
              "      <td>68</td>\n",
              "      <td>0.044118</td>\n",
              "      <td>False</td>\n",
              "      <td>True</td>\n",
              "    </tr>\n",
              "  </tbody>\n",
              "</table>\n",
              "</div>"
            ],
            "text/plain": [
              "             Date     Time  ...   new1   new2\n",
              "4926   2020-08-07  8:00 AM  ...  False  False\n",
              "2937   2020-06-12  8:00 AM  ...  False   True\n",
              "9228   2020-12-08  8:00 AM  ...  False   True\n",
              "8347   2020-11-13  8:00 AM  ...   True  False\n",
              "9628   2020-12-19  8:00 AM  ...  False  False\n",
              "7168   2020-10-10  8:00 AM  ...  False  False\n",
              "3706   2020-07-03  8:00 AM  ...  False   True\n",
              "8893   2020-11-28  8:00 AM  ...  False   True\n",
              "16607  2021-07-01  8:00 AM  ...   True  False\n",
              "1826   2020-05-11  8:00 AM  ...  False   True\n",
              "\n",
              "[10 rows x 11 columns]"
            ]
          },
          "metadata": {},
          "execution_count": 79
        }
      ]
    },
    {
      "cell_type": "markdown",
      "metadata": {
        "id": "9riA-1uW350w"
      },
      "source": [
        "#### Куммулятивные операции"
      ]
    },
    {
      "cell_type": "markdown",
      "metadata": {
        "id": "pnLwPgyZ5l3H"
      },
      "source": [
        "- `cummax()` - куммулятивный (текущий) максимум"
      ]
    },
    {
      "cell_type": "code",
      "metadata": {
        "colab": {
          "base_uri": "https://localhost:8080/",
          "height": 363
        },
        "id": "8x-dOwvYv_6N",
        "outputId": "d9f1614e-6ecb-429a-d83d-5a7a9627dc41"
      },
      "source": [
        "df = df.iloc[:, :6]\n",
        "df"
      ],
      "execution_count": null,
      "outputs": [
        {
          "output_type": "execute_result",
          "data": {
            "text/html": [
              "<div>\n",
              "<style scoped>\n",
              "    .dataframe tbody tr th:only-of-type {\n",
              "        vertical-align: middle;\n",
              "    }\n",
              "\n",
              "    .dataframe tbody tr th {\n",
              "        vertical-align: top;\n",
              "    }\n",
              "\n",
              "    .dataframe thead th {\n",
              "        text-align: right;\n",
              "    }\n",
              "</style>\n",
              "<table border=\"1\" class=\"dataframe\">\n",
              "  <thead>\n",
              "    <tr style=\"text-align: right;\">\n",
              "      <th></th>\n",
              "      <th>Date</th>\n",
              "      <th>Time</th>\n",
              "      <th>State</th>\n",
              "      <th>Cured</th>\n",
              "      <th>Deaths</th>\n",
              "      <th>Min Cured</th>\n",
              "    </tr>\n",
              "  </thead>\n",
              "  <tbody>\n",
              "    <tr>\n",
              "      <th>8292</th>\n",
              "      <td>2020-11-11</td>\n",
              "      <td>8:00 AM</td>\n",
              "      <td>Kerala</td>\n",
              "      <td>415158</td>\n",
              "      <td>1742</td>\n",
              "      <td>415158</td>\n",
              "    </tr>\n",
              "    <tr>\n",
              "      <th>10169</th>\n",
              "      <td>2021-01-03</td>\n",
              "      <td>8:00 AM</td>\n",
              "      <td>Karnataka</td>\n",
              "      <td>898176</td>\n",
              "      <td>12099</td>\n",
              "      <td>898176</td>\n",
              "    </tr>\n",
              "    <tr>\n",
              "      <th>11526</th>\n",
              "      <td>2021-02-10</td>\n",
              "      <td>8:00 AM</td>\n",
              "      <td>Bihar</td>\n",
              "      <td>259074</td>\n",
              "      <td>1518</td>\n",
              "      <td>259074</td>\n",
              "    </tr>\n",
              "    <tr>\n",
              "      <th>14629</th>\n",
              "      <td>2021-05-07</td>\n",
              "      <td>8:00 AM</td>\n",
              "      <td>Haryana</td>\n",
              "      <td>452836</td>\n",
              "      <td>5137</td>\n",
              "      <td>452836</td>\n",
              "    </tr>\n",
              "    <tr>\n",
              "      <th>7320</th>\n",
              "      <td>2020-10-14</td>\n",
              "      <td>8:00 AM</td>\n",
              "      <td>Odisha</td>\n",
              "      <td>232988</td>\n",
              "      <td>1057</td>\n",
              "      <td>14393</td>\n",
              "    </tr>\n",
              "    <tr>\n",
              "      <th>4987</th>\n",
              "      <td>2020-08-09</td>\n",
              "      <td>8:00 AM</td>\n",
              "      <td>Andhra Pradesh</td>\n",
              "      <td>129615</td>\n",
              "      <td>1939</td>\n",
              "      <td>129615</td>\n",
              "    </tr>\n",
              "    <tr>\n",
              "      <th>7203</th>\n",
              "      <td>2020-10-11</td>\n",
              "      <td>8:00 AM</td>\n",
              "      <td>Himachal Pradesh</td>\n",
              "      <td>14278</td>\n",
              "      <td>248</td>\n",
              "      <td>14278</td>\n",
              "    </tr>\n",
              "    <tr>\n",
              "      <th>4450</th>\n",
              "      <td>2020-07-24</td>\n",
              "      <td>8:00 AM</td>\n",
              "      <td>Odisha</td>\n",
              "      <td>14393</td>\n",
              "      <td>114</td>\n",
              "      <td>14393</td>\n",
              "    </tr>\n",
              "    <tr>\n",
              "      <th>15669</th>\n",
              "      <td>2021-06-05</td>\n",
              "      <td>8:00 AM</td>\n",
              "      <td>Dadra and Nagar Haveli</td>\n",
              "      <td>10261</td>\n",
              "      <td>4</td>\n",
              "      <td>10261</td>\n",
              "    </tr>\n",
              "    <tr>\n",
              "      <th>1635</th>\n",
              "      <td>2020-05-05</td>\n",
              "      <td>5:00 PM</td>\n",
              "      <td>Uttarakhand</td>\n",
              "      <td>39</td>\n",
              "      <td>1</td>\n",
              "      <td>39</td>\n",
              "    </tr>\n",
              "  </tbody>\n",
              "</table>\n",
              "</div>"
            ],
            "text/plain": [
              "             Date     Time                   State   Cured  Deaths  Min Cured\n",
              "8292   2020-11-11  8:00 AM                  Kerala  415158    1742     415158\n",
              "10169  2021-01-03  8:00 AM               Karnataka  898176   12099     898176\n",
              "11526  2021-02-10  8:00 AM                   Bihar  259074    1518     259074\n",
              "14629  2021-05-07  8:00 AM                 Haryana  452836    5137     452836\n",
              "7320   2020-10-14  8:00 AM                  Odisha  232988    1057      14393\n",
              "4987   2020-08-09  8:00 AM          Andhra Pradesh  129615    1939     129615\n",
              "7203   2020-10-11  8:00 AM        Himachal Pradesh   14278     248      14278\n",
              "4450   2020-07-24  8:00 AM                  Odisha   14393     114      14393\n",
              "15669  2021-06-05  8:00 AM  Dadra and Nagar Haveli   10261       4      10261\n",
              "1635   2020-05-05  5:00 PM             Uttarakhand      39       1         39"
            ]
          },
          "metadata": {},
          "execution_count": 168
        }
      ]
    },
    {
      "cell_type": "code",
      "metadata": {
        "colab": {
          "base_uri": "https://localhost:8080/"
        },
        "id": "aJszrP1e5r31",
        "outputId": "6e64fd0e-3531-4896-e8a8-c9381c17eee2"
      },
      "source": [
        "df.Cured.cummax()"
      ],
      "execution_count": null,
      "outputs": [
        {
          "output_type": "execute_result",
          "data": {
            "text/plain": [
              "8292     415158\n",
              "10169    898176\n",
              "11526    898176\n",
              "14629    898176\n",
              "7320     898176\n",
              "4987     898176\n",
              "7203     898176\n",
              "4450     898176\n",
              "15669    898176\n",
              "1635     898176\n",
              "Name: Cured, dtype: int64"
            ]
          },
          "metadata": {},
          "execution_count": 169
        }
      ]
    },
    {
      "cell_type": "markdown",
      "metadata": {
        "id": "dhxoRNFZ56-V"
      },
      "source": [
        "- `cummin()` - куммулятивный (текущий) минимум"
      ]
    },
    {
      "cell_type": "code",
      "metadata": {
        "colab": {
          "base_uri": "https://localhost:8080/"
        },
        "id": "SpoBY5r054CY",
        "outputId": "62d66aff-6bab-467b-f57b-6f5f3f4bd8c4"
      },
      "source": [
        "df.Cured.cummin()"
      ],
      "execution_count": null,
      "outputs": [
        {
          "output_type": "execute_result",
          "data": {
            "text/plain": [
              "8292     415158\n",
              "10169    415158\n",
              "11526    259074\n",
              "14629    259074\n",
              "7320     232988\n",
              "4987     129615\n",
              "7203      14278\n",
              "4450      14278\n",
              "15669     10261\n",
              "1635         39\n",
              "Name: Cured, dtype: int64"
            ]
          },
          "metadata": {},
          "execution_count": 170
        }
      ]
    },
    {
      "cell_type": "markdown",
      "metadata": {
        "id": "av1-lkZJ6F07"
      },
      "source": [
        "- `cumsum()` - куммулятивная (накапливающаяся) сумма"
      ]
    },
    {
      "cell_type": "code",
      "metadata": {
        "colab": {
          "base_uri": "https://localhost:8080/"
        },
        "id": "8F44q6PK6CQY",
        "outputId": "63460e21-cb53-4e6d-b275-55e84611753c"
      },
      "source": [
        "df.Cured.cumsum()"
      ],
      "execution_count": null,
      "outputs": [
        {
          "output_type": "execute_result",
          "data": {
            "text/plain": [
              "8292      415158\n",
              "10169    1313334\n",
              "11526    1572408\n",
              "14629    2025244\n",
              "7320     2258232\n",
              "4987     2387847\n",
              "7203     2402125\n",
              "4450     2416518\n",
              "15669    2426779\n",
              "1635     2426818\n",
              "Name: Cured, dtype: int64"
            ]
          },
          "metadata": {},
          "execution_count": 171
        }
      ]
    },
    {
      "cell_type": "markdown",
      "metadata": {
        "id": "i-mIjyqB6UUk"
      },
      "source": [
        "- `cumprod()` - куммулятивное (накапливающееся) произведение"
      ]
    },
    {
      "cell_type": "code",
      "metadata": {
        "colab": {
          "base_uri": "https://localhost:8080/"
        },
        "id": "beF_ZC136NOR",
        "outputId": "8229ad7f-90a8-4586-b129-731f8587f292"
      },
      "source": [
        "df.Cured.cumprod()"
      ],
      "execution_count": null,
      "outputs": [
        {
          "output_type": "execute_result",
          "data": {
            "text/plain": [
              "8292                  415158\n",
              "10169           372884951808\n",
              "11526      96604796004705792\n",
              "14629    8899204821605144576\n",
              "7320    -6100908814177165312\n",
              "4987     5729002207776759808\n",
              "7203     5830299808424673280\n",
              "4450     1266351351572217856\n",
              "15669    7523390591003082752\n",
              "1635    -1735672130232598528\n",
              "Name: Cured, dtype: int64"
            ]
          },
          "metadata": {},
          "execution_count": 172
        }
      ]
    },
    {
      "cell_type": "markdown",
      "metadata": {
        "id": "_FYQopuc8e1t"
      },
      "source": [
        "#### Статистические методы"
      ]
    },
    {
      "cell_type": "markdown",
      "metadata": {
        "id": "qK0mnxfa8hh5"
      },
      "source": [
        "Экстремальные значения, средние, дисперсию и стандартное отклонение, а также корреляции и ковариации мы посмотрели в предыдущем колабе. Но это не все."
      ]
    },
    {
      "cell_type": "markdown",
      "metadata": {
        "id": "U3ghT4Ad80mC"
      },
      "source": [
        "- `kurt()` и `kurtosis()` - коэффициент эксцесса (мера остроты пика распределения случайной величины)\n",
        "\n",
        "> $\\gamma_4 = \\frac{\\mu_4}{\\sigma^4} - 3$, где $\\mu_4$ - четвертый центральный момент, $\\sigma^4$ - стандартное отклонение случайной величины $X$, а $-3$ вводится для того, чтобы коэффициент эксцесса стандартного нормального распределения был равен нулю. Он положителен, если пик распределения около математического ожидания острый, и отрицателен, если пик очень гладкий."
      ]
    },
    {
      "cell_type": "code",
      "metadata": {
        "colab": {
          "base_uri": "https://localhost:8080/"
        },
        "id": "SHPhp7yB6RfD",
        "outputId": "5a543993-7d13-4a21-bb97-1d0ba436ae37"
      },
      "source": [
        "df.Cured.kurt()"
      ],
      "execution_count": null,
      "outputs": [
        {
          "output_type": "execute_result",
          "data": {
            "text/plain": [
              "8.715901347756667"
            ]
          },
          "metadata": {},
          "execution_count": 85
        }
      ]
    },
    {
      "cell_type": "markdown",
      "metadata": {
        "id": "HHJf2Wxq-U7R"
      },
      "source": [
        "- `mad()` - абсолютное отклонение (абсолютная разница между элементом и выбранной точкой, от которой отсчитывается отклонение)"
      ]
    },
    {
      "cell_type": "code",
      "metadata": {
        "colab": {
          "base_uri": "https://localhost:8080/"
        },
        "id": "Xm1DVRlI-Aug",
        "outputId": "a0c97b76-1e1c-4310-e741-fbf463ba1ad2"
      },
      "source": [
        "df.Cured.mad()"
      ],
      "execution_count": null,
      "outputs": [
        {
          "output_type": "execute_result",
          "data": {
            "text/plain": [
              "149776.8"
            ]
          },
          "metadata": {},
          "execution_count": 86
        }
      ]
    },
    {
      "cell_type": "markdown",
      "metadata": {
        "id": "saGFhbUR-io0"
      },
      "source": [
        "- `pct_change()` рассчитывает процентное изменение значения относительно предыдущего в столбце"
      ]
    },
    {
      "cell_type": "code",
      "metadata": {
        "colab": {
          "base_uri": "https://localhost:8080/"
        },
        "id": "8NuO-Z8q-bdN",
        "outputId": "b4dcfa25-584c-4a32-adb6-74a2f34d7695"
      },
      "source": [
        "df.Cured.pct_change(periods=2) #periods говорит, что значения берутся с периодичностью 2"
      ],
      "execution_count": null,
      "outputs": [
        {
          "output_type": "execute_result",
          "data": {
            "text/plain": [
              "8292          NaN\n",
              "10169         NaN\n",
              "11526   -0.375963\n",
              "14629   -0.495827\n",
              "7320    -0.100689\n",
              "4987    -0.713771\n",
              "7203    -0.938718\n",
              "4450    -0.888956\n",
              "15669   -0.281342\n",
              "1635    -0.997290\n",
              "Name: Cured, dtype: float64"
            ]
          },
          "metadata": {},
          "execution_count": 176
        }
      ]
    },
    {
      "cell_type": "markdown",
      "metadata": {
        "id": "sYpQy02u_Il0"
      },
      "source": [
        "Еще можно задачать частоту расчета относительно даты, если она присутствует."
      ]
    },
    {
      "cell_type": "markdown",
      "metadata": {
        "id": "HdZ5TUOX_U9_"
      },
      "source": [
        "- `quantile()` возвращает значения указанной квантили"
      ]
    },
    {
      "cell_type": "code",
      "metadata": {
        "colab": {
          "base_uri": "https://localhost:8080/"
        },
        "id": "m_tnXFLY_IRJ",
        "outputId": "5a760af1-d3ad-4eed-8463-e6b3a19cfff7"
      },
      "source": [
        "df.Cured.quantile(.3)"
      ],
      "execution_count": null,
      "outputs": [
        {
          "output_type": "execute_result",
          "data": {
            "text/plain": [
              "3355.3"
            ]
          },
          "metadata": {},
          "execution_count": 88
        }
      ]
    },
    {
      "cell_type": "markdown",
      "metadata": {
        "id": "2isJ1Xvv_86B"
      },
      "source": [
        "- `skew()` - коэффициент асимметрии (величина, характеризующая асимметрию распределения данной случайной величины)\n",
        "\n",
        "> $A_S = \\frac{\\mu_3}{\\sigma^3}$, где $\\mu_3$ - третий центральный момент, $\\sigma^3$ - стандартное отклонение случайной величины $X$. \n",
        "\n",
        "Коэффициент асимметрии положителен, если правый хвост распределения длиннее левого, и отрицателен в противном случае. Если распределение симметрично относительно математического ожидания, то его коэффициент асимметрии равен нулю."
      ]
    },
    {
      "cell_type": "code",
      "metadata": {
        "colab": {
          "base_uri": "https://localhost:8080/"
        },
        "id": "maHo3Rpc-s3W",
        "outputId": "8207a804-ed09-4f30-d9dc-506d7fdfee3b"
      },
      "source": [
        "df.Cured.skew()"
      ],
      "execution_count": null,
      "outputs": [
        {
          "output_type": "execute_result",
          "data": {
            "text/plain": [
              "2.903602196762688"
            ]
          },
          "metadata": {},
          "execution_count": 89
        }
      ]
    },
    {
      "cell_type": "markdown",
      "metadata": {
        "id": "UJMEs1zgBukm"
      },
      "source": [
        "#### Время"
      ]
    },
    {
      "cell_type": "code",
      "metadata": {
        "colab": {
          "base_uri": "https://localhost:8080/",
          "height": 363
        },
        "id": "1gbw8TmgATJ6",
        "outputId": "aba5ee50-ae68-49ba-c082-b66e791c4cb6"
      },
      "source": [
        "df"
      ],
      "execution_count": null,
      "outputs": [
        {
          "output_type": "execute_result",
          "data": {
            "text/html": [
              "<div>\n",
              "<style scoped>\n",
              "    .dataframe tbody tr th:only-of-type {\n",
              "        vertical-align: middle;\n",
              "    }\n",
              "\n",
              "    .dataframe tbody tr th {\n",
              "        vertical-align: top;\n",
              "    }\n",
              "\n",
              "    .dataframe thead th {\n",
              "        text-align: right;\n",
              "    }\n",
              "</style>\n",
              "<table border=\"1\" class=\"dataframe\">\n",
              "  <thead>\n",
              "    <tr style=\"text-align: right;\">\n",
              "      <th></th>\n",
              "      <th>Date</th>\n",
              "      <th>Time</th>\n",
              "      <th>State</th>\n",
              "      <th>Cured</th>\n",
              "      <th>Deaths</th>\n",
              "      <th>Min Cured</th>\n",
              "    </tr>\n",
              "  </thead>\n",
              "  <tbody>\n",
              "    <tr>\n",
              "      <th>8292</th>\n",
              "      <td>2020-11-11</td>\n",
              "      <td>8:00 AM</td>\n",
              "      <td>Kerala</td>\n",
              "      <td>415158</td>\n",
              "      <td>1742</td>\n",
              "      <td>415158</td>\n",
              "    </tr>\n",
              "    <tr>\n",
              "      <th>10169</th>\n",
              "      <td>2021-01-03</td>\n",
              "      <td>8:00 AM</td>\n",
              "      <td>Karnataka</td>\n",
              "      <td>898176</td>\n",
              "      <td>12099</td>\n",
              "      <td>898176</td>\n",
              "    </tr>\n",
              "    <tr>\n",
              "      <th>11526</th>\n",
              "      <td>2021-02-10</td>\n",
              "      <td>8:00 AM</td>\n",
              "      <td>Bihar</td>\n",
              "      <td>259074</td>\n",
              "      <td>1518</td>\n",
              "      <td>259074</td>\n",
              "    </tr>\n",
              "    <tr>\n",
              "      <th>14629</th>\n",
              "      <td>2021-05-07</td>\n",
              "      <td>8:00 AM</td>\n",
              "      <td>Haryana</td>\n",
              "      <td>452836</td>\n",
              "      <td>5137</td>\n",
              "      <td>452836</td>\n",
              "    </tr>\n",
              "    <tr>\n",
              "      <th>7320</th>\n",
              "      <td>2020-10-14</td>\n",
              "      <td>8:00 AM</td>\n",
              "      <td>Odisha</td>\n",
              "      <td>232988</td>\n",
              "      <td>1057</td>\n",
              "      <td>14393</td>\n",
              "    </tr>\n",
              "    <tr>\n",
              "      <th>4987</th>\n",
              "      <td>2020-08-09</td>\n",
              "      <td>8:00 AM</td>\n",
              "      <td>Andhra Pradesh</td>\n",
              "      <td>129615</td>\n",
              "      <td>1939</td>\n",
              "      <td>129615</td>\n",
              "    </tr>\n",
              "    <tr>\n",
              "      <th>7203</th>\n",
              "      <td>2020-10-11</td>\n",
              "      <td>8:00 AM</td>\n",
              "      <td>Himachal Pradesh</td>\n",
              "      <td>14278</td>\n",
              "      <td>248</td>\n",
              "      <td>14278</td>\n",
              "    </tr>\n",
              "    <tr>\n",
              "      <th>4450</th>\n",
              "      <td>2020-07-24</td>\n",
              "      <td>8:00 AM</td>\n",
              "      <td>Odisha</td>\n",
              "      <td>14393</td>\n",
              "      <td>114</td>\n",
              "      <td>14393</td>\n",
              "    </tr>\n",
              "    <tr>\n",
              "      <th>15669</th>\n",
              "      <td>2021-06-05</td>\n",
              "      <td>8:00 AM</td>\n",
              "      <td>Dadra and Nagar Haveli</td>\n",
              "      <td>10261</td>\n",
              "      <td>4</td>\n",
              "      <td>10261</td>\n",
              "    </tr>\n",
              "    <tr>\n",
              "      <th>1635</th>\n",
              "      <td>2020-05-05</td>\n",
              "      <td>5:00 PM</td>\n",
              "      <td>Uttarakhand</td>\n",
              "      <td>39</td>\n",
              "      <td>1</td>\n",
              "      <td>39</td>\n",
              "    </tr>\n",
              "  </tbody>\n",
              "</table>\n",
              "</div>"
            ],
            "text/plain": [
              "             Date     Time                   State   Cured  Deaths  Min Cured\n",
              "8292   2020-11-11  8:00 AM                  Kerala  415158    1742     415158\n",
              "10169  2021-01-03  8:00 AM               Karnataka  898176   12099     898176\n",
              "11526  2021-02-10  8:00 AM                   Bihar  259074    1518     259074\n",
              "14629  2021-05-07  8:00 AM                 Haryana  452836    5137     452836\n",
              "7320   2020-10-14  8:00 AM                  Odisha  232988    1057      14393\n",
              "4987   2020-08-09  8:00 AM          Andhra Pradesh  129615    1939     129615\n",
              "7203   2020-10-11  8:00 AM        Himachal Pradesh   14278     248      14278\n",
              "4450   2020-07-24  8:00 AM                  Odisha   14393     114      14393\n",
              "15669  2021-06-05  8:00 AM  Dadra and Nagar Haveli   10261       4      10261\n",
              "1635   2020-05-05  5:00 PM             Uttarakhand      39       1         39"
            ]
          },
          "metadata": {},
          "execution_count": 177
        }
      ]
    },
    {
      "cell_type": "markdown",
      "metadata": {
        "id": "RI3aTdAfB0MA"
      },
      "source": [
        "- `to_datetime()` преобразует данные в формат `Timestamp`\n",
        "\n"
      ]
    },
    {
      "cell_type": "code",
      "metadata": {
        "colab": {
          "base_uri": "https://localhost:8080/",
          "height": 363
        },
        "id": "fIjMCHbMCF0l",
        "outputId": "7dc3567c-b165-4fe4-c0ae-e9de99e52824"
      },
      "source": [
        "df[\"Datetime\"] = pd.to_datetime(df.Date + \" \" + df.Time)\n",
        "df"
      ],
      "execution_count": null,
      "outputs": [
        {
          "output_type": "execute_result",
          "data": {
            "text/html": [
              "<div>\n",
              "<style scoped>\n",
              "    .dataframe tbody tr th:only-of-type {\n",
              "        vertical-align: middle;\n",
              "    }\n",
              "\n",
              "    .dataframe tbody tr th {\n",
              "        vertical-align: top;\n",
              "    }\n",
              "\n",
              "    .dataframe thead th {\n",
              "        text-align: right;\n",
              "    }\n",
              "</style>\n",
              "<table border=\"1\" class=\"dataframe\">\n",
              "  <thead>\n",
              "    <tr style=\"text-align: right;\">\n",
              "      <th></th>\n",
              "      <th>Date</th>\n",
              "      <th>Time</th>\n",
              "      <th>State</th>\n",
              "      <th>Cured</th>\n",
              "      <th>Deaths</th>\n",
              "      <th>Min Cured</th>\n",
              "      <th>Datetime</th>\n",
              "    </tr>\n",
              "  </thead>\n",
              "  <tbody>\n",
              "    <tr>\n",
              "      <th>8292</th>\n",
              "      <td>2020-11-11</td>\n",
              "      <td>8:00 AM</td>\n",
              "      <td>Kerala</td>\n",
              "      <td>415158</td>\n",
              "      <td>1742</td>\n",
              "      <td>415158</td>\n",
              "      <td>2020-11-11 08:00:00</td>\n",
              "    </tr>\n",
              "    <tr>\n",
              "      <th>10169</th>\n",
              "      <td>2021-01-03</td>\n",
              "      <td>8:00 AM</td>\n",
              "      <td>Karnataka</td>\n",
              "      <td>898176</td>\n",
              "      <td>12099</td>\n",
              "      <td>898176</td>\n",
              "      <td>2021-01-03 08:00:00</td>\n",
              "    </tr>\n",
              "    <tr>\n",
              "      <th>11526</th>\n",
              "      <td>2021-02-10</td>\n",
              "      <td>8:00 AM</td>\n",
              "      <td>Bihar</td>\n",
              "      <td>259074</td>\n",
              "      <td>1518</td>\n",
              "      <td>259074</td>\n",
              "      <td>2021-02-10 08:00:00</td>\n",
              "    </tr>\n",
              "    <tr>\n",
              "      <th>14629</th>\n",
              "      <td>2021-05-07</td>\n",
              "      <td>8:00 AM</td>\n",
              "      <td>Haryana</td>\n",
              "      <td>452836</td>\n",
              "      <td>5137</td>\n",
              "      <td>452836</td>\n",
              "      <td>2021-05-07 08:00:00</td>\n",
              "    </tr>\n",
              "    <tr>\n",
              "      <th>7320</th>\n",
              "      <td>2020-10-14</td>\n",
              "      <td>8:00 AM</td>\n",
              "      <td>Odisha</td>\n",
              "      <td>232988</td>\n",
              "      <td>1057</td>\n",
              "      <td>14393</td>\n",
              "      <td>2020-10-14 08:00:00</td>\n",
              "    </tr>\n",
              "    <tr>\n",
              "      <th>4987</th>\n",
              "      <td>2020-08-09</td>\n",
              "      <td>8:00 AM</td>\n",
              "      <td>Andhra Pradesh</td>\n",
              "      <td>129615</td>\n",
              "      <td>1939</td>\n",
              "      <td>129615</td>\n",
              "      <td>2020-08-09 08:00:00</td>\n",
              "    </tr>\n",
              "    <tr>\n",
              "      <th>7203</th>\n",
              "      <td>2020-10-11</td>\n",
              "      <td>8:00 AM</td>\n",
              "      <td>Himachal Pradesh</td>\n",
              "      <td>14278</td>\n",
              "      <td>248</td>\n",
              "      <td>14278</td>\n",
              "      <td>2020-10-11 08:00:00</td>\n",
              "    </tr>\n",
              "    <tr>\n",
              "      <th>4450</th>\n",
              "      <td>2020-07-24</td>\n",
              "      <td>8:00 AM</td>\n",
              "      <td>Odisha</td>\n",
              "      <td>14393</td>\n",
              "      <td>114</td>\n",
              "      <td>14393</td>\n",
              "      <td>2020-07-24 08:00:00</td>\n",
              "    </tr>\n",
              "    <tr>\n",
              "      <th>15669</th>\n",
              "      <td>2021-06-05</td>\n",
              "      <td>8:00 AM</td>\n",
              "      <td>Dadra and Nagar Haveli</td>\n",
              "      <td>10261</td>\n",
              "      <td>4</td>\n",
              "      <td>10261</td>\n",
              "      <td>2021-06-05 08:00:00</td>\n",
              "    </tr>\n",
              "    <tr>\n",
              "      <th>1635</th>\n",
              "      <td>2020-05-05</td>\n",
              "      <td>5:00 PM</td>\n",
              "      <td>Uttarakhand</td>\n",
              "      <td>39</td>\n",
              "      <td>1</td>\n",
              "      <td>39</td>\n",
              "      <td>2020-05-05 17:00:00</td>\n",
              "    </tr>\n",
              "  </tbody>\n",
              "</table>\n",
              "</div>"
            ],
            "text/plain": [
              "             Date     Time  ... Min Cured            Datetime\n",
              "8292   2020-11-11  8:00 AM  ...    415158 2020-11-11 08:00:00\n",
              "10169  2021-01-03  8:00 AM  ...    898176 2021-01-03 08:00:00\n",
              "11526  2021-02-10  8:00 AM  ...    259074 2021-02-10 08:00:00\n",
              "14629  2021-05-07  8:00 AM  ...    452836 2021-05-07 08:00:00\n",
              "7320   2020-10-14  8:00 AM  ...     14393 2020-10-14 08:00:00\n",
              "4987   2020-08-09  8:00 AM  ...    129615 2020-08-09 08:00:00\n",
              "7203   2020-10-11  8:00 AM  ...     14278 2020-10-11 08:00:00\n",
              "4450   2020-07-24  8:00 AM  ...     14393 2020-07-24 08:00:00\n",
              "15669  2021-06-05  8:00 AM  ...     10261 2021-06-05 08:00:00\n",
              "1635   2020-05-05  5:00 PM  ...        39 2020-05-05 17:00:00\n",
              "\n",
              "[10 rows x 7 columns]"
            ]
          },
          "metadata": {},
          "execution_count": 178
        }
      ]
    },
    {
      "cell_type": "code",
      "metadata": {
        "colab": {
          "base_uri": "https://localhost:8080/"
        },
        "id": "KTyzAsMQIdhw",
        "outputId": "904f8caf-cfe4-4a1a-c038-af72cd08e2ed"
      },
      "source": [
        "df.Datetime.iloc[0]"
      ],
      "execution_count": null,
      "outputs": [
        {
          "output_type": "execute_result",
          "data": {
            "text/plain": [
              "Timestamp('2020-11-11 08:00:00')"
            ]
          },
          "metadata": {},
          "execution_count": 179
        }
      ]
    },
    {
      "cell_type": "markdown",
      "metadata": {
        "id": "DzuDYyIBObRz"
      },
      "source": [
        "Чтобы работать с форматом `Timestamp` и делать выборки по датам, надо дату сделать индексом."
      ]
    },
    {
      "cell_type": "code",
      "metadata": {
        "colab": {
          "base_uri": "https://localhost:8080/",
          "height": 394
        },
        "id": "lNIIk81EGB7z",
        "outputId": "1456a1bd-f64a-4628-a284-310ff7787412"
      },
      "source": [
        "df1 = df.set_index(keys=\"Datetime\")\n",
        "df1"
      ],
      "execution_count": null,
      "outputs": [
        {
          "output_type": "execute_result",
          "data": {
            "text/html": [
              "<div>\n",
              "<style scoped>\n",
              "    .dataframe tbody tr th:only-of-type {\n",
              "        vertical-align: middle;\n",
              "    }\n",
              "\n",
              "    .dataframe tbody tr th {\n",
              "        vertical-align: top;\n",
              "    }\n",
              "\n",
              "    .dataframe thead th {\n",
              "        text-align: right;\n",
              "    }\n",
              "</style>\n",
              "<table border=\"1\" class=\"dataframe\">\n",
              "  <thead>\n",
              "    <tr style=\"text-align: right;\">\n",
              "      <th></th>\n",
              "      <th>Date</th>\n",
              "      <th>Time</th>\n",
              "      <th>State</th>\n",
              "      <th>Cured</th>\n",
              "      <th>Deaths</th>\n",
              "      <th>Min Cured</th>\n",
              "    </tr>\n",
              "    <tr>\n",
              "      <th>Datetime</th>\n",
              "      <th></th>\n",
              "      <th></th>\n",
              "      <th></th>\n",
              "      <th></th>\n",
              "      <th></th>\n",
              "      <th></th>\n",
              "    </tr>\n",
              "  </thead>\n",
              "  <tbody>\n",
              "    <tr>\n",
              "      <th>2020-11-11 08:00:00</th>\n",
              "      <td>2020-11-11</td>\n",
              "      <td>8:00 AM</td>\n",
              "      <td>Kerala</td>\n",
              "      <td>415158</td>\n",
              "      <td>1742</td>\n",
              "      <td>415158</td>\n",
              "    </tr>\n",
              "    <tr>\n",
              "      <th>2021-01-03 08:00:00</th>\n",
              "      <td>2021-01-03</td>\n",
              "      <td>8:00 AM</td>\n",
              "      <td>Karnataka</td>\n",
              "      <td>898176</td>\n",
              "      <td>12099</td>\n",
              "      <td>898176</td>\n",
              "    </tr>\n",
              "    <tr>\n",
              "      <th>2021-02-10 08:00:00</th>\n",
              "      <td>2021-02-10</td>\n",
              "      <td>8:00 AM</td>\n",
              "      <td>Bihar</td>\n",
              "      <td>259074</td>\n",
              "      <td>1518</td>\n",
              "      <td>259074</td>\n",
              "    </tr>\n",
              "    <tr>\n",
              "      <th>2021-05-07 08:00:00</th>\n",
              "      <td>2021-05-07</td>\n",
              "      <td>8:00 AM</td>\n",
              "      <td>Haryana</td>\n",
              "      <td>452836</td>\n",
              "      <td>5137</td>\n",
              "      <td>452836</td>\n",
              "    </tr>\n",
              "    <tr>\n",
              "      <th>2020-10-14 08:00:00</th>\n",
              "      <td>2020-10-14</td>\n",
              "      <td>8:00 AM</td>\n",
              "      <td>Odisha</td>\n",
              "      <td>232988</td>\n",
              "      <td>1057</td>\n",
              "      <td>14393</td>\n",
              "    </tr>\n",
              "    <tr>\n",
              "      <th>2020-08-09 08:00:00</th>\n",
              "      <td>2020-08-09</td>\n",
              "      <td>8:00 AM</td>\n",
              "      <td>Andhra Pradesh</td>\n",
              "      <td>129615</td>\n",
              "      <td>1939</td>\n",
              "      <td>129615</td>\n",
              "    </tr>\n",
              "    <tr>\n",
              "      <th>2020-10-11 08:00:00</th>\n",
              "      <td>2020-10-11</td>\n",
              "      <td>8:00 AM</td>\n",
              "      <td>Himachal Pradesh</td>\n",
              "      <td>14278</td>\n",
              "      <td>248</td>\n",
              "      <td>14278</td>\n",
              "    </tr>\n",
              "    <tr>\n",
              "      <th>2020-07-24 08:00:00</th>\n",
              "      <td>2020-07-24</td>\n",
              "      <td>8:00 AM</td>\n",
              "      <td>Odisha</td>\n",
              "      <td>14393</td>\n",
              "      <td>114</td>\n",
              "      <td>14393</td>\n",
              "    </tr>\n",
              "    <tr>\n",
              "      <th>2021-06-05 08:00:00</th>\n",
              "      <td>2021-06-05</td>\n",
              "      <td>8:00 AM</td>\n",
              "      <td>Dadra and Nagar Haveli</td>\n",
              "      <td>10261</td>\n",
              "      <td>4</td>\n",
              "      <td>10261</td>\n",
              "    </tr>\n",
              "    <tr>\n",
              "      <th>2020-05-05 17:00:00</th>\n",
              "      <td>2020-05-05</td>\n",
              "      <td>5:00 PM</td>\n",
              "      <td>Uttarakhand</td>\n",
              "      <td>39</td>\n",
              "      <td>1</td>\n",
              "      <td>39</td>\n",
              "    </tr>\n",
              "  </tbody>\n",
              "</table>\n",
              "</div>"
            ],
            "text/plain": [
              "                           Date     Time  ... Deaths  Min Cured\n",
              "Datetime                                  ...                  \n",
              "2020-11-11 08:00:00  2020-11-11  8:00 AM  ...   1742     415158\n",
              "2021-01-03 08:00:00  2021-01-03  8:00 AM  ...  12099     898176\n",
              "2021-02-10 08:00:00  2021-02-10  8:00 AM  ...   1518     259074\n",
              "2021-05-07 08:00:00  2021-05-07  8:00 AM  ...   5137     452836\n",
              "2020-10-14 08:00:00  2020-10-14  8:00 AM  ...   1057      14393\n",
              "2020-08-09 08:00:00  2020-08-09  8:00 AM  ...   1939     129615\n",
              "2020-10-11 08:00:00  2020-10-11  8:00 AM  ...    248      14278\n",
              "2020-07-24 08:00:00  2020-07-24  8:00 AM  ...    114      14393\n",
              "2021-06-05 08:00:00  2021-06-05  8:00 AM  ...      4      10261\n",
              "2020-05-05 17:00:00  2020-05-05  5:00 PM  ...      1         39\n",
              "\n",
              "[10 rows x 6 columns]"
            ]
          },
          "metadata": {},
          "execution_count": 181
        }
      ]
    },
    {
      "cell_type": "markdown",
      "metadata": {
        "id": "7b-LauRcLyDp"
      },
      "source": [
        "- `asfreq()` добавляет и преобразует даты на основе указанной частоты"
      ]
    },
    {
      "cell_type": "code",
      "metadata": {
        "colab": {
          "base_uri": "https://localhost:8080/",
          "height": 928
        },
        "id": "sJSyc_riL4ey",
        "outputId": "ec9f7199-1e6c-4002-db64-6aed84b65fd3"
      },
      "source": [
        "df1.asfreq(freq='15D')"
      ],
      "execution_count": null,
      "outputs": [
        {
          "output_type": "execute_result",
          "data": {
            "text/html": [
              "<div>\n",
              "<style scoped>\n",
              "    .dataframe tbody tr th:only-of-type {\n",
              "        vertical-align: middle;\n",
              "    }\n",
              "\n",
              "    .dataframe tbody tr th {\n",
              "        vertical-align: top;\n",
              "    }\n",
              "\n",
              "    .dataframe thead th {\n",
              "        text-align: right;\n",
              "    }\n",
              "</style>\n",
              "<table border=\"1\" class=\"dataframe\">\n",
              "  <thead>\n",
              "    <tr style=\"text-align: right;\">\n",
              "      <th></th>\n",
              "      <th>Date</th>\n",
              "      <th>Time</th>\n",
              "      <th>State</th>\n",
              "      <th>Cured</th>\n",
              "      <th>Deaths</th>\n",
              "      <th>Min Cured</th>\n",
              "    </tr>\n",
              "    <tr>\n",
              "      <th>Datetime</th>\n",
              "      <th></th>\n",
              "      <th></th>\n",
              "      <th></th>\n",
              "      <th></th>\n",
              "      <th></th>\n",
              "      <th></th>\n",
              "    </tr>\n",
              "  </thead>\n",
              "  <tbody>\n",
              "    <tr>\n",
              "      <th>2020-05-05 17:00:00</th>\n",
              "      <td>2020-05-05</td>\n",
              "      <td>5:00 PM</td>\n",
              "      <td>Uttarakhand</td>\n",
              "      <td>39.0</td>\n",
              "      <td>1.0</td>\n",
              "      <td>39.0</td>\n",
              "    </tr>\n",
              "    <tr>\n",
              "      <th>2020-05-20 17:00:00</th>\n",
              "      <td>NaN</td>\n",
              "      <td>NaN</td>\n",
              "      <td>NaN</td>\n",
              "      <td>NaN</td>\n",
              "      <td>NaN</td>\n",
              "      <td>NaN</td>\n",
              "    </tr>\n",
              "    <tr>\n",
              "      <th>2020-06-04 17:00:00</th>\n",
              "      <td>NaN</td>\n",
              "      <td>NaN</td>\n",
              "      <td>NaN</td>\n",
              "      <td>NaN</td>\n",
              "      <td>NaN</td>\n",
              "      <td>NaN</td>\n",
              "    </tr>\n",
              "    <tr>\n",
              "      <th>2020-06-19 17:00:00</th>\n",
              "      <td>NaN</td>\n",
              "      <td>NaN</td>\n",
              "      <td>NaN</td>\n",
              "      <td>NaN</td>\n",
              "      <td>NaN</td>\n",
              "      <td>NaN</td>\n",
              "    </tr>\n",
              "    <tr>\n",
              "      <th>2020-07-04 17:00:00</th>\n",
              "      <td>NaN</td>\n",
              "      <td>NaN</td>\n",
              "      <td>NaN</td>\n",
              "      <td>NaN</td>\n",
              "      <td>NaN</td>\n",
              "      <td>NaN</td>\n",
              "    </tr>\n",
              "    <tr>\n",
              "      <th>2020-07-19 17:00:00</th>\n",
              "      <td>NaN</td>\n",
              "      <td>NaN</td>\n",
              "      <td>NaN</td>\n",
              "      <td>NaN</td>\n",
              "      <td>NaN</td>\n",
              "      <td>NaN</td>\n",
              "    </tr>\n",
              "    <tr>\n",
              "      <th>2020-08-03 17:00:00</th>\n",
              "      <td>NaN</td>\n",
              "      <td>NaN</td>\n",
              "      <td>NaN</td>\n",
              "      <td>NaN</td>\n",
              "      <td>NaN</td>\n",
              "      <td>NaN</td>\n",
              "    </tr>\n",
              "    <tr>\n",
              "      <th>2020-08-18 17:00:00</th>\n",
              "      <td>NaN</td>\n",
              "      <td>NaN</td>\n",
              "      <td>NaN</td>\n",
              "      <td>NaN</td>\n",
              "      <td>NaN</td>\n",
              "      <td>NaN</td>\n",
              "    </tr>\n",
              "    <tr>\n",
              "      <th>2020-09-02 17:00:00</th>\n",
              "      <td>NaN</td>\n",
              "      <td>NaN</td>\n",
              "      <td>NaN</td>\n",
              "      <td>NaN</td>\n",
              "      <td>NaN</td>\n",
              "      <td>NaN</td>\n",
              "    </tr>\n",
              "    <tr>\n",
              "      <th>2020-09-17 17:00:00</th>\n",
              "      <td>NaN</td>\n",
              "      <td>NaN</td>\n",
              "      <td>NaN</td>\n",
              "      <td>NaN</td>\n",
              "      <td>NaN</td>\n",
              "      <td>NaN</td>\n",
              "    </tr>\n",
              "    <tr>\n",
              "      <th>2020-10-02 17:00:00</th>\n",
              "      <td>NaN</td>\n",
              "      <td>NaN</td>\n",
              "      <td>NaN</td>\n",
              "      <td>NaN</td>\n",
              "      <td>NaN</td>\n",
              "      <td>NaN</td>\n",
              "    </tr>\n",
              "    <tr>\n",
              "      <th>2020-10-17 17:00:00</th>\n",
              "      <td>NaN</td>\n",
              "      <td>NaN</td>\n",
              "      <td>NaN</td>\n",
              "      <td>NaN</td>\n",
              "      <td>NaN</td>\n",
              "      <td>NaN</td>\n",
              "    </tr>\n",
              "    <tr>\n",
              "      <th>2020-11-01 17:00:00</th>\n",
              "      <td>NaN</td>\n",
              "      <td>NaN</td>\n",
              "      <td>NaN</td>\n",
              "      <td>NaN</td>\n",
              "      <td>NaN</td>\n",
              "      <td>NaN</td>\n",
              "    </tr>\n",
              "    <tr>\n",
              "      <th>2020-11-16 17:00:00</th>\n",
              "      <td>NaN</td>\n",
              "      <td>NaN</td>\n",
              "      <td>NaN</td>\n",
              "      <td>NaN</td>\n",
              "      <td>NaN</td>\n",
              "      <td>NaN</td>\n",
              "    </tr>\n",
              "    <tr>\n",
              "      <th>2020-12-01 17:00:00</th>\n",
              "      <td>NaN</td>\n",
              "      <td>NaN</td>\n",
              "      <td>NaN</td>\n",
              "      <td>NaN</td>\n",
              "      <td>NaN</td>\n",
              "      <td>NaN</td>\n",
              "    </tr>\n",
              "    <tr>\n",
              "      <th>2020-12-16 17:00:00</th>\n",
              "      <td>NaN</td>\n",
              "      <td>NaN</td>\n",
              "      <td>NaN</td>\n",
              "      <td>NaN</td>\n",
              "      <td>NaN</td>\n",
              "      <td>NaN</td>\n",
              "    </tr>\n",
              "    <tr>\n",
              "      <th>2020-12-31 17:00:00</th>\n",
              "      <td>NaN</td>\n",
              "      <td>NaN</td>\n",
              "      <td>NaN</td>\n",
              "      <td>NaN</td>\n",
              "      <td>NaN</td>\n",
              "      <td>NaN</td>\n",
              "    </tr>\n",
              "    <tr>\n",
              "      <th>2021-01-15 17:00:00</th>\n",
              "      <td>NaN</td>\n",
              "      <td>NaN</td>\n",
              "      <td>NaN</td>\n",
              "      <td>NaN</td>\n",
              "      <td>NaN</td>\n",
              "      <td>NaN</td>\n",
              "    </tr>\n",
              "    <tr>\n",
              "      <th>2021-01-30 17:00:00</th>\n",
              "      <td>NaN</td>\n",
              "      <td>NaN</td>\n",
              "      <td>NaN</td>\n",
              "      <td>NaN</td>\n",
              "      <td>NaN</td>\n",
              "      <td>NaN</td>\n",
              "    </tr>\n",
              "    <tr>\n",
              "      <th>2021-02-14 17:00:00</th>\n",
              "      <td>NaN</td>\n",
              "      <td>NaN</td>\n",
              "      <td>NaN</td>\n",
              "      <td>NaN</td>\n",
              "      <td>NaN</td>\n",
              "      <td>NaN</td>\n",
              "    </tr>\n",
              "    <tr>\n",
              "      <th>2021-03-01 17:00:00</th>\n",
              "      <td>NaN</td>\n",
              "      <td>NaN</td>\n",
              "      <td>NaN</td>\n",
              "      <td>NaN</td>\n",
              "      <td>NaN</td>\n",
              "      <td>NaN</td>\n",
              "    </tr>\n",
              "    <tr>\n",
              "      <th>2021-03-16 17:00:00</th>\n",
              "      <td>NaN</td>\n",
              "      <td>NaN</td>\n",
              "      <td>NaN</td>\n",
              "      <td>NaN</td>\n",
              "      <td>NaN</td>\n",
              "      <td>NaN</td>\n",
              "    </tr>\n",
              "    <tr>\n",
              "      <th>2021-03-31 17:00:00</th>\n",
              "      <td>NaN</td>\n",
              "      <td>NaN</td>\n",
              "      <td>NaN</td>\n",
              "      <td>NaN</td>\n",
              "      <td>NaN</td>\n",
              "      <td>NaN</td>\n",
              "    </tr>\n",
              "    <tr>\n",
              "      <th>2021-04-15 17:00:00</th>\n",
              "      <td>NaN</td>\n",
              "      <td>NaN</td>\n",
              "      <td>NaN</td>\n",
              "      <td>NaN</td>\n",
              "      <td>NaN</td>\n",
              "      <td>NaN</td>\n",
              "    </tr>\n",
              "    <tr>\n",
              "      <th>2021-04-30 17:00:00</th>\n",
              "      <td>NaN</td>\n",
              "      <td>NaN</td>\n",
              "      <td>NaN</td>\n",
              "      <td>NaN</td>\n",
              "      <td>NaN</td>\n",
              "      <td>NaN</td>\n",
              "    </tr>\n",
              "    <tr>\n",
              "      <th>2021-05-15 17:00:00</th>\n",
              "      <td>NaN</td>\n",
              "      <td>NaN</td>\n",
              "      <td>NaN</td>\n",
              "      <td>NaN</td>\n",
              "      <td>NaN</td>\n",
              "      <td>NaN</td>\n",
              "    </tr>\n",
              "    <tr>\n",
              "      <th>2021-05-30 17:00:00</th>\n",
              "      <td>NaN</td>\n",
              "      <td>NaN</td>\n",
              "      <td>NaN</td>\n",
              "      <td>NaN</td>\n",
              "      <td>NaN</td>\n",
              "      <td>NaN</td>\n",
              "    </tr>\n",
              "  </tbody>\n",
              "</table>\n",
              "</div>"
            ],
            "text/plain": [
              "                           Date     Time        State  Cured  Deaths  Min Cured\n",
              "Datetime                                                                       \n",
              "2020-05-05 17:00:00  2020-05-05  5:00 PM  Uttarakhand   39.0     1.0       39.0\n",
              "2020-05-20 17:00:00         NaN      NaN          NaN    NaN     NaN        NaN\n",
              "2020-06-04 17:00:00         NaN      NaN          NaN    NaN     NaN        NaN\n",
              "2020-06-19 17:00:00         NaN      NaN          NaN    NaN     NaN        NaN\n",
              "2020-07-04 17:00:00         NaN      NaN          NaN    NaN     NaN        NaN\n",
              "2020-07-19 17:00:00         NaN      NaN          NaN    NaN     NaN        NaN\n",
              "2020-08-03 17:00:00         NaN      NaN          NaN    NaN     NaN        NaN\n",
              "2020-08-18 17:00:00         NaN      NaN          NaN    NaN     NaN        NaN\n",
              "2020-09-02 17:00:00         NaN      NaN          NaN    NaN     NaN        NaN\n",
              "2020-09-17 17:00:00         NaN      NaN          NaN    NaN     NaN        NaN\n",
              "2020-10-02 17:00:00         NaN      NaN          NaN    NaN     NaN        NaN\n",
              "2020-10-17 17:00:00         NaN      NaN          NaN    NaN     NaN        NaN\n",
              "2020-11-01 17:00:00         NaN      NaN          NaN    NaN     NaN        NaN\n",
              "2020-11-16 17:00:00         NaN      NaN          NaN    NaN     NaN        NaN\n",
              "2020-12-01 17:00:00         NaN      NaN          NaN    NaN     NaN        NaN\n",
              "2020-12-16 17:00:00         NaN      NaN          NaN    NaN     NaN        NaN\n",
              "2020-12-31 17:00:00         NaN      NaN          NaN    NaN     NaN        NaN\n",
              "2021-01-15 17:00:00         NaN      NaN          NaN    NaN     NaN        NaN\n",
              "2021-01-30 17:00:00         NaN      NaN          NaN    NaN     NaN        NaN\n",
              "2021-02-14 17:00:00         NaN      NaN          NaN    NaN     NaN        NaN\n",
              "2021-03-01 17:00:00         NaN      NaN          NaN    NaN     NaN        NaN\n",
              "2021-03-16 17:00:00         NaN      NaN          NaN    NaN     NaN        NaN\n",
              "2021-03-31 17:00:00         NaN      NaN          NaN    NaN     NaN        NaN\n",
              "2021-04-15 17:00:00         NaN      NaN          NaN    NaN     NaN        NaN\n",
              "2021-04-30 17:00:00         NaN      NaN          NaN    NaN     NaN        NaN\n",
              "2021-05-15 17:00:00         NaN      NaN          NaN    NaN     NaN        NaN\n",
              "2021-05-30 17:00:00         NaN      NaN          NaN    NaN     NaN        NaN"
            ]
          },
          "metadata": {},
          "execution_count": 185
        }
      ]
    },
    {
      "cell_type": "markdown",
      "metadata": {
        "id": "3eJWiRo7M_14"
      },
      "source": [
        "- `shift()` сдвигает строки по времени"
      ]
    },
    {
      "cell_type": "code",
      "metadata": {
        "colab": {
          "base_uri": "https://localhost:8080/",
          "height": 394
        },
        "id": "kjYtXteQNFSH",
        "outputId": "756f7435-cd79-462e-85b4-e2b1d3f84290"
      },
      "source": [
        "df1.shift(periods=3, fill_value=0, freq=\"3D\")"
      ],
      "execution_count": null,
      "outputs": [
        {
          "output_type": "execute_result",
          "data": {
            "text/html": [
              "<div>\n",
              "<style scoped>\n",
              "    .dataframe tbody tr th:only-of-type {\n",
              "        vertical-align: middle;\n",
              "    }\n",
              "\n",
              "    .dataframe tbody tr th {\n",
              "        vertical-align: top;\n",
              "    }\n",
              "\n",
              "    .dataframe thead th {\n",
              "        text-align: right;\n",
              "    }\n",
              "</style>\n",
              "<table border=\"1\" class=\"dataframe\">\n",
              "  <thead>\n",
              "    <tr style=\"text-align: right;\">\n",
              "      <th></th>\n",
              "      <th>Date</th>\n",
              "      <th>Time</th>\n",
              "      <th>State</th>\n",
              "      <th>Cured</th>\n",
              "      <th>Deaths</th>\n",
              "      <th>Min Cured</th>\n",
              "    </tr>\n",
              "    <tr>\n",
              "      <th>Datetime</th>\n",
              "      <th></th>\n",
              "      <th></th>\n",
              "      <th></th>\n",
              "      <th></th>\n",
              "      <th></th>\n",
              "      <th></th>\n",
              "    </tr>\n",
              "  </thead>\n",
              "  <tbody>\n",
              "    <tr>\n",
              "      <th>2020-11-20 08:00:00</th>\n",
              "      <td>2020-11-11</td>\n",
              "      <td>8:00 AM</td>\n",
              "      <td>Kerala</td>\n",
              "      <td>415158</td>\n",
              "      <td>1742</td>\n",
              "      <td>415158</td>\n",
              "    </tr>\n",
              "    <tr>\n",
              "      <th>2021-01-12 08:00:00</th>\n",
              "      <td>2021-01-03</td>\n",
              "      <td>8:00 AM</td>\n",
              "      <td>Karnataka</td>\n",
              "      <td>898176</td>\n",
              "      <td>12099</td>\n",
              "      <td>898176</td>\n",
              "    </tr>\n",
              "    <tr>\n",
              "      <th>2021-02-19 08:00:00</th>\n",
              "      <td>2021-02-10</td>\n",
              "      <td>8:00 AM</td>\n",
              "      <td>Bihar</td>\n",
              "      <td>259074</td>\n",
              "      <td>1518</td>\n",
              "      <td>259074</td>\n",
              "    </tr>\n",
              "    <tr>\n",
              "      <th>2021-05-16 08:00:00</th>\n",
              "      <td>2021-05-07</td>\n",
              "      <td>8:00 AM</td>\n",
              "      <td>Haryana</td>\n",
              "      <td>452836</td>\n",
              "      <td>5137</td>\n",
              "      <td>452836</td>\n",
              "    </tr>\n",
              "    <tr>\n",
              "      <th>2020-10-23 08:00:00</th>\n",
              "      <td>2020-10-14</td>\n",
              "      <td>8:00 AM</td>\n",
              "      <td>Odisha</td>\n",
              "      <td>232988</td>\n",
              "      <td>1057</td>\n",
              "      <td>14393</td>\n",
              "    </tr>\n",
              "    <tr>\n",
              "      <th>2020-08-18 08:00:00</th>\n",
              "      <td>2020-08-09</td>\n",
              "      <td>8:00 AM</td>\n",
              "      <td>Andhra Pradesh</td>\n",
              "      <td>129615</td>\n",
              "      <td>1939</td>\n",
              "      <td>129615</td>\n",
              "    </tr>\n",
              "    <tr>\n",
              "      <th>2020-10-20 08:00:00</th>\n",
              "      <td>2020-10-11</td>\n",
              "      <td>8:00 AM</td>\n",
              "      <td>Himachal Pradesh</td>\n",
              "      <td>14278</td>\n",
              "      <td>248</td>\n",
              "      <td>14278</td>\n",
              "    </tr>\n",
              "    <tr>\n",
              "      <th>2020-08-02 08:00:00</th>\n",
              "      <td>2020-07-24</td>\n",
              "      <td>8:00 AM</td>\n",
              "      <td>Odisha</td>\n",
              "      <td>14393</td>\n",
              "      <td>114</td>\n",
              "      <td>14393</td>\n",
              "    </tr>\n",
              "    <tr>\n",
              "      <th>2021-06-14 08:00:00</th>\n",
              "      <td>2021-06-05</td>\n",
              "      <td>8:00 AM</td>\n",
              "      <td>Dadra and Nagar Haveli</td>\n",
              "      <td>10261</td>\n",
              "      <td>4</td>\n",
              "      <td>10261</td>\n",
              "    </tr>\n",
              "    <tr>\n",
              "      <th>2020-05-14 17:00:00</th>\n",
              "      <td>2020-05-05</td>\n",
              "      <td>5:00 PM</td>\n",
              "      <td>Uttarakhand</td>\n",
              "      <td>39</td>\n",
              "      <td>1</td>\n",
              "      <td>39</td>\n",
              "    </tr>\n",
              "  </tbody>\n",
              "</table>\n",
              "</div>"
            ],
            "text/plain": [
              "                           Date     Time  ... Deaths  Min Cured\n",
              "Datetime                                  ...                  \n",
              "2020-11-20 08:00:00  2020-11-11  8:00 AM  ...   1742     415158\n",
              "2021-01-12 08:00:00  2021-01-03  8:00 AM  ...  12099     898176\n",
              "2021-02-19 08:00:00  2021-02-10  8:00 AM  ...   1518     259074\n",
              "2021-05-16 08:00:00  2021-05-07  8:00 AM  ...   5137     452836\n",
              "2020-10-23 08:00:00  2020-10-14  8:00 AM  ...   1057      14393\n",
              "2020-08-18 08:00:00  2020-08-09  8:00 AM  ...   1939     129615\n",
              "2020-10-20 08:00:00  2020-10-11  8:00 AM  ...    248      14278\n",
              "2020-08-02 08:00:00  2020-07-24  8:00 AM  ...    114      14393\n",
              "2021-06-14 08:00:00  2021-06-05  8:00 AM  ...      4      10261\n",
              "2020-05-14 17:00:00  2020-05-05  5:00 PM  ...      1         39\n",
              "\n",
              "[10 rows x 6 columns]"
            ]
          },
          "metadata": {},
          "execution_count": 187
        }
      ]
    },
    {
      "cell_type": "markdown",
      "metadata": {
        "id": "usPGFjUYNzMO"
      },
      "source": [
        "- `resample()` перегруппировывает данные по времени с заданным промежутком. Данные в остальных столбцах суммируются"
      ]
    },
    {
      "cell_type": "code",
      "metadata": {
        "colab": {
          "base_uri": "https://localhost:8080/",
          "height": 520
        },
        "id": "V9saWAsJNyiB",
        "outputId": "6e85427e-1b55-4239-88b2-d09dec840951"
      },
      "source": [
        "df1.resample(\"30D\").sum()"
      ],
      "execution_count": null,
      "outputs": [
        {
          "output_type": "execute_result",
          "data": {
            "text/html": [
              "<div>\n",
              "<style scoped>\n",
              "    .dataframe tbody tr th:only-of-type {\n",
              "        vertical-align: middle;\n",
              "    }\n",
              "\n",
              "    .dataframe tbody tr th {\n",
              "        vertical-align: top;\n",
              "    }\n",
              "\n",
              "    .dataframe thead th {\n",
              "        text-align: right;\n",
              "    }\n",
              "</style>\n",
              "<table border=\"1\" class=\"dataframe\">\n",
              "  <thead>\n",
              "    <tr style=\"text-align: right;\">\n",
              "      <th></th>\n",
              "      <th>Cured</th>\n",
              "      <th>Deaths</th>\n",
              "      <th>Min Cured</th>\n",
              "    </tr>\n",
              "    <tr>\n",
              "      <th>Datetime</th>\n",
              "      <th></th>\n",
              "      <th></th>\n",
              "      <th></th>\n",
              "    </tr>\n",
              "  </thead>\n",
              "  <tbody>\n",
              "    <tr>\n",
              "      <th>2020-05-05</th>\n",
              "      <td>39</td>\n",
              "      <td>1</td>\n",
              "      <td>39</td>\n",
              "    </tr>\n",
              "    <tr>\n",
              "      <th>2020-06-04</th>\n",
              "      <td>0</td>\n",
              "      <td>0</td>\n",
              "      <td>0</td>\n",
              "    </tr>\n",
              "    <tr>\n",
              "      <th>2020-07-04</th>\n",
              "      <td>14393</td>\n",
              "      <td>114</td>\n",
              "      <td>14393</td>\n",
              "    </tr>\n",
              "    <tr>\n",
              "      <th>2020-08-03</th>\n",
              "      <td>129615</td>\n",
              "      <td>1939</td>\n",
              "      <td>129615</td>\n",
              "    </tr>\n",
              "    <tr>\n",
              "      <th>2020-09-02</th>\n",
              "      <td>0</td>\n",
              "      <td>0</td>\n",
              "      <td>0</td>\n",
              "    </tr>\n",
              "    <tr>\n",
              "      <th>2020-10-02</th>\n",
              "      <td>247266</td>\n",
              "      <td>1305</td>\n",
              "      <td>28671</td>\n",
              "    </tr>\n",
              "    <tr>\n",
              "      <th>2020-11-01</th>\n",
              "      <td>415158</td>\n",
              "      <td>1742</td>\n",
              "      <td>415158</td>\n",
              "    </tr>\n",
              "    <tr>\n",
              "      <th>2020-12-01</th>\n",
              "      <td>0</td>\n",
              "      <td>0</td>\n",
              "      <td>0</td>\n",
              "    </tr>\n",
              "    <tr>\n",
              "      <th>2020-12-31</th>\n",
              "      <td>898176</td>\n",
              "      <td>12099</td>\n",
              "      <td>898176</td>\n",
              "    </tr>\n",
              "    <tr>\n",
              "      <th>2021-01-30</th>\n",
              "      <td>259074</td>\n",
              "      <td>1518</td>\n",
              "      <td>259074</td>\n",
              "    </tr>\n",
              "    <tr>\n",
              "      <th>2021-03-01</th>\n",
              "      <td>0</td>\n",
              "      <td>0</td>\n",
              "      <td>0</td>\n",
              "    </tr>\n",
              "    <tr>\n",
              "      <th>2021-03-31</th>\n",
              "      <td>0</td>\n",
              "      <td>0</td>\n",
              "      <td>0</td>\n",
              "    </tr>\n",
              "    <tr>\n",
              "      <th>2021-04-30</th>\n",
              "      <td>452836</td>\n",
              "      <td>5137</td>\n",
              "      <td>452836</td>\n",
              "    </tr>\n",
              "    <tr>\n",
              "      <th>2021-05-30</th>\n",
              "      <td>10261</td>\n",
              "      <td>4</td>\n",
              "      <td>10261</td>\n",
              "    </tr>\n",
              "  </tbody>\n",
              "</table>\n",
              "</div>"
            ],
            "text/plain": [
              "             Cured  Deaths  Min Cured\n",
              "Datetime                             \n",
              "2020-05-05      39       1         39\n",
              "2020-06-04       0       0          0\n",
              "2020-07-04   14393     114      14393\n",
              "2020-08-03  129615    1939     129615\n",
              "2020-09-02       0       0          0\n",
              "2020-10-02  247266    1305      28671\n",
              "2020-11-01  415158    1742     415158\n",
              "2020-12-01       0       0          0\n",
              "2020-12-31  898176   12099     898176\n",
              "2021-01-30  259074    1518     259074\n",
              "2021-03-01       0       0          0\n",
              "2021-03-31       0       0          0\n",
              "2021-04-30  452836    5137     452836\n",
              "2021-05-30   10261       4      10261"
            ]
          },
          "metadata": {},
          "execution_count": 189
        }
      ]
    },
    {
      "cell_type": "markdown",
      "metadata": {
        "id": "szHeRV5gOkXp"
      },
      "source": [
        "- `at_time()` выводит строки в конкретно заданное время"
      ]
    },
    {
      "cell_type": "code",
      "metadata": {
        "colab": {
          "base_uri": "https://localhost:8080/",
          "height": 363
        },
        "id": "lmC__39QOIs_",
        "outputId": "e29629e6-8897-461d-fda6-772d7d6d0184"
      },
      "source": [
        "df1.at_time(\"8:00\")"
      ],
      "execution_count": null,
      "outputs": [
        {
          "output_type": "execute_result",
          "data": {
            "text/html": [
              "<div>\n",
              "<style scoped>\n",
              "    .dataframe tbody tr th:only-of-type {\n",
              "        vertical-align: middle;\n",
              "    }\n",
              "\n",
              "    .dataframe tbody tr th {\n",
              "        vertical-align: top;\n",
              "    }\n",
              "\n",
              "    .dataframe thead th {\n",
              "        text-align: right;\n",
              "    }\n",
              "</style>\n",
              "<table border=\"1\" class=\"dataframe\">\n",
              "  <thead>\n",
              "    <tr style=\"text-align: right;\">\n",
              "      <th></th>\n",
              "      <th>Date</th>\n",
              "      <th>Time</th>\n",
              "      <th>State</th>\n",
              "      <th>Cured</th>\n",
              "      <th>Deaths</th>\n",
              "      <th>Min Cured</th>\n",
              "    </tr>\n",
              "    <tr>\n",
              "      <th>Datetime</th>\n",
              "      <th></th>\n",
              "      <th></th>\n",
              "      <th></th>\n",
              "      <th></th>\n",
              "      <th></th>\n",
              "      <th></th>\n",
              "    </tr>\n",
              "  </thead>\n",
              "  <tbody>\n",
              "    <tr>\n",
              "      <th>2020-11-11 08:00:00</th>\n",
              "      <td>2020-11-11</td>\n",
              "      <td>8:00 AM</td>\n",
              "      <td>Kerala</td>\n",
              "      <td>415158</td>\n",
              "      <td>1742</td>\n",
              "      <td>415158</td>\n",
              "    </tr>\n",
              "    <tr>\n",
              "      <th>2021-01-03 08:00:00</th>\n",
              "      <td>2021-01-03</td>\n",
              "      <td>8:00 AM</td>\n",
              "      <td>Karnataka</td>\n",
              "      <td>898176</td>\n",
              "      <td>12099</td>\n",
              "      <td>898176</td>\n",
              "    </tr>\n",
              "    <tr>\n",
              "      <th>2021-02-10 08:00:00</th>\n",
              "      <td>2021-02-10</td>\n",
              "      <td>8:00 AM</td>\n",
              "      <td>Bihar</td>\n",
              "      <td>259074</td>\n",
              "      <td>1518</td>\n",
              "      <td>259074</td>\n",
              "    </tr>\n",
              "    <tr>\n",
              "      <th>2021-05-07 08:00:00</th>\n",
              "      <td>2021-05-07</td>\n",
              "      <td>8:00 AM</td>\n",
              "      <td>Haryana</td>\n",
              "      <td>452836</td>\n",
              "      <td>5137</td>\n",
              "      <td>452836</td>\n",
              "    </tr>\n",
              "    <tr>\n",
              "      <th>2020-10-14 08:00:00</th>\n",
              "      <td>2020-10-14</td>\n",
              "      <td>8:00 AM</td>\n",
              "      <td>Odisha</td>\n",
              "      <td>232988</td>\n",
              "      <td>1057</td>\n",
              "      <td>14393</td>\n",
              "    </tr>\n",
              "    <tr>\n",
              "      <th>2020-08-09 08:00:00</th>\n",
              "      <td>2020-08-09</td>\n",
              "      <td>8:00 AM</td>\n",
              "      <td>Andhra Pradesh</td>\n",
              "      <td>129615</td>\n",
              "      <td>1939</td>\n",
              "      <td>129615</td>\n",
              "    </tr>\n",
              "    <tr>\n",
              "      <th>2020-10-11 08:00:00</th>\n",
              "      <td>2020-10-11</td>\n",
              "      <td>8:00 AM</td>\n",
              "      <td>Himachal Pradesh</td>\n",
              "      <td>14278</td>\n",
              "      <td>248</td>\n",
              "      <td>14278</td>\n",
              "    </tr>\n",
              "    <tr>\n",
              "      <th>2020-07-24 08:00:00</th>\n",
              "      <td>2020-07-24</td>\n",
              "      <td>8:00 AM</td>\n",
              "      <td>Odisha</td>\n",
              "      <td>14393</td>\n",
              "      <td>114</td>\n",
              "      <td>14393</td>\n",
              "    </tr>\n",
              "    <tr>\n",
              "      <th>2021-06-05 08:00:00</th>\n",
              "      <td>2021-06-05</td>\n",
              "      <td>8:00 AM</td>\n",
              "      <td>Dadra and Nagar Haveli</td>\n",
              "      <td>10261</td>\n",
              "      <td>4</td>\n",
              "      <td>10261</td>\n",
              "    </tr>\n",
              "  </tbody>\n",
              "</table>\n",
              "</div>"
            ],
            "text/plain": [
              "                           Date     Time  ... Deaths  Min Cured\n",
              "Datetime                                  ...                  \n",
              "2020-11-11 08:00:00  2020-11-11  8:00 AM  ...   1742     415158\n",
              "2021-01-03 08:00:00  2021-01-03  8:00 AM  ...  12099     898176\n",
              "2021-02-10 08:00:00  2021-02-10  8:00 AM  ...   1518     259074\n",
              "2021-05-07 08:00:00  2021-05-07  8:00 AM  ...   5137     452836\n",
              "2020-10-14 08:00:00  2020-10-14  8:00 AM  ...   1057      14393\n",
              "2020-08-09 08:00:00  2020-08-09  8:00 AM  ...   1939     129615\n",
              "2020-10-11 08:00:00  2020-10-11  8:00 AM  ...    248      14278\n",
              "2020-07-24 08:00:00  2020-07-24  8:00 AM  ...    114      14393\n",
              "2021-06-05 08:00:00  2021-06-05  8:00 AM  ...      4      10261\n",
              "\n",
              "[9 rows x 6 columns]"
            ]
          },
          "metadata": {},
          "execution_count": 191
        }
      ]
    },
    {
      "cell_type": "code",
      "metadata": {
        "colab": {
          "base_uri": "https://localhost:8080/",
          "height": 394
        },
        "id": "77Xu3f2cOORV",
        "outputId": "29b44caa-a639-4fd7-d793-2893987099e0"
      },
      "source": [
        "df1.sort_index(inplace=True)\n",
        "df1"
      ],
      "execution_count": null,
      "outputs": [
        {
          "output_type": "execute_result",
          "data": {
            "text/html": [
              "<div>\n",
              "<style scoped>\n",
              "    .dataframe tbody tr th:only-of-type {\n",
              "        vertical-align: middle;\n",
              "    }\n",
              "\n",
              "    .dataframe tbody tr th {\n",
              "        vertical-align: top;\n",
              "    }\n",
              "\n",
              "    .dataframe thead th {\n",
              "        text-align: right;\n",
              "    }\n",
              "</style>\n",
              "<table border=\"1\" class=\"dataframe\">\n",
              "  <thead>\n",
              "    <tr style=\"text-align: right;\">\n",
              "      <th></th>\n",
              "      <th>Date</th>\n",
              "      <th>Time</th>\n",
              "      <th>State</th>\n",
              "      <th>Cured</th>\n",
              "      <th>Deaths</th>\n",
              "      <th>Min Cured</th>\n",
              "    </tr>\n",
              "    <tr>\n",
              "      <th>Datetime</th>\n",
              "      <th></th>\n",
              "      <th></th>\n",
              "      <th></th>\n",
              "      <th></th>\n",
              "      <th></th>\n",
              "      <th></th>\n",
              "    </tr>\n",
              "  </thead>\n",
              "  <tbody>\n",
              "    <tr>\n",
              "      <th>2020-05-05 17:00:00</th>\n",
              "      <td>2020-05-05</td>\n",
              "      <td>5:00 PM</td>\n",
              "      <td>Uttarakhand</td>\n",
              "      <td>39</td>\n",
              "      <td>1</td>\n",
              "      <td>39</td>\n",
              "    </tr>\n",
              "    <tr>\n",
              "      <th>2020-07-24 08:00:00</th>\n",
              "      <td>2020-07-24</td>\n",
              "      <td>8:00 AM</td>\n",
              "      <td>Odisha</td>\n",
              "      <td>14393</td>\n",
              "      <td>114</td>\n",
              "      <td>14393</td>\n",
              "    </tr>\n",
              "    <tr>\n",
              "      <th>2020-08-09 08:00:00</th>\n",
              "      <td>2020-08-09</td>\n",
              "      <td>8:00 AM</td>\n",
              "      <td>Andhra Pradesh</td>\n",
              "      <td>129615</td>\n",
              "      <td>1939</td>\n",
              "      <td>129615</td>\n",
              "    </tr>\n",
              "    <tr>\n",
              "      <th>2020-10-11 08:00:00</th>\n",
              "      <td>2020-10-11</td>\n",
              "      <td>8:00 AM</td>\n",
              "      <td>Himachal Pradesh</td>\n",
              "      <td>14278</td>\n",
              "      <td>248</td>\n",
              "      <td>14278</td>\n",
              "    </tr>\n",
              "    <tr>\n",
              "      <th>2020-10-14 08:00:00</th>\n",
              "      <td>2020-10-14</td>\n",
              "      <td>8:00 AM</td>\n",
              "      <td>Odisha</td>\n",
              "      <td>232988</td>\n",
              "      <td>1057</td>\n",
              "      <td>14393</td>\n",
              "    </tr>\n",
              "    <tr>\n",
              "      <th>2020-11-11 08:00:00</th>\n",
              "      <td>2020-11-11</td>\n",
              "      <td>8:00 AM</td>\n",
              "      <td>Kerala</td>\n",
              "      <td>415158</td>\n",
              "      <td>1742</td>\n",
              "      <td>415158</td>\n",
              "    </tr>\n",
              "    <tr>\n",
              "      <th>2021-01-03 08:00:00</th>\n",
              "      <td>2021-01-03</td>\n",
              "      <td>8:00 AM</td>\n",
              "      <td>Karnataka</td>\n",
              "      <td>898176</td>\n",
              "      <td>12099</td>\n",
              "      <td>898176</td>\n",
              "    </tr>\n",
              "    <tr>\n",
              "      <th>2021-02-10 08:00:00</th>\n",
              "      <td>2021-02-10</td>\n",
              "      <td>8:00 AM</td>\n",
              "      <td>Bihar</td>\n",
              "      <td>259074</td>\n",
              "      <td>1518</td>\n",
              "      <td>259074</td>\n",
              "    </tr>\n",
              "    <tr>\n",
              "      <th>2021-05-07 08:00:00</th>\n",
              "      <td>2021-05-07</td>\n",
              "      <td>8:00 AM</td>\n",
              "      <td>Haryana</td>\n",
              "      <td>452836</td>\n",
              "      <td>5137</td>\n",
              "      <td>452836</td>\n",
              "    </tr>\n",
              "    <tr>\n",
              "      <th>2021-06-05 08:00:00</th>\n",
              "      <td>2021-06-05</td>\n",
              "      <td>8:00 AM</td>\n",
              "      <td>Dadra and Nagar Haveli</td>\n",
              "      <td>10261</td>\n",
              "      <td>4</td>\n",
              "      <td>10261</td>\n",
              "    </tr>\n",
              "  </tbody>\n",
              "</table>\n",
              "</div>"
            ],
            "text/plain": [
              "                           Date     Time  ... Deaths  Min Cured\n",
              "Datetime                                  ...                  \n",
              "2020-05-05 17:00:00  2020-05-05  5:00 PM  ...      1         39\n",
              "2020-07-24 08:00:00  2020-07-24  8:00 AM  ...    114      14393\n",
              "2020-08-09 08:00:00  2020-08-09  8:00 AM  ...   1939     129615\n",
              "2020-10-11 08:00:00  2020-10-11  8:00 AM  ...    248      14278\n",
              "2020-10-14 08:00:00  2020-10-14  8:00 AM  ...   1057      14393\n",
              "2020-11-11 08:00:00  2020-11-11  8:00 AM  ...   1742     415158\n",
              "2021-01-03 08:00:00  2021-01-03  8:00 AM  ...  12099     898176\n",
              "2021-02-10 08:00:00  2021-02-10  8:00 AM  ...   1518     259074\n",
              "2021-05-07 08:00:00  2021-05-07  8:00 AM  ...   5137     452836\n",
              "2021-06-05 08:00:00  2021-06-05  8:00 AM  ...      4      10261\n",
              "\n",
              "[10 rows x 6 columns]"
            ]
          },
          "metadata": {},
          "execution_count": 193
        }
      ]
    },
    {
      "cell_type": "markdown",
      "metadata": {
        "id": "JnXLCSqhQHsZ"
      },
      "source": [
        "- `first()` и `last()` берут записи по количеству первых или последних дней наблюдений"
      ]
    },
    {
      "cell_type": "code",
      "metadata": {
        "colab": {
          "base_uri": "https://localhost:8080/",
          "height": 175
        },
        "id": "HO-fNlbjOzg1",
        "outputId": "05be26d3-e650-4785-b4f0-e8d62efdf182"
      },
      "source": [
        "df1.first(\"4M\")"
      ],
      "execution_count": null,
      "outputs": [
        {
          "output_type": "execute_result",
          "data": {
            "text/html": [
              "<div>\n",
              "<style scoped>\n",
              "    .dataframe tbody tr th:only-of-type {\n",
              "        vertical-align: middle;\n",
              "    }\n",
              "\n",
              "    .dataframe tbody tr th {\n",
              "        vertical-align: top;\n",
              "    }\n",
              "\n",
              "    .dataframe thead th {\n",
              "        text-align: right;\n",
              "    }\n",
              "</style>\n",
              "<table border=\"1\" class=\"dataframe\">\n",
              "  <thead>\n",
              "    <tr style=\"text-align: right;\">\n",
              "      <th></th>\n",
              "      <th>Date</th>\n",
              "      <th>Time</th>\n",
              "      <th>State</th>\n",
              "      <th>Cured</th>\n",
              "      <th>Deaths</th>\n",
              "      <th>Min Cured</th>\n",
              "    </tr>\n",
              "    <tr>\n",
              "      <th>Datetime</th>\n",
              "      <th></th>\n",
              "      <th></th>\n",
              "      <th></th>\n",
              "      <th></th>\n",
              "      <th></th>\n",
              "      <th></th>\n",
              "    </tr>\n",
              "  </thead>\n",
              "  <tbody>\n",
              "    <tr>\n",
              "      <th>2020-05-05 17:00:00</th>\n",
              "      <td>2020-05-05</td>\n",
              "      <td>5:00 PM</td>\n",
              "      <td>Uttarakhand</td>\n",
              "      <td>39</td>\n",
              "      <td>1</td>\n",
              "      <td>39</td>\n",
              "    </tr>\n",
              "    <tr>\n",
              "      <th>2020-07-24 08:00:00</th>\n",
              "      <td>2020-07-24</td>\n",
              "      <td>8:00 AM</td>\n",
              "      <td>Odisha</td>\n",
              "      <td>14393</td>\n",
              "      <td>114</td>\n",
              "      <td>14393</td>\n",
              "    </tr>\n",
              "    <tr>\n",
              "      <th>2020-08-09 08:00:00</th>\n",
              "      <td>2020-08-09</td>\n",
              "      <td>8:00 AM</td>\n",
              "      <td>Andhra Pradesh</td>\n",
              "      <td>129615</td>\n",
              "      <td>1939</td>\n",
              "      <td>129615</td>\n",
              "    </tr>\n",
              "  </tbody>\n",
              "</table>\n",
              "</div>"
            ],
            "text/plain": [
              "                           Date     Time  ... Deaths  Min Cured\n",
              "Datetime                                  ...                  \n",
              "2020-05-05 17:00:00  2020-05-05  5:00 PM  ...      1         39\n",
              "2020-07-24 08:00:00  2020-07-24  8:00 AM  ...    114      14393\n",
              "2020-08-09 08:00:00  2020-08-09  8:00 AM  ...   1939     129615\n",
              "\n",
              "[3 rows x 6 columns]"
            ]
          },
          "metadata": {},
          "execution_count": 196
        }
      ]
    },
    {
      "cell_type": "code",
      "metadata": {
        "colab": {
          "base_uri": "https://localhost:8080/",
          "height": 143
        },
        "id": "nti0H_6RPRf6",
        "outputId": "2d743061-9cf1-412b-c01d-8db7145b7caa"
      },
      "source": [
        "df1.last(\"100D\")"
      ],
      "execution_count": null,
      "outputs": [
        {
          "output_type": "execute_result",
          "data": {
            "text/html": [
              "<div>\n",
              "<style scoped>\n",
              "    .dataframe tbody tr th:only-of-type {\n",
              "        vertical-align: middle;\n",
              "    }\n",
              "\n",
              "    .dataframe tbody tr th {\n",
              "        vertical-align: top;\n",
              "    }\n",
              "\n",
              "    .dataframe thead th {\n",
              "        text-align: right;\n",
              "    }\n",
              "</style>\n",
              "<table border=\"1\" class=\"dataframe\">\n",
              "  <thead>\n",
              "    <tr style=\"text-align: right;\">\n",
              "      <th></th>\n",
              "      <th>Date</th>\n",
              "      <th>Time</th>\n",
              "      <th>State</th>\n",
              "      <th>Cured</th>\n",
              "      <th>Deaths</th>\n",
              "      <th>Min Cured</th>\n",
              "    </tr>\n",
              "    <tr>\n",
              "      <th>Datetime</th>\n",
              "      <th></th>\n",
              "      <th></th>\n",
              "      <th></th>\n",
              "      <th></th>\n",
              "      <th></th>\n",
              "      <th></th>\n",
              "    </tr>\n",
              "  </thead>\n",
              "  <tbody>\n",
              "    <tr>\n",
              "      <th>2021-05-07 08:00:00</th>\n",
              "      <td>2021-05-07</td>\n",
              "      <td>8:00 AM</td>\n",
              "      <td>Haryana</td>\n",
              "      <td>452836</td>\n",
              "      <td>5137</td>\n",
              "      <td>452836</td>\n",
              "    </tr>\n",
              "    <tr>\n",
              "      <th>2021-06-05 08:00:00</th>\n",
              "      <td>2021-06-05</td>\n",
              "      <td>8:00 AM</td>\n",
              "      <td>Dadra and Nagar Haveli</td>\n",
              "      <td>10261</td>\n",
              "      <td>4</td>\n",
              "      <td>10261</td>\n",
              "    </tr>\n",
              "  </tbody>\n",
              "</table>\n",
              "</div>"
            ],
            "text/plain": [
              "                           Date     Time  ... Deaths  Min Cured\n",
              "Datetime                                  ...                  \n",
              "2021-05-07 08:00:00  2021-05-07  8:00 AM  ...   5137     452836\n",
              "2021-06-05 08:00:00  2021-06-05  8:00 AM  ...      4      10261\n",
              "\n",
              "[2 rows x 6 columns]"
            ]
          },
          "metadata": {},
          "execution_count": 197
        }
      ]
    },
    {
      "cell_type": "markdown",
      "metadata": {
        "id": "OfhEjFFJQQ73"
      },
      "source": [
        "- `between_time()` достает записи за определенный временной промежуток (в часах, не датах)"
      ]
    },
    {
      "cell_type": "code",
      "metadata": {
        "colab": {
          "base_uri": "https://localhost:8080/",
          "height": 175
        },
        "id": "a4kk5XxyPiBY",
        "outputId": "7b3cf2b8-ff6e-4c81-81de-9af4252fe091"
      },
      "source": [
        "i = pd.date_range('2018-04-09', periods=4, freq='1D20min')\n",
        "ts = pd.DataFrame({'A': [1, 2, 3, 4]}, index=i)\n",
        "ts"
      ],
      "execution_count": null,
      "outputs": [
        {
          "output_type": "execute_result",
          "data": {
            "text/html": [
              "<div>\n",
              "<style scoped>\n",
              "    .dataframe tbody tr th:only-of-type {\n",
              "        vertical-align: middle;\n",
              "    }\n",
              "\n",
              "    .dataframe tbody tr th {\n",
              "        vertical-align: top;\n",
              "    }\n",
              "\n",
              "    .dataframe thead th {\n",
              "        text-align: right;\n",
              "    }\n",
              "</style>\n",
              "<table border=\"1\" class=\"dataframe\">\n",
              "  <thead>\n",
              "    <tr style=\"text-align: right;\">\n",
              "      <th></th>\n",
              "      <th>A</th>\n",
              "    </tr>\n",
              "  </thead>\n",
              "  <tbody>\n",
              "    <tr>\n",
              "      <th>2018-04-09 00:00:00</th>\n",
              "      <td>1</td>\n",
              "    </tr>\n",
              "    <tr>\n",
              "      <th>2018-04-10 00:20:00</th>\n",
              "      <td>2</td>\n",
              "    </tr>\n",
              "    <tr>\n",
              "      <th>2018-04-11 00:40:00</th>\n",
              "      <td>3</td>\n",
              "    </tr>\n",
              "    <tr>\n",
              "      <th>2018-04-12 01:00:00</th>\n",
              "      <td>4</td>\n",
              "    </tr>\n",
              "  </tbody>\n",
              "</table>\n",
              "</div>"
            ],
            "text/plain": [
              "                     A\n",
              "2018-04-09 00:00:00  1\n",
              "2018-04-10 00:20:00  2\n",
              "2018-04-11 00:40:00  3\n",
              "2018-04-12 01:00:00  4"
            ]
          },
          "metadata": {},
          "execution_count": 101
        }
      ]
    },
    {
      "cell_type": "code",
      "metadata": {
        "colab": {
          "base_uri": "https://localhost:8080/",
          "height": 112
        },
        "id": "VNMogU2VQjqh",
        "outputId": "bfda7517-270b-4c93-d116-6f5d8153610c"
      },
      "source": [
        "ts.between_time('0:15', '0:45')"
      ],
      "execution_count": null,
      "outputs": [
        {
          "output_type": "execute_result",
          "data": {
            "text/html": [
              "<div>\n",
              "<style scoped>\n",
              "    .dataframe tbody tr th:only-of-type {\n",
              "        vertical-align: middle;\n",
              "    }\n",
              "\n",
              "    .dataframe tbody tr th {\n",
              "        vertical-align: top;\n",
              "    }\n",
              "\n",
              "    .dataframe thead th {\n",
              "        text-align: right;\n",
              "    }\n",
              "</style>\n",
              "<table border=\"1\" class=\"dataframe\">\n",
              "  <thead>\n",
              "    <tr style=\"text-align: right;\">\n",
              "      <th></th>\n",
              "      <th>A</th>\n",
              "    </tr>\n",
              "  </thead>\n",
              "  <tbody>\n",
              "    <tr>\n",
              "      <th>2018-04-10 00:20:00</th>\n",
              "      <td>2</td>\n",
              "    </tr>\n",
              "    <tr>\n",
              "      <th>2018-04-11 00:40:00</th>\n",
              "      <td>3</td>\n",
              "    </tr>\n",
              "  </tbody>\n",
              "</table>\n",
              "</div>"
            ],
            "text/plain": [
              "                     A\n",
              "2018-04-10 00:20:00  2\n",
              "2018-04-11 00:40:00  3"
            ]
          },
          "metadata": {},
          "execution_count": 102
        }
      ]
    },
    {
      "cell_type": "markdown",
      "metadata": {
        "id": "4zWMuyvhRDc6"
      },
      "source": [
        "Можно брать отдельные свойства дат."
      ]
    },
    {
      "cell_type": "code",
      "metadata": {
        "colab": {
          "base_uri": "https://localhost:8080/"
        },
        "id": "hYN3zdVpQ5wj",
        "outputId": "05b0b418-d68c-45ef-c41a-8ffd90069886"
      },
      "source": [
        "df1.index[0]"
      ],
      "execution_count": null,
      "outputs": [
        {
          "output_type": "execute_result",
          "data": {
            "text/plain": [
              "Timestamp('2020-05-05 17:00:00')"
            ]
          },
          "metadata": {},
          "execution_count": 198
        }
      ]
    },
    {
      "cell_type": "markdown",
      "metadata": {
        "id": "EOaVkPUMQ01d"
      },
      "source": [
        "- `day` достает номер дня из объекта `Timestamp`"
      ]
    },
    {
      "cell_type": "code",
      "metadata": {
        "colab": {
          "base_uri": "https://localhost:8080/"
        },
        "id": "ZsTV6UH-Ql_C",
        "outputId": "ecba95fd-c62a-4a59-af32-1ee38cc50542"
      },
      "source": [
        "df1.index[0].day"
      ],
      "execution_count": null,
      "outputs": [
        {
          "output_type": "execute_result",
          "data": {
            "text/plain": [
              "5"
            ]
          },
          "metadata": {},
          "execution_count": 199
        }
      ]
    },
    {
      "cell_type": "markdown",
      "metadata": {
        "id": "ZyM0gnbdRjtg"
      },
      "source": [
        "- `dayofweek` достает номер дня недели, нумерация от нуля"
      ]
    },
    {
      "cell_type": "code",
      "metadata": {
        "colab": {
          "base_uri": "https://localhost:8080/"
        },
        "id": "S9ljwWhEQwRo",
        "outputId": "330dffe9-40cc-4f8a-b65a-5f5a3e9e9fa5"
      },
      "source": [
        "df1.index[0].dayofweek #5 мая 2020 - вторник"
      ],
      "execution_count": null,
      "outputs": [
        {
          "output_type": "execute_result",
          "data": {
            "text/plain": [
              "1"
            ]
          },
          "metadata": {},
          "execution_count": 200
        }
      ]
    },
    {
      "cell_type": "markdown",
      "metadata": {
        "id": "6Pcw70yKTJQE"
      },
      "source": [
        "- `day_name()` достает название дня недели"
      ]
    },
    {
      "cell_type": "code",
      "metadata": {
        "colab": {
          "base_uri": "https://localhost:8080/",
          "height": 35
        },
        "id": "Borop5gTSWtj",
        "outputId": "6efbd407-bc24-415a-f1de-190086e60731"
      },
      "source": [
        "df1.index[0].day_name() #и правда вторник"
      ],
      "execution_count": null,
      "outputs": [
        {
          "output_type": "execute_result",
          "data": {
            "application/vnd.google.colaboratory.intrinsic+json": {
              "type": "string"
            },
            "text/plain": [
              "'Tuesday'"
            ]
          },
          "metadata": {},
          "execution_count": 201
        }
      ]
    },
    {
      "cell_type": "markdown",
      "metadata": {
        "id": "iw3LCtrQRw_B"
      },
      "source": [
        "- `dayofyear` показывает, сколько дней прошло с начала года"
      ]
    },
    {
      "cell_type": "code",
      "metadata": {
        "colab": {
          "base_uri": "https://localhost:8080/"
        },
        "id": "ITXpuBkORLpG",
        "outputId": "9961e7b7-c31a-4beb-a2f2-c93e453e2103"
      },
      "source": [
        "df1.index[0].dayofyear"
      ],
      "execution_count": null,
      "outputs": [
        {
          "output_type": "execute_result",
          "data": {
            "text/plain": [
              "126"
            ]
          },
          "metadata": {},
          "execution_count": 202
        }
      ]
    },
    {
      "cell_type": "markdown",
      "metadata": {
        "id": "BomP4RCuR1Vz"
      },
      "source": [
        "- `daysinmonth` показывает, сколько дней в месяце"
      ]
    },
    {
      "cell_type": "code",
      "metadata": {
        "colab": {
          "base_uri": "https://localhost:8080/"
        },
        "id": "m-W8ubecRuRQ",
        "outputId": "67b5709b-7e0f-4e06-f240-9c0743f78b37"
      },
      "source": [
        "df1.index[0].daysinmonth #2020 был високосный"
      ],
      "execution_count": null,
      "outputs": [
        {
          "output_type": "execute_result",
          "data": {
            "text/plain": [
              "31"
            ]
          },
          "metadata": {},
          "execution_count": 203
        }
      ]
    },
    {
      "cell_type": "markdown",
      "metadata": {
        "id": "pf9yKXenTT11"
      },
      "source": [
        "- `is_leap_year` проверяет, високосный ли год"
      ]
    },
    {
      "cell_type": "code",
      "metadata": {
        "colab": {
          "base_uri": "https://localhost:8080/"
        },
        "id": "SX_484mdTYl0",
        "outputId": "3982c946-0e9c-4847-ab36-814a989a908f"
      },
      "source": [
        "df1.index[0].is_leap_year #pandas согласен - високосный"
      ],
      "execution_count": null,
      "outputs": [
        {
          "output_type": "execute_result",
          "data": {
            "text/plain": [
              "True"
            ]
          },
          "metadata": {},
          "execution_count": 109
        }
      ]
    },
    {
      "cell_type": "markdown",
      "metadata": {
        "id": "X22FkUxVSdv5"
      },
      "source": [
        "- `hour` достает час"
      ]
    },
    {
      "cell_type": "code",
      "metadata": {
        "colab": {
          "base_uri": "https://localhost:8080/"
        },
        "id": "RHDivMQxSAjN",
        "outputId": "c50ba0b1-3511-4626-e6ac-b9367dae48b9"
      },
      "source": [
        "df1.index[0].hour"
      ],
      "execution_count": null,
      "outputs": [
        {
          "output_type": "execute_result",
          "data": {
            "text/plain": [
              "8"
            ]
          },
          "metadata": {},
          "execution_count": 110
        }
      ]
    },
    {
      "cell_type": "markdown",
      "metadata": {
        "id": "TfpJ5gGkSfiJ"
      },
      "source": [
        "- `is_year_start`, `is_year_end`, `is_month_start`, `is_month_end`, `is_quarter_end`, `is_quarter_start` показывают положение дня или месяца в году"
      ]
    },
    {
      "cell_type": "code",
      "metadata": {
        "colab": {
          "base_uri": "https://localhost:8080/"
        },
        "id": "vhRTxZHbSOfr",
        "outputId": "0c92101d-fa28-4489-f0fb-8d8168690e0d"
      },
      "source": [
        "df1.index[0].is_year_start"
      ],
      "execution_count": null,
      "outputs": [
        {
          "output_type": "execute_result",
          "data": {
            "text/plain": [
              "False"
            ]
          },
          "metadata": {},
          "execution_count": 204
        }
      ]
    },
    {
      "cell_type": "code",
      "metadata": {
        "colab": {
          "base_uri": "https://localhost:8080/"
        },
        "id": "ypn6WDAcSStl",
        "outputId": "78bbbcf7-a2e0-4cd6-cad0-60184dfb450c"
      },
      "source": [
        "df1.index[0].is_quarter_start"
      ],
      "execution_count": null,
      "outputs": [
        {
          "output_type": "execute_result",
          "data": {
            "text/plain": [
              "False"
            ]
          },
          "metadata": {},
          "execution_count": 205
        }
      ]
    },
    {
      "cell_type": "markdown",
      "metadata": {
        "id": "LT2u7Ak2TgI2"
      },
      "source": [
        "Есть еще достаточно много мелких методов и свойств, связанных с датами. Все их можно посмотреть вот [тут](https://pandas.pydata.org/docs/reference/api/pandas.Timestamp.html#pandas-timestamp)."
      ]
    }
  ]
}