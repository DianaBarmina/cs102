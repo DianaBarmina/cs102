{
  "nbformat": 4,
  "nbformat_minor": 0,
  "metadata": {
    "hide_input": false,
    "kernelspec": {
      "display_name": "Python 3",
      "language": "python",
      "name": "python3"
    },
    "language_info": {
      "codemirror_mode": {
        "name": "ipython",
        "version": 3
      },
      "file_extension": ".py",
      "mimetype": "text/x-python",
      "name": "python",
      "nbconvert_exporter": "python",
      "pygments_lexer": "ipython3",
      "version": "3.7.0"
    },
    "toc": {
      "base_numbering": 1,
      "nav_menu": {},
      "number_sections": true,
      "sideBar": true,
      "skip_h1_title": false,
      "title_cell": "Table of Contents",
      "title_sidebar": "Contents",
      "toc_cell": false,
      "toc_position": {
        "height": "829px",
        "left": "1473.61px",
        "top": "110px",
        "width": "340.788px"
      },
      "toc_section_display": true,
      "toc_window_display": false
    },
    "colab": {
      "provenance": [],
      "include_colab_link": true
    }
  },
  "cells": [
    {
      "cell_type": "markdown",
      "metadata": {
        "id": "view-in-github",
        "colab_type": "text"
      },
      "source": [
        "<a href=\"https://colab.research.google.com/github/DianaBarmina/cs102/blob/master/%D0%9A%D0%BE%D0%BF%D0%B8%D1%8F_%D0%B1%D0%BB%D0%BE%D0%BA%D0%BD%D0%BE%D1%82%D0%B0_%221_1_pandas_ipynb%22.ipynb\" target=\"_parent\"><img src=\"https://colab.research.google.com/assets/colab-badge.svg\" alt=\"Open In Colab\"/></a>"
      ]
    },
    {
      "cell_type": "markdown",
      "metadata": {
        "heading_collapsed": true,
        "id": "IcarTecDtPUT"
      },
      "source": [
        "### Pandas"
      ]
    },
    {
      "cell_type": "markdown",
      "metadata": {
        "id": "PgBAGr7PbLTj"
      },
      "source": [
        "pandas — это библиотека Python для анализа данных. Данные, с которыми работают датасаентисты, часто хранятся в форме табличек — например, в форматах .csv, .tsv или .xlsx. С помощью библиотеки Pandas такие табличные данные очень удобно загружать, обрабатывать и анализировать с помощью SQL-подобных запросов."
      ]
    },
    {
      "cell_type": "markdown",
      "metadata": {
        "id": "r_tigpv5bbuv"
      },
      "source": [
        "Дополнительные материалы:\n",
        "1. Документация Pandas - https://pandas.pydata.org/pandas-docs/stable/user_guide/index.html\n",
        "2. \"Python и анализ данных\", автор Уэс Маккинни \n",
        "3. \"Изучаем pandas\", автор Майкл Хейдт\n"
      ]
    },
    {
      "cell_type": "code",
      "metadata": {
        "hidden": true,
        "id": "NR3XjjGCtPUY"
      },
      "source": [
        "import pandas as pd"
      ],
      "execution_count": null,
      "outputs": []
    },
    {
      "cell_type": "markdown",
      "metadata": {
        "id": "qsI9Hu6bamaB"
      },
      "source": [
        "pandas использует два новых вида структур данных: Series и DataFrame. Series хранит столбцы данных, DataFrame -  таблицы. Методы для обработки столбцов преимущественно совпадают с методами для таблиц, поэтому основная часть примеров в этом блокноте про работу с таблицами (чтобы не пересказывать документацию). Примеры обработки отдельных строк всегда можно дополнительно посмотреть в документации."
      ]
    },
    {
      "cell_type": "markdown",
      "metadata": {
        "hidden": true,
        "id": "X3S_QIKatPVk"
      },
      "source": [
        "\n",
        "## Cоздаем DataFrame из двумерного списка"
      ]
    },
    {
      "cell_type": "code",
      "source": [
        "s = pd.Series(data=[1, 2, 3, 4])\n",
        "s"
      ],
      "metadata": {
        "colab": {
          "base_uri": "https://localhost:8080/"
        },
        "id": "mOgrVRf2z5To",
        "outputId": "4b696cd4-5b68-4911-a85c-3d74f4de2df4"
      },
      "execution_count": null,
      "outputs": [
        {
          "output_type": "execute_result",
          "data": {
            "text/plain": [
              "0    1\n",
              "1    2\n",
              "2    3\n",
              "3    4\n",
              "dtype: int64"
            ]
          },
          "metadata": {},
          "execution_count": 6
        }
      ]
    },
    {
      "cell_type": "code",
      "metadata": {
        "hidden": true,
        "id": "qucDhSGUtPVl",
        "colab": {
          "base_uri": "https://localhost:8080/",
          "height": 297
        },
        "outputId": "1dd83a96-a8ce-495b-bc45-054280b5bcfe"
      },
      "source": [
        "df = pd.DataFrame([[10, 11], [20, 21], [30, 31]])\n",
        "df"
      ],
      "execution_count": null,
      "outputs": [
        {
          "output_type": "execute_result",
          "data": {
            "text/plain": [
              "    0   1\n",
              "0  10  11\n",
              "1  20  21\n",
              "2  30  31"
            ],
            "text/html": [
              "\n",
              "  <div id=\"df-40ee1be7-c0ec-4062-a058-e2b064d76aaa\">\n",
              "    <div class=\"colab-df-container\">\n",
              "      <div>\n",
              "<style scoped>\n",
              "    .dataframe tbody tr th:only-of-type {\n",
              "        vertical-align: middle;\n",
              "    }\n",
              "\n",
              "    .dataframe tbody tr th {\n",
              "        vertical-align: top;\n",
              "    }\n",
              "\n",
              "    .dataframe thead th {\n",
              "        text-align: right;\n",
              "    }\n",
              "</style>\n",
              "<table border=\"1\" class=\"dataframe\">\n",
              "  <thead>\n",
              "    <tr style=\"text-align: right;\">\n",
              "      <th></th>\n",
              "      <th>0</th>\n",
              "      <th>1</th>\n",
              "    </tr>\n",
              "  </thead>\n",
              "  <tbody>\n",
              "    <tr>\n",
              "      <th>0</th>\n",
              "      <td>10</td>\n",
              "      <td>11</td>\n",
              "    </tr>\n",
              "    <tr>\n",
              "      <th>1</th>\n",
              "      <td>20</td>\n",
              "      <td>21</td>\n",
              "    </tr>\n",
              "    <tr>\n",
              "      <th>2</th>\n",
              "      <td>30</td>\n",
              "      <td>31</td>\n",
              "    </tr>\n",
              "  </tbody>\n",
              "</table>\n",
              "</div>\n",
              "      <button class=\"colab-df-convert\" onclick=\"convertToInteractive('df-40ee1be7-c0ec-4062-a058-e2b064d76aaa')\"\n",
              "              title=\"Convert this dataframe to an interactive table.\"\n",
              "              style=\"display:none;\">\n",
              "        \n",
              "  <svg xmlns=\"http://www.w3.org/2000/svg\" height=\"24px\"viewBox=\"0 0 24 24\"\n",
              "       width=\"24px\">\n",
              "    <path d=\"M0 0h24v24H0V0z\" fill=\"none\"/>\n",
              "    <path d=\"M18.56 5.44l.94 2.06.94-2.06 2.06-.94-2.06-.94-.94-2.06-.94 2.06-2.06.94zm-11 1L8.5 8.5l.94-2.06 2.06-.94-2.06-.94L8.5 2.5l-.94 2.06-2.06.94zm10 10l.94 2.06.94-2.06 2.06-.94-2.06-.94-.94-2.06-.94 2.06-2.06.94z\"/><path d=\"M17.41 7.96l-1.37-1.37c-.4-.4-.92-.59-1.43-.59-.52 0-1.04.2-1.43.59L10.3 9.45l-7.72 7.72c-.78.78-.78 2.05 0 2.83L4 21.41c.39.39.9.59 1.41.59.51 0 1.02-.2 1.41-.59l7.78-7.78 2.81-2.81c.8-.78.8-2.07 0-2.86zM5.41 20L4 18.59l7.72-7.72 1.47 1.35L5.41 20z\"/>\n",
              "  </svg>\n",
              "      </button>\n",
              "      \n",
              "  <style>\n",
              "    .colab-df-container {\n",
              "      display:flex;\n",
              "      flex-wrap:wrap;\n",
              "      gap: 12px;\n",
              "    }\n",
              "\n",
              "    .colab-df-convert {\n",
              "      background-color: #E8F0FE;\n",
              "      border: none;\n",
              "      border-radius: 50%;\n",
              "      cursor: pointer;\n",
              "      display: none;\n",
              "      fill: #1967D2;\n",
              "      height: 32px;\n",
              "      padding: 0 0 0 0;\n",
              "      width: 32px;\n",
              "    }\n",
              "\n",
              "    .colab-df-convert:hover {\n",
              "      background-color: #E2EBFA;\n",
              "      box-shadow: 0px 1px 2px rgba(60, 64, 67, 0.3), 0px 1px 3px 1px rgba(60, 64, 67, 0.15);\n",
              "      fill: #174EA6;\n",
              "    }\n",
              "\n",
              "    [theme=dark] .colab-df-convert {\n",
              "      background-color: #3B4455;\n",
              "      fill: #D2E3FC;\n",
              "    }\n",
              "\n",
              "    [theme=dark] .colab-df-convert:hover {\n",
              "      background-color: #434B5C;\n",
              "      box-shadow: 0px 1px 3px 1px rgba(0, 0, 0, 0.15);\n",
              "      filter: drop-shadow(0px 1px 2px rgba(0, 0, 0, 0.3));\n",
              "      fill: #FFFFFF;\n",
              "    }\n",
              "  </style>\n",
              "\n",
              "      <script>\n",
              "        const buttonEl =\n",
              "          document.querySelector('#df-40ee1be7-c0ec-4062-a058-e2b064d76aaa button.colab-df-convert');\n",
              "        buttonEl.style.display =\n",
              "          google.colab.kernel.accessAllowed ? 'block' : 'none';\n",
              "\n",
              "        async function convertToInteractive(key) {\n",
              "          const element = document.querySelector('#df-40ee1be7-c0ec-4062-a058-e2b064d76aaa');\n",
              "          const dataTable =\n",
              "            await google.colab.kernel.invokeFunction('convertToInteractive',\n",
              "                                                     [key], {});\n",
              "          if (!dataTable) return;\n",
              "\n",
              "          const docLinkHtml = 'Like what you see? Visit the ' +\n",
              "            '<a target=\"_blank\" href=https://colab.research.google.com/notebooks/data_table.ipynb>data table notebook</a>'\n",
              "            + ' to learn more about interactive tables.';\n",
              "          element.innerHTML = '';\n",
              "          dataTable['output_type'] = 'display_data';\n",
              "          await google.colab.output.renderOutput(dataTable, element);\n",
              "          const docLink = document.createElement('div');\n",
              "          docLink.innerHTML = docLinkHtml;\n",
              "          element.appendChild(docLink);\n",
              "        }\n",
              "      </script>\n",
              "    </div>\n",
              "  </div>\n",
              "  "
            ]
          },
          "metadata": {},
          "execution_count": 4
        }
      ]
    },
    {
      "cell_type": "code",
      "source": [
        "display(df)\n",
        "print(df)\n",
        "df"
      ],
      "metadata": {
        "colab": {
          "base_uri": "https://localhost:8080/",
          "height": 369
        },
        "id": "hT3FVep00Ogk",
        "outputId": "0c89be7c-a8e7-4002-86cf-5c1c18aa567d"
      },
      "execution_count": null,
      "outputs": [
        {
          "output_type": "display_data",
          "data": {
            "text/plain": [
              "    0   1\n",
              "0  10  11\n",
              "1  20  21\n",
              "2  30  31"
            ],
            "text/html": [
              "\n",
              "  <div id=\"df-bf114b07-06ab-4c3e-8583-003e694f0c48\">\n",
              "    <div class=\"colab-df-container\">\n",
              "      <div>\n",
              "<style scoped>\n",
              "    .dataframe tbody tr th:only-of-type {\n",
              "        vertical-align: middle;\n",
              "    }\n",
              "\n",
              "    .dataframe tbody tr th {\n",
              "        vertical-align: top;\n",
              "    }\n",
              "\n",
              "    .dataframe thead th {\n",
              "        text-align: right;\n",
              "    }\n",
              "</style>\n",
              "<table border=\"1\" class=\"dataframe\">\n",
              "  <thead>\n",
              "    <tr style=\"text-align: right;\">\n",
              "      <th></th>\n",
              "      <th>0</th>\n",
              "      <th>1</th>\n",
              "    </tr>\n",
              "  </thead>\n",
              "  <tbody>\n",
              "    <tr>\n",
              "      <th>0</th>\n",
              "      <td>10</td>\n",
              "      <td>11</td>\n",
              "    </tr>\n",
              "    <tr>\n",
              "      <th>1</th>\n",
              "      <td>20</td>\n",
              "      <td>21</td>\n",
              "    </tr>\n",
              "    <tr>\n",
              "      <th>2</th>\n",
              "      <td>30</td>\n",
              "      <td>31</td>\n",
              "    </tr>\n",
              "  </tbody>\n",
              "</table>\n",
              "</div>\n",
              "      <button class=\"colab-df-convert\" onclick=\"convertToInteractive('df-bf114b07-06ab-4c3e-8583-003e694f0c48')\"\n",
              "              title=\"Convert this dataframe to an interactive table.\"\n",
              "              style=\"display:none;\">\n",
              "        \n",
              "  <svg xmlns=\"http://www.w3.org/2000/svg\" height=\"24px\"viewBox=\"0 0 24 24\"\n",
              "       width=\"24px\">\n",
              "    <path d=\"M0 0h24v24H0V0z\" fill=\"none\"/>\n",
              "    <path d=\"M18.56 5.44l.94 2.06.94-2.06 2.06-.94-2.06-.94-.94-2.06-.94 2.06-2.06.94zm-11 1L8.5 8.5l.94-2.06 2.06-.94-2.06-.94L8.5 2.5l-.94 2.06-2.06.94zm10 10l.94 2.06.94-2.06 2.06-.94-2.06-.94-.94-2.06-.94 2.06-2.06.94z\"/><path d=\"M17.41 7.96l-1.37-1.37c-.4-.4-.92-.59-1.43-.59-.52 0-1.04.2-1.43.59L10.3 9.45l-7.72 7.72c-.78.78-.78 2.05 0 2.83L4 21.41c.39.39.9.59 1.41.59.51 0 1.02-.2 1.41-.59l7.78-7.78 2.81-2.81c.8-.78.8-2.07 0-2.86zM5.41 20L4 18.59l7.72-7.72 1.47 1.35L5.41 20z\"/>\n",
              "  </svg>\n",
              "      </button>\n",
              "      \n",
              "  <style>\n",
              "    .colab-df-container {\n",
              "      display:flex;\n",
              "      flex-wrap:wrap;\n",
              "      gap: 12px;\n",
              "    }\n",
              "\n",
              "    .colab-df-convert {\n",
              "      background-color: #E8F0FE;\n",
              "      border: none;\n",
              "      border-radius: 50%;\n",
              "      cursor: pointer;\n",
              "      display: none;\n",
              "      fill: #1967D2;\n",
              "      height: 32px;\n",
              "      padding: 0 0 0 0;\n",
              "      width: 32px;\n",
              "    }\n",
              "\n",
              "    .colab-df-convert:hover {\n",
              "      background-color: #E2EBFA;\n",
              "      box-shadow: 0px 1px 2px rgba(60, 64, 67, 0.3), 0px 1px 3px 1px rgba(60, 64, 67, 0.15);\n",
              "      fill: #174EA6;\n",
              "    }\n",
              "\n",
              "    [theme=dark] .colab-df-convert {\n",
              "      background-color: #3B4455;\n",
              "      fill: #D2E3FC;\n",
              "    }\n",
              "\n",
              "    [theme=dark] .colab-df-convert:hover {\n",
              "      background-color: #434B5C;\n",
              "      box-shadow: 0px 1px 3px 1px rgba(0, 0, 0, 0.15);\n",
              "      filter: drop-shadow(0px 1px 2px rgba(0, 0, 0, 0.3));\n",
              "      fill: #FFFFFF;\n",
              "    }\n",
              "  </style>\n",
              "\n",
              "      <script>\n",
              "        const buttonEl =\n",
              "          document.querySelector('#df-bf114b07-06ab-4c3e-8583-003e694f0c48 button.colab-df-convert');\n",
              "        buttonEl.style.display =\n",
              "          google.colab.kernel.accessAllowed ? 'block' : 'none';\n",
              "\n",
              "        async function convertToInteractive(key) {\n",
              "          const element = document.querySelector('#df-bf114b07-06ab-4c3e-8583-003e694f0c48');\n",
              "          const dataTable =\n",
              "            await google.colab.kernel.invokeFunction('convertToInteractive',\n",
              "                                                     [key], {});\n",
              "          if (!dataTable) return;\n",
              "\n",
              "          const docLinkHtml = 'Like what you see? Visit the ' +\n",
              "            '<a target=\"_blank\" href=https://colab.research.google.com/notebooks/data_table.ipynb>data table notebook</a>'\n",
              "            + ' to learn more about interactive tables.';\n",
              "          element.innerHTML = '';\n",
              "          dataTable['output_type'] = 'display_data';\n",
              "          await google.colab.output.renderOutput(dataTable, element);\n",
              "          const docLink = document.createElement('div');\n",
              "          docLink.innerHTML = docLinkHtml;\n",
              "          element.appendChild(docLink);\n",
              "        }\n",
              "      </script>\n",
              "    </div>\n",
              "  </div>\n",
              "  "
            ]
          },
          "metadata": {}
        },
        {
          "output_type": "stream",
          "name": "stdout",
          "text": [
            "    0   1\n",
            "0  10  11\n",
            "1  20  21\n",
            "2  30  31\n"
          ]
        },
        {
          "output_type": "execute_result",
          "data": {
            "text/plain": [
              "    0   1\n",
              "0  10  11\n",
              "1  20  21\n",
              "2  30  31"
            ],
            "text/html": [
              "\n",
              "  <div id=\"df-d817719e-60e9-44d1-a6fe-75004938158c\">\n",
              "    <div class=\"colab-df-container\">\n",
              "      <div>\n",
              "<style scoped>\n",
              "    .dataframe tbody tr th:only-of-type {\n",
              "        vertical-align: middle;\n",
              "    }\n",
              "\n",
              "    .dataframe tbody tr th {\n",
              "        vertical-align: top;\n",
              "    }\n",
              "\n",
              "    .dataframe thead th {\n",
              "        text-align: right;\n",
              "    }\n",
              "</style>\n",
              "<table border=\"1\" class=\"dataframe\">\n",
              "  <thead>\n",
              "    <tr style=\"text-align: right;\">\n",
              "      <th></th>\n",
              "      <th>0</th>\n",
              "      <th>1</th>\n",
              "    </tr>\n",
              "  </thead>\n",
              "  <tbody>\n",
              "    <tr>\n",
              "      <th>0</th>\n",
              "      <td>10</td>\n",
              "      <td>11</td>\n",
              "    </tr>\n",
              "    <tr>\n",
              "      <th>1</th>\n",
              "      <td>20</td>\n",
              "      <td>21</td>\n",
              "    </tr>\n",
              "    <tr>\n",
              "      <th>2</th>\n",
              "      <td>30</td>\n",
              "      <td>31</td>\n",
              "    </tr>\n",
              "  </tbody>\n",
              "</table>\n",
              "</div>\n",
              "      <button class=\"colab-df-convert\" onclick=\"convertToInteractive('df-d817719e-60e9-44d1-a6fe-75004938158c')\"\n",
              "              title=\"Convert this dataframe to an interactive table.\"\n",
              "              style=\"display:none;\">\n",
              "        \n",
              "  <svg xmlns=\"http://www.w3.org/2000/svg\" height=\"24px\"viewBox=\"0 0 24 24\"\n",
              "       width=\"24px\">\n",
              "    <path d=\"M0 0h24v24H0V0z\" fill=\"none\"/>\n",
              "    <path d=\"M18.56 5.44l.94 2.06.94-2.06 2.06-.94-2.06-.94-.94-2.06-.94 2.06-2.06.94zm-11 1L8.5 8.5l.94-2.06 2.06-.94-2.06-.94L8.5 2.5l-.94 2.06-2.06.94zm10 10l.94 2.06.94-2.06 2.06-.94-2.06-.94-.94-2.06-.94 2.06-2.06.94z\"/><path d=\"M17.41 7.96l-1.37-1.37c-.4-.4-.92-.59-1.43-.59-.52 0-1.04.2-1.43.59L10.3 9.45l-7.72 7.72c-.78.78-.78 2.05 0 2.83L4 21.41c.39.39.9.59 1.41.59.51 0 1.02-.2 1.41-.59l7.78-7.78 2.81-2.81c.8-.78.8-2.07 0-2.86zM5.41 20L4 18.59l7.72-7.72 1.47 1.35L5.41 20z\"/>\n",
              "  </svg>\n",
              "      </button>\n",
              "      \n",
              "  <style>\n",
              "    .colab-df-container {\n",
              "      display:flex;\n",
              "      flex-wrap:wrap;\n",
              "      gap: 12px;\n",
              "    }\n",
              "\n",
              "    .colab-df-convert {\n",
              "      background-color: #E8F0FE;\n",
              "      border: none;\n",
              "      border-radius: 50%;\n",
              "      cursor: pointer;\n",
              "      display: none;\n",
              "      fill: #1967D2;\n",
              "      height: 32px;\n",
              "      padding: 0 0 0 0;\n",
              "      width: 32px;\n",
              "    }\n",
              "\n",
              "    .colab-df-convert:hover {\n",
              "      background-color: #E2EBFA;\n",
              "      box-shadow: 0px 1px 2px rgba(60, 64, 67, 0.3), 0px 1px 3px 1px rgba(60, 64, 67, 0.15);\n",
              "      fill: #174EA6;\n",
              "    }\n",
              "\n",
              "    [theme=dark] .colab-df-convert {\n",
              "      background-color: #3B4455;\n",
              "      fill: #D2E3FC;\n",
              "    }\n",
              "\n",
              "    [theme=dark] .colab-df-convert:hover {\n",
              "      background-color: #434B5C;\n",
              "      box-shadow: 0px 1px 3px 1px rgba(0, 0, 0, 0.15);\n",
              "      filter: drop-shadow(0px 1px 2px rgba(0, 0, 0, 0.3));\n",
              "      fill: #FFFFFF;\n",
              "    }\n",
              "  </style>\n",
              "\n",
              "      <script>\n",
              "        const buttonEl =\n",
              "          document.querySelector('#df-d817719e-60e9-44d1-a6fe-75004938158c button.colab-df-convert');\n",
              "        buttonEl.style.display =\n",
              "          google.colab.kernel.accessAllowed ? 'block' : 'none';\n",
              "\n",
              "        async function convertToInteractive(key) {\n",
              "          const element = document.querySelector('#df-d817719e-60e9-44d1-a6fe-75004938158c');\n",
              "          const dataTable =\n",
              "            await google.colab.kernel.invokeFunction('convertToInteractive',\n",
              "                                                     [key], {});\n",
              "          if (!dataTable) return;\n",
              "\n",
              "          const docLinkHtml = 'Like what you see? Visit the ' +\n",
              "            '<a target=\"_blank\" href=https://colab.research.google.com/notebooks/data_table.ipynb>data table notebook</a>'\n",
              "            + ' to learn more about interactive tables.';\n",
              "          element.innerHTML = '';\n",
              "          dataTable['output_type'] = 'display_data';\n",
              "          await google.colab.output.renderOutput(dataTable, element);\n",
              "          const docLink = document.createElement('div');\n",
              "          docLink.innerHTML = docLinkHtml;\n",
              "          element.appendChild(docLink);\n",
              "        }\n",
              "      </script>\n",
              "    </div>\n",
              "  </div>\n",
              "  "
            ]
          },
          "metadata": {},
          "execution_count": 7
        }
      ]
    },
    {
      "cell_type": "code",
      "source": [
        "df[0]"
      ],
      "metadata": {
        "colab": {
          "base_uri": "https://localhost:8080/"
        },
        "id": "YtgaTQsZ0Evd",
        "outputId": "4475cccb-dc7c-4f81-ac65-1251f05439b7"
      },
      "execution_count": null,
      "outputs": [
        {
          "output_type": "execute_result",
          "data": {
            "text/plain": [
              "0    10\n",
              "1    20\n",
              "2    30\n",
              "Name: 0, dtype: int64"
            ]
          },
          "metadata": {},
          "execution_count": 4
        }
      ]
    },
    {
      "cell_type": "markdown",
      "metadata": {
        "hidden": true,
        "id": "QzVGLmTUtPVu"
      },
      "source": [
        "Создаем таблицу с именованными столбцами"
      ]
    },
    {
      "cell_type": "code",
      "metadata": {
        "hidden": true,
        "id": "iBVkqRB0tPVw",
        "colab": {
          "base_uri": "https://localhost:8080/",
          "height": 339
        },
        "outputId": "d40b7ce3-cc6e-432d-daa6-427a4435ca3b"
      },
      "source": [
        "df = pd.DataFrame([[10, 11], [20, 21], [30, 31]],\n",
        "                  columns=['A', 'B'])\n",
        "print(df)\n",
        "display(df)\n",
        "df"
      ],
      "execution_count": null,
      "outputs": [
        {
          "output_type": "stream",
          "name": "stdout",
          "text": [
            "    A   B\n",
            "0  10  11\n",
            "1  20  21\n",
            "2  30  31\n"
          ]
        },
        {
          "output_type": "display_data",
          "data": {
            "text/html": [
              "<div>\n",
              "<style scoped>\n",
              "    .dataframe tbody tr th:only-of-type {\n",
              "        vertical-align: middle;\n",
              "    }\n",
              "\n",
              "    .dataframe tbody tr th {\n",
              "        vertical-align: top;\n",
              "    }\n",
              "\n",
              "    .dataframe thead th {\n",
              "        text-align: right;\n",
              "    }\n",
              "</style>\n",
              "<table border=\"1\" class=\"dataframe\">\n",
              "  <thead>\n",
              "    <tr style=\"text-align: right;\">\n",
              "      <th></th>\n",
              "      <th>A</th>\n",
              "      <th>B</th>\n",
              "    </tr>\n",
              "  </thead>\n",
              "  <tbody>\n",
              "    <tr>\n",
              "      <th>0</th>\n",
              "      <td>10</td>\n",
              "      <td>11</td>\n",
              "    </tr>\n",
              "    <tr>\n",
              "      <th>1</th>\n",
              "      <td>20</td>\n",
              "      <td>21</td>\n",
              "    </tr>\n",
              "    <tr>\n",
              "      <th>2</th>\n",
              "      <td>30</td>\n",
              "      <td>31</td>\n",
              "    </tr>\n",
              "  </tbody>\n",
              "</table>\n",
              "</div>"
            ],
            "text/plain": [
              "    A   B\n",
              "0  10  11\n",
              "1  20  21\n",
              "2  30  31"
            ]
          },
          "metadata": {}
        },
        {
          "output_type": "execute_result",
          "data": {
            "text/html": [
              "<div>\n",
              "<style scoped>\n",
              "    .dataframe tbody tr th:only-of-type {\n",
              "        vertical-align: middle;\n",
              "    }\n",
              "\n",
              "    .dataframe tbody tr th {\n",
              "        vertical-align: top;\n",
              "    }\n",
              "\n",
              "    .dataframe thead th {\n",
              "        text-align: right;\n",
              "    }\n",
              "</style>\n",
              "<table border=\"1\" class=\"dataframe\">\n",
              "  <thead>\n",
              "    <tr style=\"text-align: right;\">\n",
              "      <th></th>\n",
              "      <th>A</th>\n",
              "      <th>B</th>\n",
              "    </tr>\n",
              "  </thead>\n",
              "  <tbody>\n",
              "    <tr>\n",
              "      <th>0</th>\n",
              "      <td>10</td>\n",
              "      <td>11</td>\n",
              "    </tr>\n",
              "    <tr>\n",
              "      <th>1</th>\n",
              "      <td>20</td>\n",
              "      <td>21</td>\n",
              "    </tr>\n",
              "    <tr>\n",
              "      <th>2</th>\n",
              "      <td>30</td>\n",
              "      <td>31</td>\n",
              "    </tr>\n",
              "  </tbody>\n",
              "</table>\n",
              "</div>"
            ],
            "text/plain": [
              "    A   B\n",
              "0  10  11\n",
              "1  20  21\n",
              "2  30  31"
            ]
          },
          "metadata": {},
          "execution_count": 3
        }
      ]
    },
    {
      "cell_type": "markdown",
      "metadata": {
        "hidden": true,
        "id": "RDh5DzRctPW1"
      },
      "source": [
        "Задаем имена столбцов после создания датафрейма"
      ]
    },
    {
      "cell_type": "code",
      "metadata": {
        "colab": {
          "base_uri": "https://localhost:8080/",
          "height": 142
        },
        "id": "tQhZ8JemXzUM",
        "outputId": "fc44e1da-5dd9-4a43-b5c1-55b756c13f0b"
      },
      "source": [
        "df = pd.DataFrame([[13, 121], [230, 211], [300, 31]])\n",
        "df"
      ],
      "execution_count": null,
      "outputs": [
        {
          "output_type": "execute_result",
          "data": {
            "text/html": [
              "<div>\n",
              "<style scoped>\n",
              "    .dataframe tbody tr th:only-of-type {\n",
              "        vertical-align: middle;\n",
              "    }\n",
              "\n",
              "    .dataframe tbody tr th {\n",
              "        vertical-align: top;\n",
              "    }\n",
              "\n",
              "    .dataframe thead th {\n",
              "        text-align: right;\n",
              "    }\n",
              "</style>\n",
              "<table border=\"1\" class=\"dataframe\">\n",
              "  <thead>\n",
              "    <tr style=\"text-align: right;\">\n",
              "      <th></th>\n",
              "      <th>0</th>\n",
              "      <th>1</th>\n",
              "    </tr>\n",
              "  </thead>\n",
              "  <tbody>\n",
              "    <tr>\n",
              "      <th>0</th>\n",
              "      <td>13</td>\n",
              "      <td>121</td>\n",
              "    </tr>\n",
              "    <tr>\n",
              "      <th>1</th>\n",
              "      <td>230</td>\n",
              "      <td>211</td>\n",
              "    </tr>\n",
              "    <tr>\n",
              "      <th>2</th>\n",
              "      <td>300</td>\n",
              "      <td>31</td>\n",
              "    </tr>\n",
              "  </tbody>\n",
              "</table>\n",
              "</div>"
            ],
            "text/plain": [
              "     0    1\n",
              "0   13  121\n",
              "1  230  211\n",
              "2  300   31"
            ]
          },
          "metadata": {},
          "execution_count": 3
        }
      ]
    },
    {
      "cell_type": "code",
      "metadata": {
        "colab": {
          "base_uri": "https://localhost:8080/"
        },
        "id": "xd0PL77k_wq7",
        "outputId": "4619191d-96f4-4925-ef2b-3d29309829fb"
      },
      "source": [
        "print(df)"
      ],
      "execution_count": null,
      "outputs": [
        {
          "output_type": "stream",
          "name": "stdout",
          "text": [
            "     0    1\n",
            "0   13  121\n",
            "1  230  211\n",
            "2  300   31\n"
          ]
        }
      ]
    },
    {
      "cell_type": "code",
      "metadata": {
        "hidden": true,
        "id": "Hslg2Kp7tPW3",
        "colab": {
          "base_uri": "https://localhost:8080/",
          "height": 143
        },
        "outputId": "2fa6dbbc-9f34-44da-e884-b3d7708c5335"
      },
      "source": [
        "df.columns = ['col_1', 'col_2']\n",
        "df"
      ],
      "execution_count": null,
      "outputs": [
        {
          "output_type": "execute_result",
          "data": {
            "text/html": [
              "<div>\n",
              "<style scoped>\n",
              "    .dataframe tbody tr th:only-of-type {\n",
              "        vertical-align: middle;\n",
              "    }\n",
              "\n",
              "    .dataframe tbody tr th {\n",
              "        vertical-align: top;\n",
              "    }\n",
              "\n",
              "    .dataframe thead th {\n",
              "        text-align: right;\n",
              "    }\n",
              "</style>\n",
              "<table border=\"1\" class=\"dataframe\">\n",
              "  <thead>\n",
              "    <tr style=\"text-align: right;\">\n",
              "      <th></th>\n",
              "      <th>col_1</th>\n",
              "      <th>col_2</th>\n",
              "    </tr>\n",
              "  </thead>\n",
              "  <tbody>\n",
              "    <tr>\n",
              "      <th>0</th>\n",
              "      <td>13</td>\n",
              "      <td>121</td>\n",
              "    </tr>\n",
              "    <tr>\n",
              "      <th>1</th>\n",
              "      <td>230</td>\n",
              "      <td>211</td>\n",
              "    </tr>\n",
              "    <tr>\n",
              "      <th>2</th>\n",
              "      <td>300</td>\n",
              "      <td>31</td>\n",
              "    </tr>\n",
              "  </tbody>\n",
              "</table>\n",
              "</div>"
            ],
            "text/plain": [
              "   col_1  col_2\n",
              "0     13    121\n",
              "1    230    211\n",
              "2    300     31"
            ]
          },
          "metadata": {},
          "execution_count": 6
        }
      ]
    },
    {
      "cell_type": "markdown",
      "metadata": {
        "heading_collapsed": true,
        "hidden": true,
        "id": "FE6YJtiTtPYM"
      },
      "source": [
        "#### При помощи функций"
      ]
    },
    {
      "cell_type": "code",
      "metadata": {
        "colab": {
          "base_uri": "https://localhost:8080/",
          "height": 143
        },
        "id": "GshCxds6YVjp",
        "outputId": "a7a2710f-bc27-40d9-e7f7-17eb12fa2c94"
      },
      "source": [
        "df = pd.DataFrame.from_records([[13, 121], [230, 211], [300, 31]], columns=[\"c1\", \"c2\"])\n",
        "df"
      ],
      "execution_count": null,
      "outputs": [
        {
          "output_type": "execute_result",
          "data": {
            "text/html": [
              "<div>\n",
              "<style scoped>\n",
              "    .dataframe tbody tr th:only-of-type {\n",
              "        vertical-align: middle;\n",
              "    }\n",
              "\n",
              "    .dataframe tbody tr th {\n",
              "        vertical-align: top;\n",
              "    }\n",
              "\n",
              "    .dataframe thead th {\n",
              "        text-align: right;\n",
              "    }\n",
              "</style>\n",
              "<table border=\"1\" class=\"dataframe\">\n",
              "  <thead>\n",
              "    <tr style=\"text-align: right;\">\n",
              "      <th></th>\n",
              "      <th>c1</th>\n",
              "      <th>c2</th>\n",
              "    </tr>\n",
              "  </thead>\n",
              "  <tbody>\n",
              "    <tr>\n",
              "      <th>0</th>\n",
              "      <td>13</td>\n",
              "      <td>121</td>\n",
              "    </tr>\n",
              "    <tr>\n",
              "      <th>1</th>\n",
              "      <td>230</td>\n",
              "      <td>211</td>\n",
              "    </tr>\n",
              "    <tr>\n",
              "      <th>2</th>\n",
              "      <td>300</td>\n",
              "      <td>31</td>\n",
              "    </tr>\n",
              "  </tbody>\n",
              "</table>\n",
              "</div>"
            ],
            "text/plain": [
              "    c1   c2\n",
              "0   13  121\n",
              "1  230  211\n",
              "2  300   31"
            ]
          },
          "metadata": {},
          "execution_count": 9
        }
      ]
    },
    {
      "cell_type": "markdown",
      "metadata": {
        "heading_collapsed": true,
        "hidden": true,
        "id": "22BehrI3tPZG"
      },
      "source": [
        "#### [из файла](http://pandas.pydata.org/pandas-docs/stable/user_guide/io.html#io-tools-text-csv-hdf5)"
      ]
    },
    {
      "cell_type": "markdown",
      "metadata": {
        "id": "3wEDIPnUc56u"
      },
      "source": [
        "Чаще всего датафреймы создаются путём считывания данных из CSV-файла с помощью функции pd.read_csv. В качестве примера в этом и нескольких следующих блокнотах будем использовать датасет с kaggle про [270 самых популярных программистских книг](https://www.kaggle.com/thomaskonstantin/top-270-rated-computer-science-programing-books?select=prog_book.csv)."
      ]
    },
    {
      "cell_type": "markdown",
      "source": [
        "Какие данные у нас есть?\n",
        "271 строка и 7 столбцов:\n",
        "* `Rating` - рейтинг книги от 0 до 5\n",
        "* `Reviews` - количество отзывов\n",
        "* `Book_title` - название книги\n",
        "* `Description` - аннотация\n",
        "* `Number_of_pages` - количество страниц\n",
        "* `Type` - тип (электронная / в твердом переплете / в мягком переплете и др.)\n",
        "* `Price` - усредненная цена (в долларах) по нескольким источникам"
      ],
      "metadata": {
        "collapsed": false,
        "id": "KMPT76-GSTK3"
      }
    },
    {
      "cell_type": "markdown",
      "metadata": {
        "id": "wWE32AsCepsT"
      },
      "source": [
        "Обращайте внимание на разделитель. Вот этот код в зависимости от среды, где запускается файл, может выдать ошибку или некорректно считать данные. Перед запуском убедитесь в том, что загрузили этот файл в коллаб."
      ]
    },
    {
      "cell_type": "code",
      "metadata": {
        "hidden": true,
        "id": "IgQ2qXQMtPZJ",
        "colab": {
          "base_uri": "https://localhost:8080/",
          "height": 424
        },
        "outputId": "79107d28-6aac-469b-edbf-17b968fdf0d8"
      },
      "source": [
        "pd.read_csv(\"prog_book.csv\", sep=\";\")"
      ],
      "execution_count": null,
      "outputs": [
        {
          "ename": "ParserError",
          "evalue": "Error tokenizing data. C error: Expected 1 fields in line 106, saw 3\n",
          "output_type": "error",
          "traceback": [
            "\u001b[0;31m---------------------------------------------------------------------------\u001b[0m",
            "\u001b[0;31mParserError\u001b[0m                               Traceback (most recent call last)",
            "\u001b[0;32m/var/folders/x8/_28w2lcd1m12rty5kwbj66080000gn/T/ipykernel_15260/3780426317.py\u001b[0m in \u001b[0;36m<module>\u001b[0;34m\u001b[0m\n\u001b[0;32m----> 1\u001b[0;31m \u001b[0mpd\u001b[0m\u001b[0;34m.\u001b[0m\u001b[0mread_csv\u001b[0m\u001b[0;34m(\u001b[0m\u001b[0;34m\"prog_book.csv\"\u001b[0m\u001b[0;34m,\u001b[0m \u001b[0msep\u001b[0m\u001b[0;34m=\u001b[0m\u001b[0;34m\";\"\u001b[0m\u001b[0;34m)\u001b[0m\u001b[0;34m\u001b[0m\u001b[0;34m\u001b[0m\u001b[0m\n\u001b[0m",
            "\u001b[0;32m~/.conda/envs/phd/lib/python3.7/site-packages/pandas/util/_decorators.py\u001b[0m in \u001b[0;36mwrapper\u001b[0;34m(*args, **kwargs)\u001b[0m\n\u001b[1;32m    309\u001b[0m                     \u001b[0mstacklevel\u001b[0m\u001b[0;34m=\u001b[0m\u001b[0mstacklevel\u001b[0m\u001b[0;34m,\u001b[0m\u001b[0;34m\u001b[0m\u001b[0;34m\u001b[0m\u001b[0m\n\u001b[1;32m    310\u001b[0m                 )\n\u001b[0;32m--> 311\u001b[0;31m             \u001b[0;32mreturn\u001b[0m \u001b[0mfunc\u001b[0m\u001b[0;34m(\u001b[0m\u001b[0;34m*\u001b[0m\u001b[0margs\u001b[0m\u001b[0;34m,\u001b[0m \u001b[0;34m**\u001b[0m\u001b[0mkwargs\u001b[0m\u001b[0;34m)\u001b[0m\u001b[0;34m\u001b[0m\u001b[0;34m\u001b[0m\u001b[0m\n\u001b[0m\u001b[1;32m    312\u001b[0m \u001b[0;34m\u001b[0m\u001b[0m\n\u001b[1;32m    313\u001b[0m         \u001b[0;32mreturn\u001b[0m \u001b[0mwrapper\u001b[0m\u001b[0;34m\u001b[0m\u001b[0;34m\u001b[0m\u001b[0m\n",
            "\u001b[0;32m~/.conda/envs/phd/lib/python3.7/site-packages/pandas/io/parsers/readers.py\u001b[0m in \u001b[0;36mread_csv\u001b[0;34m(filepath_or_buffer, sep, delimiter, header, names, index_col, usecols, squeeze, prefix, mangle_dupe_cols, dtype, engine, converters, true_values, false_values, skipinitialspace, skiprows, skipfooter, nrows, na_values, keep_default_na, na_filter, verbose, skip_blank_lines, parse_dates, infer_datetime_format, keep_date_col, date_parser, dayfirst, cache_dates, iterator, chunksize, compression, thousands, decimal, lineterminator, quotechar, quoting, doublequote, escapechar, comment, encoding, encoding_errors, dialect, error_bad_lines, warn_bad_lines, on_bad_lines, delim_whitespace, low_memory, memory_map, float_precision, storage_options)\u001b[0m\n\u001b[1;32m    584\u001b[0m     \u001b[0mkwds\u001b[0m\u001b[0;34m.\u001b[0m\u001b[0mupdate\u001b[0m\u001b[0;34m(\u001b[0m\u001b[0mkwds_defaults\u001b[0m\u001b[0;34m)\u001b[0m\u001b[0;34m\u001b[0m\u001b[0;34m\u001b[0m\u001b[0m\n\u001b[1;32m    585\u001b[0m \u001b[0;34m\u001b[0m\u001b[0m\n\u001b[0;32m--> 586\u001b[0;31m     \u001b[0;32mreturn\u001b[0m \u001b[0m_read\u001b[0m\u001b[0;34m(\u001b[0m\u001b[0mfilepath_or_buffer\u001b[0m\u001b[0;34m,\u001b[0m \u001b[0mkwds\u001b[0m\u001b[0;34m)\u001b[0m\u001b[0;34m\u001b[0m\u001b[0;34m\u001b[0m\u001b[0m\n\u001b[0m\u001b[1;32m    587\u001b[0m \u001b[0;34m\u001b[0m\u001b[0m\n\u001b[1;32m    588\u001b[0m \u001b[0;34m\u001b[0m\u001b[0m\n",
            "\u001b[0;32m~/.conda/envs/phd/lib/python3.7/site-packages/pandas/io/parsers/readers.py\u001b[0m in \u001b[0;36m_read\u001b[0;34m(filepath_or_buffer, kwds)\u001b[0m\n\u001b[1;32m    486\u001b[0m \u001b[0;34m\u001b[0m\u001b[0m\n\u001b[1;32m    487\u001b[0m     \u001b[0;32mwith\u001b[0m \u001b[0mparser\u001b[0m\u001b[0;34m:\u001b[0m\u001b[0;34m\u001b[0m\u001b[0;34m\u001b[0m\u001b[0m\n\u001b[0;32m--> 488\u001b[0;31m         \u001b[0;32mreturn\u001b[0m \u001b[0mparser\u001b[0m\u001b[0;34m.\u001b[0m\u001b[0mread\u001b[0m\u001b[0;34m(\u001b[0m\u001b[0mnrows\u001b[0m\u001b[0;34m)\u001b[0m\u001b[0;34m\u001b[0m\u001b[0;34m\u001b[0m\u001b[0m\n\u001b[0m\u001b[1;32m    489\u001b[0m \u001b[0;34m\u001b[0m\u001b[0m\n\u001b[1;32m    490\u001b[0m \u001b[0;34m\u001b[0m\u001b[0m\n",
            "\u001b[0;32m~/.conda/envs/phd/lib/python3.7/site-packages/pandas/io/parsers/readers.py\u001b[0m in \u001b[0;36mread\u001b[0;34m(self, nrows)\u001b[0m\n\u001b[1;32m   1045\u001b[0m     \u001b[0;32mdef\u001b[0m \u001b[0mread\u001b[0m\u001b[0;34m(\u001b[0m\u001b[0mself\u001b[0m\u001b[0;34m,\u001b[0m \u001b[0mnrows\u001b[0m\u001b[0;34m=\u001b[0m\u001b[0;32mNone\u001b[0m\u001b[0;34m)\u001b[0m\u001b[0;34m:\u001b[0m\u001b[0;34m\u001b[0m\u001b[0;34m\u001b[0m\u001b[0m\n\u001b[1;32m   1046\u001b[0m         \u001b[0mnrows\u001b[0m \u001b[0;34m=\u001b[0m \u001b[0mvalidate_integer\u001b[0m\u001b[0;34m(\u001b[0m\u001b[0;34m\"nrows\"\u001b[0m\u001b[0;34m,\u001b[0m \u001b[0mnrows\u001b[0m\u001b[0;34m)\u001b[0m\u001b[0;34m\u001b[0m\u001b[0;34m\u001b[0m\u001b[0m\n\u001b[0;32m-> 1047\u001b[0;31m         \u001b[0mindex\u001b[0m\u001b[0;34m,\u001b[0m \u001b[0mcolumns\u001b[0m\u001b[0;34m,\u001b[0m \u001b[0mcol_dict\u001b[0m \u001b[0;34m=\u001b[0m \u001b[0mself\u001b[0m\u001b[0;34m.\u001b[0m\u001b[0m_engine\u001b[0m\u001b[0;34m.\u001b[0m\u001b[0mread\u001b[0m\u001b[0;34m(\u001b[0m\u001b[0mnrows\u001b[0m\u001b[0;34m)\u001b[0m\u001b[0;34m\u001b[0m\u001b[0;34m\u001b[0m\u001b[0m\n\u001b[0m\u001b[1;32m   1048\u001b[0m \u001b[0;34m\u001b[0m\u001b[0m\n\u001b[1;32m   1049\u001b[0m         \u001b[0;32mif\u001b[0m \u001b[0mindex\u001b[0m \u001b[0;32mis\u001b[0m \u001b[0;32mNone\u001b[0m\u001b[0;34m:\u001b[0m\u001b[0;34m\u001b[0m\u001b[0;34m\u001b[0m\u001b[0m\n",
            "\u001b[0;32m~/.conda/envs/phd/lib/python3.7/site-packages/pandas/io/parsers/c_parser_wrapper.py\u001b[0m in \u001b[0;36mread\u001b[0;34m(self, nrows)\u001b[0m\n\u001b[1;32m    222\u001b[0m         \u001b[0;32mtry\u001b[0m\u001b[0;34m:\u001b[0m\u001b[0;34m\u001b[0m\u001b[0;34m\u001b[0m\u001b[0m\n\u001b[1;32m    223\u001b[0m             \u001b[0;32mif\u001b[0m \u001b[0mself\u001b[0m\u001b[0;34m.\u001b[0m\u001b[0mlow_memory\u001b[0m\u001b[0;34m:\u001b[0m\u001b[0;34m\u001b[0m\u001b[0;34m\u001b[0m\u001b[0m\n\u001b[0;32m--> 224\u001b[0;31m                 \u001b[0mchunks\u001b[0m \u001b[0;34m=\u001b[0m \u001b[0mself\u001b[0m\u001b[0;34m.\u001b[0m\u001b[0m_reader\u001b[0m\u001b[0;34m.\u001b[0m\u001b[0mread_low_memory\u001b[0m\u001b[0;34m(\u001b[0m\u001b[0mnrows\u001b[0m\u001b[0;34m)\u001b[0m\u001b[0;34m\u001b[0m\u001b[0;34m\u001b[0m\u001b[0m\n\u001b[0m\u001b[1;32m    225\u001b[0m                 \u001b[0;31m# destructive to chunks\u001b[0m\u001b[0;34m\u001b[0m\u001b[0;34m\u001b[0m\u001b[0;34m\u001b[0m\u001b[0m\n\u001b[1;32m    226\u001b[0m                 \u001b[0mdata\u001b[0m \u001b[0;34m=\u001b[0m \u001b[0m_concatenate_chunks\u001b[0m\u001b[0;34m(\u001b[0m\u001b[0mchunks\u001b[0m\u001b[0;34m)\u001b[0m\u001b[0;34m\u001b[0m\u001b[0;34m\u001b[0m\u001b[0m\n",
            "\u001b[0;32m~/.conda/envs/phd/lib/python3.7/site-packages/pandas/_libs/parsers.pyx\u001b[0m in \u001b[0;36mpandas._libs.parsers.TextReader.read_low_memory\u001b[0;34m()\u001b[0m\n",
            "\u001b[0;32m~/.conda/envs/phd/lib/python3.7/site-packages/pandas/_libs/parsers.pyx\u001b[0m in \u001b[0;36mpandas._libs.parsers.TextReader._read_rows\u001b[0;34m()\u001b[0m\n",
            "\u001b[0;32m~/.conda/envs/phd/lib/python3.7/site-packages/pandas/_libs/parsers.pyx\u001b[0m in \u001b[0;36mpandas._libs.parsers.TextReader._tokenize_rows\u001b[0;34m()\u001b[0m\n",
            "\u001b[0;32m~/.conda/envs/phd/lib/python3.7/site-packages/pandas/_libs/parsers.pyx\u001b[0m in \u001b[0;36mpandas._libs.parsers.raise_parser_error\u001b[0;34m()\u001b[0m\n",
            "\u001b[0;31mParserError\u001b[0m: Error tokenizing data. C error: Expected 1 fields in line 106, saw 3\n"
          ]
        }
      ]
    },
    {
      "cell_type": "markdown",
      "metadata": {
        "hidden": true,
        "id": "WIMX4K4ltPZP"
      },
      "source": [
        "Следующий код будет работать корректно."
      ]
    },
    {
      "cell_type": "code",
      "metadata": {
        "hidden": true,
        "id": "mgXcnSSxtPZR",
        "colab": {
          "base_uri": "https://localhost:8080/",
          "height": 424
        },
        "outputId": "4ad7da68-6ff3-441f-bfe9-d2d8d3412772"
      },
      "source": [
        "pd.read_csv(\"prog_book.csv\", sep=',') # вообще, по умолчанию, sep=\",\""
      ],
      "execution_count": null,
      "outputs": [
        {
          "data": {
            "text/plain": "     Rating Reviews                                         Book_title  \\\n0      4.17   3,829                              The Elements of Style   \n1      4.01   1,406      The Information: A History, a Theory, a Flood   \n2      3.33       0       Responsive Web Design Overview For Beginners   \n3      3.97   1,658  Ghost in the Wires: My Adventures as the World...   \n4      4.06   1,325                                   How Google Works   \n..      ...     ...                                                ...   \n266    3.76       0  3D Game Engine Architecture: Engineering Real-...   \n267    3.94      22                An Introduction to Database Systems   \n268    4.49      36  The Art of Computer Programming, Volumes 1-3 B...   \n269    4.77       4  The Art of Computer Programming, Volumes 1-4a ...   \n270    3.84       5              A Discipline for Software Engineering   \n\n                                           Description  Number_Of_Pages  \\\n0    This style manual offers practical advice on i...              105   \n1    James Gleick, the author of the best sellers C...              527   \n2    In Responsive Web Design Overview For Beginner...               50   \n3    If they were a hall of fame or shame for compu...              393   \n4    Both Eric Schmidt and Jonathan Rosenberg came ...              305   \n..                                                 ...              ...   \n266  Dave Eberly's 3D Game Engine Design was the fi...              752   \n267  Continuing in the eighth edition, An Introduct...             1040   \n268  Knuth's classic work has been widely acclaimed...              896   \n269  \"The bible of all fundamental algorithms and t...             3168   \n270  Designed to help individual programmers develo...              789   \n\n                      Type       Price  \n0                Hardcover    9.323529  \n1                Hardcover   11.000000  \n2           Kindle Edition   11.267647  \n3                Hardcover   12.873529  \n4           Kindle Edition   13.164706  \n..                     ...         ...  \n266              Hardcover  203.108823  \n267              Paperback  212.097059  \n268  Boxed Set - Hardcover  220.385294  \n269              Hardcover  220.385294  \n270              Hardcover  235.650000  \n\n[271 rows x 7 columns]",
            "text/html": "<div>\n<style scoped>\n    .dataframe tbody tr th:only-of-type {\n        vertical-align: middle;\n    }\n\n    .dataframe tbody tr th {\n        vertical-align: top;\n    }\n\n    .dataframe thead th {\n        text-align: right;\n    }\n</style>\n<table border=\"1\" class=\"dataframe\">\n  <thead>\n    <tr style=\"text-align: right;\">\n      <th></th>\n      <th>Rating</th>\n      <th>Reviews</th>\n      <th>Book_title</th>\n      <th>Description</th>\n      <th>Number_Of_Pages</th>\n      <th>Type</th>\n      <th>Price</th>\n    </tr>\n  </thead>\n  <tbody>\n    <tr>\n      <th>0</th>\n      <td>4.17</td>\n      <td>3,829</td>\n      <td>The Elements of Style</td>\n      <td>This style manual offers practical advice on i...</td>\n      <td>105</td>\n      <td>Hardcover</td>\n      <td>9.323529</td>\n    </tr>\n    <tr>\n      <th>1</th>\n      <td>4.01</td>\n      <td>1,406</td>\n      <td>The Information: A History, a Theory, a Flood</td>\n      <td>James Gleick, the author of the best sellers C...</td>\n      <td>527</td>\n      <td>Hardcover</td>\n      <td>11.000000</td>\n    </tr>\n    <tr>\n      <th>2</th>\n      <td>3.33</td>\n      <td>0</td>\n      <td>Responsive Web Design Overview For Beginners</td>\n      <td>In Responsive Web Design Overview For Beginner...</td>\n      <td>50</td>\n      <td>Kindle Edition</td>\n      <td>11.267647</td>\n    </tr>\n    <tr>\n      <th>3</th>\n      <td>3.97</td>\n      <td>1,658</td>\n      <td>Ghost in the Wires: My Adventures as the World...</td>\n      <td>If they were a hall of fame or shame for compu...</td>\n      <td>393</td>\n      <td>Hardcover</td>\n      <td>12.873529</td>\n    </tr>\n    <tr>\n      <th>4</th>\n      <td>4.06</td>\n      <td>1,325</td>\n      <td>How Google Works</td>\n      <td>Both Eric Schmidt and Jonathan Rosenberg came ...</td>\n      <td>305</td>\n      <td>Kindle Edition</td>\n      <td>13.164706</td>\n    </tr>\n    <tr>\n      <th>...</th>\n      <td>...</td>\n      <td>...</td>\n      <td>...</td>\n      <td>...</td>\n      <td>...</td>\n      <td>...</td>\n      <td>...</td>\n    </tr>\n    <tr>\n      <th>266</th>\n      <td>3.76</td>\n      <td>0</td>\n      <td>3D Game Engine Architecture: Engineering Real-...</td>\n      <td>Dave Eberly's 3D Game Engine Design was the fi...</td>\n      <td>752</td>\n      <td>Hardcover</td>\n      <td>203.108823</td>\n    </tr>\n    <tr>\n      <th>267</th>\n      <td>3.94</td>\n      <td>22</td>\n      <td>An Introduction to Database Systems</td>\n      <td>Continuing in the eighth edition, An Introduct...</td>\n      <td>1040</td>\n      <td>Paperback</td>\n      <td>212.097059</td>\n    </tr>\n    <tr>\n      <th>268</th>\n      <td>4.49</td>\n      <td>36</td>\n      <td>The Art of Computer Programming, Volumes 1-3 B...</td>\n      <td>Knuth's classic work has been widely acclaimed...</td>\n      <td>896</td>\n      <td>Boxed Set - Hardcover</td>\n      <td>220.385294</td>\n    </tr>\n    <tr>\n      <th>269</th>\n      <td>4.77</td>\n      <td>4</td>\n      <td>The Art of Computer Programming, Volumes 1-4a ...</td>\n      <td>\"The bible of all fundamental algorithms and t...</td>\n      <td>3168</td>\n      <td>Hardcover</td>\n      <td>220.385294</td>\n    </tr>\n    <tr>\n      <th>270</th>\n      <td>3.84</td>\n      <td>5</td>\n      <td>A Discipline for Software Engineering</td>\n      <td>Designed to help individual programmers develo...</td>\n      <td>789</td>\n      <td>Hardcover</td>\n      <td>235.650000</td>\n    </tr>\n  </tbody>\n</table>\n<p>271 rows × 7 columns</p>\n</div>"
          },
          "execution_count": 10,
          "metadata": {},
          "output_type": "execute_result"
        }
      ]
    },
    {
      "cell_type": "markdown",
      "metadata": {
        "hidden": true,
        "id": "qQv4RqbWtPZc"
      },
      "source": [
        "Функция read_csv предоставляет широкий список тонких настроек считывания данных. Здесь рассмотрим лишь некоторые из них. \n",
        "\n",
        "Можно считывать не все строки и не все столбцы. Строки:"
      ]
    },
    {
      "cell_type": "code",
      "metadata": {
        "hidden": true,
        "id": "L5lSFPAYtPZd",
        "colab": {
          "base_uri": "https://localhost:8080/",
          "height": 143
        },
        "outputId": "bdb42b7b-d614-4946-c70a-b0fed1aba1b6"
      },
      "source": [
        "pd.read_csv(\"prog_book.csv\", nrows = 3)"
      ],
      "execution_count": null,
      "outputs": [
        {
          "data": {
            "text/plain": "   Rating Reviews                                     Book_title  \\\n0    4.17   3,829                          The Elements of Style   \n1    4.01   1,406  The Information: A History, a Theory, a Flood   \n2    3.33       0   Responsive Web Design Overview For Beginners   \n\n                                         Description  Number_Of_Pages  \\\n0  This style manual offers practical advice on i...              105   \n1  James Gleick, the author of the best sellers C...              527   \n2  In Responsive Web Design Overview For Beginner...               50   \n\n             Type      Price  \n0       Hardcover   9.323529  \n1       Hardcover  11.000000  \n2  Kindle Edition  11.267647  ",
            "text/html": "<div>\n<style scoped>\n    .dataframe tbody tr th:only-of-type {\n        vertical-align: middle;\n    }\n\n    .dataframe tbody tr th {\n        vertical-align: top;\n    }\n\n    .dataframe thead th {\n        text-align: right;\n    }\n</style>\n<table border=\"1\" class=\"dataframe\">\n  <thead>\n    <tr style=\"text-align: right;\">\n      <th></th>\n      <th>Rating</th>\n      <th>Reviews</th>\n      <th>Book_title</th>\n      <th>Description</th>\n      <th>Number_Of_Pages</th>\n      <th>Type</th>\n      <th>Price</th>\n    </tr>\n  </thead>\n  <tbody>\n    <tr>\n      <th>0</th>\n      <td>4.17</td>\n      <td>3,829</td>\n      <td>The Elements of Style</td>\n      <td>This style manual offers practical advice on i...</td>\n      <td>105</td>\n      <td>Hardcover</td>\n      <td>9.323529</td>\n    </tr>\n    <tr>\n      <th>1</th>\n      <td>4.01</td>\n      <td>1,406</td>\n      <td>The Information: A History, a Theory, a Flood</td>\n      <td>James Gleick, the author of the best sellers C...</td>\n      <td>527</td>\n      <td>Hardcover</td>\n      <td>11.000000</td>\n    </tr>\n    <tr>\n      <th>2</th>\n      <td>3.33</td>\n      <td>0</td>\n      <td>Responsive Web Design Overview For Beginners</td>\n      <td>In Responsive Web Design Overview For Beginner...</td>\n      <td>50</td>\n      <td>Kindle Edition</td>\n      <td>11.267647</td>\n    </tr>\n  </tbody>\n</table>\n</div>"
          },
          "execution_count": 11,
          "metadata": {},
          "output_type": "execute_result"
        }
      ]
    },
    {
      "cell_type": "markdown",
      "metadata": {
        "hidden": true,
        "id": "tBceF_aBtPaB"
      },
      "source": [
        "столбцы"
      ]
    },
    {
      "cell_type": "code",
      "metadata": {
        "hidden": true,
        "id": "BpT5_xAGtPaD",
        "colab": {
          "base_uri": "https://localhost:8080/",
          "height": 143
        },
        "outputId": "1f8815f7-a0ae-4a82-8805-59d3eb802dcb"
      },
      "source": [
        "pd.read_csv(\"prog_book.csv\",\n",
        "           nrows = 3,\n",
        "           usecols=[\"Rating\", \"Reviews\", \"Book_title\", \"Number_Of_Pages\", \"Type\", \"Price\"])"
      ],
      "execution_count": null,
      "outputs": [
        {
          "data": {
            "text/plain": "   Rating Reviews                                     Book_title  \\\n0    4.17   3,829                          The Elements of Style   \n1    4.01   1,406  The Information: A History, a Theory, a Flood   \n2    3.33       0   Responsive Web Design Overview For Beginners   \n\n   Number_Of_Pages            Type      Price  \n0              105       Hardcover   9.323529  \n1              527       Hardcover  11.000000  \n2               50  Kindle Edition  11.267647  ",
            "text/html": "<div>\n<style scoped>\n    .dataframe tbody tr th:only-of-type {\n        vertical-align: middle;\n    }\n\n    .dataframe tbody tr th {\n        vertical-align: top;\n    }\n\n    .dataframe thead th {\n        text-align: right;\n    }\n</style>\n<table border=\"1\" class=\"dataframe\">\n  <thead>\n    <tr style=\"text-align: right;\">\n      <th></th>\n      <th>Rating</th>\n      <th>Reviews</th>\n      <th>Book_title</th>\n      <th>Number_Of_Pages</th>\n      <th>Type</th>\n      <th>Price</th>\n    </tr>\n  </thead>\n  <tbody>\n    <tr>\n      <th>0</th>\n      <td>4.17</td>\n      <td>3,829</td>\n      <td>The Elements of Style</td>\n      <td>105</td>\n      <td>Hardcover</td>\n      <td>9.323529</td>\n    </tr>\n    <tr>\n      <th>1</th>\n      <td>4.01</td>\n      <td>1,406</td>\n      <td>The Information: A History, a Theory, a Flood</td>\n      <td>527</td>\n      <td>Hardcover</td>\n      <td>11.000000</td>\n    </tr>\n    <tr>\n      <th>2</th>\n      <td>3.33</td>\n      <td>0</td>\n      <td>Responsive Web Design Overview For Beginners</td>\n      <td>50</td>\n      <td>Kindle Edition</td>\n      <td>11.267647</td>\n    </tr>\n  </tbody>\n</table>\n</div>"
          },
          "execution_count": 14,
          "metadata": {},
          "output_type": "execute_result"
        }
      ]
    },
    {
      "cell_type": "code",
      "metadata": {
        "hidden": true,
        "id": "aV4IkO2gtPbT",
        "colab": {
          "base_uri": "https://localhost:8080/",
          "height": 424
        },
        "outputId": "944a73a6-aa84-483a-949e-aa8dbb6606f9"
      },
      "source": [
        "books = pd.read_csv(\"prog_book.csv\",\n",
        "                    usecols=[\"Rating\", \"Reviews\", \"Book_title\", \"Number_Of_Pages\", \"Type\", \"Price\"])\n",
        "books"
      ],
      "execution_count": null,
      "outputs": [
        {
          "data": {
            "text/plain": "     Rating Reviews                                         Book_title  \\\n0      4.17   3,829                              The Elements of Style   \n1      4.01   1,406      The Information: A History, a Theory, a Flood   \n2      3.33       0       Responsive Web Design Overview For Beginners   \n3      3.97   1,658  Ghost in the Wires: My Adventures as the World...   \n4      4.06   1,325                                   How Google Works   \n..      ...     ...                                                ...   \n266    3.76       0  3D Game Engine Architecture: Engineering Real-...   \n267    3.94      22                An Introduction to Database Systems   \n268    4.49      36  The Art of Computer Programming, Volumes 1-3 B...   \n269    4.77       4  The Art of Computer Programming, Volumes 1-4a ...   \n270    3.84       5              A Discipline for Software Engineering   \n\n     Number_Of_Pages                   Type       Price  \n0                105              Hardcover    9.323529  \n1                527              Hardcover   11.000000  \n2                 50         Kindle Edition   11.267647  \n3                393              Hardcover   12.873529  \n4                305         Kindle Edition   13.164706  \n..               ...                    ...         ...  \n266              752              Hardcover  203.108823  \n267             1040              Paperback  212.097059  \n268              896  Boxed Set - Hardcover  220.385294  \n269             3168              Hardcover  220.385294  \n270              789              Hardcover  235.650000  \n\n[271 rows x 6 columns]",
            "text/html": "<div>\n<style scoped>\n    .dataframe tbody tr th:only-of-type {\n        vertical-align: middle;\n    }\n\n    .dataframe tbody tr th {\n        vertical-align: top;\n    }\n\n    .dataframe thead th {\n        text-align: right;\n    }\n</style>\n<table border=\"1\" class=\"dataframe\">\n  <thead>\n    <tr style=\"text-align: right;\">\n      <th></th>\n      <th>Rating</th>\n      <th>Reviews</th>\n      <th>Book_title</th>\n      <th>Number_Of_Pages</th>\n      <th>Type</th>\n      <th>Price</th>\n    </tr>\n  </thead>\n  <tbody>\n    <tr>\n      <th>0</th>\n      <td>4.17</td>\n      <td>3,829</td>\n      <td>The Elements of Style</td>\n      <td>105</td>\n      <td>Hardcover</td>\n      <td>9.323529</td>\n    </tr>\n    <tr>\n      <th>1</th>\n      <td>4.01</td>\n      <td>1,406</td>\n      <td>The Information: A History, a Theory, a Flood</td>\n      <td>527</td>\n      <td>Hardcover</td>\n      <td>11.000000</td>\n    </tr>\n    <tr>\n      <th>2</th>\n      <td>3.33</td>\n      <td>0</td>\n      <td>Responsive Web Design Overview For Beginners</td>\n      <td>50</td>\n      <td>Kindle Edition</td>\n      <td>11.267647</td>\n    </tr>\n    <tr>\n      <th>3</th>\n      <td>3.97</td>\n      <td>1,658</td>\n      <td>Ghost in the Wires: My Adventures as the World...</td>\n      <td>393</td>\n      <td>Hardcover</td>\n      <td>12.873529</td>\n    </tr>\n    <tr>\n      <th>4</th>\n      <td>4.06</td>\n      <td>1,325</td>\n      <td>How Google Works</td>\n      <td>305</td>\n      <td>Kindle Edition</td>\n      <td>13.164706</td>\n    </tr>\n    <tr>\n      <th>...</th>\n      <td>...</td>\n      <td>...</td>\n      <td>...</td>\n      <td>...</td>\n      <td>...</td>\n      <td>...</td>\n    </tr>\n    <tr>\n      <th>266</th>\n      <td>3.76</td>\n      <td>0</td>\n      <td>3D Game Engine Architecture: Engineering Real-...</td>\n      <td>752</td>\n      <td>Hardcover</td>\n      <td>203.108823</td>\n    </tr>\n    <tr>\n      <th>267</th>\n      <td>3.94</td>\n      <td>22</td>\n      <td>An Introduction to Database Systems</td>\n      <td>1040</td>\n      <td>Paperback</td>\n      <td>212.097059</td>\n    </tr>\n    <tr>\n      <th>268</th>\n      <td>4.49</td>\n      <td>36</td>\n      <td>The Art of Computer Programming, Volumes 1-3 B...</td>\n      <td>896</td>\n      <td>Boxed Set - Hardcover</td>\n      <td>220.385294</td>\n    </tr>\n    <tr>\n      <th>269</th>\n      <td>4.77</td>\n      <td>4</td>\n      <td>The Art of Computer Programming, Volumes 1-4a ...</td>\n      <td>3168</td>\n      <td>Hardcover</td>\n      <td>220.385294</td>\n    </tr>\n    <tr>\n      <th>270</th>\n      <td>3.84</td>\n      <td>5</td>\n      <td>A Discipline for Software Engineering</td>\n      <td>789</td>\n      <td>Hardcover</td>\n      <td>235.650000</td>\n    </tr>\n  </tbody>\n</table>\n<p>271 rows × 6 columns</p>\n</div>"
          },
          "execution_count": 15,
          "metadata": {},
          "output_type": "execute_result"
        }
      ]
    },
    {
      "cell_type": "markdown",
      "metadata": {
        "id": "XPnh0PohSgOX"
      },
      "source": [
        "Работая в гугл колабе удобно некоторые датасеты хранить на гугл диске. Ниже представлен код, позволяющий организовать чтение датасетов с гугл.диска."
      ]
    },
    {
      "cell_type": "markdown",
      "metadata": {
        "id": "zmw6Gf71_j4R"
      },
      "source": [
        "#### Локальное подключение"
      ]
    },
    {
      "cell_type": "code",
      "metadata": {
        "colab": {
          "base_uri": "https://localhost:8080/"
        },
        "id": "JxL0TUSK_oVT",
        "outputId": "18a388d6-3e5e-4e85-f0c4-457f3ab2f97b"
      },
      "source": [
        "from google.colab import drive\n",
        "drive.mount('/content/drive')"
      ],
      "execution_count": null,
      "outputs": [
        {
          "output_type": "stream",
          "name": "stdout",
          "text": [
            "Mounted at /content/drive\n"
          ]
        }
      ]
    },
    {
      "cell_type": "code",
      "metadata": {
        "id": "3zz0fvfV-buJ",
        "colab": {
          "base_uri": "https://localhost:8080/",
          "height": 341
        },
        "outputId": "262b5c87-5fee-4616-da36-efc91790ca2b"
      },
      "source": [
        "books = pd.read_csv(\"/content/drive/MyDrive/ITMO.Work/21 22/ВИМ/data/prog_book.csv\")\n",
        "books"
      ],
      "execution_count": null,
      "outputs": [
        {
          "output_type": "error",
          "ename": "FileNotFoundError",
          "evalue": "ignored",
          "traceback": [
            "\u001b[0;31m---------------------------------------------------------------------------\u001b[0m",
            "\u001b[0;31mFileNotFoundError\u001b[0m                         Traceback (most recent call last)",
            "\u001b[0;32m<ipython-input-11-6e29780073a5>\u001b[0m in \u001b[0;36m<module>\u001b[0;34m\u001b[0m\n\u001b[0;32m----> 1\u001b[0;31m \u001b[0mbooks\u001b[0m \u001b[0;34m=\u001b[0m \u001b[0mpd\u001b[0m\u001b[0;34m.\u001b[0m\u001b[0mread_csv\u001b[0m\u001b[0;34m(\u001b[0m\u001b[0;34m\"/content/drive/MyDrive/ITMO.Work/21 22/ВИМ/data/prog_book.csv\"\u001b[0m\u001b[0;34m)\u001b[0m\u001b[0;34m\u001b[0m\u001b[0;34m\u001b[0m\u001b[0m\n\u001b[0m\u001b[1;32m      2\u001b[0m \u001b[0mbooks\u001b[0m\u001b[0;34m\u001b[0m\u001b[0;34m\u001b[0m\u001b[0m\n",
            "\u001b[0;32m/usr/local/lib/python3.8/dist-packages/pandas/util/_decorators.py\u001b[0m in \u001b[0;36mwrapper\u001b[0;34m(*args, **kwargs)\u001b[0m\n\u001b[1;32m    309\u001b[0m                     \u001b[0mstacklevel\u001b[0m\u001b[0;34m=\u001b[0m\u001b[0mstacklevel\u001b[0m\u001b[0;34m,\u001b[0m\u001b[0;34m\u001b[0m\u001b[0;34m\u001b[0m\u001b[0m\n\u001b[1;32m    310\u001b[0m                 )\n\u001b[0;32m--> 311\u001b[0;31m             \u001b[0;32mreturn\u001b[0m \u001b[0mfunc\u001b[0m\u001b[0;34m(\u001b[0m\u001b[0;34m*\u001b[0m\u001b[0margs\u001b[0m\u001b[0;34m,\u001b[0m \u001b[0;34m**\u001b[0m\u001b[0mkwargs\u001b[0m\u001b[0;34m)\u001b[0m\u001b[0;34m\u001b[0m\u001b[0;34m\u001b[0m\u001b[0m\n\u001b[0m\u001b[1;32m    312\u001b[0m \u001b[0;34m\u001b[0m\u001b[0m\n\u001b[1;32m    313\u001b[0m         \u001b[0;32mreturn\u001b[0m \u001b[0mwrapper\u001b[0m\u001b[0;34m\u001b[0m\u001b[0;34m\u001b[0m\u001b[0m\n",
            "\u001b[0;32m/usr/local/lib/python3.8/dist-packages/pandas/io/parsers/readers.py\u001b[0m in \u001b[0;36mread_csv\u001b[0;34m(filepath_or_buffer, sep, delimiter, header, names, index_col, usecols, squeeze, prefix, mangle_dupe_cols, dtype, engine, converters, true_values, false_values, skipinitialspace, skiprows, skipfooter, nrows, na_values, keep_default_na, na_filter, verbose, skip_blank_lines, parse_dates, infer_datetime_format, keep_date_col, date_parser, dayfirst, cache_dates, iterator, chunksize, compression, thousands, decimal, lineterminator, quotechar, quoting, doublequote, escapechar, comment, encoding, encoding_errors, dialect, error_bad_lines, warn_bad_lines, on_bad_lines, delim_whitespace, low_memory, memory_map, float_precision, storage_options)\u001b[0m\n\u001b[1;32m    584\u001b[0m     \u001b[0mkwds\u001b[0m\u001b[0;34m.\u001b[0m\u001b[0mupdate\u001b[0m\u001b[0;34m(\u001b[0m\u001b[0mkwds_defaults\u001b[0m\u001b[0;34m)\u001b[0m\u001b[0;34m\u001b[0m\u001b[0;34m\u001b[0m\u001b[0m\n\u001b[1;32m    585\u001b[0m \u001b[0;34m\u001b[0m\u001b[0m\n\u001b[0;32m--> 586\u001b[0;31m     \u001b[0;32mreturn\u001b[0m \u001b[0m_read\u001b[0m\u001b[0;34m(\u001b[0m\u001b[0mfilepath_or_buffer\u001b[0m\u001b[0;34m,\u001b[0m \u001b[0mkwds\u001b[0m\u001b[0;34m)\u001b[0m\u001b[0;34m\u001b[0m\u001b[0;34m\u001b[0m\u001b[0m\n\u001b[0m\u001b[1;32m    587\u001b[0m \u001b[0;34m\u001b[0m\u001b[0m\n\u001b[1;32m    588\u001b[0m \u001b[0;34m\u001b[0m\u001b[0m\n",
            "\u001b[0;32m/usr/local/lib/python3.8/dist-packages/pandas/io/parsers/readers.py\u001b[0m in \u001b[0;36m_read\u001b[0;34m(filepath_or_buffer, kwds)\u001b[0m\n\u001b[1;32m    480\u001b[0m \u001b[0;34m\u001b[0m\u001b[0m\n\u001b[1;32m    481\u001b[0m     \u001b[0;31m# Create the parser.\u001b[0m\u001b[0;34m\u001b[0m\u001b[0;34m\u001b[0m\u001b[0;34m\u001b[0m\u001b[0m\n\u001b[0;32m--> 482\u001b[0;31m     \u001b[0mparser\u001b[0m \u001b[0;34m=\u001b[0m \u001b[0mTextFileReader\u001b[0m\u001b[0;34m(\u001b[0m\u001b[0mfilepath_or_buffer\u001b[0m\u001b[0;34m,\u001b[0m \u001b[0;34m**\u001b[0m\u001b[0mkwds\u001b[0m\u001b[0;34m)\u001b[0m\u001b[0;34m\u001b[0m\u001b[0;34m\u001b[0m\u001b[0m\n\u001b[0m\u001b[1;32m    483\u001b[0m \u001b[0;34m\u001b[0m\u001b[0m\n\u001b[1;32m    484\u001b[0m     \u001b[0;32mif\u001b[0m \u001b[0mchunksize\u001b[0m \u001b[0;32mor\u001b[0m \u001b[0miterator\u001b[0m\u001b[0;34m:\u001b[0m\u001b[0;34m\u001b[0m\u001b[0;34m\u001b[0m\u001b[0m\n",
            "\u001b[0;32m/usr/local/lib/python3.8/dist-packages/pandas/io/parsers/readers.py\u001b[0m in \u001b[0;36m__init__\u001b[0;34m(self, f, engine, **kwds)\u001b[0m\n\u001b[1;32m    809\u001b[0m             \u001b[0mself\u001b[0m\u001b[0;34m.\u001b[0m\u001b[0moptions\u001b[0m\u001b[0;34m[\u001b[0m\u001b[0;34m\"has_index_names\"\u001b[0m\u001b[0;34m]\u001b[0m \u001b[0;34m=\u001b[0m \u001b[0mkwds\u001b[0m\u001b[0;34m[\u001b[0m\u001b[0;34m\"has_index_names\"\u001b[0m\u001b[0;34m]\u001b[0m\u001b[0;34m\u001b[0m\u001b[0;34m\u001b[0m\u001b[0m\n\u001b[1;32m    810\u001b[0m \u001b[0;34m\u001b[0m\u001b[0m\n\u001b[0;32m--> 811\u001b[0;31m         \u001b[0mself\u001b[0m\u001b[0;34m.\u001b[0m\u001b[0m_engine\u001b[0m \u001b[0;34m=\u001b[0m \u001b[0mself\u001b[0m\u001b[0;34m.\u001b[0m\u001b[0m_make_engine\u001b[0m\u001b[0;34m(\u001b[0m\u001b[0mself\u001b[0m\u001b[0;34m.\u001b[0m\u001b[0mengine\u001b[0m\u001b[0;34m)\u001b[0m\u001b[0;34m\u001b[0m\u001b[0;34m\u001b[0m\u001b[0m\n\u001b[0m\u001b[1;32m    812\u001b[0m \u001b[0;34m\u001b[0m\u001b[0m\n\u001b[1;32m    813\u001b[0m     \u001b[0;32mdef\u001b[0m \u001b[0mclose\u001b[0m\u001b[0;34m(\u001b[0m\u001b[0mself\u001b[0m\u001b[0;34m)\u001b[0m\u001b[0;34m:\u001b[0m\u001b[0;34m\u001b[0m\u001b[0;34m\u001b[0m\u001b[0m\n",
            "\u001b[0;32m/usr/local/lib/python3.8/dist-packages/pandas/io/parsers/readers.py\u001b[0m in \u001b[0;36m_make_engine\u001b[0;34m(self, engine)\u001b[0m\n\u001b[1;32m   1038\u001b[0m             )\n\u001b[1;32m   1039\u001b[0m         \u001b[0;31m# error: Too many arguments for \"ParserBase\"\u001b[0m\u001b[0;34m\u001b[0m\u001b[0;34m\u001b[0m\u001b[0;34m\u001b[0m\u001b[0m\n\u001b[0;32m-> 1040\u001b[0;31m         \u001b[0;32mreturn\u001b[0m \u001b[0mmapping\u001b[0m\u001b[0;34m[\u001b[0m\u001b[0mengine\u001b[0m\u001b[0;34m]\u001b[0m\u001b[0;34m(\u001b[0m\u001b[0mself\u001b[0m\u001b[0;34m.\u001b[0m\u001b[0mf\u001b[0m\u001b[0;34m,\u001b[0m \u001b[0;34m**\u001b[0m\u001b[0mself\u001b[0m\u001b[0;34m.\u001b[0m\u001b[0moptions\u001b[0m\u001b[0;34m)\u001b[0m  \u001b[0;31m# type: ignore[call-arg]\u001b[0m\u001b[0;34m\u001b[0m\u001b[0;34m\u001b[0m\u001b[0m\n\u001b[0m\u001b[1;32m   1041\u001b[0m \u001b[0;34m\u001b[0m\u001b[0m\n\u001b[1;32m   1042\u001b[0m     \u001b[0;32mdef\u001b[0m \u001b[0m_failover_to_python\u001b[0m\u001b[0;34m(\u001b[0m\u001b[0mself\u001b[0m\u001b[0;34m)\u001b[0m\u001b[0;34m:\u001b[0m\u001b[0;34m\u001b[0m\u001b[0;34m\u001b[0m\u001b[0m\n",
            "\u001b[0;32m/usr/local/lib/python3.8/dist-packages/pandas/io/parsers/c_parser_wrapper.py\u001b[0m in \u001b[0;36m__init__\u001b[0;34m(self, src, **kwds)\u001b[0m\n\u001b[1;32m     49\u001b[0m \u001b[0;34m\u001b[0m\u001b[0m\n\u001b[1;32m     50\u001b[0m         \u001b[0;31m# open handles\u001b[0m\u001b[0;34m\u001b[0m\u001b[0;34m\u001b[0m\u001b[0;34m\u001b[0m\u001b[0m\n\u001b[0;32m---> 51\u001b[0;31m         \u001b[0mself\u001b[0m\u001b[0;34m.\u001b[0m\u001b[0m_open_handles\u001b[0m\u001b[0;34m(\u001b[0m\u001b[0msrc\u001b[0m\u001b[0;34m,\u001b[0m \u001b[0mkwds\u001b[0m\u001b[0;34m)\u001b[0m\u001b[0;34m\u001b[0m\u001b[0;34m\u001b[0m\u001b[0m\n\u001b[0m\u001b[1;32m     52\u001b[0m         \u001b[0;32massert\u001b[0m \u001b[0mself\u001b[0m\u001b[0;34m.\u001b[0m\u001b[0mhandles\u001b[0m \u001b[0;32mis\u001b[0m \u001b[0;32mnot\u001b[0m \u001b[0;32mNone\u001b[0m\u001b[0;34m\u001b[0m\u001b[0;34m\u001b[0m\u001b[0m\n\u001b[1;32m     53\u001b[0m \u001b[0;34m\u001b[0m\u001b[0m\n",
            "\u001b[0;32m/usr/local/lib/python3.8/dist-packages/pandas/io/parsers/base_parser.py\u001b[0m in \u001b[0;36m_open_handles\u001b[0;34m(self, src, kwds)\u001b[0m\n\u001b[1;32m    220\u001b[0m         \u001b[0mLet\u001b[0m \u001b[0mthe\u001b[0m \u001b[0mreaders\u001b[0m \u001b[0mopen\u001b[0m \u001b[0mIOHandles\u001b[0m \u001b[0mafter\u001b[0m \u001b[0mthey\u001b[0m \u001b[0mare\u001b[0m \u001b[0mdone\u001b[0m \u001b[0;32mwith\u001b[0m \u001b[0mtheir\u001b[0m \u001b[0mpotential\u001b[0m \u001b[0mraises\u001b[0m\u001b[0;34m.\u001b[0m\u001b[0;34m\u001b[0m\u001b[0;34m\u001b[0m\u001b[0m\n\u001b[1;32m    221\u001b[0m         \"\"\"\n\u001b[0;32m--> 222\u001b[0;31m         self.handles = get_handle(\n\u001b[0m\u001b[1;32m    223\u001b[0m             \u001b[0msrc\u001b[0m\u001b[0;34m,\u001b[0m\u001b[0;34m\u001b[0m\u001b[0;34m\u001b[0m\u001b[0m\n\u001b[1;32m    224\u001b[0m             \u001b[0;34m\"r\"\u001b[0m\u001b[0;34m,\u001b[0m\u001b[0;34m\u001b[0m\u001b[0;34m\u001b[0m\u001b[0m\n",
            "\u001b[0;32m/usr/local/lib/python3.8/dist-packages/pandas/io/common.py\u001b[0m in \u001b[0;36mget_handle\u001b[0;34m(path_or_buf, mode, encoding, compression, memory_map, is_text, errors, storage_options)\u001b[0m\n\u001b[1;32m    700\u001b[0m         \u001b[0;32mif\u001b[0m \u001b[0mioargs\u001b[0m\u001b[0;34m.\u001b[0m\u001b[0mencoding\u001b[0m \u001b[0;32mand\u001b[0m \u001b[0;34m\"b\"\u001b[0m \u001b[0;32mnot\u001b[0m \u001b[0;32min\u001b[0m \u001b[0mioargs\u001b[0m\u001b[0;34m.\u001b[0m\u001b[0mmode\u001b[0m\u001b[0;34m:\u001b[0m\u001b[0;34m\u001b[0m\u001b[0;34m\u001b[0m\u001b[0m\n\u001b[1;32m    701\u001b[0m             \u001b[0;31m# Encoding\u001b[0m\u001b[0;34m\u001b[0m\u001b[0;34m\u001b[0m\u001b[0;34m\u001b[0m\u001b[0m\n\u001b[0;32m--> 702\u001b[0;31m             handle = open(\n\u001b[0m\u001b[1;32m    703\u001b[0m                 \u001b[0mhandle\u001b[0m\u001b[0;34m,\u001b[0m\u001b[0;34m\u001b[0m\u001b[0;34m\u001b[0m\u001b[0m\n\u001b[1;32m    704\u001b[0m                 \u001b[0mioargs\u001b[0m\u001b[0;34m.\u001b[0m\u001b[0mmode\u001b[0m\u001b[0;34m,\u001b[0m\u001b[0;34m\u001b[0m\u001b[0;34m\u001b[0m\u001b[0m\n",
            "\u001b[0;31mFileNotFoundError\u001b[0m: [Errno 2] No such file or directory: '/content/drive/MyDrive/ITMO.Work/21 22/ВИМ/data/prog_book.csv'"
          ]
        }
      ]
    },
    {
      "cell_type": "markdown",
      "metadata": {
        "heading_collapsed": true,
        "id": "3m4sNhAqtPbz"
      },
      "source": [
        "### Свойства"
      ]
    },
    {
      "cell_type": "markdown",
      "metadata": {
        "id": "FzEvKLxjjpFw"
      },
      "source": [
        "Мы узнали, как создать датафреймы библиотеки Pandas. Дадим описание основных свойств этой структуры. \n"
      ]
    },
    {
      "cell_type": "markdown",
      "metadata": {
        "heading_collapsed": true,
        "hidden": true,
        "id": "0UMaA-SttPcy"
      },
      "source": [
        "#### количество элементов"
      ]
    },
    {
      "cell_type": "code",
      "metadata": {
        "hidden": true,
        "id": "3A2H3vc4tPdD",
        "colab": {
          "base_uri": "https://localhost:8080/"
        },
        "outputId": "4b016a4b-be56-4a19-dda4-b61e2b81f37b"
      },
      "source": [
        "print(f'Кол-во строк: {len(books)}')\n",
        "print(f'Кол-во ячеек: {books.size}')\n",
        "print(f'Размерность: {books.shape}')"
      ],
      "execution_count": null,
      "outputs": [
        {
          "name": "stdout",
          "output_type": "stream",
          "text": [
            "Кол-во строк: 271\n",
            "Кол-во ячеек: 1626\n",
            "Размерность: (271, 6)\n"
          ]
        }
      ]
    },
    {
      "cell_type": "code",
      "source": [
        "s.size, df.shape[0]"
      ],
      "metadata": {
        "colab": {
          "base_uri": "https://localhost:8080/"
        },
        "id": "onLRGaoo2fkx",
        "outputId": "10f10d6e-ec5f-4622-b18b-daef5dcacac6"
      },
      "execution_count": null,
      "outputs": [
        {
          "output_type": "execute_result",
          "data": {
            "text/plain": [
              "(4, 3)"
            ]
          },
          "metadata": {},
          "execution_count": 12
        }
      ]
    },
    {
      "cell_type": "markdown",
      "metadata": {
        "heading_collapsed": true,
        "hidden": true,
        "id": "UpllV6HztPdN"
      },
      "source": [
        "#### количество уникальных элементов"
      ]
    },
    {
      "cell_type": "code",
      "metadata": {
        "hidden": true,
        "id": "WXgdxkXJtPdW",
        "colab": {
          "base_uri": "https://localhost:8080/"
        },
        "outputId": "a662d273-1ebe-4020-da5b-741ed2840d45"
      },
      "source": [
        "books.nunique()"
      ],
      "execution_count": null,
      "outputs": [
        {
          "data": {
            "text/plain": "Rating              94\nReviews            133\nBook_title         271\nNumber_Of_Pages    185\nType                 6\nPrice              241\ndtype: int64"
          },
          "execution_count": 17,
          "metadata": {},
          "output_type": "execute_result"
        }
      ]
    },
    {
      "cell_type": "markdown",
      "metadata": {
        "id": "O_KZ7Pk8ajWl"
      },
      "source": [
        "значения уникальных элементов столбца"
      ]
    },
    {
      "cell_type": "code",
      "metadata": {
        "colab": {
          "base_uri": "https://localhost:8080/"
        },
        "id": "g2Pm42_JadZl",
        "outputId": "fa510bc8-634f-4bf8-8999-80c5f27c5b8d"
      },
      "source": [
        "books.Type.unique()"
      ],
      "execution_count": null,
      "outputs": [
        {
          "data": {
            "text/plain": "array(['Hardcover', 'Kindle Edition', 'Paperback', 'ebook',\n       'Unknown Binding', 'Boxed Set - Hardcover'], dtype=object)"
          },
          "execution_count": 18,
          "metadata": {},
          "output_type": "execute_result"
        }
      ]
    },
    {
      "cell_type": "markdown",
      "metadata": {
        "heading_collapsed": true,
        "hidden": true,
        "id": "R03XxQrVtPdb"
      },
      "source": [
        "#### индекс и значения"
      ]
    },
    {
      "cell_type": "code",
      "metadata": {
        "hidden": true,
        "id": "Ard8bTtftPdt",
        "colab": {
          "base_uri": "https://localhost:8080/"
        },
        "outputId": "04255992-9649-4dda-f591-fbcfe4f37fa1"
      },
      "source": [
        "books.index"
      ],
      "execution_count": null,
      "outputs": [
        {
          "data": {
            "text/plain": "RangeIndex(start=0, stop=271, step=1)"
          },
          "execution_count": 19,
          "metadata": {},
          "output_type": "execute_result"
        }
      ]
    },
    {
      "cell_type": "code",
      "metadata": {
        "hidden": true,
        "id": "VI9_cdudtPd8",
        "colab": {
          "base_uri": "https://localhost:8080/"
        },
        "outputId": "bbfb56a9-b44f-4d89-febd-c4bbc402344c"
      },
      "source": [
        "books.values"
      ],
      "execution_count": null,
      "outputs": [
        {
          "data": {
            "text/plain": "array([[4.17, '3,829', 'The Elements of Style', 105, 'Hardcover',\n        9.323529412],\n       [4.01, '1,406', 'The Information: A History, a Theory, a Flood',\n        527, 'Hardcover', 11.0],\n       [3.33, '0', 'Responsive Web Design Overview For Beginners', 50,\n        'Kindle Edition', 11.26764706],\n       ...,\n       [4.49, '36',\n        'The Art of Computer Programming, Volumes 1-3 Boxed Set', 896,\n        'Boxed Set - Hardcover', 220.3852941],\n       [4.77, '4',\n        'The Art of Computer Programming, Volumes 1-4a Boxed Set', 3168,\n        'Hardcover', 220.3852941],\n       [3.84, '5', 'A Discipline for Software Engineering', 789,\n        'Hardcover', 235.65]], dtype=object)"
          },
          "execution_count": 20,
          "metadata": {},
          "output_type": "execute_result"
        }
      ]
    },
    {
      "cell_type": "code",
      "metadata": {
        "hidden": true,
        "id": "tDq7LlI2tPeF",
        "colab": {
          "base_uri": "https://localhost:8080/"
        },
        "outputId": "27647e9a-c273-4abf-ce26-087447939d7e"
      },
      "source": [
        "books.columns"
      ],
      "execution_count": null,
      "outputs": [
        {
          "data": {
            "text/plain": "Index(['Rating', 'Reviews', 'Book_title', 'Number_Of_Pages', 'Type', 'Price'], dtype='object')"
          },
          "execution_count": 21,
          "metadata": {},
          "output_type": "execute_result"
        }
      ]
    },
    {
      "cell_type": "markdown",
      "metadata": {
        "hidden": true,
        "id": "E77ekGx5tPem"
      },
      "source": [
        "#### присвоение / изменение имени"
      ]
    },
    {
      "cell_type": "markdown",
      "metadata": {
        "heading_collapsed": true,
        "hidden": true,
        "id": "nMOjzlnUtPe-"
      },
      "source": [
        "##### столбца"
      ]
    },
    {
      "cell_type": "code",
      "metadata": {
        "hidden": true,
        "id": "JInQnNaWtPgZ"
      },
      "source": [
        "books_copy = books.rename(columns = {'Book_title': 'title', 'Number_Of_Pages': \"pages\"})"
      ],
      "execution_count": null,
      "outputs": []
    },
    {
      "cell_type": "markdown",
      "metadata": {
        "hidden": true,
        "id": "DHMNunqztPgg"
      },
      "source": [
        "проверяем, не изменились ли имена столбцов в исходном датафрейме"
      ]
    },
    {
      "cell_type": "code",
      "metadata": {
        "hidden": true,
        "id": "gGmizm7ytPgg",
        "colab": {
          "base_uri": "https://localhost:8080/"
        },
        "outputId": "19d1dfab-4b8b-475e-b697-531b0e636433"
      },
      "source": [
        "books.columns"
      ],
      "execution_count": null,
      "outputs": [
        {
          "data": {
            "text/plain": "Index(['Rating', 'Reviews', 'Book_title', 'Number_Of_Pages', 'Type', 'Price'], dtype='object')"
          },
          "execution_count": 23,
          "metadata": {},
          "output_type": "execute_result"
        }
      ]
    },
    {
      "cell_type": "code",
      "metadata": {
        "hidden": true,
        "id": "zKJLDxzEtPgz",
        "colab": {
          "base_uri": "https://localhost:8080/"
        },
        "outputId": "0f8a510f-8fb8-4e77-d370-a7eacd3d53f5"
      },
      "source": [
        "books_copy.columns"
      ],
      "execution_count": null,
      "outputs": [
        {
          "data": {
            "text/plain": "Index(['Rating', 'Reviews', 'title', 'pages', 'Type', 'Price'], dtype='object')"
          },
          "execution_count": 24,
          "metadata": {},
          "output_type": "execute_result"
        }
      ]
    },
    {
      "cell_type": "markdown",
      "metadata": {
        "hidden": true,
        "id": "fTvqwQebtPg-"
      },
      "source": [
        "этот программный код переименовывает столбец на месте"
      ]
    },
    {
      "cell_type": "code",
      "metadata": {
        "hidden": true,
        "id": "NEPJabnGtPg_"
      },
      "source": [
        "books.rename(columns = {'Book_title': 'title', 'Number_Of_Pages': \"pages\",\n",
        "                        \"Rating\": \"rating\", \"Price\": \"price\",\n",
        "                        \"Reviews\": \"reviews\", \"Type\": \"type\"},\n",
        "            inplace=True)"
      ],
      "execution_count": null,
      "outputs": []
    },
    {
      "cell_type": "markdown",
      "metadata": {
        "hidden": true,
        "id": "7gsG9xU6tPhK"
      },
      "source": [
        "смотрим изменилось ли имя столбца"
      ]
    },
    {
      "cell_type": "code",
      "metadata": {
        "hidden": true,
        "id": "112C2K3ktPhT",
        "colab": {
          "base_uri": "https://localhost:8080/"
        },
        "outputId": "98f4efa0-4329-473f-a477-67e958cb15d1"
      },
      "source": [
        "books.columns"
      ],
      "execution_count": null,
      "outputs": [
        {
          "data": {
            "text/plain": "Index(['rating', 'reviews', 'title', 'pages', 'type', 'price'], dtype='object')"
          },
          "execution_count": 26,
          "metadata": {},
          "output_type": "execute_result"
        }
      ]
    },
    {
      "cell_type": "markdown",
      "metadata": {
        "heading_collapsed": true,
        "id": "rXyDfHodtPhd"
      },
      "source": [
        "### Вывод значений"
      ]
    },
    {
      "cell_type": "markdown",
      "metadata": {
        "heading_collapsed": true,
        "hidden": true,
        "id": "GAMcEtHXtPhf"
      },
      "source": [
        "#### первые / последние строки"
      ]
    },
    {
      "cell_type": "markdown",
      "metadata": {
        "id": "gnAa05TA6l6M"
      },
      "source": [
        "В данном разделе будут показаны несколько способов вывода значений DataFrame. Библиотека Pandas предлагает методы .head() и .tail() для исследования первых или последних строк."
      ]
    },
    {
      "cell_type": "code",
      "metadata": {
        "hidden": true,
        "id": "9WUy2p7ftPhg",
        "colab": {
          "base_uri": "https://localhost:8080/",
          "height": 363
        },
        "outputId": "728ddaaf-dfce-41e1-fb5d-0cd0c0ebb238"
      },
      "source": [
        "books.head(2)"
      ],
      "execution_count": null,
      "outputs": [
        {
          "data": {
            "text/plain": "   rating reviews                                          title  pages  \\\n0    4.17   3,829                          The Elements of Style    105   \n1    4.01   1,406  The Information: A History, a Theory, a Flood    527   \n\n        type      price  \n0  Hardcover   9.323529  \n1  Hardcover  11.000000  ",
            "text/html": "<div>\n<style scoped>\n    .dataframe tbody tr th:only-of-type {\n        vertical-align: middle;\n    }\n\n    .dataframe tbody tr th {\n        vertical-align: top;\n    }\n\n    .dataframe thead th {\n        text-align: right;\n    }\n</style>\n<table border=\"1\" class=\"dataframe\">\n  <thead>\n    <tr style=\"text-align: right;\">\n      <th></th>\n      <th>rating</th>\n      <th>reviews</th>\n      <th>title</th>\n      <th>pages</th>\n      <th>type</th>\n      <th>price</th>\n    </tr>\n  </thead>\n  <tbody>\n    <tr>\n      <th>0</th>\n      <td>4.17</td>\n      <td>3,829</td>\n      <td>The Elements of Style</td>\n      <td>105</td>\n      <td>Hardcover</td>\n      <td>9.323529</td>\n    </tr>\n    <tr>\n      <th>1</th>\n      <td>4.01</td>\n      <td>1,406</td>\n      <td>The Information: A History, a Theory, a Flood</td>\n      <td>527</td>\n      <td>Hardcover</td>\n      <td>11.000000</td>\n    </tr>\n  </tbody>\n</table>\n</div>"
          },
          "execution_count": 28,
          "metadata": {},
          "output_type": "execute_result"
        }
      ]
    },
    {
      "cell_type": "code",
      "metadata": {
        "hidden": true,
        "id": "jmAJVyP2tPhu",
        "colab": {
          "base_uri": "https://localhost:8080/",
          "height": 143
        },
        "outputId": "875adbe1-9d96-4d2b-ef7f-1aadc0a2060a"
      },
      "source": [
        "books.tail(3)"
      ],
      "execution_count": null,
      "outputs": [
        {
          "data": {
            "text/plain": "     rating reviews                                              title  pages  \\\n268    4.49      36  The Art of Computer Programming, Volumes 1-3 B...    896   \n269    4.77       4  The Art of Computer Programming, Volumes 1-4a ...   3168   \n270    3.84       5              A Discipline for Software Engineering    789   \n\n                      type       price  \n268  Boxed Set - Hardcover  220.385294  \n269              Hardcover  220.385294  \n270              Hardcover  235.650000  ",
            "text/html": "<div>\n<style scoped>\n    .dataframe tbody tr th:only-of-type {\n        vertical-align: middle;\n    }\n\n    .dataframe tbody tr th {\n        vertical-align: top;\n    }\n\n    .dataframe thead th {\n        text-align: right;\n    }\n</style>\n<table border=\"1\" class=\"dataframe\">\n  <thead>\n    <tr style=\"text-align: right;\">\n      <th></th>\n      <th>rating</th>\n      <th>reviews</th>\n      <th>title</th>\n      <th>pages</th>\n      <th>type</th>\n      <th>price</th>\n    </tr>\n  </thead>\n  <tbody>\n    <tr>\n      <th>268</th>\n      <td>4.49</td>\n      <td>36</td>\n      <td>The Art of Computer Programming, Volumes 1-3 B...</td>\n      <td>896</td>\n      <td>Boxed Set - Hardcover</td>\n      <td>220.385294</td>\n    </tr>\n    <tr>\n      <th>269</th>\n      <td>4.77</td>\n      <td>4</td>\n      <td>The Art of Computer Programming, Volumes 1-4a ...</td>\n      <td>3168</td>\n      <td>Hardcover</td>\n      <td>220.385294</td>\n    </tr>\n    <tr>\n      <th>270</th>\n      <td>3.84</td>\n      <td>5</td>\n      <td>A Discipline for Software Engineering</td>\n      <td>789</td>\n      <td>Hardcover</td>\n      <td>235.650000</td>\n    </tr>\n  </tbody>\n</table>\n</div>"
          },
          "execution_count": 29,
          "metadata": {},
          "output_type": "execute_result"
        }
      ]
    },
    {
      "cell_type": "markdown",
      "metadata": {
        "id": "7Z29Fp1pbP1f"
      },
      "source": [
        "случайные строки"
      ]
    },
    {
      "cell_type": "code",
      "metadata": {
        "colab": {
          "base_uri": "https://localhost:8080/",
          "height": 112
        },
        "id": "6Y0o3QDV5ibO",
        "outputId": "5d7e1330-dfa1-4765-ab19-6cc30b5ee32c"
      },
      "source": [
        "books.sample(2)"
      ],
      "execution_count": null,
      "outputs": [
        {
          "data": {
            "text/plain": "     rating reviews                                              title  pages  \\\n72     4.15      17  Make Your Own Neural Network: An In-depth Visu...    316   \n226    3.59       0  Genetic Programming II: Automatic Discovery of...    768   \n\n               type      price  \n72   Kindle Edition  31.747059  \n226       Hardcover  82.367647  ",
            "text/html": "<div>\n<style scoped>\n    .dataframe tbody tr th:only-of-type {\n        vertical-align: middle;\n    }\n\n    .dataframe tbody tr th {\n        vertical-align: top;\n    }\n\n    .dataframe thead th {\n        text-align: right;\n    }\n</style>\n<table border=\"1\" class=\"dataframe\">\n  <thead>\n    <tr style=\"text-align: right;\">\n      <th></th>\n      <th>rating</th>\n      <th>reviews</th>\n      <th>title</th>\n      <th>pages</th>\n      <th>type</th>\n      <th>price</th>\n    </tr>\n  </thead>\n  <tbody>\n    <tr>\n      <th>72</th>\n      <td>4.15</td>\n      <td>17</td>\n      <td>Make Your Own Neural Network: An In-depth Visu...</td>\n      <td>316</td>\n      <td>Kindle Edition</td>\n      <td>31.747059</td>\n    </tr>\n    <tr>\n      <th>226</th>\n      <td>3.59</td>\n      <td>0</td>\n      <td>Genetic Programming II: Automatic Discovery of...</td>\n      <td>768</td>\n      <td>Hardcover</td>\n      <td>82.367647</td>\n    </tr>\n  </tbody>\n</table>\n</div>"
          },
          "execution_count": 30,
          "metadata": {},
          "output_type": "execute_result"
        }
      ]
    },
    {
      "cell_type": "markdown",
      "source": [
        "можно задать рандомное состояние и долю строк датафрейма вместо количества"
      ],
      "metadata": {
        "collapsed": false,
        "id": "NcSSvI3ISTK9"
      }
    },
    {
      "cell_type": "code",
      "execution_count": null,
      "outputs": [
        {
          "data": {
            "text/plain": "     rating reviews                                              title  pages  \\\n30     4.25      16                            Coding Games in Scratch    224   \n116    4.20      23  Cryptography Engineering: Design Principles an...    353   \n79     4.34      11  Practical SQL: A Beginner's Guide to Storytell...    392   \n127    3.83       4  The Scrumban [R]Evolution: Getting the Most Ou...    384   \n196    3.87      13                          Domain-Specific Languages    597   \n137    4.62      28  The Linux Programming Interface: A Linux and U...   1506   \n209    4.31      36       The Protocols (TCP/IP Illustrated, Volume 1)    600   \n45     4.27   2,629  The Phoenix Project: A Novel About IT, DevOps,...    345   \n158    4.23       6  Exceptional C++ Style: 40 New Engineering Puzz...    325   \n247    3.90       2              Computational Science and Engineering    716   \n183    4.18     351  Design Patterns: Elements of Reusable Object-O...    416   \n269    4.77       4  The Art of Computer Programming, Volumes 1-4a ...   3168   \n227    3.48       3  Optimized C++: Proven Techniques for Heightene...    388   \n82     3.88     279  Soft Skills: The Software Developer's Life Manual    470   \n\n               type       price  \n30        Paperback   21.088235  \n116       Paperback   42.367647  \n79        Paperback   34.429412  \n127  Kindle Edition   45.029412  \n196       Hardcover   64.391176  \n137       Hardcover   46.358824  \n209       Hardcover   70.758824  \n45        Hardcover   24.258824  \n158       Paperback   51.473529  \n247       Hardcover   97.526471  \n183       Hardcover   60.682353  \n269       Hardcover  220.385294  \n227       Paperback   83.150000  \n82        Paperback   35.235294  ",
            "text/html": "<div>\n<style scoped>\n    .dataframe tbody tr th:only-of-type {\n        vertical-align: middle;\n    }\n\n    .dataframe tbody tr th {\n        vertical-align: top;\n    }\n\n    .dataframe thead th {\n        text-align: right;\n    }\n</style>\n<table border=\"1\" class=\"dataframe\">\n  <thead>\n    <tr style=\"text-align: right;\">\n      <th></th>\n      <th>rating</th>\n      <th>reviews</th>\n      <th>title</th>\n      <th>pages</th>\n      <th>type</th>\n      <th>price</th>\n    </tr>\n  </thead>\n  <tbody>\n    <tr>\n      <th>30</th>\n      <td>4.25</td>\n      <td>16</td>\n      <td>Coding Games in Scratch</td>\n      <td>224</td>\n      <td>Paperback</td>\n      <td>21.088235</td>\n    </tr>\n    <tr>\n      <th>116</th>\n      <td>4.20</td>\n      <td>23</td>\n      <td>Cryptography Engineering: Design Principles an...</td>\n      <td>353</td>\n      <td>Paperback</td>\n      <td>42.367647</td>\n    </tr>\n    <tr>\n      <th>79</th>\n      <td>4.34</td>\n      <td>11</td>\n      <td>Practical SQL: A Beginner's Guide to Storytell...</td>\n      <td>392</td>\n      <td>Paperback</td>\n      <td>34.429412</td>\n    </tr>\n    <tr>\n      <th>127</th>\n      <td>3.83</td>\n      <td>4</td>\n      <td>The Scrumban [R]Evolution: Getting the Most Ou...</td>\n      <td>384</td>\n      <td>Kindle Edition</td>\n      <td>45.029412</td>\n    </tr>\n    <tr>\n      <th>196</th>\n      <td>3.87</td>\n      <td>13</td>\n      <td>Domain-Specific Languages</td>\n      <td>597</td>\n      <td>Hardcover</td>\n      <td>64.391176</td>\n    </tr>\n    <tr>\n      <th>137</th>\n      <td>4.62</td>\n      <td>28</td>\n      <td>The Linux Programming Interface: A Linux and U...</td>\n      <td>1506</td>\n      <td>Hardcover</td>\n      <td>46.358824</td>\n    </tr>\n    <tr>\n      <th>209</th>\n      <td>4.31</td>\n      <td>36</td>\n      <td>The Protocols (TCP/IP Illustrated, Volume 1)</td>\n      <td>600</td>\n      <td>Hardcover</td>\n      <td>70.758824</td>\n    </tr>\n    <tr>\n      <th>45</th>\n      <td>4.27</td>\n      <td>2,629</td>\n      <td>The Phoenix Project: A Novel About IT, DevOps,...</td>\n      <td>345</td>\n      <td>Hardcover</td>\n      <td>24.258824</td>\n    </tr>\n    <tr>\n      <th>158</th>\n      <td>4.23</td>\n      <td>6</td>\n      <td>Exceptional C++ Style: 40 New Engineering Puzz...</td>\n      <td>325</td>\n      <td>Paperback</td>\n      <td>51.473529</td>\n    </tr>\n    <tr>\n      <th>247</th>\n      <td>3.90</td>\n      <td>2</td>\n      <td>Computational Science and Engineering</td>\n      <td>716</td>\n      <td>Hardcover</td>\n      <td>97.526471</td>\n    </tr>\n    <tr>\n      <th>183</th>\n      <td>4.18</td>\n      <td>351</td>\n      <td>Design Patterns: Elements of Reusable Object-O...</td>\n      <td>416</td>\n      <td>Hardcover</td>\n      <td>60.682353</td>\n    </tr>\n    <tr>\n      <th>269</th>\n      <td>4.77</td>\n      <td>4</td>\n      <td>The Art of Computer Programming, Volumes 1-4a ...</td>\n      <td>3168</td>\n      <td>Hardcover</td>\n      <td>220.385294</td>\n    </tr>\n    <tr>\n      <th>227</th>\n      <td>3.48</td>\n      <td>3</td>\n      <td>Optimized C++: Proven Techniques for Heightene...</td>\n      <td>388</td>\n      <td>Paperback</td>\n      <td>83.150000</td>\n    </tr>\n    <tr>\n      <th>82</th>\n      <td>3.88</td>\n      <td>279</td>\n      <td>Soft Skills: The Software Developer's Life Manual</td>\n      <td>470</td>\n      <td>Paperback</td>\n      <td>35.235294</td>\n    </tr>\n  </tbody>\n</table>\n</div>"
          },
          "execution_count": 36,
          "metadata": {},
          "output_type": "execute_result"
        }
      ],
      "source": [
        "books.sample(frac=0.05, random_state=42)"
      ],
      "metadata": {
        "pycharm": {
          "name": "#%%\n"
        },
        "id": "Pl5Lfue8STK9",
        "outputId": "7edc810f-76c2-47c0-f897-c9997f7facb4"
      }
    },
    {
      "cell_type": "markdown",
      "metadata": {
        "heading_collapsed": true,
        "hidden": true,
        "id": "xvID-ht8tPh9"
      },
      "source": [
        "#### столбцы "
      ]
    },
    {
      "cell_type": "markdown",
      "metadata": {
        "hidden": true,
        "id": "V_ZSA0FvtPiI"
      },
      "source": [
        "извлекаем столбец `price`"
      ]
    },
    {
      "cell_type": "code",
      "metadata": {
        "hidden": true,
        "id": "VL6VUz2itPiO",
        "colab": {
          "base_uri": "https://localhost:8080/"
        },
        "outputId": "ad7b3ddd-a951-47b9-f091-6a6670f60909"
      },
      "source": [
        "books['price'].head()"
      ],
      "execution_count": null,
      "outputs": [
        {
          "data": {
            "text/plain": "0     9.323529\n1    11.000000\n2    11.267647\n3    12.873529\n4    13.164706\nName: price, dtype: float64"
          },
          "execution_count": 37,
          "metadata": {},
          "output_type": "execute_result"
        }
      ]
    },
    {
      "cell_type": "markdown",
      "metadata": {
        "hidden": true,
        "id": "-b_BKAgltPiU"
      },
      "source": [
        "тип столбца датафрейма:"
      ]
    },
    {
      "cell_type": "code",
      "metadata": {
        "hidden": true,
        "id": "lio1uGhutPiU",
        "colab": {
          "base_uri": "https://localhost:8080/"
        },
        "outputId": "4e3f6405-3d4b-40e6-a538-f6cbbfdfd437"
      },
      "source": [
        "type(books['price'])"
      ],
      "execution_count": null,
      "outputs": [
        {
          "data": {
            "text/plain": "pandas.core.series.Series"
          },
          "execution_count": 38,
          "metadata": {},
          "output_type": "execute_result"
        }
      ]
    },
    {
      "cell_type": "markdown",
      "metadata": {
        "hidden": true,
        "id": "pzLERElBtPih"
      },
      "source": [
        "извлекаем столбцы `title` и `price`"
      ]
    },
    {
      "cell_type": "code",
      "metadata": {
        "hidden": true,
        "id": "2eB5fgpXtPij",
        "colab": {
          "base_uri": "https://localhost:8080/",
          "height": 206
        },
        "outputId": "8eb085c6-2d18-4675-8861-dffbd09ab2c4"
      },
      "source": [
        "books[[\"title\", 'price']].head()"
      ],
      "execution_count": null,
      "outputs": [
        {
          "data": {
            "text/plain": "                                               title      price\n0                              The Elements of Style   9.323529\n1      The Information: A History, a Theory, a Flood  11.000000\n2       Responsive Web Design Overview For Beginners  11.267647\n3  Ghost in the Wires: My Adventures as the World...  12.873529\n4                                   How Google Works  13.164706",
            "text/html": "<div>\n<style scoped>\n    .dataframe tbody tr th:only-of-type {\n        vertical-align: middle;\n    }\n\n    .dataframe tbody tr th {\n        vertical-align: top;\n    }\n\n    .dataframe thead th {\n        text-align: right;\n    }\n</style>\n<table border=\"1\" class=\"dataframe\">\n  <thead>\n    <tr style=\"text-align: right;\">\n      <th></th>\n      <th>title</th>\n      <th>price</th>\n    </tr>\n  </thead>\n  <tbody>\n    <tr>\n      <th>0</th>\n      <td>The Elements of Style</td>\n      <td>9.323529</td>\n    </tr>\n    <tr>\n      <th>1</th>\n      <td>The Information: A History, a Theory, a Flood</td>\n      <td>11.000000</td>\n    </tr>\n    <tr>\n      <th>2</th>\n      <td>Responsive Web Design Overview For Beginners</td>\n      <td>11.267647</td>\n    </tr>\n    <tr>\n      <th>3</th>\n      <td>Ghost in the Wires: My Adventures as the World...</td>\n      <td>12.873529</td>\n    </tr>\n    <tr>\n      <th>4</th>\n      <td>How Google Works</td>\n      <td>13.164706</td>\n    </tr>\n  </tbody>\n</table>\n</div>"
          },
          "execution_count": 39,
          "metadata": {},
          "output_type": "execute_result"
        }
      ]
    },
    {
      "cell_type": "markdown",
      "metadata": {
        "hidden": true,
        "id": "4a2_ejnXtPit"
      },
      "source": [
        "покажем, что результат является объектом DataFrame"
      ]
    },
    {
      "cell_type": "code",
      "metadata": {
        "hidden": true,
        "id": "XPPgSH4VtPit",
        "colab": {
          "base_uri": "https://localhost:8080/"
        },
        "outputId": "401441eb-b373-4d3b-aefb-506f7d58750c"
      },
      "source": [
        "type(books[[\"title\", 'price']])"
      ],
      "execution_count": null,
      "outputs": [
        {
          "data": {
            "text/plain": "pandas.core.frame.DataFrame"
          },
          "execution_count": 40,
          "metadata": {},
          "output_type": "execute_result"
        }
      ]
    },
    {
      "cell_type": "markdown",
      "metadata": {
        "hidden": true,
        "id": "PisySAXWtPjh"
      },
      "source": [
        "атрибутивный доступ к столбцу по имени"
      ]
    },
    {
      "cell_type": "code",
      "metadata": {
        "hidden": true,
        "id": "e-BIKdxWtPjl",
        "colab": {
          "base_uri": "https://localhost:8080/"
        },
        "outputId": "9f8f37da-2243-4a76-c44f-3a4e6700f49c"
      },
      "source": [
        "books.price.head()"
      ],
      "execution_count": null,
      "outputs": [
        {
          "data": {
            "text/plain": "0     9.323529\n1    11.000000\n2    11.267647\n3    12.873529\n4    13.164706\nName: price, dtype: float64"
          },
          "execution_count": 41,
          "metadata": {},
          "output_type": "execute_result"
        }
      ]
    },
    {
      "cell_type": "markdown",
      "metadata": {
        "id": "EsKkvUsYbrx6"
      },
      "source": [
        "> Код выше не сработает, если имя столбца содержит пробел."
      ]
    },
    {
      "cell_type": "markdown",
      "metadata": {
        "heading_collapsed": true,
        "hidden": true,
        "id": "mgZwjqJxtPj4"
      },
      "source": [
        "#### строки"
      ]
    },
    {
      "cell_type": "markdown",
      "metadata": {
        "id": "LRM2ZzCo8C3I"
      },
      "source": [
        "Метод .loc позволят выбирать строки по условию или индексу. "
      ]
    },
    {
      "cell_type": "markdown",
      "metadata": {
        "hidden": true,
        "id": "i06supZCtPk0"
      },
      "source": [
        "получаем строку с меткой индекса 16, которая возвращается в виде объекта Series"
      ]
    },
    {
      "cell_type": "code",
      "metadata": {
        "hidden": true,
        "id": "ym4z9U6ftPk0",
        "colab": {
          "base_uri": "https://localhost:8080/"
        },
        "outputId": "42ac837a-07b0-4d62-9d09-9138cdb99a91"
      },
      "source": [
        "books.loc[16]"
      ],
      "execution_count": null,
      "outputs": [
        {
          "data": {
            "text/plain": "rating                                                  3.85\nreviews                                                   80\ntitle      The Quark and the Jaguar: Adventures in the Si...\npages                                                    392\ntype                                               Paperback\nprice                                              16.367647\nName: 16, dtype: object"
          },
          "execution_count": 42,
          "metadata": {},
          "output_type": "execute_result"
        }
      ]
    },
    {
      "cell_type": "markdown",
      "metadata": {
        "hidden": true,
        "id": "haja4s3VtPlD"
      },
      "source": [
        "получаем строки 16 и 157 результатом будет объект DataFrame"
      ]
    },
    {
      "cell_type": "code",
      "metadata": {
        "hidden": true,
        "id": "9KS3O2ZwtPlD",
        "colab": {
          "base_uri": "https://localhost:8080/",
          "height": 112
        },
        "outputId": "d27af53c-4d43-4ff1-da7d-f368ae981dba"
      },
      "source": [
        "books.loc[[16, 157]]"
      ],
      "execution_count": null,
      "outputs": [
        {
          "data": {
            "text/plain": "     rating reviews                                              title  pages  \\\n16     3.85      80  The Quark and the Jaguar: Adventures in the Si...    392   \n157    4.23       2  More Exceptional C++: 40 New Engineering Puzzl...    304   \n\n          type      price  \n16   Paperback  16.367647  \n157  Paperback  51.473529  ",
            "text/html": "<div>\n<style scoped>\n    .dataframe tbody tr th:only-of-type {\n        vertical-align: middle;\n    }\n\n    .dataframe tbody tr th {\n        vertical-align: top;\n    }\n\n    .dataframe thead th {\n        text-align: right;\n    }\n</style>\n<table border=\"1\" class=\"dataframe\">\n  <thead>\n    <tr style=\"text-align: right;\">\n      <th></th>\n      <th>rating</th>\n      <th>reviews</th>\n      <th>title</th>\n      <th>pages</th>\n      <th>type</th>\n      <th>price</th>\n    </tr>\n  </thead>\n  <tbody>\n    <tr>\n      <th>16</th>\n      <td>3.85</td>\n      <td>80</td>\n      <td>The Quark and the Jaguar: Adventures in the Si...</td>\n      <td>392</td>\n      <td>Paperback</td>\n      <td>16.367647</td>\n    </tr>\n    <tr>\n      <th>157</th>\n      <td>4.23</td>\n      <td>2</td>\n      <td>More Exceptional C++: 40 New Engineering Puzzl...</td>\n      <td>304</td>\n      <td>Paperback</td>\n      <td>51.473529</td>\n    </tr>\n  </tbody>\n</table>\n</div>"
          },
          "execution_count": 43,
          "metadata": {},
          "output_type": "execute_result"
        }
      ]
    },
    {
      "cell_type": "markdown",
      "metadata": {
        "heading_collapsed": true,
        "hidden": true,
        "id": "ljWkV8gutPlM"
      },
      "source": [
        "##### по позиции"
      ]
    },
    {
      "cell_type": "markdown",
      "metadata": {
        "id": "-ct3y92G8WLr"
      },
      "source": [
        "Второй подход к отбору значений Series и строк DataFrame - это использование номера позиции в индексе. Данную задачу решает свойство .iloc. "
      ]
    },
    {
      "cell_type": "markdown",
      "metadata": {
        "hidden": true,
        "id": "bIk_nsM_tPl6"
      },
      "source": [
        "получаем строки, имеющие позиции 0 и 2"
      ]
    },
    {
      "cell_type": "code",
      "metadata": {
        "id": "CrRpv7C_sXY1",
        "colab": {
          "base_uri": "https://localhost:8080/",
          "height": 143
        },
        "outputId": "03220ccc-9972-46ed-81fb-240780995b96"
      },
      "source": [
        "books.head(3)"
      ],
      "execution_count": null,
      "outputs": [
        {
          "data": {
            "text/plain": "   rating reviews                                          title  pages  \\\n0    4.17   3,829                          The Elements of Style    105   \n1    4.01   1,406  The Information: A History, a Theory, a Flood    527   \n2    3.33       0   Responsive Web Design Overview For Beginners     50   \n\n             type      price  \n0       Hardcover   9.323529  \n1       Hardcover  11.000000  \n2  Kindle Edition  11.267647  ",
            "text/html": "<div>\n<style scoped>\n    .dataframe tbody tr th:only-of-type {\n        vertical-align: middle;\n    }\n\n    .dataframe tbody tr th {\n        vertical-align: top;\n    }\n\n    .dataframe thead th {\n        text-align: right;\n    }\n</style>\n<table border=\"1\" class=\"dataframe\">\n  <thead>\n    <tr style=\"text-align: right;\">\n      <th></th>\n      <th>rating</th>\n      <th>reviews</th>\n      <th>title</th>\n      <th>pages</th>\n      <th>type</th>\n      <th>price</th>\n    </tr>\n  </thead>\n  <tbody>\n    <tr>\n      <th>0</th>\n      <td>4.17</td>\n      <td>3,829</td>\n      <td>The Elements of Style</td>\n      <td>105</td>\n      <td>Hardcover</td>\n      <td>9.323529</td>\n    </tr>\n    <tr>\n      <th>1</th>\n      <td>4.01</td>\n      <td>1,406</td>\n      <td>The Information: A History, a Theory, a Flood</td>\n      <td>527</td>\n      <td>Hardcover</td>\n      <td>11.000000</td>\n    </tr>\n    <tr>\n      <th>2</th>\n      <td>3.33</td>\n      <td>0</td>\n      <td>Responsive Web Design Overview For Beginners</td>\n      <td>50</td>\n      <td>Kindle Edition</td>\n      <td>11.267647</td>\n    </tr>\n  </tbody>\n</table>\n</div>"
          },
          "execution_count": 44,
          "metadata": {},
          "output_type": "execute_result"
        }
      ]
    },
    {
      "cell_type": "code",
      "metadata": {
        "hidden": true,
        "id": "dJ8NsCuLtPl7",
        "colab": {
          "base_uri": "https://localhost:8080/",
          "height": 112
        },
        "outputId": "b6727e13-0974-4737-e59e-130a7196b2d2"
      },
      "source": [
        "books.iloc[[0, 2]]"
      ],
      "execution_count": null,
      "outputs": [
        {
          "data": {
            "text/plain": "   rating reviews                                         title  pages  \\\n0    4.17   3,829                         The Elements of Style    105   \n2    3.33       0  Responsive Web Design Overview For Beginners     50   \n\n             type      price  \n0       Hardcover   9.323529  \n2  Kindle Edition  11.267647  ",
            "text/html": "<div>\n<style scoped>\n    .dataframe tbody tr th:only-of-type {\n        vertical-align: middle;\n    }\n\n    .dataframe tbody tr th {\n        vertical-align: top;\n    }\n\n    .dataframe thead th {\n        text-align: right;\n    }\n</style>\n<table border=\"1\" class=\"dataframe\">\n  <thead>\n    <tr style=\"text-align: right;\">\n      <th></th>\n      <th>rating</th>\n      <th>reviews</th>\n      <th>title</th>\n      <th>pages</th>\n      <th>type</th>\n      <th>price</th>\n    </tr>\n  </thead>\n  <tbody>\n    <tr>\n      <th>0</th>\n      <td>4.17</td>\n      <td>3,829</td>\n      <td>The Elements of Style</td>\n      <td>105</td>\n      <td>Hardcover</td>\n      <td>9.323529</td>\n    </tr>\n    <tr>\n      <th>2</th>\n      <td>3.33</td>\n      <td>0</td>\n      <td>Responsive Web Design Overview For Beginners</td>\n      <td>50</td>\n      <td>Kindle Edition</td>\n      <td>11.267647</td>\n    </tr>\n  </tbody>\n</table>\n</div>"
          },
          "execution_count": 45,
          "metadata": {},
          "output_type": "execute_result"
        }
      ]
    },
    {
      "cell_type": "markdown",
      "metadata": {
        "heading_collapsed": true,
        "hidden": true,
        "id": "g3sJrfWEtPmp"
      },
      "source": [
        "#### поиск скалярного значения"
      ]
    },
    {
      "cell_type": "markdown",
      "metadata": {
        "id": "GOhk8wuX9Gbf"
      },
      "source": [
        "Отдельные скалярные значения можно найти по метке с помощью свойства .at, передав ему одновременно метку строки и метку столбца. Кроме того, скалярные значения можно найти по позиции с помощью свойства .iat[], передав позицию строки, а затем позицию столбца. Это предпочтительный метод доступа к отдельным значениям и дает максимальную производительность.\n"
      ]
    },
    {
      "cell_type": "markdown",
      "metadata": {
        "hidden": true,
        "id": "m32pHJTFtPmq"
      },
      "source": [
        "ищем скалярное значение по метке строки и метке (имени) столбца"
      ]
    },
    {
      "cell_type": "code",
      "metadata": {
        "hidden": true,
        "id": "nE8mwFCztPms",
        "colab": {
          "base_uri": "https://localhost:8080/"
        },
        "outputId": "31365da2-53f3-48a6-d9db-208d0ba7e6f0"
      },
      "source": [
        "books.at[16, 'title']"
      ],
      "execution_count": null,
      "outputs": [
        {
          "data": {
            "text/plain": "'The Quark and the Jaguar: Adventures in the Simple and the Complex'"
          },
          "execution_count": 46,
          "metadata": {},
          "output_type": "execute_result"
        }
      ]
    },
    {
      "cell_type": "markdown",
      "metadata": {
        "hidden": true,
        "id": "scBfHtRBtPmv"
      },
      "source": [
        "ищем скалярное значение по позиции строки и позиции столбца; извлекаем значение в строке 0, столбце 1"
      ]
    },
    {
      "cell_type": "code",
      "metadata": {
        "hidden": true,
        "id": "27Vet6uotPmw",
        "colab": {
          "base_uri": "https://localhost:8080/",
          "height": 35
        },
        "outputId": "f09d8b9c-8f4a-4c15-9d08-f6cbb90dbe92"
      },
      "source": [
        "books.iat[0, 2]"
      ],
      "execution_count": null,
      "outputs": [
        {
          "data": {
            "text/plain": "'The Elements of Style'"
          },
          "execution_count": 48,
          "metadata": {},
          "output_type": "execute_result"
        }
      ]
    },
    {
      "cell_type": "markdown",
      "metadata": {
        "heading_collapsed": true,
        "hidden": true,
        "id": "UPQjVagEtPov"
      },
      "source": [
        "#### одновременный отбор строк и столбцов"
      ]
    },
    {
      "cell_type": "markdown",
      "metadata": {
        "id": "PhnDOQ4L9h5X"
      },
      "source": [
        "Отбор подмножества данных, состоящего из набора строк и столбцов, является общепринятой практикой. Данный программный код демонстрирует это, сначала отобрав строки, а затем нужные столбцы. "
      ]
    },
    {
      "cell_type": "markdown",
      "metadata": {
        "hidden": true,
        "id": "bEVRM6kGtPov"
      },
      "source": [
        "Отбираем строки с метками индекса 16 и 28 для столбцов `title` и `price`.\n",
        "Для этого есть две эквивалентные записи.\n"
      ]
    },
    {
      "cell_type": "code",
      "metadata": {
        "hidden": true,
        "id": "oP7mXgW1tPow",
        "colab": {
          "base_uri": "https://localhost:8080/",
          "height": 112
        },
        "outputId": "6ed4d841-4509-43fb-c7d6-85007b82cc40"
      },
      "source": [
        "books.loc[[16, 28]][['title', 'price']]"
      ],
      "execution_count": null,
      "outputs": [
        {
          "data": {
            "text/plain": "                                                title      price\n16  The Quark and the Jaguar: Adventures in the Si...  16.367647\n28                    Computability and Unsolvability  20.400000",
            "text/html": "<div>\n<style scoped>\n    .dataframe tbody tr th:only-of-type {\n        vertical-align: middle;\n    }\n\n    .dataframe tbody tr th {\n        vertical-align: top;\n    }\n\n    .dataframe thead th {\n        text-align: right;\n    }\n</style>\n<table border=\"1\" class=\"dataframe\">\n  <thead>\n    <tr style=\"text-align: right;\">\n      <th></th>\n      <th>title</th>\n      <th>price</th>\n    </tr>\n  </thead>\n  <tbody>\n    <tr>\n      <th>16</th>\n      <td>The Quark and the Jaguar: Adventures in the Si...</td>\n      <td>16.367647</td>\n    </tr>\n    <tr>\n      <th>28</th>\n      <td>Computability and Unsolvability</td>\n      <td>20.400000</td>\n    </tr>\n  </tbody>\n</table>\n</div>"
          },
          "execution_count": 49,
          "metadata": {},
          "output_type": "execute_result"
        }
      ]
    },
    {
      "cell_type": "code",
      "metadata": {
        "hidden": true,
        "id": "F3VY1g0LtPoy",
        "colab": {
          "base_uri": "https://localhost:8080/",
          "height": 112
        },
        "outputId": "ac802b60-eeda-47e7-9855-9b62c9ee8b15"
      },
      "source": [
        "books.loc[[16, 28],['title', 'price']]"
      ],
      "execution_count": null,
      "outputs": [
        {
          "data": {
            "text/plain": "                                                title      price\n16  The Quark and the Jaguar: Adventures in the Si...  16.367647\n28                    Computability and Unsolvability  20.400000",
            "text/html": "<div>\n<style scoped>\n    .dataframe tbody tr th:only-of-type {\n        vertical-align: middle;\n    }\n\n    .dataframe tbody tr th {\n        vertical-align: top;\n    }\n\n    .dataframe thead th {\n        text-align: right;\n    }\n</style>\n<table border=\"1\" class=\"dataframe\">\n  <thead>\n    <tr style=\"text-align: right;\">\n      <th></th>\n      <th>title</th>\n      <th>price</th>\n    </tr>\n  </thead>\n  <tbody>\n    <tr>\n      <th>16</th>\n      <td>The Quark and the Jaguar: Adventures in the Si...</td>\n      <td>16.367647</td>\n    </tr>\n    <tr>\n      <th>28</th>\n      <td>Computability and Unsolvability</td>\n      <td>20.400000</td>\n    </tr>\n  </tbody>\n</table>\n</div>"
          },
          "execution_count": 50,
          "metadata": {},
          "output_type": "execute_result"
        }
      ]
    },
    {
      "cell_type": "markdown",
      "metadata": {
        "hidden": true,
        "id": "eydjj3_StPo2"
      },
      "source": [
        "определение номера позиций заданных меток"
      ]
    },
    {
      "cell_type": "code",
      "metadata": {
        "hidden": true,
        "id": "KiFEL44PtPo3",
        "colab": {
          "base_uri": "https://localhost:8080/"
        },
        "outputId": "00cda746-e379-4574-c0c9-45bb4c4cbc70"
      },
      "source": [
        "print(books.index.get_loc(16), books.index.get_loc(28))"
      ],
      "execution_count": null,
      "outputs": [
        {
          "name": "stdout",
          "output_type": "stream",
          "text": [
            "16 28\n"
          ]
        }
      ]
    },
    {
      "cell_type": "markdown",
      "metadata": {
        "hidden": true,
        "id": "HZVXP6artPpD"
      },
      "source": [
        "отбор строк и столбцов по номеру позиций"
      ]
    },
    {
      "cell_type": "code",
      "metadata": {
        "hidden": true,
        "id": "TmZvjCtQtPpD",
        "colab": {
          "base_uri": "https://localhost:8080/",
          "height": 112
        },
        "outputId": "eeb3a0b6-14e9-4f25-edb8-0a1e8932fead"
      },
      "source": [
        "books.iloc[[16, 28],[0,2]]"
      ],
      "execution_count": null,
      "outputs": [
        {
          "data": {
            "text/plain": "    rating                                              title\n16    3.85  The Quark and the Jaguar: Adventures in the Si...\n28    3.96                    Computability and Unsolvability",
            "text/html": "<div>\n<style scoped>\n    .dataframe tbody tr th:only-of-type {\n        vertical-align: middle;\n    }\n\n    .dataframe tbody tr th {\n        vertical-align: top;\n    }\n\n    .dataframe thead th {\n        text-align: right;\n    }\n</style>\n<table border=\"1\" class=\"dataframe\">\n  <thead>\n    <tr style=\"text-align: right;\">\n      <th></th>\n      <th>rating</th>\n      <th>title</th>\n    </tr>\n  </thead>\n  <tbody>\n    <tr>\n      <th>16</th>\n      <td>3.85</td>\n      <td>The Quark and the Jaguar: Adventures in the Si...</td>\n    </tr>\n    <tr>\n      <th>28</th>\n      <td>3.96</td>\n      <td>Computability and Unsolvability</td>\n    </tr>\n  </tbody>\n</table>\n</div>"
          },
          "execution_count": 54,
          "metadata": {},
          "output_type": "execute_result"
        }
      ]
    },
    {
      "cell_type": "markdown",
      "metadata": {
        "id": "tGjfJw_EdEWk"
      },
      "source": [
        "В этом примере индекс и номер позиции совпадают, но это вполне может быть не так."
      ]
    },
    {
      "cell_type": "markdown",
      "metadata": {
        "heading_collapsed": true,
        "hidden": true,
        "id": "s7-1Qv_dtPpG"
      },
      "source": [
        "#### транспонирование"
      ]
    },
    {
      "cell_type": "code",
      "metadata": {
        "hidden": true,
        "id": "YvNZzwqatPpJ",
        "colab": {
          "base_uri": "https://localhost:8080/",
          "height": 206
        },
        "outputId": "52280b27-e0d7-489f-a278-41d9a1320aa1"
      },
      "source": [
        "books.head()"
      ],
      "execution_count": null,
      "outputs": [
        {
          "data": {
            "text/plain": "   rating reviews                                              title  pages  \\\n0    4.17   3,829                              The Elements of Style    105   \n1    4.01   1,406      The Information: A History, a Theory, a Flood    527   \n2    3.33       0       Responsive Web Design Overview For Beginners     50   \n3    3.97   1,658  Ghost in the Wires: My Adventures as the World...    393   \n4    4.06   1,325                                   How Google Works    305   \n\n             type      price  \n0       Hardcover   9.323529  \n1       Hardcover  11.000000  \n2  Kindle Edition  11.267647  \n3       Hardcover  12.873529  \n4  Kindle Edition  13.164706  ",
            "text/html": "<div>\n<style scoped>\n    .dataframe tbody tr th:only-of-type {\n        vertical-align: middle;\n    }\n\n    .dataframe tbody tr th {\n        vertical-align: top;\n    }\n\n    .dataframe thead th {\n        text-align: right;\n    }\n</style>\n<table border=\"1\" class=\"dataframe\">\n  <thead>\n    <tr style=\"text-align: right;\">\n      <th></th>\n      <th>rating</th>\n      <th>reviews</th>\n      <th>title</th>\n      <th>pages</th>\n      <th>type</th>\n      <th>price</th>\n    </tr>\n  </thead>\n  <tbody>\n    <tr>\n      <th>0</th>\n      <td>4.17</td>\n      <td>3,829</td>\n      <td>The Elements of Style</td>\n      <td>105</td>\n      <td>Hardcover</td>\n      <td>9.323529</td>\n    </tr>\n    <tr>\n      <th>1</th>\n      <td>4.01</td>\n      <td>1,406</td>\n      <td>The Information: A History, a Theory, a Flood</td>\n      <td>527</td>\n      <td>Hardcover</td>\n      <td>11.000000</td>\n    </tr>\n    <tr>\n      <th>2</th>\n      <td>3.33</td>\n      <td>0</td>\n      <td>Responsive Web Design Overview For Beginners</td>\n      <td>50</td>\n      <td>Kindle Edition</td>\n      <td>11.267647</td>\n    </tr>\n    <tr>\n      <th>3</th>\n      <td>3.97</td>\n      <td>1,658</td>\n      <td>Ghost in the Wires: My Adventures as the World...</td>\n      <td>393</td>\n      <td>Hardcover</td>\n      <td>12.873529</td>\n    </tr>\n    <tr>\n      <th>4</th>\n      <td>4.06</td>\n      <td>1,325</td>\n      <td>How Google Works</td>\n      <td>305</td>\n      <td>Kindle Edition</td>\n      <td>13.164706</td>\n    </tr>\n  </tbody>\n</table>\n</div>"
          },
          "execution_count": 55,
          "metadata": {},
          "output_type": "execute_result"
        }
      ]
    },
    {
      "cell_type": "code",
      "metadata": {
        "hidden": true,
        "id": "TYm-sNFbtPpP",
        "colab": {
          "base_uri": "https://localhost:8080/",
          "height": 193
        },
        "outputId": "f2a4bbbb-a6f8-4ca3-b4c3-aa9df0a3b6e3"
      },
      "source": [
        "books.head(2).T"
      ],
      "execution_count": null,
      "outputs": [
        {
          "data": {
            "text/plain": "                             0                                              1\nrating                    4.17                                           4.01\nreviews                  3,829                                          1,406\ntitle    The Elements of Style  The Information: A History, a Theory, a Flood\npages                      105                                            527\ntype                 Hardcover                                      Hardcover\nprice                 9.323529                                           11.0",
            "text/html": "<div>\n<style scoped>\n    .dataframe tbody tr th:only-of-type {\n        vertical-align: middle;\n    }\n\n    .dataframe tbody tr th {\n        vertical-align: top;\n    }\n\n    .dataframe thead th {\n        text-align: right;\n    }\n</style>\n<table border=\"1\" class=\"dataframe\">\n  <thead>\n    <tr style=\"text-align: right;\">\n      <th></th>\n      <th>0</th>\n      <th>1</th>\n    </tr>\n  </thead>\n  <tbody>\n    <tr>\n      <th>rating</th>\n      <td>4.17</td>\n      <td>4.01</td>\n    </tr>\n    <tr>\n      <th>reviews</th>\n      <td>3,829</td>\n      <td>1,406</td>\n    </tr>\n    <tr>\n      <th>title</th>\n      <td>The Elements of Style</td>\n      <td>The Information: A History, a Theory, a Flood</td>\n    </tr>\n    <tr>\n      <th>pages</th>\n      <td>105</td>\n      <td>527</td>\n    </tr>\n    <tr>\n      <th>type</th>\n      <td>Hardcover</td>\n      <td>Hardcover</td>\n    </tr>\n    <tr>\n      <th>price</th>\n      <td>9.323529</td>\n      <td>11.0</td>\n    </tr>\n  </tbody>\n</table>\n</div>"
          },
          "execution_count": 57,
          "metadata": {},
          "output_type": "execute_result"
        }
      ]
    },
    {
      "cell_type": "markdown",
      "metadata": {
        "heading_collapsed": true,
        "id": "CWWnajg6tPu3"
      },
      "source": [
        "### Фильтрация по условию"
      ]
    },
    {
      "cell_type": "markdown",
      "metadata": {
        "id": "z_19UB5PeebV"
      },
      "source": [
        "Индексы предлагают очень мощный и эффективный способ поиска значений на основе их меток. Но что, если вы хотите найти записи на основе значений? Для решения этой задачи библиотека Pandas предлагает воспользоваться фильтрацией по условию. Это применение логического выражения к значениям и возвращение нового объекта булевых значений, представляющих собой результат применения этого выражения к каждому значению. Затем этот результат можно использовать для извлечения лишь тех значений, где был получен результат True. \n",
        "\n",
        "Посмотрим примеры.\n"
      ]
    },
    {
      "cell_type": "markdown",
      "metadata": {
        "heading_collapsed": true,
        "hidden": true,
        "id": "dhHQTjvutPwZ"
      },
      "source": [
        "#### DataFrame"
      ]
    },
    {
      "cell_type": "markdown",
      "metadata": {
        "hidden": true,
        "id": "vhGNisZqtPwc"
      },
      "source": [
        "какие строки имеют значения `price` < 15?"
      ]
    },
    {
      "cell_type": "code",
      "metadata": {
        "hidden": true,
        "id": "PNhwixx6tPwp",
        "colab": {
          "base_uri": "https://localhost:8080/"
        },
        "outputId": "622e77a4-3132-4478-ac3e-1c46fafa16ae"
      },
      "source": [
        "books.price < 15"
      ],
      "execution_count": null,
      "outputs": [
        {
          "data": {
            "text/plain": "0       True\n1       True\n2       True\n3       True\n4       True\n       ...  \n266    False\n267    False\n268    False\n269    False\n270    False\nName: price, Length: 271, dtype: bool"
          },
          "execution_count": 62,
          "metadata": {},
          "output_type": "execute_result"
        }
      ]
    },
    {
      "cell_type": "markdown",
      "metadata": {
        "hidden": true,
        "id": "tUXcCRwitPw0"
      },
      "source": [
        "теперь получим строки, в которых `price` < 15"
      ]
    },
    {
      "cell_type": "code",
      "metadata": {
        "hidden": true,
        "id": "M53d7JcrtPw1",
        "colab": {
          "base_uri": "https://localhost:8080/",
          "height": 424
        },
        "outputId": "15ac18f7-1d95-4ae5-8589-d664083e599f"
      },
      "source": [
        "books[books.price < 15]"
      ],
      "execution_count": null,
      "outputs": [
        {
          "data": {
            "text/plain": "   rating reviews                                              title  pages  \\\n0    4.17   3,829                              The Elements of Style    105   \n1    4.01   1,406      The Information: A History, a Theory, a Flood    527   \n2    3.33       0       Responsive Web Design Overview For Beginners     50   \n3    3.97   1,658  Ghost in the Wires: My Adventures as the World...    393   \n4    4.06   1,325                                   How Google Works    305   \n5    3.84     117                                   The Meme Machine    288   \n6    4.09   5,938  Start with Why: How Great Leaders Inspire Ever...    256   \n7    4.15   1,817  Algorithms to Live By: The Computer Science of...    368   \n8    3.87   2,093  Weapons of Math Destruction: How Big Data Incr...    259   \n9    4.62       0  ZX Spectrum Games Code Club: Twenty fun games ...    128   \n\n             type      price  \n0       Hardcover   9.323529  \n1       Hardcover  11.000000  \n2  Kindle Edition  11.267647  \n3       Hardcover  12.873529  \n4  Kindle Edition  13.164706  \n5       Paperback  14.188235  \n6       Hardcover  14.232353  \n7       Hardcover  14.364706  \n8       Hardcover  14.502941  \n9       Paperback  14.641176  ",
            "text/html": "<div>\n<style scoped>\n    .dataframe tbody tr th:only-of-type {\n        vertical-align: middle;\n    }\n\n    .dataframe tbody tr th {\n        vertical-align: top;\n    }\n\n    .dataframe thead th {\n        text-align: right;\n    }\n</style>\n<table border=\"1\" class=\"dataframe\">\n  <thead>\n    <tr style=\"text-align: right;\">\n      <th></th>\n      <th>rating</th>\n      <th>reviews</th>\n      <th>title</th>\n      <th>pages</th>\n      <th>type</th>\n      <th>price</th>\n    </tr>\n  </thead>\n  <tbody>\n    <tr>\n      <th>0</th>\n      <td>4.17</td>\n      <td>3,829</td>\n      <td>The Elements of Style</td>\n      <td>105</td>\n      <td>Hardcover</td>\n      <td>9.323529</td>\n    </tr>\n    <tr>\n      <th>1</th>\n      <td>4.01</td>\n      <td>1,406</td>\n      <td>The Information: A History, a Theory, a Flood</td>\n      <td>527</td>\n      <td>Hardcover</td>\n      <td>11.000000</td>\n    </tr>\n    <tr>\n      <th>2</th>\n      <td>3.33</td>\n      <td>0</td>\n      <td>Responsive Web Design Overview For Beginners</td>\n      <td>50</td>\n      <td>Kindle Edition</td>\n      <td>11.267647</td>\n    </tr>\n    <tr>\n      <th>3</th>\n      <td>3.97</td>\n      <td>1,658</td>\n      <td>Ghost in the Wires: My Adventures as the World...</td>\n      <td>393</td>\n      <td>Hardcover</td>\n      <td>12.873529</td>\n    </tr>\n    <tr>\n      <th>4</th>\n      <td>4.06</td>\n      <td>1,325</td>\n      <td>How Google Works</td>\n      <td>305</td>\n      <td>Kindle Edition</td>\n      <td>13.164706</td>\n    </tr>\n    <tr>\n      <th>5</th>\n      <td>3.84</td>\n      <td>117</td>\n      <td>The Meme Machine</td>\n      <td>288</td>\n      <td>Paperback</td>\n      <td>14.188235</td>\n    </tr>\n    <tr>\n      <th>6</th>\n      <td>4.09</td>\n      <td>5,938</td>\n      <td>Start with Why: How Great Leaders Inspire Ever...</td>\n      <td>256</td>\n      <td>Hardcover</td>\n      <td>14.232353</td>\n    </tr>\n    <tr>\n      <th>7</th>\n      <td>4.15</td>\n      <td>1,817</td>\n      <td>Algorithms to Live By: The Computer Science of...</td>\n      <td>368</td>\n      <td>Hardcover</td>\n      <td>14.364706</td>\n    </tr>\n    <tr>\n      <th>8</th>\n      <td>3.87</td>\n      <td>2,093</td>\n      <td>Weapons of Math Destruction: How Big Data Incr...</td>\n      <td>259</td>\n      <td>Hardcover</td>\n      <td>14.502941</td>\n    </tr>\n    <tr>\n      <th>9</th>\n      <td>4.62</td>\n      <td>0</td>\n      <td>ZX Spectrum Games Code Club: Twenty fun games ...</td>\n      <td>128</td>\n      <td>Paperback</td>\n      <td>14.641176</td>\n    </tr>\n  </tbody>\n</table>\n</div>"
          },
          "execution_count": 63,
          "metadata": {},
          "output_type": "execute_result"
        }
      ]
    },
    {
      "cell_type": "markdown",
      "metadata": {
        "id": "5IkLnMYLdi1a"
      },
      "source": [
        "или"
      ]
    },
    {
      "cell_type": "code",
      "metadata": {
        "colab": {
          "base_uri": "https://localhost:8080/",
          "height": 424
        },
        "id": "JwWKSHz-dgD_",
        "outputId": "1b97c3bf-5ef6-436d-f334-5ffb49a6ba7f"
      },
      "source": [
        "books.loc[books.price < 15]"
      ],
      "execution_count": null,
      "outputs": [
        {
          "data": {
            "text/plain": "   rating reviews                                              title  pages  \\\n0    4.17   3,829                              The Elements of Style    105   \n1    4.01   1,406      The Information: A History, a Theory, a Flood    527   \n2    3.33       0       Responsive Web Design Overview For Beginners     50   \n3    3.97   1,658  Ghost in the Wires: My Adventures as the World...    393   \n4    4.06   1,325                                   How Google Works    305   \n5    3.84     117                                   The Meme Machine    288   \n6    4.09   5,938  Start with Why: How Great Leaders Inspire Ever...    256   \n7    4.15   1,817  Algorithms to Live By: The Computer Science of...    368   \n8    3.87   2,093  Weapons of Math Destruction: How Big Data Incr...    259   \n9    4.62       0  ZX Spectrum Games Code Club: Twenty fun games ...    128   \n\n             type      price  \n0       Hardcover   9.323529  \n1       Hardcover  11.000000  \n2  Kindle Edition  11.267647  \n3       Hardcover  12.873529  \n4  Kindle Edition  13.164706  \n5       Paperback  14.188235  \n6       Hardcover  14.232353  \n7       Hardcover  14.364706  \n8       Hardcover  14.502941  \n9       Paperback  14.641176  ",
            "text/html": "<div>\n<style scoped>\n    .dataframe tbody tr th:only-of-type {\n        vertical-align: middle;\n    }\n\n    .dataframe tbody tr th {\n        vertical-align: top;\n    }\n\n    .dataframe thead th {\n        text-align: right;\n    }\n</style>\n<table border=\"1\" class=\"dataframe\">\n  <thead>\n    <tr style=\"text-align: right;\">\n      <th></th>\n      <th>rating</th>\n      <th>reviews</th>\n      <th>title</th>\n      <th>pages</th>\n      <th>type</th>\n      <th>price</th>\n    </tr>\n  </thead>\n  <tbody>\n    <tr>\n      <th>0</th>\n      <td>4.17</td>\n      <td>3,829</td>\n      <td>The Elements of Style</td>\n      <td>105</td>\n      <td>Hardcover</td>\n      <td>9.323529</td>\n    </tr>\n    <tr>\n      <th>1</th>\n      <td>4.01</td>\n      <td>1,406</td>\n      <td>The Information: A History, a Theory, a Flood</td>\n      <td>527</td>\n      <td>Hardcover</td>\n      <td>11.000000</td>\n    </tr>\n    <tr>\n      <th>2</th>\n      <td>3.33</td>\n      <td>0</td>\n      <td>Responsive Web Design Overview For Beginners</td>\n      <td>50</td>\n      <td>Kindle Edition</td>\n      <td>11.267647</td>\n    </tr>\n    <tr>\n      <th>3</th>\n      <td>3.97</td>\n      <td>1,658</td>\n      <td>Ghost in the Wires: My Adventures as the World...</td>\n      <td>393</td>\n      <td>Hardcover</td>\n      <td>12.873529</td>\n    </tr>\n    <tr>\n      <th>4</th>\n      <td>4.06</td>\n      <td>1,325</td>\n      <td>How Google Works</td>\n      <td>305</td>\n      <td>Kindle Edition</td>\n      <td>13.164706</td>\n    </tr>\n    <tr>\n      <th>5</th>\n      <td>3.84</td>\n      <td>117</td>\n      <td>The Meme Machine</td>\n      <td>288</td>\n      <td>Paperback</td>\n      <td>14.188235</td>\n    </tr>\n    <tr>\n      <th>6</th>\n      <td>4.09</td>\n      <td>5,938</td>\n      <td>Start with Why: How Great Leaders Inspire Ever...</td>\n      <td>256</td>\n      <td>Hardcover</td>\n      <td>14.232353</td>\n    </tr>\n    <tr>\n      <th>7</th>\n      <td>4.15</td>\n      <td>1,817</td>\n      <td>Algorithms to Live By: The Computer Science of...</td>\n      <td>368</td>\n      <td>Hardcover</td>\n      <td>14.364706</td>\n    </tr>\n    <tr>\n      <th>8</th>\n      <td>3.87</td>\n      <td>2,093</td>\n      <td>Weapons of Math Destruction: How Big Data Incr...</td>\n      <td>259</td>\n      <td>Hardcover</td>\n      <td>14.502941</td>\n    </tr>\n    <tr>\n      <th>9</th>\n      <td>4.62</td>\n      <td>0</td>\n      <td>ZX Spectrum Games Code Club: Twenty fun games ...</td>\n      <td>128</td>\n      <td>Paperback</td>\n      <td>14.641176</td>\n    </tr>\n  </tbody>\n</table>\n</div>"
          },
          "execution_count": 64,
          "metadata": {},
          "output_type": "execute_result"
        }
      ]
    },
    {
      "cell_type": "markdown",
      "metadata": {
        "hidden": true,
        "id": "4gYZh19_tPw3"
      },
      "source": [
        "извлекаем лишь те строки, в которых значение `15 <= price < 20`"
      ]
    },
    {
      "cell_type": "code",
      "metadata": {
        "hidden": true,
        "id": "xUxvZ58otPw4",
        "colab": {
          "base_uri": "https://localhost:8080/"
        },
        "outputId": "44122d9e-c1ff-4716-bdcb-6266e3a62c27"
      },
      "source": [
        "r = books[(books['price'] < 20) &\n",
        "          (books.price >= 15)]['price']\n",
        "r"
      ],
      "execution_count": null,
      "outputs": [
        {
          "data": {
            "text/plain": "10    15.229412\n11    15.229412\n12    15.326471\n13    15.682353\n14    15.885294\n15    16.073529\n16    16.367647\n17    16.852941\n18    16.891176\n19    17.229412\n20    17.491176\n21    17.620588\n22    18.938235\n23    19.132353\n24    19.152941\n25    19.247059\n26    19.855882\nName: price, dtype: float64"
          },
          "execution_count": 66,
          "metadata": {},
          "output_type": "execute_result"
        }
      ]
    },
    {
      "cell_type": "markdown",
      "metadata": {
        "hidden": true,
        "id": "1KMwTtRwtPxA"
      },
      "source": [
        "использование метода .isin"
      ]
    },
    {
      "cell_type": "code",
      "execution_count": null,
      "outputs": [
        {
          "data": {
            "text/plain": "Counter({105: 1,\n         527: 1,\n         50: 1,\n         393: 1,\n         305: 1,\n         288: 7,\n         256: 3,\n         368: 2,\n         259: 1,\n         128: 1,\n         352: 5,\n         200: 1,\n         328: 4,\n         240: 3,\n         392: 2,\n         304: 4,\n         336: 6,\n         542: 2,\n         192: 3,\n         242: 1,\n         224: 4,\n         412: 1,\n         318: 1,\n         432: 1,\n         320: 7,\n         384: 6,\n         448: 4,\n         416: 3,\n         184: 1,\n         219: 1,\n         153: 1,\n         176: 5,\n         257: 1,\n         410: 2,\n         190: 2,\n         170: 1,\n         446: 1,\n         345: 3,\n         558: 1,\n         140: 1,\n         343: 1,\n         258: 1,\n         293: 1,\n         539: 1,\n         317: 1,\n         560: 4,\n         370: 2,\n         120: 1,\n         442: 1,\n         377: 1,\n         250: 1,\n         281: 1,\n         400: 3,\n         350: 2,\n         312: 2,\n         316: 1,\n         290: 1,\n         479: 1,\n         576: 1,\n         237: 1,\n         188: 1,\n         470: 1,\n         375: 1,\n         1200: 1,\n         376: 1,\n         210: 3,\n         462: 1,\n         227: 1,\n         388: 2,\n         326: 3,\n         160: 1,\n         546: 1,\n         325: 2,\n         422: 1,\n         300: 1,\n         197: 1,\n         262: 2,\n         260: 1,\n         421: 1,\n         372: 1,\n         353: 1,\n         322: 2,\n         914: 1,\n         366: 2,\n         239: 1,\n         554: 1,\n         264: 1,\n         1008: 1,\n         324: 1,\n         616: 1,\n         286: 1,\n         248: 1,\n         828: 1,\n         330: 1,\n         1506: 1,\n         434: 1,\n         245: 1,\n         216: 1,\n         208: 2,\n         280: 1,\n         496: 1,\n         247: 1,\n         570: 1,\n         180: 1,\n         512: 1,\n         292: 1,\n         252: 1,\n         851: 1,\n         386: 1,\n         638: 1,\n         463: 1,\n         283: 1,\n         658: 1,\n         816: 1,\n         431: 3,\n         360: 1,\n         657: 2,\n         514: 1,\n         464: 2,\n         355: 1,\n         458: 1,\n         472: 1,\n         460: 1,\n         487: 1,\n         379: 1,\n         959: 1,\n         976: 3,\n         480: 1,\n         584: 1,\n         233: 1,\n         528: 1,\n         792: 1,\n         597: 1,\n         656: 1,\n         863: 1,\n         728: 1,\n         927: 1,\n         1214: 1,\n         1040: 3,\n         545: 1,\n         600: 2,\n         928: 1,\n         475: 1,\n         908: 1,\n         544: 1,\n         357: 1,\n         672: 2,\n         414: 1,\n         730: 1,\n         864: 1,\n         883: 1,\n         768: 1,\n         787: 1,\n         582: 1,\n         801: 1,\n         720: 1,\n         1142: 1,\n         552: 1,\n         846: 1,\n         575: 1,\n         791: 1,\n         1180: 1,\n         626: 1,\n         624: 1,\n         1052: 1,\n         716: 1,\n         521: 1,\n         1056: 1,\n         493: 1,\n         978: 1,\n         1136: 2,\n         669: 1,\n         362: 1,\n         936: 1,\n         724: 1,\n         1132: 1,\n         700: 1,\n         796: 1,\n         703: 1,\n         663: 1,\n         1235: 1,\n         752: 1,\n         896: 1,\n         3168: 1,\n         789: 1})"
          },
          "execution_count": 74,
          "metadata": {},
          "output_type": "execute_result"
        }
      ],
      "source": [
        "from collections import Counter\n",
        "Counter(books.pages)"
      ],
      "metadata": {
        "pycharm": {
          "name": "#%%\n"
        },
        "id": "W4UoLBASSTLC",
        "outputId": "4777958e-ec4b-4977-c264-10793b71ac51"
      }
    },
    {
      "cell_type": "code",
      "metadata": {
        "hidden": true,
        "id": "ZDR0oThCtPxA",
        "colab": {
          "base_uri": "https://localhost:8080/"
        },
        "outputId": "a94c29fe-ab4c-435f-c9f9-b7d821f94e28"
      },
      "source": [
        "s_tmp = books.pages.isin([256, 288])\n",
        "s_tmp"
      ],
      "execution_count": null,
      "outputs": [
        {
          "data": {
            "text/plain": "0      False\n1      False\n2      False\n3      False\n4      False\n       ...  \n266    False\n267    False\n268    False\n269    False\n270    False\nName: pages, Length: 271, dtype: bool"
          },
          "execution_count": 75,
          "metadata": {},
          "output_type": "execute_result"
        }
      ]
    },
    {
      "cell_type": "code",
      "metadata": {
        "hidden": true,
        "id": "OykVOpWQtPxE",
        "colab": {
          "base_uri": "https://localhost:8080/",
          "height": 206
        },
        "outputId": "5ca764b0-36bf-4be8-f042-2e8b060faf70"
      },
      "source": [
        "books[s_tmp].head()"
      ],
      "execution_count": null,
      "outputs": [
        {
          "data": {
            "text/plain": "    rating reviews                                              title  pages  \\\n5     3.84     117                                   The Meme Machine    288   \n6     4.09   5,938  Start with Why: How Great Leaders Inspire Ever...    256   \n15    3.95     417  Kingpin: How One Hacker Took Over the Billion-...    288   \n28    3.96       1                    Computability and Unsolvability    288   \n84    3.83     278  Automate This: How Algorithms Came to Rule Our...    256   \n\n         type      price  \n5   Paperback  14.188235  \n6   Hardcover  14.232353  \n15  Hardcover  16.073529  \n28  Paperback  20.400000  \n84  Hardcover  35.841176  ",
            "text/html": "<div>\n<style scoped>\n    .dataframe tbody tr th:only-of-type {\n        vertical-align: middle;\n    }\n\n    .dataframe tbody tr th {\n        vertical-align: top;\n    }\n\n    .dataframe thead th {\n        text-align: right;\n    }\n</style>\n<table border=\"1\" class=\"dataframe\">\n  <thead>\n    <tr style=\"text-align: right;\">\n      <th></th>\n      <th>rating</th>\n      <th>reviews</th>\n      <th>title</th>\n      <th>pages</th>\n      <th>type</th>\n      <th>price</th>\n    </tr>\n  </thead>\n  <tbody>\n    <tr>\n      <th>5</th>\n      <td>3.84</td>\n      <td>117</td>\n      <td>The Meme Machine</td>\n      <td>288</td>\n      <td>Paperback</td>\n      <td>14.188235</td>\n    </tr>\n    <tr>\n      <th>6</th>\n      <td>4.09</td>\n      <td>5,938</td>\n      <td>Start with Why: How Great Leaders Inspire Ever...</td>\n      <td>256</td>\n      <td>Hardcover</td>\n      <td>14.232353</td>\n    </tr>\n    <tr>\n      <th>15</th>\n      <td>3.95</td>\n      <td>417</td>\n      <td>Kingpin: How One Hacker Took Over the Billion-...</td>\n      <td>288</td>\n      <td>Hardcover</td>\n      <td>16.073529</td>\n    </tr>\n    <tr>\n      <th>28</th>\n      <td>3.96</td>\n      <td>1</td>\n      <td>Computability and Unsolvability</td>\n      <td>288</td>\n      <td>Paperback</td>\n      <td>20.400000</td>\n    </tr>\n    <tr>\n      <th>84</th>\n      <td>3.83</td>\n      <td>278</td>\n      <td>Automate This: How Algorithms Came to Rule Our...</td>\n      <td>256</td>\n      <td>Hardcover</td>\n      <td>35.841176</td>\n    </tr>\n  </tbody>\n</table>\n</div>"
          },
          "execution_count": 76,
          "metadata": {},
          "output_type": "execute_result"
        }
      ]
    },
    {
      "cell_type": "markdown",
      "metadata": {
        "hidden": true,
        "id": "oh_oSi0YtPxG"
      },
      "source": [
        "использование метода .query"
      ]
    },
    {
      "cell_type": "code",
      "metadata": {
        "hidden": true,
        "id": "Q1htsXj0tPxK",
        "colab": {
          "base_uri": "https://localhost:8080/",
          "height": 419
        },
        "outputId": "be2b2795-2b1f-4b73-b21b-20e7151ce3b9"
      },
      "source": [
        "q = books.query(\"price < 20 & price > 15 | type == 'Hardcover'\")[['price', 'type']]\n",
        "q"
      ],
      "execution_count": null,
      "outputs": [
        {
          "data": {
            "text/plain": "          price       type\n0      9.323529  Hardcover\n1     11.000000  Hardcover\n3     12.873529  Hardcover\n6     14.232353  Hardcover\n7     14.364706  Hardcover\n..          ...        ...\n264  143.138235  Hardcover\n265  176.144118  Hardcover\n266  203.108823  Hardcover\n269  220.385294  Hardcover\n270  235.650000  Hardcover\n\n[103 rows x 2 columns]",
            "text/html": "<div>\n<style scoped>\n    .dataframe tbody tr th:only-of-type {\n        vertical-align: middle;\n    }\n\n    .dataframe tbody tr th {\n        vertical-align: top;\n    }\n\n    .dataframe thead th {\n        text-align: right;\n    }\n</style>\n<table border=\"1\" class=\"dataframe\">\n  <thead>\n    <tr style=\"text-align: right;\">\n      <th></th>\n      <th>price</th>\n      <th>type</th>\n    </tr>\n  </thead>\n  <tbody>\n    <tr>\n      <th>0</th>\n      <td>9.323529</td>\n      <td>Hardcover</td>\n    </tr>\n    <tr>\n      <th>1</th>\n      <td>11.000000</td>\n      <td>Hardcover</td>\n    </tr>\n    <tr>\n      <th>3</th>\n      <td>12.873529</td>\n      <td>Hardcover</td>\n    </tr>\n    <tr>\n      <th>6</th>\n      <td>14.232353</td>\n      <td>Hardcover</td>\n    </tr>\n    <tr>\n      <th>7</th>\n      <td>14.364706</td>\n      <td>Hardcover</td>\n    </tr>\n    <tr>\n      <th>...</th>\n      <td>...</td>\n      <td>...</td>\n    </tr>\n    <tr>\n      <th>264</th>\n      <td>143.138235</td>\n      <td>Hardcover</td>\n    </tr>\n    <tr>\n      <th>265</th>\n      <td>176.144118</td>\n      <td>Hardcover</td>\n    </tr>\n    <tr>\n      <th>266</th>\n      <td>203.108823</td>\n      <td>Hardcover</td>\n    </tr>\n    <tr>\n      <th>269</th>\n      <td>220.385294</td>\n      <td>Hardcover</td>\n    </tr>\n    <tr>\n      <th>270</th>\n      <td>235.650000</td>\n      <td>Hardcover</td>\n    </tr>\n  </tbody>\n</table>\n<p>103 rows × 2 columns</p>\n</div>"
          },
          "execution_count": 77,
          "metadata": {},
          "output_type": "execute_result"
        }
      ]
    },
    {
      "cell_type": "markdown",
      "metadata": {
        "heading_collapsed": true,
        "id": "H-2zNvedtPxL"
      },
      "source": [
        "### Добавление "
      ]
    },
    {
      "cell_type": "markdown",
      "metadata": {
        "heading_collapsed": true,
        "hidden": true,
        "id": "1X08rwWmtPxM"
      },
      "source": [
        "#### оператор [ ] "
      ]
    },
    {
      "cell_type": "markdown",
      "metadata": {
        "hidden": true,
        "id": "RRX5XOxItPxN"
      },
      "source": [
        "создаем копию, чтобы исходные данные остались в неизменном виде"
      ]
    },
    {
      "cell_type": "code",
      "metadata": {
        "hidden": true,
        "id": "aBiFv_H_tPxO"
      },
      "source": [
        "books_copy = books.copy()"
      ],
      "execution_count": null,
      "outputs": []
    },
    {
      "cell_type": "markdown",
      "metadata": {
        "hidden": true,
        "id": "WUxcVrx0tPxX"
      },
      "source": [
        "добавляем столбец"
      ]
    },
    {
      "cell_type": "code",
      "metadata": {
        "hidden": true,
        "id": "rYBPc4yOtPxX",
        "colab": {
          "base_uri": "https://localhost:8080/",
          "height": 142
        },
        "outputId": "e29200fe-0982-4438-9ecb-e7d6dd23ee85"
      },
      "source": [
        "books_copy['RoundedPrice'] = books_copy.price.round()\n",
        "books_copy.head(3)"
      ],
      "execution_count": null,
      "outputs": [
        {
          "data": {
            "text/plain": "   rating reviews                                          title  pages  \\\n0    4.17   3,829                          The Elements of Style    105   \n1    4.01   1,406  The Information: A History, a Theory, a Flood    527   \n2    3.33       0   Responsive Web Design Overview For Beginners     50   \n\n             type      price  RoundedPrice  \n0       Hardcover   9.323529           9.0  \n1       Hardcover  11.000000          11.0  \n2  Kindle Edition  11.267647          11.0  ",
            "text/html": "<div>\n<style scoped>\n    .dataframe tbody tr th:only-of-type {\n        vertical-align: middle;\n    }\n\n    .dataframe tbody tr th {\n        vertical-align: top;\n    }\n\n    .dataframe thead th {\n        text-align: right;\n    }\n</style>\n<table border=\"1\" class=\"dataframe\">\n  <thead>\n    <tr style=\"text-align: right;\">\n      <th></th>\n      <th>rating</th>\n      <th>reviews</th>\n      <th>title</th>\n      <th>pages</th>\n      <th>type</th>\n      <th>price</th>\n      <th>RoundedPrice</th>\n    </tr>\n  </thead>\n  <tbody>\n    <tr>\n      <th>0</th>\n      <td>4.17</td>\n      <td>3,829</td>\n      <td>The Elements of Style</td>\n      <td>105</td>\n      <td>Hardcover</td>\n      <td>9.323529</td>\n      <td>9.0</td>\n    </tr>\n    <tr>\n      <th>1</th>\n      <td>4.01</td>\n      <td>1,406</td>\n      <td>The Information: A History, a Theory, a Flood</td>\n      <td>527</td>\n      <td>Hardcover</td>\n      <td>11.000000</td>\n      <td>11.0</td>\n    </tr>\n    <tr>\n      <th>2</th>\n      <td>3.33</td>\n      <td>0</td>\n      <td>Responsive Web Design Overview For Beginners</td>\n      <td>50</td>\n      <td>Kindle Edition</td>\n      <td>11.267647</td>\n      <td>11.0</td>\n    </tr>\n  </tbody>\n</table>\n</div>"
          },
          "execution_count": 79,
          "metadata": {},
          "output_type": "execute_result"
        }
      ]
    },
    {
      "cell_type": "markdown",
      "metadata": {
        "heading_collapsed": true,
        "id": "jzM5wrgWtPzR"
      },
      "source": [
        "### Сортировка"
      ]
    },
    {
      "cell_type": "markdown",
      "metadata": {
        "heading_collapsed": true,
        "hidden": true,
        "id": "KQgL_DY3tPzR"
      },
      "source": [
        "#### по индексу "
      ]
    },
    {
      "cell_type": "markdown",
      "metadata": {
        "id": "3-iXBweVfphN"
      },
      "source": [
        "Для лексикографической сортировки по индексу служит метод sort_index, который возвращает новый отсортированный объект. В случае DataFrame можно сортировать по индексу, связанному с любой осью - строками или столбцами. В данном примере сортировка производится по меткам оси столбцов.\n"
      ]
    },
    {
      "cell_type": "code",
      "metadata": {
        "hidden": true,
        "id": "1XiRNHV5tPzS",
        "colab": {
          "base_uri": "https://localhost:8080/",
          "height": 206
        },
        "outputId": "42ec7b7b-867f-4a7b-8668-dac7c33c860f"
      },
      "source": [
        "books.head()"
      ],
      "execution_count": null,
      "outputs": [
        {
          "data": {
            "text/plain": "   rating reviews                                              title  pages  \\\n0    4.17   3,829                              The Elements of Style    105   \n1    4.01   1,406      The Information: A History, a Theory, a Flood    527   \n2    3.33       0       Responsive Web Design Overview For Beginners     50   \n3    3.97   1,658  Ghost in the Wires: My Adventures as the World...    393   \n4    4.06   1,325                                   How Google Works    305   \n\n             type      price  \n0       Hardcover   9.323529  \n1       Hardcover  11.000000  \n2  Kindle Edition  11.267647  \n3       Hardcover  12.873529  \n4  Kindle Edition  13.164706  ",
            "text/html": "<div>\n<style scoped>\n    .dataframe tbody tr th:only-of-type {\n        vertical-align: middle;\n    }\n\n    .dataframe tbody tr th {\n        vertical-align: top;\n    }\n\n    .dataframe thead th {\n        text-align: right;\n    }\n</style>\n<table border=\"1\" class=\"dataframe\">\n  <thead>\n    <tr style=\"text-align: right;\">\n      <th></th>\n      <th>rating</th>\n      <th>reviews</th>\n      <th>title</th>\n      <th>pages</th>\n      <th>type</th>\n      <th>price</th>\n    </tr>\n  </thead>\n  <tbody>\n    <tr>\n      <th>0</th>\n      <td>4.17</td>\n      <td>3,829</td>\n      <td>The Elements of Style</td>\n      <td>105</td>\n      <td>Hardcover</td>\n      <td>9.323529</td>\n    </tr>\n    <tr>\n      <th>1</th>\n      <td>4.01</td>\n      <td>1,406</td>\n      <td>The Information: A History, a Theory, a Flood</td>\n      <td>527</td>\n      <td>Hardcover</td>\n      <td>11.000000</td>\n    </tr>\n    <tr>\n      <th>2</th>\n      <td>3.33</td>\n      <td>0</td>\n      <td>Responsive Web Design Overview For Beginners</td>\n      <td>50</td>\n      <td>Kindle Edition</td>\n      <td>11.267647</td>\n    </tr>\n    <tr>\n      <th>3</th>\n      <td>3.97</td>\n      <td>1,658</td>\n      <td>Ghost in the Wires: My Adventures as the World...</td>\n      <td>393</td>\n      <td>Hardcover</td>\n      <td>12.873529</td>\n    </tr>\n    <tr>\n      <th>4</th>\n      <td>4.06</td>\n      <td>1,325</td>\n      <td>How Google Works</td>\n      <td>305</td>\n      <td>Kindle Edition</td>\n      <td>13.164706</td>\n    </tr>\n  </tbody>\n</table>\n</div>"
          },
          "execution_count": 80,
          "metadata": {},
          "output_type": "execute_result"
        }
      ]
    },
    {
      "cell_type": "code",
      "metadata": {
        "hidden": true,
        "id": "oYXiSJl8tPzj",
        "colab": {
          "base_uri": "https://localhost:8080/",
          "height": 206
        },
        "outputId": "c12d42ed-a2c7-425a-abf7-6c86e0e85628"
      },
      "source": [
        "books.sort_index(ascending=False).head()"
      ],
      "execution_count": null,
      "outputs": [
        {
          "data": {
            "text/plain": "     rating reviews                                              title  pages  \\\n270    3.84       5              A Discipline for Software Engineering    789   \n269    4.77       4  The Art of Computer Programming, Volumes 1-4a ...   3168   \n268    4.49      36  The Art of Computer Programming, Volumes 1-3 B...    896   \n267    3.94      22                An Introduction to Database Systems   1040   \n266    3.76       0  3D Game Engine Architecture: Engineering Real-...    752   \n\n                      type       price  \n270              Hardcover  235.650000  \n269              Hardcover  220.385294  \n268  Boxed Set - Hardcover  220.385294  \n267              Paperback  212.097059  \n266              Hardcover  203.108823  ",
            "text/html": "<div>\n<style scoped>\n    .dataframe tbody tr th:only-of-type {\n        vertical-align: middle;\n    }\n\n    .dataframe tbody tr th {\n        vertical-align: top;\n    }\n\n    .dataframe thead th {\n        text-align: right;\n    }\n</style>\n<table border=\"1\" class=\"dataframe\">\n  <thead>\n    <tr style=\"text-align: right;\">\n      <th></th>\n      <th>rating</th>\n      <th>reviews</th>\n      <th>title</th>\n      <th>pages</th>\n      <th>type</th>\n      <th>price</th>\n    </tr>\n  </thead>\n  <tbody>\n    <tr>\n      <th>270</th>\n      <td>3.84</td>\n      <td>5</td>\n      <td>A Discipline for Software Engineering</td>\n      <td>789</td>\n      <td>Hardcover</td>\n      <td>235.650000</td>\n    </tr>\n    <tr>\n      <th>269</th>\n      <td>4.77</td>\n      <td>4</td>\n      <td>The Art of Computer Programming, Volumes 1-4a ...</td>\n      <td>3168</td>\n      <td>Hardcover</td>\n      <td>220.385294</td>\n    </tr>\n    <tr>\n      <th>268</th>\n      <td>4.49</td>\n      <td>36</td>\n      <td>The Art of Computer Programming, Volumes 1-3 B...</td>\n      <td>896</td>\n      <td>Boxed Set - Hardcover</td>\n      <td>220.385294</td>\n    </tr>\n    <tr>\n      <th>267</th>\n      <td>3.94</td>\n      <td>22</td>\n      <td>An Introduction to Database Systems</td>\n      <td>1040</td>\n      <td>Paperback</td>\n      <td>212.097059</td>\n    </tr>\n    <tr>\n      <th>266</th>\n      <td>3.76</td>\n      <td>0</td>\n      <td>3D Game Engine Architecture: Engineering Real-...</td>\n      <td>752</td>\n      <td>Hardcover</td>\n      <td>203.108823</td>\n    </tr>\n  </tbody>\n</table>\n</div>"
          },
          "execution_count": 81,
          "metadata": {},
          "output_type": "execute_result"
        }
      ]
    },
    {
      "cell_type": "markdown",
      "metadata": {
        "heading_collapsed": true,
        "hidden": true,
        "id": "Pk2_Z0EUtPzs"
      },
      "source": [
        "#### по значению"
      ]
    },
    {
      "cell_type": "markdown",
      "metadata": {
        "id": "QTXJ2RUDfur9"
      },
      "source": [
        "Объект Dataframe можно сортировать по значениям в одном или нескольких столбцах. Для этого имена столбцов следует передать в качестве значения параметра \"by\" метода sort_values. По умолчанию данные сортируются в порядке возрастания, но можно отсортировать и в порядке убывания. Используем параметр ascending."
      ]
    },
    {
      "cell_type": "code",
      "metadata": {
        "hidden": true,
        "id": "dHQWLQt8tPzt",
        "colab": {
          "base_uri": "https://localhost:8080/",
          "height": 206
        },
        "outputId": "4e1076f9-7085-434f-9501-ee4eff415557"
      },
      "source": [
        "books.sort_values(by='price', ascending=False).head()"
      ],
      "execution_count": null,
      "outputs": [
        {
          "data": {
            "text/plain": "     rating reviews                                              title  pages  \\\n270    3.84       5              A Discipline for Software Engineering    789   \n269    4.77       4  The Art of Computer Programming, Volumes 1-4a ...   3168   \n268    4.49      36  The Art of Computer Programming, Volumes 1-3 B...    896   \n267    3.94      22                An Introduction to Database Systems   1040   \n266    3.76       0  3D Game Engine Architecture: Engineering Real-...    752   \n\n                      type       price  \n270              Hardcover  235.650000  \n269              Hardcover  220.385294  \n268  Boxed Set - Hardcover  220.385294  \n267              Paperback  212.097059  \n266              Hardcover  203.108823  ",
            "text/html": "<div>\n<style scoped>\n    .dataframe tbody tr th:only-of-type {\n        vertical-align: middle;\n    }\n\n    .dataframe tbody tr th {\n        vertical-align: top;\n    }\n\n    .dataframe thead th {\n        text-align: right;\n    }\n</style>\n<table border=\"1\" class=\"dataframe\">\n  <thead>\n    <tr style=\"text-align: right;\">\n      <th></th>\n      <th>rating</th>\n      <th>reviews</th>\n      <th>title</th>\n      <th>pages</th>\n      <th>type</th>\n      <th>price</th>\n    </tr>\n  </thead>\n  <tbody>\n    <tr>\n      <th>270</th>\n      <td>3.84</td>\n      <td>5</td>\n      <td>A Discipline for Software Engineering</td>\n      <td>789</td>\n      <td>Hardcover</td>\n      <td>235.650000</td>\n    </tr>\n    <tr>\n      <th>269</th>\n      <td>4.77</td>\n      <td>4</td>\n      <td>The Art of Computer Programming, Volumes 1-4a ...</td>\n      <td>3168</td>\n      <td>Hardcover</td>\n      <td>220.385294</td>\n    </tr>\n    <tr>\n      <th>268</th>\n      <td>4.49</td>\n      <td>36</td>\n      <td>The Art of Computer Programming, Volumes 1-3 B...</td>\n      <td>896</td>\n      <td>Boxed Set - Hardcover</td>\n      <td>220.385294</td>\n    </tr>\n    <tr>\n      <th>267</th>\n      <td>3.94</td>\n      <td>22</td>\n      <td>An Introduction to Database Systems</td>\n      <td>1040</td>\n      <td>Paperback</td>\n      <td>212.097059</td>\n    </tr>\n    <tr>\n      <th>266</th>\n      <td>3.76</td>\n      <td>0</td>\n      <td>3D Game Engine Architecture: Engineering Real-...</td>\n      <td>752</td>\n      <td>Hardcover</td>\n      <td>203.108823</td>\n    </tr>\n  </tbody>\n</table>\n</div>"
          },
          "execution_count": 83,
          "metadata": {},
          "output_type": "execute_result"
        }
      ]
    },
    {
      "cell_type": "markdown",
      "metadata": {
        "heading_collapsed": true,
        "hidden": true,
        "id": "NRLFYMgftPz8"
      },
      "source": [
        "#### наименьшее / наибольшее значение"
      ]
    },
    {
      "cell_type": "markdown",
      "metadata": {
        "id": "J07RDBXefzge"
      },
      "source": [
        "Еще один полезный функционал библиотеки Pandas - это вывод наименьших, наибольших значений. Соответственно методы .nsmallest, .nlargest"
      ]
    },
    {
      "cell_type": "code",
      "metadata": {
        "hidden": true,
        "id": "HX_exAKRtPz9",
        "colab": {
          "base_uri": "https://localhost:8080/",
          "height": 206
        },
        "outputId": "9578604e-9652-4636-ebaf-c5c685cbac8b"
      },
      "source": [
        "books.nsmallest(5, 'rating')"
      ],
      "execution_count": null,
      "outputs": [
        {
          "data": {
            "text/plain": "     rating reviews                                              title  pages  \\\n177    3.00       0  Advanced Game Programming: A Gamedev.Net Colle...    464   \n182    3.00       0  Cross-Platform Game Programming (Game Developm...    460   \n187    3.00       0  Lambda-Calculus, Combinators and Functional Pr...    192   \n24     3.20       0                      Game Programming Golden Rules    318   \n86     3.22       2                                   Beginning Java 2   1200   \n\n          type      price  \n177  Paperback  59.082353  \n182  Paperback  60.391176  \n187  Paperback  61.167647  \n24   Paperback  19.152941  \n86   Paperback  36.617647  ",
            "text/html": "<div>\n<style scoped>\n    .dataframe tbody tr th:only-of-type {\n        vertical-align: middle;\n    }\n\n    .dataframe tbody tr th {\n        vertical-align: top;\n    }\n\n    .dataframe thead th {\n        text-align: right;\n    }\n</style>\n<table border=\"1\" class=\"dataframe\">\n  <thead>\n    <tr style=\"text-align: right;\">\n      <th></th>\n      <th>rating</th>\n      <th>reviews</th>\n      <th>title</th>\n      <th>pages</th>\n      <th>type</th>\n      <th>price</th>\n    </tr>\n  </thead>\n  <tbody>\n    <tr>\n      <th>177</th>\n      <td>3.00</td>\n      <td>0</td>\n      <td>Advanced Game Programming: A Gamedev.Net Colle...</td>\n      <td>464</td>\n      <td>Paperback</td>\n      <td>59.082353</td>\n    </tr>\n    <tr>\n      <th>182</th>\n      <td>3.00</td>\n      <td>0</td>\n      <td>Cross-Platform Game Programming (Game Developm...</td>\n      <td>460</td>\n      <td>Paperback</td>\n      <td>60.391176</td>\n    </tr>\n    <tr>\n      <th>187</th>\n      <td>3.00</td>\n      <td>0</td>\n      <td>Lambda-Calculus, Combinators and Functional Pr...</td>\n      <td>192</td>\n      <td>Paperback</td>\n      <td>61.167647</td>\n    </tr>\n    <tr>\n      <th>24</th>\n      <td>3.20</td>\n      <td>0</td>\n      <td>Game Programming Golden Rules</td>\n      <td>318</td>\n      <td>Paperback</td>\n      <td>19.152941</td>\n    </tr>\n    <tr>\n      <th>86</th>\n      <td>3.22</td>\n      <td>2</td>\n      <td>Beginning Java 2</td>\n      <td>1200</td>\n      <td>Paperback</td>\n      <td>36.617647</td>\n    </tr>\n  </tbody>\n</table>\n</div>"
          },
          "execution_count": 86,
          "metadata": {},
          "output_type": "execute_result"
        }
      ]
    },
    {
      "cell_type": "code",
      "metadata": {
        "hidden": true,
        "id": "efiVt_YmtPz_",
        "colab": {
          "base_uri": "https://localhost:8080/",
          "height": 206
        },
        "outputId": "a1832716-62a4-490b-ff0d-2e66ce52829c"
      },
      "source": [
        "books.nlargest(5, 'rating')"
      ],
      "execution_count": null,
      "outputs": [
        {
          "data": {
            "text/plain": "     rating reviews                                              title  pages  \\\n54     5.00       0                            Your First App: Node.js    317   \n269    4.77       4  The Art of Computer Programming, Volumes 1-4a ...   3168   \n131    4.72     362  Designing Data-Intensive Applications: The Big...    616   \n114    4.67       1  Build Web Applications with Java: Learn every ...    372   \n194    4.67      78  Fluent Python: Clear, Concise, and Effective P...    792   \n\n          type       price  \n54       ebook   25.855882  \n269  Hardcover  220.385294  \n131  Paperback   45.561765  \n114  Paperback   42.276471  \n194  Paperback   64.091176  ",
            "text/html": "<div>\n<style scoped>\n    .dataframe tbody tr th:only-of-type {\n        vertical-align: middle;\n    }\n\n    .dataframe tbody tr th {\n        vertical-align: top;\n    }\n\n    .dataframe thead th {\n        text-align: right;\n    }\n</style>\n<table border=\"1\" class=\"dataframe\">\n  <thead>\n    <tr style=\"text-align: right;\">\n      <th></th>\n      <th>rating</th>\n      <th>reviews</th>\n      <th>title</th>\n      <th>pages</th>\n      <th>type</th>\n      <th>price</th>\n    </tr>\n  </thead>\n  <tbody>\n    <tr>\n      <th>54</th>\n      <td>5.00</td>\n      <td>0</td>\n      <td>Your First App: Node.js</td>\n      <td>317</td>\n      <td>ebook</td>\n      <td>25.855882</td>\n    </tr>\n    <tr>\n      <th>269</th>\n      <td>4.77</td>\n      <td>4</td>\n      <td>The Art of Computer Programming, Volumes 1-4a ...</td>\n      <td>3168</td>\n      <td>Hardcover</td>\n      <td>220.385294</td>\n    </tr>\n    <tr>\n      <th>131</th>\n      <td>4.72</td>\n      <td>362</td>\n      <td>Designing Data-Intensive Applications: The Big...</td>\n      <td>616</td>\n      <td>Paperback</td>\n      <td>45.561765</td>\n    </tr>\n    <tr>\n      <th>114</th>\n      <td>4.67</td>\n      <td>1</td>\n      <td>Build Web Applications with Java: Learn every ...</td>\n      <td>372</td>\n      <td>Paperback</td>\n      <td>42.276471</td>\n    </tr>\n    <tr>\n      <th>194</th>\n      <td>4.67</td>\n      <td>78</td>\n      <td>Fluent Python: Clear, Concise, and Effective P...</td>\n      <td>792</td>\n      <td>Paperback</td>\n      <td>64.091176</td>\n    </tr>\n  </tbody>\n</table>\n</div>"
          },
          "execution_count": 87,
          "metadata": {},
          "output_type": "execute_result"
        }
      ]
    },
    {
      "cell_type": "markdown",
      "metadata": {
        "id": "4A9E17HdfVW_"
      },
      "source": [
        "# Обработка пустых значений"
      ]
    },
    {
      "cell_type": "markdown",
      "metadata": {
        "hidden": true,
        "id": "dxF_HjiVaV4k"
      },
      "source": [
        "создаем датафрейм с 5 строками и 3 столбцами"
      ]
    },
    {
      "cell_type": "code",
      "metadata": {
        "hidden": true,
        "id": "X7w06ukoaV4l",
        "colab": {
          "base_uri": "https://localhost:8080/",
          "height": 203
        },
        "outputId": "a7534e05-eace-4f3e-a154-0c2a2796f8b7"
      },
      "source": [
        "import pandas as pd\n",
        "import numpy as np\n",
        "\n",
        "df = pd.DataFrame(np.arange(0, 15).reshape(5, 3), \n",
        "                  index=['a', 'b', 'c', 'd', 'e'], \n",
        "                  columns=['c1', 'c2', 'c3'])\n",
        "df"
      ],
      "execution_count": null,
      "outputs": [
        {
          "data": {
            "text/plain": "   c1  c2  c3\na   0   1   2\nb   3   4   5\nc   6   7   8\nd   9  10  11\ne  12  13  14",
            "text/html": "<div>\n<style scoped>\n    .dataframe tbody tr th:only-of-type {\n        vertical-align: middle;\n    }\n\n    .dataframe tbody tr th {\n        vertical-align: top;\n    }\n\n    .dataframe thead th {\n        text-align: right;\n    }\n</style>\n<table border=\"1\" class=\"dataframe\">\n  <thead>\n    <tr style=\"text-align: right;\">\n      <th></th>\n      <th>c1</th>\n      <th>c2</th>\n      <th>c3</th>\n    </tr>\n  </thead>\n  <tbody>\n    <tr>\n      <th>a</th>\n      <td>0</td>\n      <td>1</td>\n      <td>2</td>\n    </tr>\n    <tr>\n      <th>b</th>\n      <td>3</td>\n      <td>4</td>\n      <td>5</td>\n    </tr>\n    <tr>\n      <th>c</th>\n      <td>6</td>\n      <td>7</td>\n      <td>8</td>\n    </tr>\n    <tr>\n      <th>d</th>\n      <td>9</td>\n      <td>10</td>\n      <td>11</td>\n    </tr>\n    <tr>\n      <th>e</th>\n      <td>12</td>\n      <td>13</td>\n      <td>14</td>\n    </tr>\n  </tbody>\n</table>\n</div>"
          },
          "execution_count": 88,
          "metadata": {},
          "output_type": "execute_result"
        }
      ]
    },
    {
      "cell_type": "markdown",
      "metadata": {
        "hidden": true,
        "id": "QmwMfKbpaV4w"
      },
      "source": [
        "- добавляем несколько столбцов и строк в датафрейм столбец c4 со значениями NaN\n",
        "- строка 'f' со значениями от 15 до 18 \n",
        "- строка 'g', состоящая из значений NaN\n",
        "- столбец 'c5', состоящий из значений NaN\n",
        "- меняем значение в столбце 'c4' строки 'a'"
      ]
    },
    {
      "cell_type": "code",
      "metadata": {
        "hidden": true,
        "id": "4Fbl6kHTaV4y",
        "colab": {
          "base_uri": "https://localhost:8080/",
          "height": 265
        },
        "outputId": "a31bfd98-02c4-4fe4-bd3a-9e6b03bdcf15"
      },
      "source": [
        "df['c4'] = np.nan\n",
        "df.loc['f'] = np.arange(15, 19) \n",
        "df.loc['g'] = np.nan\n",
        "df['c5'] = np.nan\n",
        "df['c4']['a'] = 20\n",
        "df"
      ],
      "execution_count": null,
      "outputs": [
        {
          "data": {
            "text/plain": "     c1    c2    c3    c4  c5\na   0.0   1.0   2.0  20.0 NaN\nb   3.0   4.0   5.0   NaN NaN\nc   6.0   7.0   8.0   NaN NaN\nd   9.0  10.0  11.0   NaN NaN\ne  12.0  13.0  14.0   NaN NaN\nf  15.0  16.0  17.0  18.0 NaN\ng   NaN   NaN   NaN   NaN NaN",
            "text/html": "<div>\n<style scoped>\n    .dataframe tbody tr th:only-of-type {\n        vertical-align: middle;\n    }\n\n    .dataframe tbody tr th {\n        vertical-align: top;\n    }\n\n    .dataframe thead th {\n        text-align: right;\n    }\n</style>\n<table border=\"1\" class=\"dataframe\">\n  <thead>\n    <tr style=\"text-align: right;\">\n      <th></th>\n      <th>c1</th>\n      <th>c2</th>\n      <th>c3</th>\n      <th>c4</th>\n      <th>c5</th>\n    </tr>\n  </thead>\n  <tbody>\n    <tr>\n      <th>a</th>\n      <td>0.0</td>\n      <td>1.0</td>\n      <td>2.0</td>\n      <td>20.0</td>\n      <td>NaN</td>\n    </tr>\n    <tr>\n      <th>b</th>\n      <td>3.0</td>\n      <td>4.0</td>\n      <td>5.0</td>\n      <td>NaN</td>\n      <td>NaN</td>\n    </tr>\n    <tr>\n      <th>c</th>\n      <td>6.0</td>\n      <td>7.0</td>\n      <td>8.0</td>\n      <td>NaN</td>\n      <td>NaN</td>\n    </tr>\n    <tr>\n      <th>d</th>\n      <td>9.0</td>\n      <td>10.0</td>\n      <td>11.0</td>\n      <td>NaN</td>\n      <td>NaN</td>\n    </tr>\n    <tr>\n      <th>e</th>\n      <td>12.0</td>\n      <td>13.0</td>\n      <td>14.0</td>\n      <td>NaN</td>\n      <td>NaN</td>\n    </tr>\n    <tr>\n      <th>f</th>\n      <td>15.0</td>\n      <td>16.0</td>\n      <td>17.0</td>\n      <td>18.0</td>\n      <td>NaN</td>\n    </tr>\n    <tr>\n      <th>g</th>\n      <td>NaN</td>\n      <td>NaN</td>\n      <td>NaN</td>\n      <td>NaN</td>\n      <td>NaN</td>\n    </tr>\n  </tbody>\n</table>\n</div>"
          },
          "execution_count": 89,
          "metadata": {},
          "output_type": "execute_result"
        }
      ]
    },
    {
      "cell_type": "markdown",
      "metadata": {
        "heading_collapsed": true,
        "id": "TNrBuig-aV48"
      },
      "source": [
        "### Пропущенные значения"
      ]
    },
    {
      "cell_type": "markdown",
      "metadata": {
        "heading_collapsed": true,
        "hidden": true,
        "id": "iUZ1hZuLaV4_"
      },
      "source": [
        "#### поиск"
      ]
    },
    {
      "cell_type": "markdown",
      "metadata": {
        "hidden": true,
        "id": "43Y4M9FKaV5A"
      },
      "source": [
        "какие элементы являются значениями NaN?"
      ]
    },
    {
      "cell_type": "code",
      "metadata": {
        "hidden": true,
        "id": "IL7wN4YpaV5C",
        "colab": {
          "base_uri": "https://localhost:8080/",
          "height": 265
        },
        "outputId": "1721dbba-8208-4b70-b0db-54767399df6f"
      },
      "source": [
        "df.isnull()"
      ],
      "execution_count": null,
      "outputs": [
        {
          "data": {
            "text/plain": "      c1     c2     c3     c4    c5\na  False  False  False  False  True\nb  False  False  False   True  True\nc  False  False  False   True  True\nd  False  False  False   True  True\ne  False  False  False   True  True\nf  False  False  False  False  True\ng   True   True   True   True  True",
            "text/html": "<div>\n<style scoped>\n    .dataframe tbody tr th:only-of-type {\n        vertical-align: middle;\n    }\n\n    .dataframe tbody tr th {\n        vertical-align: top;\n    }\n\n    .dataframe thead th {\n        text-align: right;\n    }\n</style>\n<table border=\"1\" class=\"dataframe\">\n  <thead>\n    <tr style=\"text-align: right;\">\n      <th></th>\n      <th>c1</th>\n      <th>c2</th>\n      <th>c3</th>\n      <th>c4</th>\n      <th>c5</th>\n    </tr>\n  </thead>\n  <tbody>\n    <tr>\n      <th>a</th>\n      <td>False</td>\n      <td>False</td>\n      <td>False</td>\n      <td>False</td>\n      <td>True</td>\n    </tr>\n    <tr>\n      <th>b</th>\n      <td>False</td>\n      <td>False</td>\n      <td>False</td>\n      <td>True</td>\n      <td>True</td>\n    </tr>\n    <tr>\n      <th>c</th>\n      <td>False</td>\n      <td>False</td>\n      <td>False</td>\n      <td>True</td>\n      <td>True</td>\n    </tr>\n    <tr>\n      <th>d</th>\n      <td>False</td>\n      <td>False</td>\n      <td>False</td>\n      <td>True</td>\n      <td>True</td>\n    </tr>\n    <tr>\n      <th>e</th>\n      <td>False</td>\n      <td>False</td>\n      <td>False</td>\n      <td>True</td>\n      <td>True</td>\n    </tr>\n    <tr>\n      <th>f</th>\n      <td>False</td>\n      <td>False</td>\n      <td>False</td>\n      <td>False</td>\n      <td>True</td>\n    </tr>\n    <tr>\n      <th>g</th>\n      <td>True</td>\n      <td>True</td>\n      <td>True</td>\n      <td>True</td>\n      <td>True</td>\n    </tr>\n  </tbody>\n</table>\n</div>"
          },
          "execution_count": 90,
          "metadata": {},
          "output_type": "execute_result"
        }
      ]
    },
    {
      "cell_type": "markdown",
      "metadata": {
        "hidden": true,
        "id": "hRUpP81-aV5b"
      },
      "source": [
        "какие элементы являются непропущенными значениями? (можем использовать ~df.isnull() )"
      ]
    },
    {
      "cell_type": "code",
      "metadata": {
        "hidden": true,
        "id": "aQoX_8TJaV5d",
        "colab": {
          "base_uri": "https://localhost:8080/",
          "height": 265
        },
        "outputId": "a3bf3c09-8443-4b7b-aea6-42e395e2d3b8"
      },
      "source": [
        "df.notnull()"
      ],
      "execution_count": null,
      "outputs": [
        {
          "data": {
            "text/plain": "      c1     c2     c3     c4     c5\na   True   True   True   True  False\nb   True   True   True  False  False\nc   True   True   True  False  False\nd   True   True   True  False  False\ne   True   True   True  False  False\nf   True   True   True   True  False\ng  False  False  False  False  False",
            "text/html": "<div>\n<style scoped>\n    .dataframe tbody tr th:only-of-type {\n        vertical-align: middle;\n    }\n\n    .dataframe tbody tr th {\n        vertical-align: top;\n    }\n\n    .dataframe thead th {\n        text-align: right;\n    }\n</style>\n<table border=\"1\" class=\"dataframe\">\n  <thead>\n    <tr style=\"text-align: right;\">\n      <th></th>\n      <th>c1</th>\n      <th>c2</th>\n      <th>c3</th>\n      <th>c4</th>\n      <th>c5</th>\n    </tr>\n  </thead>\n  <tbody>\n    <tr>\n      <th>a</th>\n      <td>True</td>\n      <td>True</td>\n      <td>True</td>\n      <td>True</td>\n      <td>False</td>\n    </tr>\n    <tr>\n      <th>b</th>\n      <td>True</td>\n      <td>True</td>\n      <td>True</td>\n      <td>False</td>\n      <td>False</td>\n    </tr>\n    <tr>\n      <th>c</th>\n      <td>True</td>\n      <td>True</td>\n      <td>True</td>\n      <td>False</td>\n      <td>False</td>\n    </tr>\n    <tr>\n      <th>d</th>\n      <td>True</td>\n      <td>True</td>\n      <td>True</td>\n      <td>False</td>\n      <td>False</td>\n    </tr>\n    <tr>\n      <th>e</th>\n      <td>True</td>\n      <td>True</td>\n      <td>True</td>\n      <td>False</td>\n      <td>False</td>\n    </tr>\n    <tr>\n      <th>f</th>\n      <td>True</td>\n      <td>True</td>\n      <td>True</td>\n      <td>True</td>\n      <td>False</td>\n    </tr>\n    <tr>\n      <th>g</th>\n      <td>False</td>\n      <td>False</td>\n      <td>False</td>\n      <td>False</td>\n      <td>False</td>\n    </tr>\n  </tbody>\n</table>\n</div>"
          },
          "execution_count": 91,
          "metadata": {},
          "output_type": "execute_result"
        }
      ]
    },
    {
      "cell_type": "markdown",
      "metadata": {
        "hidden": true,
        "id": "ZJGEmwhPaV5l"
      },
      "source": [
        "подсчитываем количество значений NaN в каждом столбце"
      ]
    },
    {
      "cell_type": "code",
      "metadata": {
        "hidden": true,
        "id": "EL6AuRhgaV5n",
        "colab": {
          "base_uri": "https://localhost:8080/"
        },
        "outputId": "a589409c-cac3-4044-e1c7-8525a03225a5"
      },
      "source": [
        "df.isnull().sum(axis=0)"
      ],
      "execution_count": null,
      "outputs": [
        {
          "data": {
            "text/plain": "c1    1\nc2    1\nc3    1\nc4    5\nc5    7\ndtype: int64"
          },
          "execution_count": 92,
          "metadata": {},
          "output_type": "execute_result"
        }
      ]
    },
    {
      "cell_type": "markdown",
      "metadata": {
        "hidden": true,
        "id": "GWRhrjUWaV5y"
      },
      "source": [
        "вычисляем количество значений, отличных от NaN, по каждому столбцу (можем использовать len(df) - df.isnull().sum())\n"
      ]
    },
    {
      "cell_type": "code",
      "metadata": {
        "hidden": true,
        "scrolled": true,
        "id": "v6XjjNTiaV51",
        "colab": {
          "base_uri": "https://localhost:8080/"
        },
        "outputId": "178b8553-0de5-45fa-d54f-b3c1fbd9c4e4"
      },
      "source": [
        "df.count(axis=0)"
      ],
      "execution_count": null,
      "outputs": [
        {
          "data": {
            "text/plain": "c1    6\nc2    6\nc3    6\nc4    2\nc5    0\ndtype: int64"
          },
          "execution_count": 93,
          "metadata": {},
          "output_type": "execute_result"
        }
      ]
    },
    {
      "cell_type": "markdown",
      "metadata": {
        "id": "5AvTIVWBETQf"
      },
      "source": [
        "# Сводка статистик"
      ]
    },
    {
      "cell_type": "markdown",
      "metadata": {
        "id": "ohXtAxl5ETQh"
      },
      "source": [
        "получаем сводку статистик для датафрейма, с которой работаем как с обычным датафреймом"
      ]
    },
    {
      "cell_type": "code",
      "metadata": {
        "id": "wqoiMA9PETQl",
        "colab": {
          "base_uri": "https://localhost:8080/",
          "height": 297
        },
        "outputId": "3bab455c-281d-47eb-9843-d33afaa6a43f"
      },
      "source": [
        "books.describe()"
      ],
      "execution_count": null,
      "outputs": [
        {
          "data": {
            "text/plain": "           rating        pages       price\ncount  271.000000   271.000000  271.000000\nmean     4.067417   475.077491   54.541860\nstd      0.290749   306.147492   35.711485\nmin      3.000000    50.000000    9.323529\n25%      3.915000   289.000000   30.751471\n50%      4.100000   384.000000   46.317647\n75%      4.250000   572.500000   67.854412\nmax      5.000000  3168.000000  235.650000",
            "text/html": "<div>\n<style scoped>\n    .dataframe tbody tr th:only-of-type {\n        vertical-align: middle;\n    }\n\n    .dataframe tbody tr th {\n        vertical-align: top;\n    }\n\n    .dataframe thead th {\n        text-align: right;\n    }\n</style>\n<table border=\"1\" class=\"dataframe\">\n  <thead>\n    <tr style=\"text-align: right;\">\n      <th></th>\n      <th>rating</th>\n      <th>pages</th>\n      <th>price</th>\n    </tr>\n  </thead>\n  <tbody>\n    <tr>\n      <th>count</th>\n      <td>271.000000</td>\n      <td>271.000000</td>\n      <td>271.000000</td>\n    </tr>\n    <tr>\n      <th>mean</th>\n      <td>4.067417</td>\n      <td>475.077491</td>\n      <td>54.541860</td>\n    </tr>\n    <tr>\n      <th>std</th>\n      <td>0.290749</td>\n      <td>306.147492</td>\n      <td>35.711485</td>\n    </tr>\n    <tr>\n      <th>min</th>\n      <td>3.000000</td>\n      <td>50.000000</td>\n      <td>9.323529</td>\n    </tr>\n    <tr>\n      <th>25%</th>\n      <td>3.915000</td>\n      <td>289.000000</td>\n      <td>30.751471</td>\n    </tr>\n    <tr>\n      <th>50%</th>\n      <td>4.100000</td>\n      <td>384.000000</td>\n      <td>46.317647</td>\n    </tr>\n    <tr>\n      <th>75%</th>\n      <td>4.250000</td>\n      <td>572.500000</td>\n      <td>67.854412</td>\n    </tr>\n    <tr>\n      <th>max</th>\n      <td>5.000000</td>\n      <td>3168.000000</td>\n      <td>235.650000</td>\n    </tr>\n  </tbody>\n</table>\n</div>"
          },
          "execution_count": 94,
          "metadata": {},
          "output_type": "execute_result"
        }
      ]
    },
    {
      "cell_type": "markdown",
      "source": [
        "иногда удобно сводную табличку транспонировать"
      ],
      "metadata": {
        "collapsed": false,
        "id": "CUmIv6EZSTLJ"
      }
    },
    {
      "cell_type": "code",
      "execution_count": null,
      "outputs": [
        {
          "data": {
            "text/plain": "        count        mean         std        min         25%         50%  \\\nrating  271.0    4.067417    0.290749   3.000000    3.915000    4.100000   \npages   271.0  475.077491  306.147492  50.000000  289.000000  384.000000   \nprice   271.0   54.541860   35.711485   9.323529   30.751471   46.317647   \n\n               75%      max  \nrating    4.250000     5.00  \npages   572.500000  3168.00  \nprice    67.854412   235.65  ",
            "text/html": "<div>\n<style scoped>\n    .dataframe tbody tr th:only-of-type {\n        vertical-align: middle;\n    }\n\n    .dataframe tbody tr th {\n        vertical-align: top;\n    }\n\n    .dataframe thead th {\n        text-align: right;\n    }\n</style>\n<table border=\"1\" class=\"dataframe\">\n  <thead>\n    <tr style=\"text-align: right;\">\n      <th></th>\n      <th>count</th>\n      <th>mean</th>\n      <th>std</th>\n      <th>min</th>\n      <th>25%</th>\n      <th>50%</th>\n      <th>75%</th>\n      <th>max</th>\n    </tr>\n  </thead>\n  <tbody>\n    <tr>\n      <th>rating</th>\n      <td>271.0</td>\n      <td>4.067417</td>\n      <td>0.290749</td>\n      <td>3.000000</td>\n      <td>3.915000</td>\n      <td>4.100000</td>\n      <td>4.250000</td>\n      <td>5.00</td>\n    </tr>\n    <tr>\n      <th>pages</th>\n      <td>271.0</td>\n      <td>475.077491</td>\n      <td>306.147492</td>\n      <td>50.000000</td>\n      <td>289.000000</td>\n      <td>384.000000</td>\n      <td>572.500000</td>\n      <td>3168.00</td>\n    </tr>\n    <tr>\n      <th>price</th>\n      <td>271.0</td>\n      <td>54.541860</td>\n      <td>35.711485</td>\n      <td>9.323529</td>\n      <td>30.751471</td>\n      <td>46.317647</td>\n      <td>67.854412</td>\n      <td>235.65</td>\n    </tr>\n  </tbody>\n</table>\n</div>"
          },
          "execution_count": 96,
          "metadata": {},
          "output_type": "execute_result"
        }
      ],
      "source": [
        "books.describe().T"
      ],
      "metadata": {
        "pycharm": {
          "name": "#%%\n"
        },
        "id": "ljWwJ2u1STLJ",
        "outputId": "c8e36a15-d8da-4458-b9c1-8c665ef84ec3"
      }
    },
    {
      "cell_type": "markdown",
      "source": [
        "можно заметить, что вывелись статистики только по числовым данным, чтобы вывести статистику по всем столбцам, нужно прописать параметр `include=\"all\"` (но это не единственный способ)"
      ],
      "metadata": {
        "collapsed": false,
        "id": "fBp3u3jHSTLJ"
      }
    },
    {
      "cell_type": "code",
      "metadata": {
        "colab": {
          "base_uri": "https://localhost:8080/",
          "height": 390
        },
        "id": "TeBXRlQvFJd4",
        "outputId": "fc49ee67-405c-4470-acc6-b9d82377cb20"
      },
      "source": [
        "books.describe(include=\"all\").T"
      ],
      "execution_count": null,
      "outputs": [
        {
          "data": {
            "text/plain": "         count unique                    top freq        mean         std  \\\nrating   271.0    NaN                    NaN  NaN    4.067417    0.290749   \nreviews    271    133                      0   22         NaN         NaN   \ntitle      271    271  The Elements of Style    1         NaN         NaN   \npages    271.0    NaN                    NaN  NaN  475.077491  306.147492   \ntype       271      6              Paperback  156         NaN         NaN   \nprice    271.0    NaN                    NaN  NaN    54.54186   35.711485   \n\n              min        25%        50%        75%     max  \nrating        3.0      3.915        4.1       4.25     5.0  \nreviews       NaN        NaN        NaN        NaN     NaN  \ntitle         NaN        NaN        NaN        NaN     NaN  \npages        50.0      289.0      384.0      572.5  3168.0  \ntype          NaN        NaN        NaN        NaN     NaN  \nprice    9.323529  30.751471  46.317647  67.854412  235.65  ",
            "text/html": "<div>\n<style scoped>\n    .dataframe tbody tr th:only-of-type {\n        vertical-align: middle;\n    }\n\n    .dataframe tbody tr th {\n        vertical-align: top;\n    }\n\n    .dataframe thead th {\n        text-align: right;\n    }\n</style>\n<table border=\"1\" class=\"dataframe\">\n  <thead>\n    <tr style=\"text-align: right;\">\n      <th></th>\n      <th>count</th>\n      <th>unique</th>\n      <th>top</th>\n      <th>freq</th>\n      <th>mean</th>\n      <th>std</th>\n      <th>min</th>\n      <th>25%</th>\n      <th>50%</th>\n      <th>75%</th>\n      <th>max</th>\n    </tr>\n  </thead>\n  <tbody>\n    <tr>\n      <th>rating</th>\n      <td>271.0</td>\n      <td>NaN</td>\n      <td>NaN</td>\n      <td>NaN</td>\n      <td>4.067417</td>\n      <td>0.290749</td>\n      <td>3.0</td>\n      <td>3.915</td>\n      <td>4.1</td>\n      <td>4.25</td>\n      <td>5.0</td>\n    </tr>\n    <tr>\n      <th>reviews</th>\n      <td>271</td>\n      <td>133</td>\n      <td>0</td>\n      <td>22</td>\n      <td>NaN</td>\n      <td>NaN</td>\n      <td>NaN</td>\n      <td>NaN</td>\n      <td>NaN</td>\n      <td>NaN</td>\n      <td>NaN</td>\n    </tr>\n    <tr>\n      <th>title</th>\n      <td>271</td>\n      <td>271</td>\n      <td>The Elements of Style</td>\n      <td>1</td>\n      <td>NaN</td>\n      <td>NaN</td>\n      <td>NaN</td>\n      <td>NaN</td>\n      <td>NaN</td>\n      <td>NaN</td>\n      <td>NaN</td>\n    </tr>\n    <tr>\n      <th>pages</th>\n      <td>271.0</td>\n      <td>NaN</td>\n      <td>NaN</td>\n      <td>NaN</td>\n      <td>475.077491</td>\n      <td>306.147492</td>\n      <td>50.0</td>\n      <td>289.0</td>\n      <td>384.0</td>\n      <td>572.5</td>\n      <td>3168.0</td>\n    </tr>\n    <tr>\n      <th>type</th>\n      <td>271</td>\n      <td>6</td>\n      <td>Paperback</td>\n      <td>156</td>\n      <td>NaN</td>\n      <td>NaN</td>\n      <td>NaN</td>\n      <td>NaN</td>\n      <td>NaN</td>\n      <td>NaN</td>\n      <td>NaN</td>\n    </tr>\n    <tr>\n      <th>price</th>\n      <td>271.0</td>\n      <td>NaN</td>\n      <td>NaN</td>\n      <td>NaN</td>\n      <td>54.54186</td>\n      <td>35.711485</td>\n      <td>9.323529</td>\n      <td>30.751471</td>\n      <td>46.317647</td>\n      <td>67.854412</td>\n      <td>235.65</td>\n    </tr>\n  </tbody>\n</table>\n</div>"
          },
          "execution_count": 97,
          "metadata": {},
          "output_type": "execute_result"
        }
      ]
    },
    {
      "cell_type": "markdown",
      "metadata": {
        "id": "i2xqGi7LETQq"
      },
      "source": [
        "вычисляем сводку статистик для отдельного столбца"
      ]
    },
    {
      "cell_type": "code",
      "metadata": {
        "id": "izTpZn0vETQr",
        "colab": {
          "base_uri": "https://localhost:8080/"
        },
        "outputId": "59ad445d-f172-4021-8369-1324aad92b97"
      },
      "source": [
        "books.price.describe()"
      ],
      "execution_count": null,
      "outputs": [
        {
          "data": {
            "text/plain": "count    271.000000\nmean      54.541860\nstd       35.711485\nmin        9.323529\n25%       30.751471\n50%       46.317647\n75%       67.854412\nmax      235.650000\nName: price, dtype: float64"
          },
          "execution_count": 99,
          "metadata": {},
          "output_type": "execute_result"
        }
      ]
    },
    {
      "cell_type": "code",
      "execution_count": null,
      "outputs": [
        {
          "data": {
            "text/plain": "count                       271\nunique                      271\ntop       The Elements of Style\nfreq                          1\nName: title, dtype: object"
          },
          "execution_count": 100,
          "metadata": {},
          "output_type": "execute_result"
        }
      ],
      "source": [
        "books.title.describe()"
      ],
      "metadata": {
        "pycharm": {
          "name": "#%%\n"
        },
        "id": "Ac7aitiySTLK",
        "outputId": "ad4e36d8-53bc-41f0-b738-140eab9a20d8"
      }
    },
    {
      "cell_type": "markdown",
      "metadata": {
        "id": "kZb97FTAETRB"
      },
      "source": [
        "метод info:"
      ]
    },
    {
      "cell_type": "code",
      "metadata": {
        "id": "Kn_HXNi1ETRI",
        "colab": {
          "base_uri": "https://localhost:8080/"
        },
        "outputId": "1b411874-fe39-4134-d4a2-102eb34864e5"
      },
      "source": [
        "books.info()"
      ],
      "execution_count": null,
      "outputs": [
        {
          "name": "stdout",
          "output_type": "stream",
          "text": [
            "<class 'pandas.core.frame.DataFrame'>\n",
            "RangeIndex: 271 entries, 0 to 270\n",
            "Data columns (total 6 columns):\n",
            " #   Column   Non-Null Count  Dtype  \n",
            "---  ------   --------------  -----  \n",
            " 0   rating   271 non-null    float64\n",
            " 1   reviews  271 non-null    object \n",
            " 2   title    271 non-null    object \n",
            " 3   pages    271 non-null    int64  \n",
            " 4   type     271 non-null    object \n",
            " 5   price    271 non-null    float64\n",
            "dtypes: float64(2), int64(1), object(3)\n",
            "memory usage: 12.8+ KB\n"
          ]
        }
      ]
    },
    {
      "cell_type": "markdown",
      "metadata": {
        "id": "6xnPczs9ETRy"
      },
      "source": [
        "получаем сводную статистику для нечисловых данных"
      ]
    },
    {
      "cell_type": "code",
      "metadata": {
        "id": "oKXtbOi7ETR5",
        "colab": {
          "base_uri": "https://localhost:8080/"
        },
        "outputId": "39f5a744-43f7-4c63-eaad-293076f85ce2"
      },
      "source": [
        "books.type.value_counts(normalize=True) # без normalize=True получим просто количество"
      ],
      "execution_count": null,
      "outputs": [
        {
          "data": {
            "text/plain": "Paperback                0.575646\nHardcover                0.350554\nKindle Edition           0.036900\nebook                    0.025830\nUnknown Binding          0.007380\nBoxed Set - Hardcover    0.003690\nName: type, dtype: float64"
          },
          "execution_count": 105,
          "metadata": {},
          "output_type": "execute_result"
        }
      ]
    },
    {
      "cell_type": "markdown",
      "metadata": {
        "heading_collapsed": true,
        "id": "OQr-Hl9zETSD"
      },
      "source": [
        "### Арифметические операции"
      ]
    },
    {
      "cell_type": "markdown",
      "metadata": {
        "hidden": true,
        "id": "gaXY08yIETSM"
      },
      "source": [
        "- задаем стартовое значение генератора случайных чисел для получения воспроизводимых результатов\n",
        "- создаем объект DataFrame"
      ]
    },
    {
      "cell_type": "code",
      "metadata": {
        "hidden": true,
        "id": "c6VcVzEuETSQ",
        "colab": {
          "base_uri": "https://localhost:8080/",
          "height": 206
        },
        "outputId": "0166409a-09cc-4f09-cba6-82db487dc443"
      },
      "source": [
        "np.random.seed(123)\n",
        "df = pd.DataFrame(np.random.randn(5, 4), \n",
        "                  columns=['A', 'B', 'C', 'D'])\n",
        "df"
      ],
      "execution_count": null,
      "outputs": [
        {
          "data": {
            "text/plain": "          A         B         C         D\n0 -1.085631  0.997345  0.282978 -1.506295\n1 -0.578600  1.651437 -2.426679 -0.428913\n2  1.265936 -0.866740 -0.678886 -0.094709\n3  1.491390 -0.638902 -0.443982 -0.434351\n4  2.205930  2.186786  1.004054  0.386186",
            "text/html": "<div>\n<style scoped>\n    .dataframe tbody tr th:only-of-type {\n        vertical-align: middle;\n    }\n\n    .dataframe tbody tr th {\n        vertical-align: top;\n    }\n\n    .dataframe thead th {\n        text-align: right;\n    }\n</style>\n<table border=\"1\" class=\"dataframe\">\n  <thead>\n    <tr style=\"text-align: right;\">\n      <th></th>\n      <th>A</th>\n      <th>B</th>\n      <th>C</th>\n      <th>D</th>\n    </tr>\n  </thead>\n  <tbody>\n    <tr>\n      <th>0</th>\n      <td>-1.085631</td>\n      <td>0.997345</td>\n      <td>0.282978</td>\n      <td>-1.506295</td>\n    </tr>\n    <tr>\n      <th>1</th>\n      <td>-0.578600</td>\n      <td>1.651437</td>\n      <td>-2.426679</td>\n      <td>-0.428913</td>\n    </tr>\n    <tr>\n      <th>2</th>\n      <td>1.265936</td>\n      <td>-0.866740</td>\n      <td>-0.678886</td>\n      <td>-0.094709</td>\n    </tr>\n    <tr>\n      <th>3</th>\n      <td>1.491390</td>\n      <td>-0.638902</td>\n      <td>-0.443982</td>\n      <td>-0.434351</td>\n    </tr>\n    <tr>\n      <th>4</th>\n      <td>2.205930</td>\n      <td>2.186786</td>\n      <td>1.004054</td>\n      <td>0.386186</td>\n    </tr>\n  </tbody>\n</table>\n</div>"
          },
          "execution_count": 106,
          "metadata": {},
          "output_type": "execute_result"
        }
      ]
    },
    {
      "cell_type": "markdown",
      "metadata": {
        "hidden": true,
        "id": "aUhrDNKeETSb"
      },
      "source": [
        "умножаем все на 2, берём только абсолютные значения"
      ]
    },
    {
      "cell_type": "code",
      "metadata": {
        "hidden": true,
        "id": "5FYn2uNoETSd",
        "colab": {
          "base_uri": "https://localhost:8080/",
          "height": 206
        },
        "outputId": "369c78f4-95ab-4515-9757-d88a1f93f131"
      },
      "source": [
        "abs(df * 2)"
      ],
      "execution_count": null,
      "outputs": [
        {
          "data": {
            "text/plain": "          A         B         C         D\n0  2.171261  1.994691  0.565957  3.012589\n1  1.157201  3.302873  4.853358  0.857825\n2  2.531873  1.733481  1.357772  0.189418\n3  2.982779  1.277804  0.887964  0.868703\n4  4.411860  4.373572  2.008108  0.772373",
            "text/html": "<div>\n<style scoped>\n    .dataframe tbody tr th:only-of-type {\n        vertical-align: middle;\n    }\n\n    .dataframe tbody tr th {\n        vertical-align: top;\n    }\n\n    .dataframe thead th {\n        text-align: right;\n    }\n</style>\n<table border=\"1\" class=\"dataframe\">\n  <thead>\n    <tr style=\"text-align: right;\">\n      <th></th>\n      <th>A</th>\n      <th>B</th>\n      <th>C</th>\n      <th>D</th>\n    </tr>\n  </thead>\n  <tbody>\n    <tr>\n      <th>0</th>\n      <td>2.171261</td>\n      <td>1.994691</td>\n      <td>0.565957</td>\n      <td>3.012589</td>\n    </tr>\n    <tr>\n      <th>1</th>\n      <td>1.157201</td>\n      <td>3.302873</td>\n      <td>4.853358</td>\n      <td>0.857825</td>\n    </tr>\n    <tr>\n      <th>2</th>\n      <td>2.531873</td>\n      <td>1.733481</td>\n      <td>1.357772</td>\n      <td>0.189418</td>\n    </tr>\n    <tr>\n      <th>3</th>\n      <td>2.982779</td>\n      <td>1.277804</td>\n      <td>0.887964</td>\n      <td>0.868703</td>\n    </tr>\n    <tr>\n      <th>4</th>\n      <td>4.411860</td>\n      <td>4.373572</td>\n      <td>2.008108</td>\n      <td>0.772373</td>\n    </tr>\n  </tbody>\n</table>\n</div>"
          },
          "execution_count": 107,
          "metadata": {},
          "output_type": "execute_result"
        }
      ]
    },
    {
      "cell_type": "markdown",
      "metadata": {
        "hidden": true,
        "id": "XqX_0roRETSr"
      },
      "source": [
        "вычитаем первую строку из каждой строки объекта DataFrame"
      ]
    },
    {
      "cell_type": "code",
      "metadata": {
        "hidden": true,
        "id": "d-QnI3obETSs",
        "colab": {
          "base_uri": "https://localhost:8080/",
          "height": 206
        },
        "outputId": "a14411df-93e5-493a-f7ae-f94dfcb295ed"
      },
      "source": [
        "df"
      ],
      "execution_count": null,
      "outputs": [
        {
          "data": {
            "text/plain": "          A         B         C         D\n0 -1.085631  0.997345  0.282978 -1.506295\n1 -0.578600  1.651437 -2.426679 -0.428913\n2  1.265936 -0.866740 -0.678886 -0.094709\n3  1.491390 -0.638902 -0.443982 -0.434351\n4  2.205930  2.186786  1.004054  0.386186",
            "text/html": "<div>\n<style scoped>\n    .dataframe tbody tr th:only-of-type {\n        vertical-align: middle;\n    }\n\n    .dataframe tbody tr th {\n        vertical-align: top;\n    }\n\n    .dataframe thead th {\n        text-align: right;\n    }\n</style>\n<table border=\"1\" class=\"dataframe\">\n  <thead>\n    <tr style=\"text-align: right;\">\n      <th></th>\n      <th>A</th>\n      <th>B</th>\n      <th>C</th>\n      <th>D</th>\n    </tr>\n  </thead>\n  <tbody>\n    <tr>\n      <th>0</th>\n      <td>-1.085631</td>\n      <td>0.997345</td>\n      <td>0.282978</td>\n      <td>-1.506295</td>\n    </tr>\n    <tr>\n      <th>1</th>\n      <td>-0.578600</td>\n      <td>1.651437</td>\n      <td>-2.426679</td>\n      <td>-0.428913</td>\n    </tr>\n    <tr>\n      <th>2</th>\n      <td>1.265936</td>\n      <td>-0.866740</td>\n      <td>-0.678886</td>\n      <td>-0.094709</td>\n    </tr>\n    <tr>\n      <th>3</th>\n      <td>1.491390</td>\n      <td>-0.638902</td>\n      <td>-0.443982</td>\n      <td>-0.434351</td>\n    </tr>\n    <tr>\n      <th>4</th>\n      <td>2.205930</td>\n      <td>2.186786</td>\n      <td>1.004054</td>\n      <td>0.386186</td>\n    </tr>\n  </tbody>\n</table>\n</div>"
          },
          "execution_count": 108,
          "metadata": {},
          "output_type": "execute_result"
        }
      ]
    },
    {
      "cell_type": "code",
      "metadata": {
        "hidden": true,
        "id": "_jojHcX2ETS3",
        "colab": {
          "base_uri": "https://localhost:8080/"
        },
        "outputId": "72aa626b-a5e3-4cb8-8f0f-24bfc3ed9440"
      },
      "source": [
        "df.iloc[0]"
      ],
      "execution_count": null,
      "outputs": [
        {
          "data": {
            "text/plain": "A   -1.085631\nB    0.997345\nC    0.282978\nD   -1.506295\nName: 0, dtype: float64"
          },
          "execution_count": 109,
          "metadata": {},
          "output_type": "execute_result"
        }
      ]
    },
    {
      "cell_type": "code",
      "metadata": {
        "hidden": true,
        "id": "sTb88BN2ETTC",
        "colab": {
          "base_uri": "https://localhost:8080/",
          "height": 206
        },
        "outputId": "9e3b5712-d2d0-42f9-e5e7-8af9478e00c1"
      },
      "source": [
        "df - df.iloc[0]"
      ],
      "execution_count": null,
      "outputs": [
        {
          "data": {
            "text/plain": "          A         B         C         D\n0  0.000000  0.000000  0.000000  0.000000\n1  0.507030  0.654091 -2.709658  1.077382\n2  2.351567 -1.864086 -0.961865  1.411586\n3  2.577020 -1.636247 -0.726960  1.071943\n4  3.291561  1.189441  0.721075  1.892481",
            "text/html": "<div>\n<style scoped>\n    .dataframe tbody tr th:only-of-type {\n        vertical-align: middle;\n    }\n\n    .dataframe tbody tr th {\n        vertical-align: top;\n    }\n\n    .dataframe thead th {\n        text-align: right;\n    }\n</style>\n<table border=\"1\" class=\"dataframe\">\n  <thead>\n    <tr style=\"text-align: right;\">\n      <th></th>\n      <th>A</th>\n      <th>B</th>\n      <th>C</th>\n      <th>D</th>\n    </tr>\n  </thead>\n  <tbody>\n    <tr>\n      <th>0</th>\n      <td>0.000000</td>\n      <td>0.000000</td>\n      <td>0.000000</td>\n      <td>0.000000</td>\n    </tr>\n    <tr>\n      <th>1</th>\n      <td>0.507030</td>\n      <td>0.654091</td>\n      <td>-2.709658</td>\n      <td>1.077382</td>\n    </tr>\n    <tr>\n      <th>2</th>\n      <td>2.351567</td>\n      <td>-1.864086</td>\n      <td>-0.961865</td>\n      <td>1.411586</td>\n    </tr>\n    <tr>\n      <th>3</th>\n      <td>2.577020</td>\n      <td>-1.636247</td>\n      <td>-0.726960</td>\n      <td>1.071943</td>\n    </tr>\n    <tr>\n      <th>4</th>\n      <td>3.291561</td>\n      <td>1.189441</td>\n      <td>0.721075</td>\n      <td>1.892481</td>\n    </tr>\n  </tbody>\n</table>\n</div>"
          },
          "execution_count": 110,
          "metadata": {},
          "output_type": "execute_result"
        }
      ]
    },
    {
      "cell_type": "markdown",
      "metadata": {
        "heading_collapsed": true,
        "id": "25mqpgtFETUF"
      },
      "source": [
        "### Одномерные статистики"
      ]
    },
    {
      "cell_type": "markdown",
      "metadata": {
        "heading_collapsed": true,
        "hidden": true,
        "id": "5BSQuiqVETUG"
      },
      "source": [
        "#### минимум / максимум"
      ]
    },
    {
      "cell_type": "code",
      "metadata": {
        "hidden": true,
        "id": "jKU9KCflETUI",
        "colab": {
          "base_uri": "https://localhost:8080/"
        },
        "outputId": "59353944-e1ca-4ffb-9b85-727af1e704e3"
      },
      "source": [
        "books_copy[['price', 'pages']].max()"
      ],
      "execution_count": null,
      "outputs": [
        {
          "data": {
            "text/plain": "price     235.65\npages    3168.00\ndtype: float64"
          },
          "execution_count": 111,
          "metadata": {},
          "output_type": "execute_result"
        }
      ]
    },
    {
      "cell_type": "markdown",
      "metadata": {
        "hidden": true,
        "id": "icuquYWyETUZ"
      },
      "source": [
        "определяем индекс строк\n"
      ]
    },
    {
      "cell_type": "code",
      "metadata": {
        "hidden": true,
        "id": "8EcjVvDVETUa",
        "colab": {
          "base_uri": "https://localhost:8080/"
        },
        "outputId": "70f8cf41-8601-4d3b-bc2f-852516f281bb"
      },
      "source": [
        "books_copy[['price', 'pages']].idxmax()"
      ],
      "execution_count": null,
      "outputs": [
        {
          "data": {
            "text/plain": "price    270\npages    269\ndtype: int64"
          },
          "execution_count": 112,
          "metadata": {},
          "output_type": "execute_result"
        }
      ]
    },
    {
      "cell_type": "markdown",
      "metadata": {
        "heading_collapsed": true,
        "hidden": true,
        "id": "qQZI-0pbETUh"
      },
      "source": [
        "#### cреднее значение / медиана / мода"
      ]
    },
    {
      "cell_type": "markdown",
      "metadata": {
        "hidden": true,
        "id": "j40APeXoETUj"
      },
      "source": [
        "вычисляем среднее значение для всех столбцов в датафрейме books"
      ]
    },
    {
      "cell_type": "code",
      "metadata": {
        "hidden": true,
        "id": "v6__77h5ETUk",
        "colab": {
          "base_uri": "https://localhost:8080/"
        },
        "outputId": "37e5129e-6c1c-4217-c7ea-beaf6424cf9e"
      },
      "source": [
        "books.mean()"
      ],
      "execution_count": null,
      "outputs": [
        {
          "name": "stderr",
          "output_type": "stream",
          "text": [
            "/Users/ana_cher/.conda/envs/phd/lib/python3.7/site-packages/ipykernel_launcher.py:1: FutureWarning: Dropping of nuisance columns in DataFrame reductions (with 'numeric_only=None') is deprecated; in a future version this will raise TypeError.  Select only valid columns before calling the reduction.\n",
            "  \"\"\"Entry point for launching an IPython kernel.\n"
          ]
        },
        {
          "data": {
            "text/plain": "rating      4.067417\npages     475.077491\nprice      54.541860\ndtype: float64"
          },
          "execution_count": 114,
          "metadata": {},
          "output_type": "execute_result"
        }
      ]
    },
    {
      "cell_type": "markdown",
      "metadata": {
        "hidden": true,
        "id": "60-zM_ZoETUq"
      },
      "source": [
        "вычисляем значение, усредненное по всем столбцам, для каждой строки и выведем первые 5 (не очень логично для этого датасета, да)"
      ]
    },
    {
      "cell_type": "code",
      "metadata": {
        "hidden": true,
        "id": "SXhU7q9_ETUs",
        "colab": {
          "base_uri": "https://localhost:8080/"
        },
        "outputId": "abbf576f-e176-4d61-e146-dbbf29f22a3f"
      },
      "source": [
        "books.mean(axis=1).head()"
      ],
      "execution_count": null,
      "outputs": [
        {
          "name": "stderr",
          "output_type": "stream",
          "text": [
            "/Users/ana_cher/.conda/envs/phd/lib/python3.7/site-packages/ipykernel_launcher.py:1: FutureWarning: Dropping of nuisance columns in DataFrame reductions (with 'numeric_only=None') is deprecated; in a future version this will raise TypeError.  Select only valid columns before calling the reduction.\n",
            "  \"\"\"Entry point for launching an IPython kernel.\n"
          ]
        },
        {
          "data": {
            "text/plain": "0     39.497843\n1    180.670000\n2     21.532549\n3    136.614510\n4    107.408235\ndtype: float64"
          },
          "execution_count": 115,
          "metadata": {},
          "output_type": "execute_result"
        }
      ]
    },
    {
      "cell_type": "markdown",
      "metadata": {
        "hidden": true,
        "id": "RKqjpcIoETU3"
      },
      "source": [
        "вычисляем медиану значений для каждого столбца"
      ]
    },
    {
      "cell_type": "code",
      "metadata": {
        "hidden": true,
        "id": "1Bydol5SETU5",
        "colab": {
          "base_uri": "https://localhost:8080/"
        },
        "outputId": "2f735642-ee01-4613-aef9-db89b99c0efc"
      },
      "source": [
        "books.median()"
      ],
      "execution_count": null,
      "outputs": [
        {
          "name": "stderr",
          "output_type": "stream",
          "text": [
            "/Users/ana_cher/.conda/envs/phd/lib/python3.7/site-packages/ipykernel_launcher.py:1: FutureWarning: Dropping of nuisance columns in DataFrame reductions (with 'numeric_only=None') is deprecated; in a future version this will raise TypeError.  Select only valid columns before calling the reduction.\n",
            "  \"\"\"Entry point for launching an IPython kernel.\n"
          ]
        },
        {
          "data": {
            "text/plain": "rating      4.100000\npages     384.000000\nprice      46.317647\ndtype: float64"
          },
          "execution_count": 116,
          "metadata": {},
          "output_type": "execute_result"
        }
      ]
    },
    {
      "cell_type": "markdown",
      "metadata": {
        "hidden": true,
        "id": "2HwvzPsgETVF"
      },
      "source": [
        "вычисляем моду для столбца state"
      ]
    },
    {
      "cell_type": "code",
      "metadata": {
        "hidden": true,
        "id": "7Cpj4i3NETVH",
        "colab": {
          "base_uri": "https://localhost:8080/"
        },
        "outputId": "65912e1b-a165-4057-c929-9a87485913ea"
      },
      "source": [
        "books.type.mode()"
      ],
      "execution_count": null,
      "outputs": [
        {
          "data": {
            "text/plain": "0    Paperback\ndtype: object"
          },
          "execution_count": 117,
          "metadata": {},
          "output_type": "execute_result"
        }
      ]
    },
    {
      "cell_type": "markdown",
      "metadata": {
        "hidden": true,
        "id": "1laF3GyfETVU"
      },
      "source": [
        "мод может быть несколько, поэтому результат операции - Series "
      ]
    },
    {
      "cell_type": "code",
      "metadata": {
        "hidden": true,
        "id": "C5BiSHt0ETVV",
        "colab": {
          "base_uri": "https://localhost:8080/"
        },
        "outputId": "1b1f5f52-a4ac-4f70-a05f-053785083500"
      },
      "source": [
        "s = pd.Series([1, 2, 3, 3, 5, 1])\n",
        "s.mode()"
      ],
      "execution_count": null,
      "outputs": [
        {
          "data": {
            "text/plain": "0    1\n1    3\ndtype: int64"
          },
          "execution_count": 118,
          "metadata": {},
          "output_type": "execute_result"
        }
      ]
    },
    {
      "cell_type": "markdown",
      "metadata": {
        "heading_collapsed": true,
        "hidden": true,
        "id": "Czo94FXPETVZ"
      },
      "source": [
        "#### [дисперсия](https://ru.wikipedia.org/wiki/Дисперсия_случайной_величины) / среднеквадратичное отклонение"
      ]
    },
    {
      "cell_type": "markdown",
      "metadata": {
        "hidden": true,
        "id": "L2XmbpWwETVa"
      },
      "source": [
        "вычисляем дисперсию значений в каждом столбце"
      ]
    },
    {
      "cell_type": "code",
      "metadata": {
        "hidden": true,
        "id": "8y9ATX0oETVc",
        "colab": {
          "base_uri": "https://localhost:8080/"
        },
        "outputId": "e8fd6422-d983-493d-9715-4234f28344c5"
      },
      "source": [
        "books.var()"
      ],
      "execution_count": null,
      "outputs": [
        {
          "name": "stderr",
          "output_type": "stream",
          "text": [
            "/Users/ana_cher/.conda/envs/phd/lib/python3.7/site-packages/ipykernel_launcher.py:1: FutureWarning: Dropping of nuisance columns in DataFrame reductions (with 'numeric_only=None') is deprecated; in a future version this will raise TypeError.  Select only valid columns before calling the reduction.\n",
            "  \"\"\"Entry point for launching an IPython kernel.\n"
          ]
        },
        {
          "data": {
            "text/plain": "rating        0.084535\npages     93726.286566\nprice      1275.310136\ndtype: float64"
          },
          "execution_count": 119,
          "metadata": {},
          "output_type": "execute_result"
        }
      ]
    },
    {
      "cell_type": "markdown",
      "metadata": {
        "hidden": true,
        "id": "cCOsBjjAETVp"
      },
      "source": [
        "вычисляем среднеквадратичное отклонение"
      ]
    },
    {
      "cell_type": "code",
      "metadata": {
        "hidden": true,
        "id": "O0Ly5-36ETVq",
        "colab": {
          "base_uri": "https://localhost:8080/"
        },
        "outputId": "a73cdc05-aa2a-4d0a-accd-aca354514bde"
      },
      "source": [
        "books.std()"
      ],
      "execution_count": null,
      "outputs": [
        {
          "name": "stderr",
          "output_type": "stream",
          "text": [
            "/Users/ana_cher/.conda/envs/phd/lib/python3.7/site-packages/ipykernel_launcher.py:1: FutureWarning: Dropping of nuisance columns in DataFrame reductions (with 'numeric_only=None') is deprecated; in a future version this will raise TypeError.  Select only valid columns before calling the reduction.\n",
            "  \"\"\"Entry point for launching an IPython kernel.\n"
          ]
        },
        {
          "data": {
            "text/plain": "rating      0.290749\npages     306.147492\nprice      35.711485\ndtype: float64"
          },
          "execution_count": 120,
          "metadata": {},
          "output_type": "execute_result"
        }
      ]
    },
    {
      "cell_type": "markdown",
      "metadata": {
        "heading_collapsed": true,
        "hidden": true,
        "id": "JWYd1XptETWJ"
      },
      "source": [
        "#### [корреляция](https://ru.wikipedia.org/wiki/Корреляция)"
      ]
    },
    {
      "cell_type": "markdown",
      "metadata": {
        "hidden": true,
        "id": "h5gg-8QLETWK"
      },
      "source": [
        "вычисляем корреляцию между age и RoundedAge"
      ]
    },
    {
      "cell_type": "code",
      "metadata": {
        "hidden": true,
        "id": "1m9u-bDTETWV",
        "colab": {
          "base_uri": "https://localhost:8080/"
        },
        "outputId": "7b36ae8d-889d-43ee-f777-7531abd0b771"
      },
      "source": [
        "books_copy.price.corr(books_copy.RoundedPrice)"
      ],
      "execution_count": null,
      "outputs": [
        {
          "data": {
            "text/plain": "0.999969245572987"
          },
          "execution_count": 121,
          "metadata": {},
          "output_type": "execute_result"
        }
      ]
    },
    {
      "cell_type": "markdown",
      "metadata": {
        "hidden": true,
        "id": "5hYJ1QNIETW4"
      },
      "source": [
        "либо можем получать матрицу корреляций"
      ]
    },
    {
      "cell_type": "code",
      "metadata": {
        "hidden": true,
        "id": "n6b58JKUETW5",
        "colab": {
          "base_uri": "https://localhost:8080/",
          "height": 112
        },
        "outputId": "d95dc81a-ff52-4d66-fedb-06ebae968a61",
        "pycharm": {
          "name": "#%%\n"
        }
      },
      "source": [
        "books_copy.corr()"
      ],
      "execution_count": null,
      "outputs": [
        {
          "data": {
            "text/plain": "                rating     pages     price  RoundedPrice\nrating        1.000000  0.132189  0.046697      0.046046\npages         0.132189  1.000000  0.636951      0.637064\nprice         0.046697  0.636951  1.000000      0.999969\nRoundedPrice  0.046046  0.637064  0.999969      1.000000",
            "text/html": "<div>\n<style scoped>\n    .dataframe tbody tr th:only-of-type {\n        vertical-align: middle;\n    }\n\n    .dataframe tbody tr th {\n        vertical-align: top;\n    }\n\n    .dataframe thead th {\n        text-align: right;\n    }\n</style>\n<table border=\"1\" class=\"dataframe\">\n  <thead>\n    <tr style=\"text-align: right;\">\n      <th></th>\n      <th>rating</th>\n      <th>pages</th>\n      <th>price</th>\n      <th>RoundedPrice</th>\n    </tr>\n  </thead>\n  <tbody>\n    <tr>\n      <th>rating</th>\n      <td>1.000000</td>\n      <td>0.132189</td>\n      <td>0.046697</td>\n      <td>0.046046</td>\n    </tr>\n    <tr>\n      <th>pages</th>\n      <td>0.132189</td>\n      <td>1.000000</td>\n      <td>0.636951</td>\n      <td>0.637064</td>\n    </tr>\n    <tr>\n      <th>price</th>\n      <td>0.046697</td>\n      <td>0.636951</td>\n      <td>1.000000</td>\n      <td>0.999969</td>\n    </tr>\n    <tr>\n      <th>RoundedPrice</th>\n      <td>0.046046</td>\n      <td>0.637064</td>\n      <td>0.999969</td>\n      <td>1.000000</td>\n    </tr>\n  </tbody>\n</table>\n</div>"
          },
          "execution_count": 122,
          "metadata": {},
          "output_type": "execute_result"
        }
      ]
    },
    {
      "cell_type": "markdown",
      "source": [
        "## Группировка"
      ],
      "metadata": {
        "id": "FA_XMspM_a-q"
      }
    },
    {
      "cell_type": "code",
      "source": [
        "sales = pd.read_csv(\"/content/drive/MyDrive/ITMO.Work/21 22/ВИМ/data/sales_train.csv\")\n",
        "sales"
      ],
      "metadata": {
        "colab": {
          "base_uri": "https://localhost:8080/",
          "height": 423
        },
        "id": "VD10uy_n-FEL",
        "outputId": "de70e687-eb0d-42a8-91f1-d4e0c99f2c8c"
      },
      "execution_count": null,
      "outputs": [
        {
          "output_type": "execute_result",
          "data": {
            "text/plain": [
              "               date  date_block_num  shop_id  item_id  item_price  \\\n",
              "0        02.01.2013               0       59    22154      999.00   \n",
              "1        03.01.2013               0       25     2552      899.00   \n",
              "2        05.01.2013               0       25     2552      899.00   \n",
              "3        06.01.2013               0       25     2554     1709.05   \n",
              "4        15.01.2013               0       25     2555     1099.00   \n",
              "...             ...             ...      ...      ...         ...   \n",
              "2935844  10.10.2015              33       25     7409      299.00   \n",
              "2935845  09.10.2015              33       25     7460      299.00   \n",
              "2935846  14.10.2015              33       25     7459      349.00   \n",
              "2935847  22.10.2015              33       25     7440      299.00   \n",
              "2935848  03.10.2015              33       25     7460      299.00   \n",
              "\n",
              "         item_cnt_day  \n",
              "0                 1.0  \n",
              "1                 1.0  \n",
              "2                -1.0  \n",
              "3                 1.0  \n",
              "4                 1.0  \n",
              "...               ...  \n",
              "2935844           1.0  \n",
              "2935845           1.0  \n",
              "2935846           1.0  \n",
              "2935847           1.0  \n",
              "2935848           1.0  \n",
              "\n",
              "[2935849 rows x 6 columns]"
            ],
            "text/html": [
              "\n",
              "  <div id=\"df-b05d20dd-c57b-4b9e-9ec5-a6934334f34b\">\n",
              "    <div class=\"colab-df-container\">\n",
              "      <div>\n",
              "<style scoped>\n",
              "    .dataframe tbody tr th:only-of-type {\n",
              "        vertical-align: middle;\n",
              "    }\n",
              "\n",
              "    .dataframe tbody tr th {\n",
              "        vertical-align: top;\n",
              "    }\n",
              "\n",
              "    .dataframe thead th {\n",
              "        text-align: right;\n",
              "    }\n",
              "</style>\n",
              "<table border=\"1\" class=\"dataframe\">\n",
              "  <thead>\n",
              "    <tr style=\"text-align: right;\">\n",
              "      <th></th>\n",
              "      <th>date</th>\n",
              "      <th>date_block_num</th>\n",
              "      <th>shop_id</th>\n",
              "      <th>item_id</th>\n",
              "      <th>item_price</th>\n",
              "      <th>item_cnt_day</th>\n",
              "    </tr>\n",
              "  </thead>\n",
              "  <tbody>\n",
              "    <tr>\n",
              "      <th>0</th>\n",
              "      <td>02.01.2013</td>\n",
              "      <td>0</td>\n",
              "      <td>59</td>\n",
              "      <td>22154</td>\n",
              "      <td>999.00</td>\n",
              "      <td>1.0</td>\n",
              "    </tr>\n",
              "    <tr>\n",
              "      <th>1</th>\n",
              "      <td>03.01.2013</td>\n",
              "      <td>0</td>\n",
              "      <td>25</td>\n",
              "      <td>2552</td>\n",
              "      <td>899.00</td>\n",
              "      <td>1.0</td>\n",
              "    </tr>\n",
              "    <tr>\n",
              "      <th>2</th>\n",
              "      <td>05.01.2013</td>\n",
              "      <td>0</td>\n",
              "      <td>25</td>\n",
              "      <td>2552</td>\n",
              "      <td>899.00</td>\n",
              "      <td>-1.0</td>\n",
              "    </tr>\n",
              "    <tr>\n",
              "      <th>3</th>\n",
              "      <td>06.01.2013</td>\n",
              "      <td>0</td>\n",
              "      <td>25</td>\n",
              "      <td>2554</td>\n",
              "      <td>1709.05</td>\n",
              "      <td>1.0</td>\n",
              "    </tr>\n",
              "    <tr>\n",
              "      <th>4</th>\n",
              "      <td>15.01.2013</td>\n",
              "      <td>0</td>\n",
              "      <td>25</td>\n",
              "      <td>2555</td>\n",
              "      <td>1099.00</td>\n",
              "      <td>1.0</td>\n",
              "    </tr>\n",
              "    <tr>\n",
              "      <th>...</th>\n",
              "      <td>...</td>\n",
              "      <td>...</td>\n",
              "      <td>...</td>\n",
              "      <td>...</td>\n",
              "      <td>...</td>\n",
              "      <td>...</td>\n",
              "    </tr>\n",
              "    <tr>\n",
              "      <th>2935844</th>\n",
              "      <td>10.10.2015</td>\n",
              "      <td>33</td>\n",
              "      <td>25</td>\n",
              "      <td>7409</td>\n",
              "      <td>299.00</td>\n",
              "      <td>1.0</td>\n",
              "    </tr>\n",
              "    <tr>\n",
              "      <th>2935845</th>\n",
              "      <td>09.10.2015</td>\n",
              "      <td>33</td>\n",
              "      <td>25</td>\n",
              "      <td>7460</td>\n",
              "      <td>299.00</td>\n",
              "      <td>1.0</td>\n",
              "    </tr>\n",
              "    <tr>\n",
              "      <th>2935846</th>\n",
              "      <td>14.10.2015</td>\n",
              "      <td>33</td>\n",
              "      <td>25</td>\n",
              "      <td>7459</td>\n",
              "      <td>349.00</td>\n",
              "      <td>1.0</td>\n",
              "    </tr>\n",
              "    <tr>\n",
              "      <th>2935847</th>\n",
              "      <td>22.10.2015</td>\n",
              "      <td>33</td>\n",
              "      <td>25</td>\n",
              "      <td>7440</td>\n",
              "      <td>299.00</td>\n",
              "      <td>1.0</td>\n",
              "    </tr>\n",
              "    <tr>\n",
              "      <th>2935848</th>\n",
              "      <td>03.10.2015</td>\n",
              "      <td>33</td>\n",
              "      <td>25</td>\n",
              "      <td>7460</td>\n",
              "      <td>299.00</td>\n",
              "      <td>1.0</td>\n",
              "    </tr>\n",
              "  </tbody>\n",
              "</table>\n",
              "<p>2935849 rows × 6 columns</p>\n",
              "</div>\n",
              "      <button class=\"colab-df-convert\" onclick=\"convertToInteractive('df-b05d20dd-c57b-4b9e-9ec5-a6934334f34b')\"\n",
              "              title=\"Convert this dataframe to an interactive table.\"\n",
              "              style=\"display:none;\">\n",
              "        \n",
              "  <svg xmlns=\"http://www.w3.org/2000/svg\" height=\"24px\"viewBox=\"0 0 24 24\"\n",
              "       width=\"24px\">\n",
              "    <path d=\"M0 0h24v24H0V0z\" fill=\"none\"/>\n",
              "    <path d=\"M18.56 5.44l.94 2.06.94-2.06 2.06-.94-2.06-.94-.94-2.06-.94 2.06-2.06.94zm-11 1L8.5 8.5l.94-2.06 2.06-.94-2.06-.94L8.5 2.5l-.94 2.06-2.06.94zm10 10l.94 2.06.94-2.06 2.06-.94-2.06-.94-.94-2.06-.94 2.06-2.06.94z\"/><path d=\"M17.41 7.96l-1.37-1.37c-.4-.4-.92-.59-1.43-.59-.52 0-1.04.2-1.43.59L10.3 9.45l-7.72 7.72c-.78.78-.78 2.05 0 2.83L4 21.41c.39.39.9.59 1.41.59.51 0 1.02-.2 1.41-.59l7.78-7.78 2.81-2.81c.8-.78.8-2.07 0-2.86zM5.41 20L4 18.59l7.72-7.72 1.47 1.35L5.41 20z\"/>\n",
              "  </svg>\n",
              "      </button>\n",
              "      \n",
              "  <style>\n",
              "    .colab-df-container {\n",
              "      display:flex;\n",
              "      flex-wrap:wrap;\n",
              "      gap: 12px;\n",
              "    }\n",
              "\n",
              "    .colab-df-convert {\n",
              "      background-color: #E8F0FE;\n",
              "      border: none;\n",
              "      border-radius: 50%;\n",
              "      cursor: pointer;\n",
              "      display: none;\n",
              "      fill: #1967D2;\n",
              "      height: 32px;\n",
              "      padding: 0 0 0 0;\n",
              "      width: 32px;\n",
              "    }\n",
              "\n",
              "    .colab-df-convert:hover {\n",
              "      background-color: #E2EBFA;\n",
              "      box-shadow: 0px 1px 2px rgba(60, 64, 67, 0.3), 0px 1px 3px 1px rgba(60, 64, 67, 0.15);\n",
              "      fill: #174EA6;\n",
              "    }\n",
              "\n",
              "    [theme=dark] .colab-df-convert {\n",
              "      background-color: #3B4455;\n",
              "      fill: #D2E3FC;\n",
              "    }\n",
              "\n",
              "    [theme=dark] .colab-df-convert:hover {\n",
              "      background-color: #434B5C;\n",
              "      box-shadow: 0px 1px 3px 1px rgba(0, 0, 0, 0.15);\n",
              "      filter: drop-shadow(0px 1px 2px rgba(0, 0, 0, 0.3));\n",
              "      fill: #FFFFFF;\n",
              "    }\n",
              "  </style>\n",
              "\n",
              "      <script>\n",
              "        const buttonEl =\n",
              "          document.querySelector('#df-b05d20dd-c57b-4b9e-9ec5-a6934334f34b button.colab-df-convert');\n",
              "        buttonEl.style.display =\n",
              "          google.colab.kernel.accessAllowed ? 'block' : 'none';\n",
              "\n",
              "        async function convertToInteractive(key) {\n",
              "          const element = document.querySelector('#df-b05d20dd-c57b-4b9e-9ec5-a6934334f34b');\n",
              "          const dataTable =\n",
              "            await google.colab.kernel.invokeFunction('convertToInteractive',\n",
              "                                                     [key], {});\n",
              "          if (!dataTable) return;\n",
              "\n",
              "          const docLinkHtml = 'Like what you see? Visit the ' +\n",
              "            '<a target=\"_blank\" href=https://colab.research.google.com/notebooks/data_table.ipynb>data table notebook</a>'\n",
              "            + ' to learn more about interactive tables.';\n",
              "          element.innerHTML = '';\n",
              "          dataTable['output_type'] = 'display_data';\n",
              "          await google.colab.output.renderOutput(dataTable, element);\n",
              "          const docLink = document.createElement('div');\n",
              "          docLink.innerHTML = docLinkHtml;\n",
              "          element.appendChild(docLink);\n",
              "        }\n",
              "      </script>\n",
              "    </div>\n",
              "  </div>\n",
              "  "
            ]
          },
          "metadata": {},
          "execution_count": 13
        }
      ]
    },
    {
      "cell_type": "code",
      "source": [
        "sales.groupby([\"item_id\"])[\"item_price\"].max()"
      ],
      "metadata": {
        "colab": {
          "base_uri": "https://localhost:8080/"
        },
        "id": "0jouHMgH-SmP",
        "outputId": "ff4e0544-73a3-49b4-80be-c0953a16026b"
      },
      "execution_count": null,
      "outputs": [
        {
          "output_type": "execute_result",
          "data": {
            "text/plain": [
              "item_id\n",
              "0          58.0\n",
              "1        4490.0\n",
              "2          58.0\n",
              "3         100.0\n",
              "4          58.0\n",
              "          ...  \n",
              "22165      59.0\n",
              "22166     150.0\n",
              "22167     299.0\n",
              "22168     799.0\n",
              "22169    4349.0\n",
              "Name: item_price, Length: 21807, dtype: float64"
            ]
          },
          "metadata": {},
          "execution_count": 17
        }
      ]
    },
    {
      "cell_type": "code",
      "source": [
        "sales.groupby([\"shop_id\", \"item_id\"])[\"item_price\"].mean()"
      ],
      "metadata": {
        "colab": {
          "base_uri": "https://localhost:8080/"
        },
        "id": "b3bO4S_H-eBE",
        "outputId": "820955b0-a549-4e07-9deb-90f21b2139f5"
      },
      "execution_count": null,
      "outputs": [
        {
          "output_type": "execute_result",
          "data": {
            "text/plain": [
              "shop_id  item_id\n",
              "0        30         265.000\n",
              "         31         434.000\n",
              "         32         221.000\n",
              "         33         347.000\n",
              "         35         247.000\n",
              "                     ...   \n",
              "59       22154      999.000\n",
              "         22155      149.000\n",
              "         22162      389.625\n",
              "         22164      724.000\n",
              "         22167      299.000\n",
              "Name: item_price, Length: 424124, dtype: float64"
            ]
          },
          "metadata": {},
          "execution_count": 19
        }
      ]
    },
    {
      "cell_type": "code",
      "source": [],
      "metadata": {
        "id": "9jJxCHFV-7uc"
      },
      "execution_count": null,
      "outputs": []
    }
  ]
}